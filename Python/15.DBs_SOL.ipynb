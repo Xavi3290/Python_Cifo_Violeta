{
 "cells": [
  {
   "cell_type": "markdown",
   "metadata": {},
   "source": [
    "# Databases"
   ]
  },
  {
   "cell_type": "code",
   "execution_count": 4,
   "metadata": {},
   "outputs": [],
   "source": [
    "import sqlite3"
   ]
  },
  {
   "cell_type": "markdown",
   "metadata": {},
   "source": [
    "## Create DB\n",
    "\n",
    "- Create a new sqlite3 database called `library`."
   ]
  },
  {
   "cell_type": "code",
   "execution_count": 14,
   "metadata": {},
   "outputs": [],
   "source": [
    "conn = sqlite3.connect('library.db')\n",
    "cursor = conn.cursor()"
   ]
  },
  {
   "cell_type": "markdown",
   "metadata": {},
   "source": [
    "## Create Table\n",
    "\n",
    "Create a table named `books` with the following characteristics:\n",
    "- id INTEGER PRIMARY KEY\n",
    "- title TEXT\n",
    "- author TEXT\n",
    "- published_date DATE"
   ]
  },
  {
   "cell_type": "code",
   "execution_count": 15,
   "metadata": {},
   "outputs": [],
   "source": [
    "cursor.execute('''CREATE TABLE books\n",
    "                  (id INTEGER PRIMARY KEY,\n",
    "                  title TEXT,\n",
    "                  author TEXT,\n",
    "                  published_date DATE)''')\n",
    "conn.commit()"
   ]
  },
  {
   "cell_type": "markdown",
   "metadata": {},
   "source": [
    "## Add Book\n",
    "\n",
    "Write a Python function `add_book()` that will add a new book to the \"books\" table."
   ]
  },
  {
   "cell_type": "code",
   "execution_count": 17,
   "metadata": {},
   "outputs": [],
   "source": [
    "def add_book(conn, cursor, title, author, published_date):\n",
    "    cursor.execute('''INSERT INTO books (title, author, published_date)\n",
    "                      VALUES (?, ?, ?)''', (title, author, published_date))\n",
    "    conn.commit()\n"
   ]
  },
  {
   "cell_type": "code",
   "execution_count": 18,
   "metadata": {},
   "outputs": [],
   "source": [
    "add_book(conn, cursor, 'The Lord of the Rings', 'J.R.R. Tolkien', '1954-07-29')\n",
    "add_book(conn, cursor, 'Harry Potter', 'J.K. Rowling', '1997-06-26')"
   ]
  },
  {
   "cell_type": "markdown",
   "metadata": {},
   "source": [
    "## Get Book\n",
    "\n",
    "Write a Python function `get_books_by_author()` that will retrieve all books by a given author."
   ]
  },
  {
   "cell_type": "code",
   "execution_count": 24,
   "metadata": {},
   "outputs": [],
   "source": [
    "def get_books_by_author(conn, cursor, author):\n",
    "    cursor.execute('SELECT * FROM books WHERE author = ?', (author,))\n",
    "    conn.commit()\n",
    "    return cursor.fetchall()"
   ]
  },
  {
   "cell_type": "code",
   "execution_count": 25,
   "metadata": {},
   "outputs": [
    {
     "data": {
      "text/plain": [
       "[(1,\n",
       "  'Lord of the Rings: The Fellowship of the Ring',\n",
       "  'J.R.R. Tolkien',\n",
       "  '1954-07-29')]"
      ]
     },
     "execution_count": 25,
     "metadata": {},
     "output_type": "execute_result"
    }
   ],
   "source": [
    "get_books_by_author(conn, cursor, 'J.R.R. Tolkien')"
   ]
  },
  {
   "cell_type": "markdown",
   "metadata": {},
   "source": [
    "## Update Book\n",
    "\n",
    "Write a Python function `update_book_title()` that will update the title of a book given its id."
   ]
  },
  {
   "cell_type": "code",
   "execution_count": 26,
   "metadata": {},
   "outputs": [],
   "source": [
    "def update_book_title(conn, cursor, book_id, new_title):\n",
    "    cursor.execute('UPDATE books SET title = ? WHERE id = ?', (new_title, book_id))\n",
    "    conn.commit()"
   ]
  },
  {
   "cell_type": "code",
   "execution_count": 27,
   "metadata": {},
   "outputs": [],
   "source": [
    "update_book_title(conn, cursor, 1, 'Lord of the Rings: The Fellowship of the Ring')"
   ]
  },
  {
   "cell_type": "code",
   "execution_count": 28,
   "metadata": {},
   "outputs": [
    {
     "data": {
      "text/plain": [
       "[(1,\n",
       "  'Lord of the Rings: The Fellowship of the Ring',\n",
       "  'J.R.R. Tolkien',\n",
       "  '1954-07-29')]"
      ]
     },
     "execution_count": 28,
     "metadata": {},
     "output_type": "execute_result"
    }
   ],
   "source": [
    "get_books_by_author(conn, cursor, 'J.R.R. Tolkien')"
   ]
  },
  {
   "cell_type": "markdown",
   "metadata": {},
   "source": [
    "## Delete Book\n",
    "\n",
    "Write a Python function `delete_book()` that will delete a book from the \"books\" table given its id."
   ]
  },
  {
   "cell_type": "code",
   "execution_count": 29,
   "metadata": {},
   "outputs": [],
   "source": [
    "def delete_book(conn, cursor, book_id):\n",
    "    cursor.execute('DELETE FROM books WHERE id = ?', (book_id,))\n",
    "    conn.commit()"
   ]
  },
  {
   "cell_type": "code",
   "execution_count": 30,
   "metadata": {},
   "outputs": [],
   "source": [
    "delete_book(conn, cursor, 2)"
   ]
  },
  {
   "cell_type": "code",
   "execution_count": 31,
   "metadata": {},
   "outputs": [
    {
     "data": {
      "text/plain": [
       "[]"
      ]
     },
     "execution_count": 31,
     "metadata": {},
     "output_type": "execute_result"
    }
   ],
   "source": [
    "get_books_by_author(conn, cursor, 'J.K. Rowling')"
   ]
  },
  {
   "cell_type": "markdown",
   "metadata": {},
   "source": [
    "## Published Before\n",
    "\n",
    "Write a Python function `get_books_published_before()` that will retrieve all books published before a given date."
   ]
  },
  {
   "cell_type": "code",
   "execution_count": 32,
   "metadata": {},
   "outputs": [],
   "source": [
    "def get_books_published_before(conn, cursor, date):\n",
    "    cursor.execute('SELECT * FROM books WHERE published_date < ?', (date,))\n",
    "    conn.commit()\n",
    "    return cursor.fetchall()"
   ]
  },
  {
   "cell_type": "code",
   "execution_count": 33,
   "metadata": {},
   "outputs": [
    {
     "data": {
      "text/plain": [
       "[(1,\n",
       "  'Lord of the Rings: The Fellowship of the Ring',\n",
       "  'J.R.R. Tolkien',\n",
       "  '1954-07-29')]"
      ]
     },
     "execution_count": 33,
     "metadata": {},
     "output_type": "execute_result"
    }
   ],
   "source": [
    "get_books_published_before(conn, cursor, '2000-01-01')"
   ]
  },
  {
   "cell_type": "markdown",
   "metadata": {},
   "source": [
    "## Closing\n",
    "\n",
    "Close the cursor and the connection."
   ]
  },
  {
   "cell_type": "code",
   "execution_count": 34,
   "metadata": {},
   "outputs": [],
   "source": [
    "cursor.close()\n",
    "conn.close()"
   ]
  },
  {
   "cell_type": "markdown",
   "metadata": {},
   "source": [
    "## Guess the Movie\n",
    "\n",
    "Create a game where the user is presented with characters from a movie title replaced by underscores and must guess the movie title. Users have limited attempts, and their scores are recorded in a database."
   ]
  },
  {
   "cell_type": "markdown",
   "metadata": {},
   "source": [
    "### Create DB\n",
    "\n",
    "Create a new database called \"guess_movie.db\"."
   ]
  },
  {
   "cell_type": "code",
   "execution_count": 36,
   "metadata": {},
   "outputs": [],
   "source": [
    "conn = sqlite3.connect('guess_movie.db')\n",
    "cursor = conn.cursor()"
   ]
  },
  {
   "cell_type": "markdown",
   "metadata": {},
   "source": [
    "### Tables Setup\n",
    "\n",
    "Create a table called \"movies\" with columns \"id\" and \"title\" and another table \"scores\" with columns \"id,\" \"username,\" and \"score.\""
   ]
  },
  {
   "cell_type": "code",
   "execution_count": 37,
   "metadata": {},
   "outputs": [],
   "source": [
    "cursor.execute('''CREATE TABLE IF NOT EXISTS movies \n",
    "                  (id INTEGER PRIMARY KEY, title TEXT)''')\n",
    "\n",
    "cursor.execute('''CREATE TABLE IF NOT EXISTS scores (\n",
    "                  id INTEGER PRIMARY KEY,\n",
    "                  username TEXT,\n",
    "                  score INTEGER)''')\n",
    "\n",
    "conn.commit()"
   ]
  },
  {
   "cell_type": "markdown",
   "metadata": {},
   "source": [
    "### Populate DB\n",
    "\n",
    "Initialize the DB with the following movies:"
   ]
  },
  {
   "cell_type": "code",
   "execution_count": 38,
   "metadata": {},
   "outputs": [],
   "source": [
    "movie_titles = [\n",
    "    \"The Shawshank Redemption\",\n",
    "    \"The Godfather\",\n",
    "    \"The Dark Knight\",\n",
    "    \"Pulp Fiction\",\n",
    "    \"Forrest Gump\",\n",
    "    \"Inception\",\n",
    "    \"Fight Club\",\n",
    "    \"The Matrix\",\n",
    "    \"The Social Network\",\n",
    "    \"Jurassic Park\",\n",
    "    \"Titanic\",\n",
    "    \"Toy Story\",\n",
    "    \"Finding Nemo\",\n",
    "    \"The Lord of the Rings: The Return of the King\",\n",
    "    \"Star Wars: Episode IV - A New Hope\",\n",
    "    \"The Silence of the Lambs\",\n",
    "    \"Se7en\",\n",
    "    \"The Lion King\",\n",
    "    \"Back to the Future\",\n",
    "    \"The Usual Suspects\"\n",
    "]"
   ]
  },
  {
   "cell_type": "code",
   "execution_count": 39,
   "metadata": {},
   "outputs": [],
   "source": [
    "for title in movie_titles:\n",
    "    cursor.execute('INSERT INTO movies (title) VALUES (?)', (title,))\n",
    "\n",
    "conn.commit()"
   ]
  },
  {
   "cell_type": "markdown",
   "metadata": {},
   "source": [
    "### The Game\n",
    "\n",
    "- You should create a Tkinter window with a label to display the masked movie title, an entry widget to input the guessed movie title, a button to submit the guess, and a label to display the remaining attempts.\n",
    "- When the game starts, pick a random movie title from the database, mask it with underscores, and display it to the user. Each time the user submits a guess, check it against the actual movie title. If the guess is correct, the user wins, and their score is updated in the database.\n",
    "\n",
    "A good way to organize the code may be:\n",
    "- Create a `MovieDatabase` class that encapsulates all functionalities related to database management, including inserting movie titles, fetching a random movie, and closing the database connection.\n",
    "- Create a `GuessTheMovieGame` class that handles all the game logic and GUI functionalities, and it utilizes an instance of `MovieDatabase` to interact with the database.\n",
    "- Define a `main()` function that runs the game, and ensures that the database connection is closed appropriately upon application termination.\n",
    "\n",
    "This is just a proposal, feel free to organize your program as you wish."
   ]
  },
  {
   "cell_type": "code",
   "execution_count": 44,
   "metadata": {},
   "outputs": [],
   "source": [
    "import random\n",
    "\n",
    "class MovieDatabase:\n",
    "    def __init__(self, db_name):\n",
    "        self.connection = sqlite3.connect(db_name)\n",
    "        self.cursor = self.connection.cursor()\n",
    "\n",
    "    def insert_movie(self, title):\n",
    "        self.cursor.execute(\"INSERT INTO movies (title) VALUES (?)\", (title,))\n",
    "        self.connection.commit()\n",
    "\n",
    "    def fetch_random_movie(self):\n",
    "        self.cursor.execute(\"SELECT * FROM movies\")\n",
    "        self.connection.commit()\n",
    "        movies = self.cursor.fetchall()\n",
    "        return random.choice(movies)\n",
    "\n",
    "    def close_connection(self):\n",
    "        self.connection.close()"
   ]
  },
  {
   "cell_type": "code",
   "execution_count": 45,
   "metadata": {},
   "outputs": [],
   "source": [
    "import tkinter as tk\n",
    "\n",
    "class GuessTheMovieGame:\n",
    "    def __init__(self, movie_db):\n",
    "        self.movie_db = movie_db\n",
    "        self.movie_title = self.fetch_movie_title()\n",
    "        self.display_title = self._get_display_title()\n",
    "        self.attempts_left = 3\n",
    "        self.setup_gui()\n",
    "\n",
    "    def fetch_movie_title(self):\n",
    "        movie = self.movie_db.fetch_random_movie()\n",
    "        return movie[1]\n",
    "\n",
    "    def check_guess(self):\n",
    "        guess = self.entry.get()\n",
    "        if guess.lower() == self.movie_title.lower():\n",
    "            self.label.config(text=\"Congratulations! Correct Guess!\")\n",
    "        else:\n",
    "            self.attempts_left -= 1\n",
    "            if self.attempts_left == 0:\n",
    "                self.label.config(text=f\"Sorry! The correct movie was: {self.movie_title}\")\n",
    "            else:\n",
    "                self.label.config(text=f\"Try Again! Attempts left: {self.attempts_left}\")\n",
    "\n",
    "    def setup_gui(self):\n",
    "        self.root = tk.Tk()\n",
    "        self.root.title(\"Guess the Movie\")\n",
    "        \n",
    "        self.label = tk.Label(self.root, text=f\"Guess the movie title: {self.display_title}\")\n",
    "        self.label.pack(pady=10)\n",
    "\n",
    "        self.entry = tk.Entry(self.root)\n",
    "        self.entry.pack(pady=10)\n",
    "\n",
    "        self.button = tk.Button(self.root, text=\"Check\", command=self.check_guess)\n",
    "        self.button.pack(pady=10)\n",
    "\n",
    "    def run(self):\n",
    "        self.root.mainloop()\n",
    "\n",
    "    def _get_display_title(self):\n",
    "        # Randomly replace 30% of the letters with underscores\n",
    "        n_underscores = 0.3 * len(self.movie_title)\n",
    "        rand_idxs = random.sample(range(len(self.movie_title)), int(n_underscores))\n",
    "        display_title = list(self.movie_title) # Convert to list of characters\n",
    "        for i in rand_idxs:\n",
    "            display_title[i] = '_'\n",
    "        return ''.join(display_title)"
   ]
  },
  {
   "cell_type": "code",
   "execution_count": 46,
   "metadata": {},
   "outputs": [],
   "source": [
    "def main():\n",
    "    movie_db = MovieDatabase('guess_movie.db')\n",
    "\n",
    "    # Setup game and run.\n",
    "    game = GuessTheMovieGame(movie_db)\n",
    "    game.run()\n",
    "\n",
    "    # Close database connection.\n",
    "    movie_db.close_connection()"
   ]
  },
  {
   "cell_type": "code",
   "execution_count": 47,
   "metadata": {},
   "outputs": [],
   "source": [
    "main()"
   ]
  },
  {
   "cell_type": "markdown",
   "metadata": {},
   "source": [
    "### Improvements\n",
    "\n",
    "- Create a \"High Scores\" section that lists the top 10 scores from the \"scores\" table.\n",
    "- Include a hint feature, revealing a character of the movie title after a certain number of incorrect guesses.\n",
    "- Add an admin section where you can add/delete movies to/from the database.\n",
    "- Add multiplayer functionality."
   ]
  },
  {
   "cell_type": "code",
   "execution_count": null,
   "metadata": {},
   "outputs": [],
   "source": []
  }
 ],
 "metadata": {
  "kernelspec": {
   "display_name": "Python 3",
   "language": "python",
   "name": "python3"
  },
  "language_info": {
   "codemirror_mode": {
    "name": "ipython",
    "version": 3
   },
   "file_extension": ".py",
   "mimetype": "text/x-python",
   "name": "python",
   "nbconvert_exporter": "python",
   "pygments_lexer": "ipython3",
   "version": "3.10.12"
  },
  "orig_nbformat": 4
 },
 "nbformat": 4,
 "nbformat_minor": 2
}
