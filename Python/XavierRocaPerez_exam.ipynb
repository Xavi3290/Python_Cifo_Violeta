{
 "cells": [
  {
   "attachments": {},
   "cell_type": "markdown",
   "metadata": {},
   "source": [
    "# Continuous Assessment"
   ]
  },
  {
   "attachments": {},
   "cell_type": "markdown",
   "metadata": {},
   "source": [
    "## Exercise 1 (score: 3)\n",
    "\n",
    "Class Implementation: Account\n",
    "\n",
    "The `Account` class is a simple model of a bank account and includes methods for basic transactions: depositing, withdrawing, and checking the balance.\n",
    "\n",
    "Attributes:\n",
    "- `balance`: Stores the current balance of the account.\n",
    "\n",
    "Methods:\n",
    "- `__init__(self, initial_balance=0)`: Initializes a new `Account` instance with an optional `initial_balance` parameter (default is 0).\n",
    "- `deposit(self, amount)`: Adds `amount` to the account's balance and returns the new balance.\n",
    "- `withdraw(self, amount)`: Subtracts `amount` from the account's balance, if possible, and returns the new balance. If the withdrawal amount is more than the current balance, it subtracts nothing and returns `None`.\n",
    "- `check_balance(self)`: Returns a string \"Your balance is X€\". The balance amount should be displayed with 2 decimal points."
   ]
  },
  {
   "cell_type": "code",
   "execution_count": 21,
   "metadata": {},
   "outputs": [],
   "source": [
    "class Account:\n",
    "    def __init__(self, initial_balance = 0):\n",
    "        self.balance = initial_balance\n",
    "\n",
    "    def deposit(self, amount):\n",
    "        self.balance += amount\n",
    "        return self.balance\n",
    "\n",
    "    def withdraw(self, amount):\n",
    "        if self.balance - amount < 0:\n",
    "            return None\n",
    "        elif self.balance - amount >= 0:\n",
    "            self.balance -= amount\n",
    "            return self.balance\n",
    "        \n",
    "    def check_balance(self):\n",
    "        print(f\"Your balance is {self.balance:.2f}€\")\n",
    "        return f\"Your balance is {self.balance:.2f}€\""
   ]
  },
  {
   "cell_type": "code",
   "execution_count": 22,
   "metadata": {},
   "outputs": [
    {
     "name": "stdout",
     "output_type": "stream",
     "text": [
      "Your balance is 100.00€\n",
      "Your balance is 120.00€\n",
      "All assertions passed!\n"
     ]
    }
   ],
   "source": [
    "# Creating an Account instance with an initial balance of 100.\n",
    "acc = Account(100)\n",
    "\n",
    "# Assertion to check the initial balance.\n",
    "assert acc.check_balance() == \"Your balance is 100.00€\", \"Error: Initial Balance\"\n",
    "\n",
    "# Depositing 50 to the account and checking the new balance (should be 150).\n",
    "assert acc.deposit(50) == 150, \"Error: Deposit Method\"\n",
    "\n",
    "# Withdrawing 30 from the account and checking the new balance (should be 120).\n",
    "assert acc.withdraw(30) == 120, \"Error: Withdraw Method with Sufficient Funds\"\n",
    "\n",
    "# Attempting to withdraw an amount more than the balance (should return None).\n",
    "assert acc.withdraw(200) is None, \"Error: Withdraw Method with Insufficient Funds\"\n",
    "\n",
    "# Checking the balance after the failed withdrawal attempt (should be 120).\n",
    "assert acc.check_balance() == \"Your balance is 120.00€\", \"Error: Get Balance Method after Failed Withdrawal\"\n",
    "\n",
    "print(\"All assertions passed!\")"
   ]
  },
  {
   "attachments": {},
   "cell_type": "markdown",
   "metadata": {},
   "source": [
    "## Exercise 2 (score: 3)\n",
    "\n",
    "Extend the `Account` class to include extra features:\n",
    "- Add a new attribute `transactions` to `Account`. It is a list of tuples with all the recorded transactions. Each tuple in the list contains `(transaction_type, amount, balance)`, where:\n",
    "    - `transaction_type` is a string that can be `\"Deposit\"` or `\"Withdraw\"`.\n",
    "    - `amount` is the deposited or withdrawn amount.\n",
    "    - `balance` is the total balance after the transaction.\n",
    "\n",
    "Write an external function `get_transactions_gt(account, trans_type, amount)` that returns all the transactions in the `account` object that are of `trans_type` (deposit or withdraw) and in which the deposited or withdrawn amount is greater than `amount`.\n",
    "\n",
    "Please, copy & paste the code of the previous exercise and extend it below."
   ]
  },
  {
   "cell_type": "code",
   "execution_count": 39,
   "metadata": {},
   "outputs": [],
   "source": [
    "class Account:\n",
    "    def __init__(self, initial_balance = 0):\n",
    "        self.balance = initial_balance\n",
    "        self.transactions = []\n",
    "\n",
    "    def deposit(self, amount):\n",
    "        self.balance += amount\n",
    "        t = (\"Deposit\", amount, self.balance)\n",
    "        self.transactions.append(t)\n",
    "        return self.balance\n",
    "        \n",
    "\n",
    "    def withdraw(self, amount):\n",
    "        if self.balance - amount < 0:\n",
    "            return None\n",
    "        elif self.balance - amount >= 0:\n",
    "            self.balance -= amount\n",
    "            t = (\"Withdraw\", amount, self.balance)\n",
    "            self.transactions.append(t)\n",
    "            return self.balance\n",
    "        \n",
    "        \n",
    "    def check_balance(self):\n",
    "        print(f\"Your balance is {self.balance:.2f}€\")\n",
    "        return f\"Your balance is {self.balance:.2f}€\"\n",
    "    \n",
    "def get_transactions_gt(account, trans_type, amount):\n",
    "    l = []\n",
    "    for typ in account.transactions:\n",
    "        if typ[0] == trans_type:\n",
    "            if typ[1] > amount:\n",
    "                l.append(typ)\n",
    "    return l"
   ]
  },
  {
   "cell_type": "code",
   "execution_count": null,
   "metadata": {},
   "outputs": [],
   "source": []
  },
  {
   "cell_type": "code",
   "execution_count": 40,
   "metadata": {},
   "outputs": [
    {
     "name": "stdout",
     "output_type": "stream",
     "text": [
      "All assertions passed!\n"
     ]
    }
   ],
   "source": [
    "# Instantiate an Account with 100€.\n",
    "acc = Account(100)\n",
    "# Deposit 50€.\n",
    "acc.deposit(50)\n",
    "# Withdraw 30€.\n",
    "acc.withdraw(30)\n",
    "\n",
    "# Assertion: Check if the withdrawal is recorded accurately.\n",
    "assert acc.transactions == [(\"Deposit\", 50, 150), (\"Withdraw\", 30, 120)], \"Error: Transaction Recording After Withdrawal\"\n",
    "\n",
    "# Withdraw an amount that exceeds the current balance. This should fail and not be recorded.\n",
    "acc.withdraw(200)\n",
    "# Assertion: Ensure the transaction history does not record the unsuccessful withdrawal.\n",
    "assert acc.transactions == [(\"Deposit\", 50, 150), (\"Withdraw\", 30, 120)], \"Error: Transaction Recording After Unsuccessful Withdrawal\"\n",
    "\n",
    "# Testing the `get_transactions_gt` function.\n",
    "trans_gt_30 = get_transactions_gt(acc, \"Withdraw\", 30)\n",
    "trans_gt_10 = get_transactions_gt(acc, \"Deposit\", 10)\n",
    "\n",
    "# Assertion: Check if the `get_transactions_gt` function filters withdrawal transactions greater than 30€ accurately.\n",
    "assert trans_gt_30 == [], \"Error: Filtering Withdraw Transactions > 30€\"\n",
    "\n",
    "# Assertion: Check if the `get_transactions_gt` function filters deposit transactions greater than 10€ accurately.\n",
    "assert trans_gt_10 == [(\"Deposit\", 50, 150)], \"Error: Filtering Deposit Transactions > 10€\"\n",
    "\n",
    "print(\"All assertions passed!\")"
   ]
  },
  {
   "attachments": {},
   "cell_type": "markdown",
   "metadata": {},
   "source": [
    "## Exercise 3 (score: 1.5)\n",
    "\n",
    "Extend the `Account` class to include a feature for categorizing and tracking expense types.\n",
    "\n",
    "Each withdrawal should now be associated with an expense category (e.g., \"Groceries\", \"Rent\", \"Entertainment\", \"Unknown\").\n",
    "\n",
    "Tasks:\n",
    "- Modify the `withdraw` method to accept an additional parameter: `category`, which is a string representing the expense category. If no category is provided, label it as \"Unknown\".\n",
    "- Add a new method `get_report(self)` that returns a dictionary with the total amount spent on each category.\n",
    "- Feel free to implement this functionality as you wish, as long as the assertions below work.\n",
    "\n",
    "Please, copy & paste the `Account` code of the previous exercise and extend it below."
   ]
  },
  {
   "cell_type": "code",
   "execution_count": 68,
   "metadata": {},
   "outputs": [],
   "source": [
    "class Account:\n",
    "    def __init__(self, initial_balance = 0):\n",
    "        self.balance = initial_balance\n",
    "        self.transactions = []\n",
    "        self.category = {}\n",
    "\n",
    "    def deposit(self, amount):\n",
    "        self.balance += amount\n",
    "        t = (\"Deposit\", amount, self.balance)\n",
    "        self.transactions.append(t)\n",
    "        return self.balance\n",
    "        \n",
    "\n",
    "    def withdraw(self, amount, cat = \"Unknown\"):\n",
    "        if self.balance - amount < 0:\n",
    "            return None\n",
    "        elif self.balance - amount >= 0:\n",
    "            self.balance -= amount\n",
    "            t = (\"Withdraw\", amount, self.balance)\n",
    "            self.transactions.append(t)\n",
    "            #if cat in self.category.keys():\n",
    "             #   for key, val in self.category.items():\n",
    "            self.category[cat] = self.category.get(cat, 0) + amount\n",
    "            return self.balance\n",
    "        \n",
    "        \n",
    "    def check_balance(self):\n",
    "        print(f\"Your balance is {self.balance:.2f}€\")\n",
    "        return f\"Your balance is {self.balance:.2f}€\"\n",
    "    \n",
    "    def get_report(self):\n",
    "        return self.category \n",
    "    \n",
    "def get_transactions_gt(account, trans_type, amount):\n",
    "    l = []\n",
    "    for typ in account.transactions:\n",
    "        if typ[0] == trans_type:\n",
    "            if typ[1] > amount:\n",
    "                l.append(typ)\n",
    "    return l"
   ]
  },
  {
   "cell_type": "code",
   "execution_count": 65,
   "metadata": {},
   "outputs": [
    {
     "data": {
      "text/plain": [
       "{}"
      ]
     },
     "execution_count": 65,
     "metadata": {},
     "output_type": "execute_result"
    }
   ],
   "source": [
    "acc.get_report()"
   ]
  },
  {
   "cell_type": "code",
   "execution_count": 69,
   "metadata": {},
   "outputs": [
    {
     "name": "stdout",
     "output_type": "stream",
     "text": [
      "All assertions passed!\n"
     ]
    }
   ],
   "source": [
    "# Instantiate an Account with 100€.\n",
    "acc = Account(100)\n",
    "# Deposit 50€.\n",
    "acc.deposit(50)\n",
    "# Withdraw 30€ for groceries.\n",
    "acc.withdraw(30, \"Groceries\")\n",
    "\n",
    "# Assertion: Validate the expense report after one withdrawal.\n",
    "assert acc.get_report() == {\"Groceries\": 30}, \"Error: Single Category Report\"\n",
    "\n",
    "# Withdraw 20€ for groceries.\n",
    "acc.withdraw(20, \"Groceries\")\n",
    "\n",
    "# Assertion: Validate the expense report after two withdrawals from the same category.\n",
    "assert acc.get_report() == {\"Groceries\": 50}, \"Error: Single Category Accumulation Report\"\n",
    "\n",
    "# Withdraw 40€ for rent.\n",
    "acc.withdraw(40, \"Rent\")\n",
    "\n",
    "# Assertion: Validate the expense report after withdrawal from a new category.\n",
    "assert acc.get_report() == {\"Groceries\": 50, \"Rent\": 40}, \"Error: Multi-Category Report\"\n",
    "\n",
    "# Withdraw 10€ without specifying a category.\n",
    "acc.withdraw(10)\n",
    "\n",
    "# Assertion: Validate the expense report after withdrawal without specifying a category.\n",
    "assert acc.get_report() == {\"Groceries\": 50, \"Rent\": 40, \"Unknown\": 10}, \"Error: Uncategorized Report\"\n",
    "\n",
    "# Assertion: Ensure the transaction history records all transactions accurately.\n",
    "assert acc.transactions == [(\"Deposit\", 50, 150), (\"Withdraw\", 30, 120), (\"Withdraw\", 20, 100), (\"Withdraw\", 40, 60), (\"Withdraw\", 10, 50)], \"Error: Transaction History\"\n",
    "\n",
    "# Assertion: Ensure that withdrawal that can't be performed due to insufficient funds doesn't affect the report.\n",
    "acc.withdraw(100, \"Travel\")\n",
    "assert acc.get_report() == {\"Groceries\": 50, \"Rent\": 40, \"Unknown\": 10}, \"Error: Report After Unsuccessful Withdrawal\"\n",
    "\n",
    "print(\"All assertions passed!\")"
   ]
  },
  {
   "attachments": {},
   "cell_type": "markdown",
   "metadata": {},
   "source": [
    "## Exercise 4 (score: 1.5)\n",
    "\n",
    "Extend the `Account` class to include a method for converting the balance from euros to US dollars and viceversa.\n",
    "- Add a new method `convert(self)`: Converts the balance to dollars ($) in case it was in euros (€). Or converts the balance to euros in case it was in dollars. By default, when the object is created, the balance should be in euros. Assume the euro to dollar rate is 1.05.\n",
    "    - Conversion from euros to dollars: multiply the euros by the euro to dollar rate.\n",
    "    - From dollars to euros: divide the dollars by the euro to dollar rate.\n",
    "\n",
    "Note that:\n",
    "- The `check_balance()` method should print the appropriate currency, € or $, depending on the account's balance currency.\n",
    "- The `transactions` attribute should also store the currency of each transaction.\n",
    "\n",
    "Please, copy & paste the code of the previous exercise and extend it below."
   ]
  },
  {
   "cell_type": "code",
   "execution_count": 76,
   "metadata": {},
   "outputs": [],
   "source": [
    "class Account:\n",
    "    def __init__(self, initial_balance = 0):\n",
    "        self.balance = initial_balance\n",
    "        self.transactions = []\n",
    "        self.category = {}\n",
    "        self.euro = True\n",
    "\n",
    "    def deposit(self, amount):\n",
    "        self.balance += amount\n",
    "        t = (\"Deposit\", amount, self.balance)\n",
    "        self.transactions.append(t)\n",
    "        return self.balance\n",
    "        \n",
    "\n",
    "    def withdraw(self, amount, cat = \"Unknown\"):\n",
    "        if self.balance - amount < 0:\n",
    "            return None\n",
    "        elif self.balance - amount >= 0:\n",
    "            self.balance -= amount\n",
    "            t = (\"Withdraw\", amount, self.balance)\n",
    "            self.transactions.append(t)\n",
    "            #if cat in self.category.keys():\n",
    "             #   for key, val in self.category.items():\n",
    "            self.category[cat] = self.category.get(cat, 0) + amount\n",
    "            return self.balance\n",
    "        \n",
    "        \n",
    "    def check_balance(self):\n",
    "        if not self.euro:\n",
    "            return f\"Your balance is {self.balance:.2f}$\"\n",
    "        else:\n",
    "            return f\"Your balance is {self.balance:.2f}€\"\n",
    "    \n",
    "    def get_report(self):\n",
    "        return self.category \n",
    "    \n",
    "    def convert(self):\n",
    "        if self.euro:\n",
    "            self.balance /= 1.05\n",
    "            self.euro = False\n",
    "        else:\n",
    "            self.euro = True\n",
    "            self.balance *= 1.05\n",
    "    \n",
    "def get_transactions_gt(account, trans_type, amount):\n",
    "    l = []\n",
    "    for typ in account.transactions:\n",
    "        if typ[0] == trans_type:\n",
    "            if typ[1] > amount:\n",
    "                l.append(typ)\n",
    "    return l"
   ]
  },
  {
   "cell_type": "code",
   "execution_count": 77,
   "metadata": {},
   "outputs": [
    {
     "name": "stdout",
     "output_type": "stream",
     "text": [
      "All assertions passed!\n"
     ]
    }
   ],
   "source": [
    "# Creating an Account instance with an initial balance of 100.\n",
    "acc = Account(100)\n",
    "# Depositing 50 to the account and checking the new balance (should be 150).\n",
    "acc.deposit(50)\n",
    "# Withdrawing 30 from the account and checking the new balance (should be 120).\n",
    "acc.withdraw(30)\n",
    "\n",
    "# Checking the balance after the failed withdrawal attempt (should be 120).\n",
    "assert acc.check_balance() == \"Your balance is 120.00€\", \"Error: Check Balance Method after Failed Withdrawal\"\n",
    "\n",
    "# Converting euros to dollars and checking balance.\n",
    "acc.convert()\n",
    "assert acc.check_balance() == \"Your balance is 114.29$\", \"Error: Convert Method to Dollars\"\n",
    "\n",
    "# Converting dollars back to euros and checking balance.\n",
    "acc.convert()\n",
    "assert acc.check_balance() == \"Your balance is 120.00€\", \"Error: Convert Method to Euros\"\n",
    "\n",
    "print(\"All assertions passed!\")"
   ]
  },
  {
   "attachments": {},
   "cell_type": "markdown",
   "metadata": {},
   "source": [
    "## Exercise 5 (score: 1)\n",
    "\n",
    "Extend the `Account` class to include a method for freezing the account in case of suspicious behavior.\n",
    "- Add a new method `freeze(self)`: When this method is called, it is no longer possible to deposit, withdraw, or convert the currency of the account. These functions should return `None` in case of a frozen account.\n",
    "- Add a new method `unfreeze(self)`: Unfreezes the account.\n",
    "\n",
    "Please, copy & paste the code of the previous exercise and extend it below."
   ]
  },
  {
   "cell_type": "code",
   "execution_count": null,
   "metadata": {},
   "outputs": [],
   "source": [
    "class Account:\n",
    "    def __init__(self, initial_balance = 0):\n",
    "        self.balance = initial_balance\n",
    "        self.transactions = []\n",
    "        self.category = {}\n",
    "        self.euro = True\n",
    "        self.freez = False\n",
    "\n",
    "    def deposit(self, amount):\n",
    "        self.balance += amount\n",
    "        t = (\"Deposit\", amount, self.balance)\n",
    "        self.transactions.append(t)\n",
    "        return self.balance\n",
    "        \n",
    "\n",
    "    def withdraw(self, amount, cat = \"Unknown\"):\n",
    "        if self.balance - amount < 0:\n",
    "            return None\n",
    "        elif self.balance - amount >= 0:\n",
    "            self.balance -= amount\n",
    "            t = (\"Withdraw\", amount, self.balance)\n",
    "            self.transactions.append(t)\n",
    "            #if cat in self.category.keys():\n",
    "             #   for key, val in self.category.items():\n",
    "            self.category[cat] = self.category.get(cat, 0) + amount\n",
    "            return self.balance\n",
    "        \n",
    "        \n",
    "    def check_balance(self):\n",
    "        if not self.euro:\n",
    "            return f\"Your balance is {self.balance:.2f}$\"\n",
    "        else:\n",
    "            return f\"Your balance is {self.balance:.2f}€\"\n",
    "    \n",
    "    def get_report(self):\n",
    "        return self.category \n",
    "    \n",
    "    def convert(self):\n",
    "        if self.euro:\n",
    "            self.balance /= 1.05\n",
    "            self.euro = False\n",
    "        else:\n",
    "            self.euro = True\n",
    "            self.balance *= 1.05\n",
    "\n",
    "    def freeze(self):\n",
    "        self.freeze = True\n",
    "    \n",
    "def get_transactions_gt(account, trans_type, amount):\n",
    "    l = []\n",
    "    for typ in account.transactions:\n",
    "        if typ[0] == trans_type:\n",
    "            if typ[1] > amount:\n",
    "                l.append(typ)\n",
    "    return l"
   ]
  },
  {
   "cell_type": "code",
   "execution_count": 110,
   "metadata": {},
   "outputs": [
    {
     "name": "stdout",
     "output_type": "stream",
     "text": [
      "All assertions passed!\n"
     ]
    }
   ],
   "source": [
    "# Create an account instance with 100€.\n",
    "acc = Account(100)\n",
    "\n",
    "# Deposit 40€.\n",
    "acc.deposit(40)\n",
    "# Withdraw 20€ for groceries.\n",
    "acc.withdraw(20, \"Groceries\")\n",
    "# Convert € to $.\n",
    "acc.convert()\n",
    "\n",
    "# Assertion: Check the conversion to dollars.\n",
    "assert acc.check_balance() == \"Your balance is 114.29$\", \"Error: Euro to Dollar Conversion\"\n",
    "\n",
    "# Freeze the account.\n",
    "acc.freeze()\n",
    "\n",
    "# Assertion: Ensure deposits are not allowed when the account is frozen.\n",
    "assert acc.deposit(40) is None, \"Error: Deposit After Freeze\"\n",
    "assert acc.check_balance() == \"Your balance is 114.29$\", \"Error: Balance After Frozen Deposit Attempt\"\n",
    "\n",
    "# Assertion: Ensure withdrawals are not allowed when the account is frozen.\n",
    "assert acc.withdraw(10, \"Entertainment\") is None, \"Error: Withdraw After Freeze\"\n",
    "assert acc.check_balance() == \"Your balance is 114.29$\", \"Error: Balance After Frozen Withdrawal Attempt\"\n",
    "\n",
    "# Assertion: Ensure conversions are not allowed when the account is frozen.\n",
    "acc.convert()\n",
    "assert acc.check_balance() == \"Your balance is 114.29$\", \"Error: Conversion After Freeze\"\n",
    "\n",
    "# Assertion: Ensure the transaction history has recorded all successful transactions.\n",
    "assert acc.transactions == [(\"Deposit\", 40, 140), (\"Withdraw\", 20, 120)], \"Error: Transaction History After Freeze\"\n",
    "\n",
    "# Assertion: Ensure the expense report hasn’t changed after the account was frozen.\n",
    "assert acc.report() == {\"Groceries\": 20}, \"Error: Expense Report After Freeze\"\n",
    "\n",
    "# Unfreeze the account.\n",
    "acc.unfreeze()\n",
    "# Convert $ to €.\n",
    "acc.convert()\n",
    "\n",
    "# Assertion: Ensure deposits are allowed when the account is not frozen.\n",
    "assert acc.deposit(40) == 160, \"Error: Deposit After Unfreeze\"\n",
    "assert acc.check_balance() == \"Your balance is 160.00€\", \"Error: Balance After Unfrozen Deposit\"\n",
    "\n",
    "print(\"All assertions passed!\")"
   ]
  },
  {
   "attachments": {},
   "cell_type": "markdown",
   "metadata": {},
   "source": [
    "## Bonus: Exercise 6 (extra score: 1)\n",
    "\n",
    "Handle exceptions properly wherever you consider appropriate. For example, instead of returning `None` in some methods, it would be better to raise an exception. Take into account all the edge cases you can think of."
   ]
  },
  {
   "cell_type": "code",
   "execution_count": null,
   "metadata": {},
   "outputs": [],
   "source": []
  }
 ],
 "metadata": {
  "kernelspec": {
   "display_name": "Python 3",
   "language": "python",
   "name": "python3"
  },
  "language_info": {
   "codemirror_mode": {
    "name": "ipython",
    "version": 3
   },
   "file_extension": ".py",
   "mimetype": "text/x-python",
   "name": "python",
   "nbconvert_exporter": "python",
   "pygments_lexer": "ipython3",
   "version": "3.11.4"
  },
  "orig_nbformat": 4
 },
 "nbformat": 4,
 "nbformat_minor": 2
}
