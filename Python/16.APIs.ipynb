{
 "cells": [
  {
   "attachments": {},
   "cell_type": "markdown",
   "metadata": {},
   "source": [
    "# APIs\n"
   ]
  },
  {
   "attachments": {},
   "cell_type": "markdown",
   "metadata": {},
   "source": [
    "## Setup\n",
    "\n",
    "We simulate API calls to an external service. For doing that, run the `voting_api.py` Python program, which uses Flask. With this we are able to simulate the external service in our local machine.\n",
    "\n",
    "If you are **not** using Anaconda, you may need to go through the following steps:\n",
    "\n",
    "1. Install Flask if you haven't installed it yet:\n",
    "    \n",
    "    `pip install flask`\n",
    "\n",
    "2. Install the requests library if you haven't installed it yet:\n",
    "\n",
    "    `pip install requests`\n",
    "\n",
    "Run the Flask app and keep it running while doing the exercises. If using Anaconda, you need to run the following command from the Anaconda prompt:\n",
    "    \n",
    "`python voting_api.py`"
   ]
  },
  {
   "attachments": {},
   "cell_type": "markdown",
   "metadata": {},
   "source": [
    "## Voting System API Documentation\n",
    "1. Get All Candidates\n",
    "    - Endpoint: /candidates\n",
    "    - Method: GET\n",
    "    - Description: Fetches a list of all candidates.\n",
    "    - Response: A JSON array of candidate objects.\n",
    "2. Add a New Candidate\n",
    "    - Endpoint: /candidates\n",
    "    - Method: POST\n",
    "    - Description: Adds a new candidate.\n",
    "    - Request Body: JSON object containing the candidate's name.\n",
    "Example: {\"name\": \"Candidate Name\"}\n",
    "Response: The added candidate object.\n",
    "3. Update Candidate Information\n",
    "    - Endpoint: /candidates/<candidate_id>\n",
    "    - Method: PUT\n",
    "    - Description: Updates the information of a candidate specified by candidate_id.\n",
    "    - Request Body: JSON object containing the new candidate's name.\n",
    "Example: {\"name\": \"New Candidate Name\"}\n",
    "Response: The updated candidate object or a 404 error if the candidate is not found.\n",
    "4. Delete a Candidate\n",
    "    - Endpoint: /candidates/<candidate_id>\n",
    "    - Method: DELETE\n",
    "    - Description: Deletes the candidate specified by candidate_id.\n",
    "    - Response: A success message or a 404 error if the candidate is not found.\n",
    "5. Cast a Vote\n",
    "    - Endpoint: /vote/<candidate_id>\n",
    "    - Method: POST\n",
    "    - Description: Casts a vote for the candidate specified by candidate_id.\n",
    "    - Request Body: JSON object containing a unique user identifier.\n",
    "Example: {\"user_id\": \"user123\"}\n",
    "Response: A success message or a 400 error in case of voting issues (e.g., candidate not found, duplicate vote).\n",
    "6. Get Voting Results\n",
    "    - Endpoint: /results\n",
    "    - Method: GET\n",
    "    - Description: Fetches the current voting results.\n",
    "    - Response: A JSON array containing candidate objects including their vote counts.\n",
    "\n",
    "Status Codes\n",
    "- 200 OK: The request was successful.\n",
    "- 201 Created: The resource was successfully created.\n",
    "- 400 Bad Request: The request could not be understood or was missing required parameters.\n",
    "- 404 Not Found: Resource was not found.\n",
    "- 500 Internal Server Error: Unexpected server issue.\n",
    "\n"
   ]
  },
  {
   "attachments": {},
   "cell_type": "markdown",
   "metadata": {},
   "source": [
    "Task:\n",
    "- Complete the following exercises using GET, POST, PUT, and DELETE calls to the voting API. Use the `requests` library.\n",
    "- The url of your calls will probably be http://localhost:5000. Check it when running the voting_api.py.\n",
    "- Remember to handle possible API errors gracefully, such as a 404 error when trying to update a non-existent candidate, or a 400 error when trying to cast a duplicate vote.\n",
    "\n",
    "Note: if you stop your flask app you will lose all the stored information, it is not persisted in any DB or file."
   ]
  },
  {
   "cell_type": "code",
   "execution_count": null,
   "metadata": {},
   "outputs": [],
   "source": [
    "import requests"
   ]
  },
  {
   "attachments": {},
   "cell_type": "markdown",
   "metadata": {},
   "source": [
    "## Fetching Candidates\n",
    "\n",
    "Write a program to fetch all candidates from the API and print them to the console.\n",
    "\n",
    "**Hint**: You should call http://localhost:5000/candidates"
   ]
  },
  {
   "cell_type": "code",
   "execution_count": null,
   "metadata": {},
   "outputs": [],
   "source": [
    "url = \"http://localhost:5000/candidates\"\n",
    "\n",
    "response = requests.get(url)\n",
    "\n",
    "if response.ok:\n",
    "    print(f\"{response.json()} elements were retrived.\")\n",
    "else:\n",
    "    print(f\"Failed to get the posts, status code: {response.status_code}\")"
   ]
  },
  {
   "attachments": {},
   "cell_type": "markdown",
   "metadata": {},
   "source": [
    "##  Add a New Candidate\n",
    "\n",
    "Add a new candidate to the voting system."
   ]
  },
  {
   "cell_type": "code",
   "execution_count": null,
   "metadata": {},
   "outputs": [],
   "source": [
    "url = \"http://localhost:5000/candidates\"\n",
    "\n",
    "new_post = {\"name\":\"Xavi Stone\"}\n",
    "\n",
    "response = requests.post(url, json=new_post)\n",
    "\n",
    "if response.ok:\n",
    "     print(f\"Post was created with id {response.json()}\")\n",
    "else:\n",
    "    print(f\"Failed to create post, status code: {response.status_code}\")"
   ]
  },
  {
   "attachments": {},
   "cell_type": "markdown",
   "metadata": {},
   "source": [
    "## Update Candidate Information\n",
    "\n",
    "Update the name of a candidate based on its ID."
   ]
  },
  {
   "cell_type": "code",
   "execution_count": null,
   "metadata": {},
   "outputs": [],
   "source": [
    "item_id = 5\n",
    "\n",
    "url = f\"http://localhost:5000/candidates/{item_id}\"\n",
    "\n",
    "updated_candidate = {\"name\": \"Xavi Stone\"}\n",
    "\n",
    "response = requests.put(url, json=updated_candidate)\n",
    "\n",
    "if response.ok:\n",
    "    print(f\"Post was updated: {response.json()}\")\n",
    "else:\n",
    "    print(f\"Failed to update post, status code: {response.status_code}\")"
   ]
  },
  {
   "attachments": {},
   "cell_type": "markdown",
   "metadata": {},
   "source": [
    "## Cast a Vote\n",
    "\n",
    "Cast a vote for a candidate using their ID. Ensure to handle cases where a user tries to vote for a non-existent candidate. Remember to send the user_id information."
   ]
  },
  {
   "cell_type": "code",
   "execution_count": null,
   "metadata": {},
   "outputs": [],
   "source": [
    "item_id = 2\n",
    "\n",
    "url = f\"http://localhost:5000/vote/{item_id}\"\n",
    "\n",
    "updated_vote = {\"user_id\":\"3\"}\n",
    "\n",
    "response = requests.post(url, json=updated_vote)\n",
    "\n",
    "if response.ok:\n",
    "    print(f\"Post was updated: {response.json()}\")\n",
    "else:\n",
    "    print(f\"Failed to update post, status code: {response.status_code}\")"
   ]
  },
  {
   "attachments": {},
   "cell_type": "markdown",
   "metadata": {},
   "source": [
    "## Automated Voting Script\n",
    "\n",
    "Write a script that automates voting – it should automatically cast votes for random candidate IDs and from random user IDs (you might want to generate random user IDs to simulate multiple users)."
   ]
  },
  {
   "cell_type": "code",
   "execution_count": null,
   "metadata": {},
   "outputs": [],
   "source": [
    "import random\n",
    "\n",
    "for i in range(0, 100):\n",
    "    candi_id = random.randint(1,5)\n",
    "    user_id = str(random.randint(4,3000))\n",
    "\n",
    "    url = f\"http://localhost:5000/vote/{candi_id}\"\n",
    "    updated_vote = {\"user_id\": user_id}\n",
    "\n",
    "    response = requests.post(url, json=updated_vote)\n",
    "\n",
    "    if response.ok:\n",
    "        print(f\"Post was updated: {response.json()}\")\n",
    "    else:\n",
    "        print(f\"Failed to update post, status code: {response.status_code}\")\n"
   ]
  },
  {
   "attachments": {},
   "cell_type": "markdown",
   "metadata": {},
   "source": [
    "## Visualize Voting Results\n",
    "\n",
    "Fetch voting results and use a library like matplotlib to visualize the number of votes for each candidate in a bar chart."
   ]
  },
  {
   "cell_type": "code",
   "execution_count": null,
   "metadata": {},
   "outputs": [],
   "source": [
    "import matplotlib.pyplot as plt\n",
    "\n",
    "url = \"http://localhost:5000/results\"\n",
    "\n",
    "response = requests.get(url)\n",
    "candi = []\n",
    "votes = []\n",
    "\n",
    "if response.ok:\n",
    "    data = response.json()\n",
    "    #print(f\"{response.json()}\")\n",
    "    for candid in data:\n",
    "        print(candid)\n",
    "        candi.append(candid[\"name\"])\n",
    "        votes.append(candid[\"votes\"])\n",
    "    \n",
    "    plt.bar(candi, votes)\n",
    "    plt.xlabel(\"Candidatos\")\n",
    "    plt.ylabel(\"Votos\")\n",
    "    plt.title(\"Votaciones\")\n",
    "\n",
    "    plt.show\n",
    "\n",
    "else:\n",
    "    print(f\"Failed to get the posts, status code: {response.status_code}\")"
   ]
  },
  {
   "attachments": {},
   "cell_type": "markdown",
   "metadata": {},
   "source": [
    "## Delete a Candidate\n",
    "\n",
    "Delete a candidate using their ID. Ensure to handle cases where a user tries to delete a non-existent candidate."
   ]
  },
  {
   "cell_type": "code",
   "execution_count": null,
   "metadata": {},
   "outputs": [],
   "source": [
    "candidate_id = 5\n",
    "\n",
    "url = f\"http://localhost:5000/candidates/{candidate_id}\"\n",
    "\n",
    "response = requests.delete(url)\n",
    "\n",
    "if response.ok:\n",
    "    print(\"Post deleted correctly\")\n",
    "else:\n",
    "    print(f\"Failed delete {response.status_code}\")\n"
   ]
  },
  {
   "attachments": {},
   "cell_type": "markdown",
   "metadata": {},
   "source": [
    "## WeatherApp\n",
    "\n",
    "Create a simple application that allows users to retrieve real-time weather data by interacting with a weather API.\n",
    "\n",
    "For that, you need an API key, which is provided by any API weather platform. You need to send this key on every API call in order to identify yourself and fetch the data.\n",
    "\n",
    "### API interaction:\n",
    "1. **Get API Key**: Register on a weather API platform and get your API key. For example on OpenWeatherMap: https://openweathermap.org/. The API key is all you need to call any of their weather APIs. Once you sign up, the API key will be sent to you in a confirmation email. \n",
    "2. **Fetch Data**: Use `requests` to fetch weather data. Ensure you can retrieve data like temperature, weather description, humidity, wind speed, etc., for a given city.\n",
    "3. **Data Parsing**: Extract the necessary data from the API response and understand the JSON structure."
   ]
  },
  {
   "cell_type": "code",
   "execution_count": null,
   "metadata": {},
   "outputs": [],
   "source": [
    "import requests\n",
    "\n",
    "api_key = \"381690efc233ab4517f3d5c69e6189fc\"\n",
    "city = \"Barcelona\"\n",
    "\n",
    "response = requests.get(f\"http://api.openweathermap.org/data/2.5/weather?q={city}&appid={api_key}\")\n",
    "print(\"Status:\", response.status_code)\n",
    "data = response.json()\n",
    "data"
   ]
  },
  {
   "attachments": {},
   "cell_type": "markdown",
   "metadata": {},
   "source": [
    "### GUI Layout\n",
    "\n",
    "Create a basic GUI layout using Tkinter with:\n",
    "- An entry widget for users to type the city name.\n",
    "- A button to fetch and display the weather data.\n",
    "- Labels to display the weather information.\n",
    "\n",
    "Work on user experience aspects like:\n",
    "- Clearing the input field after fetching the weather.\n",
    "- Showing loading feedback while fetching data from the API."
   ]
  },
  {
   "cell_type": "code",
   "execution_count": null,
   "metadata": {},
   "outputs": [],
   "source": [
    "import tkinter as tk\n",
    "\n",
    "def on_button_click_find():\n",
    "    city = entry.get()\n",
    "    entry.config(text = \"\")\n",
    "    api_key = \"381690efc233ab4517f3d5c69e6189fc\"  \n",
    "\n",
    "    label3.config(text=\"Buscando informacion del tiempo\") \n",
    "\n",
    "    response = requests.get(f\"http://api.openweathermap.org/data/2.5/weather?q={city}&appid={api_key}\")   \n",
    "    data = response.json()\n",
    "\n",
    "    label3.config(text=\"Informacion encontrada\") \n",
    "        \n",
    "    label2.config(text = data)\n",
    "\n",
    "root = tk.Tk()\n",
    "root.title(\"Weather\")\n",
    "\n",
    "label2 = tk.Label(root, text=\"\")\n",
    "label2.pack(side=tk.BOTTOM)\n",
    "label = tk.Label(root, text=\"City Name\")\n",
    "label.pack(side=tk.LEFT)\n",
    "entry = tk.Entry(root)\n",
    "entry.pack(side=tk.LEFT)\n",
    "label3 = tk.Label(root,text=\"\") \n",
    "label3.pack(side=tk.LEFT) \n",
    "button = tk.Button(root, text=\"Find\", command=on_button_click_find)\n",
    "button.pack(side=tk.LEFT)\n",
    "\n",
    "\n",
    "\n",
    "root.mainloop()\n"
   ]
  },
  {
   "attachments": {},
   "cell_type": "markdown",
   "metadata": {},
   "source": [
    "## Bonus"
   ]
  },
  {
   "attachments": {},
   "cell_type": "markdown",
   "metadata": {},
   "source": [
    "### Forecast\n",
    "\n",
    "Include options for the user to view forecast data for upcoming days."
   ]
  },
  {
   "cell_type": "code",
   "execution_count": 10,
   "metadata": {},
   "outputs": [],
   "source": [
    "from selenium import webdriver\n",
    "from selenium.webdriver.common.keys import Keys\n",
    "from selenium.webdriver.common.by import By\n",
    "from bs4 import BeautifulSoup\n",
    "\n",
    "\n",
    "driver = webdriver.Chrome()\n",
    "\n",
    "driver.get('https://www.linkedin.com/login')\n",
    "\n",
    "driver.implicitly_wait(5)  # Espera 5 segundos para que la página cargue completamente\n",
    "\n",
    "email_input = driver.find_element(by = By.ID, value = \"username\")\n",
    "email_input.send_keys(\"xavirope20@gmail.com\")\n",
    "password_input = driver.find_element(by = By.ID, value = \"password\")\n",
    "password_input.send_keys(\"pinpin63\")\n",
    "\n",
    "password_input.send_keys(Keys.RETURN)\n",
    "\n",
    "driver.implicitly_wait(3)  # Espera 5 segundos para que la página cargue completamente\n",
    "\n",
    "\n",
    "\n",
    "\n",
    "\n"
   ]
  },
  {
   "cell_type": "code",
   "execution_count": 11,
   "metadata": {},
   "outputs": [
    {
     "ename": "WebDriverException",
     "evalue": "Message: To submit an element, it must be nested inside a form element\n",
     "output_type": "error",
     "traceback": [
      "\u001b[1;31m---------------------------------------------------------------------------\u001b[0m",
      "\u001b[1;31mJavascriptException\u001b[0m                       Traceback (most recent call last)",
      "File \u001b[1;32mc:\\Users\\Alumne_mati1\\anaconda3\\Lib\\site-packages\\selenium\\webdriver\\remote\\webelement.py:110\u001b[0m, in \u001b[0;36mWebElement.submit\u001b[1;34m(self)\u001b[0m\n\u001b[0;32m    109\u001b[0m \u001b[39mtry\u001b[39;00m:\n\u001b[1;32m--> 110\u001b[0m     \u001b[39mself\u001b[39m\u001b[39m.\u001b[39m_parent\u001b[39m.\u001b[39mexecute_script(script, \u001b[39mself\u001b[39m)\n\u001b[0;32m    111\u001b[0m \u001b[39mexcept\u001b[39;00m JavascriptException \u001b[39mas\u001b[39;00m exc:\n",
      "File \u001b[1;32mc:\\Users\\Alumne_mati1\\anaconda3\\Lib\\site-packages\\selenium\\webdriver\\remote\\webdriver.py:404\u001b[0m, in \u001b[0;36mWebDriver.execute_script\u001b[1;34m(self, script, *args)\u001b[0m\n\u001b[0;32m    402\u001b[0m command \u001b[39m=\u001b[39m Command\u001b[39m.\u001b[39mW3C_EXECUTE_SCRIPT\n\u001b[1;32m--> 404\u001b[0m \u001b[39mreturn\u001b[39;00m \u001b[39mself\u001b[39m\u001b[39m.\u001b[39mexecute(command, {\u001b[39m\"\u001b[39m\u001b[39mscript\u001b[39m\u001b[39m\"\u001b[39m: script, \u001b[39m\"\u001b[39m\u001b[39margs\u001b[39m\u001b[39m\"\u001b[39m: converted_args})[\u001b[39m\"\u001b[39m\u001b[39mvalue\u001b[39m\u001b[39m\"\u001b[39m]\n",
      "File \u001b[1;32mc:\\Users\\Alumne_mati1\\anaconda3\\Lib\\site-packages\\selenium\\webdriver\\remote\\webdriver.py:344\u001b[0m, in \u001b[0;36mWebDriver.execute\u001b[1;34m(self, driver_command, params)\u001b[0m\n\u001b[0;32m    343\u001b[0m \u001b[39mif\u001b[39;00m response:\n\u001b[1;32m--> 344\u001b[0m     \u001b[39mself\u001b[39m\u001b[39m.\u001b[39merror_handler\u001b[39m.\u001b[39mcheck_response(response)\n\u001b[0;32m    345\u001b[0m     response[\u001b[39m\"\u001b[39m\u001b[39mvalue\u001b[39m\u001b[39m\"\u001b[39m] \u001b[39m=\u001b[39m \u001b[39mself\u001b[39m\u001b[39m.\u001b[39m_unwrap_value(response\u001b[39m.\u001b[39mget(\u001b[39m\"\u001b[39m\u001b[39mvalue\u001b[39m\u001b[39m\"\u001b[39m, \u001b[39mNone\u001b[39;00m))\n",
      "File \u001b[1;32mc:\\Users\\Alumne_mati1\\anaconda3\\Lib\\site-packages\\selenium\\webdriver\\remote\\errorhandler.py:229\u001b[0m, in \u001b[0;36mErrorHandler.check_response\u001b[1;34m(self, response)\u001b[0m\n\u001b[0;32m    228\u001b[0m     \u001b[39mraise\u001b[39;00m exception_class(message, screen, stacktrace, alert_text)  \u001b[39m# type: ignore[call-arg]  # mypy is not smart enough here\u001b[39;00m\n\u001b[1;32m--> 229\u001b[0m \u001b[39mraise\u001b[39;00m exception_class(message, screen, stacktrace)\n",
      "\u001b[1;31mJavascriptException\u001b[0m: Message: javascript error: Unable to find owning document\n  (Session info: chrome=118.0.5993.71)\nStacktrace:\n\tGetHandleVerifier [0x00007FF632BC8EF2+54786]\n\t(No symbol) [0x00007FF632B35612]\n\t(No symbol) [0x00007FF6329EA64B]\n\t(No symbol) [0x00007FF6329EF116]\n\t(No symbol) [0x00007FF6329F14AA]\n\t(No symbol) [0x00007FF632A65394]\n\t(No symbol) [0x00007FF632A4BE6A]\n\t(No symbol) [0x00007FF632A64D02]\n\t(No symbol) [0x00007FF632A4BC43]\n\t(No symbol) [0x00007FF632A20941]\n\t(No symbol) [0x00007FF632A21B84]\n\tGetHandleVerifier [0x00007FF632F17F52+3524194]\n\tGetHandleVerifier [0x00007FF632F6D800+3874576]\n\tGetHandleVerifier [0x00007FF632F65D7F+3843215]\n\tGetHandleVerifier [0x00007FF632C65086+694166]\n\t(No symbol) [0x00007FF632B40A88]\n\t(No symbol) [0x00007FF632B3CA94]\n\t(No symbol) [0x00007FF632B3CBC2]\n\t(No symbol) [0x00007FF632B2CC83]\n\tBaseThreadInitThunk [0x00007FFD3E737344+20]\n\tRtlUserThreadStart [0x00007FFD401626B1+33]\n",
      "\nThe above exception was the direct cause of the following exception:\n",
      "\u001b[1;31mWebDriverException\u001b[0m                        Traceback (most recent call last)",
      "Cell \u001b[1;32mIn[11], line 10\u001b[0m\n\u001b[0;32m      8\u001b[0m search_box\u001b[39m.\u001b[39msend_keys(\u001b[39m'\u001b[39m\u001b[39mBarcelona\u001b[39m\u001b[39m'\u001b[39m)\n\u001b[0;32m      9\u001b[0m search_box\u001b[39m.\u001b[39mclick()\n\u001b[1;32m---> 10\u001b[0m search_box\u001b[39m.\u001b[39msubmit()\n\u001b[0;32m     11\u001b[0m search_box\u001b[39m.\u001b[39msend_keys(Keys\u001b[39m.\u001b[39mENTER)\n",
      "File \u001b[1;32mc:\\Users\\Alumne_mati1\\anaconda3\\Lib\\site-packages\\selenium\\webdriver\\remote\\webelement.py:112\u001b[0m, in \u001b[0;36mWebElement.submit\u001b[1;34m(self)\u001b[0m\n\u001b[0;32m    110\u001b[0m     \u001b[39mself\u001b[39m\u001b[39m.\u001b[39m_parent\u001b[39m.\u001b[39mexecute_script(script, \u001b[39mself\u001b[39m)\n\u001b[0;32m    111\u001b[0m \u001b[39mexcept\u001b[39;00m JavascriptException \u001b[39mas\u001b[39;00m exc:\n\u001b[1;32m--> 112\u001b[0m     \u001b[39mraise\u001b[39;00m WebDriverException(\u001b[39m\"\u001b[39m\u001b[39mTo submit an element, it must be nested inside a form element\u001b[39m\u001b[39m\"\u001b[39m) \u001b[39mfrom\u001b[39;00m \u001b[39mexc\u001b[39;00m\n",
      "\u001b[1;31mWebDriverException\u001b[0m: Message: To submit an element, it must be nested inside a form element\n"
     ]
    }
   ],
   "source": [
    "driver.get('https://www.linkedin.com/jobs/')\n",
    "\n",
    "driver.implicitly_wait(3)  # Espera 5 segundos para que la página cargue completamente\n",
    "\n",
    "search_box = driver.find_element(by = By.ID, value ='jobs-search-box-keyword-id-ember24')\n",
    "search_box.send_keys('machine learning')\n",
    "search_box = driver.find_element(by = By.ID, value ='jobs-search-box-location-id-ember24')\n",
    "search_box.send_keys('Barcelona')\n",
    "search_box.click()\n",
    "search_box.submit()\n",
    "search_box.send_keys(Keys.ENTER)\n",
    "\n",
    "#driver.implicitly_wait(1)  # Espera 5 segundos para que la página cargue completamente\n",
    "\n",
    "\n",
    "#submit_button = driver.find_element(by=By.CLASS_NAME, value='jobs-search-box__submit-button')\n",
    "#submit_button.click()\n",
    "\n",
    "#driver.implicitly_wait(3)  # Espera 5 segundos para que la página cargue completamente"
   ]
  },
  {
   "cell_type": "code",
   "execution_count": 4,
   "metadata": {},
   "outputs": [
    {
     "ename": "AttributeError",
     "evalue": "type object 'Keys' has no attribute '__version__'",
     "output_type": "error",
     "traceback": [
      "\u001b[1;31m---------------------------------------------------------------------------\u001b[0m",
      "\u001b[1;31mAttributeError\u001b[0m                            Traceback (most recent call last)",
      "Cell \u001b[1;32mIn[4], line 1\u001b[0m\n\u001b[1;32m----> 1\u001b[0m Keys\u001b[39m.\u001b[39m__version__\n",
      "\u001b[1;31mAttributeError\u001b[0m: type object 'Keys' has no attribute '__version__'"
     ]
    }
   ],
   "source": [
    "\n"
   ]
  },
  {
   "cell_type": "code",
   "execution_count": null,
   "metadata": {},
   "outputs": [],
   "source": []
  },
  {
   "cell_type": "code",
   "execution_count": null,
   "metadata": {},
   "outputs": [],
   "source": []
  },
  {
   "attachments": {},
   "cell_type": "markdown",
   "metadata": {},
   "source": [
    "### Graphs\n",
    "\n",
    "Implement small graphs or visuals using libraries like matplotlib to represent temperature variations or other aspects over the upcoming days."
   ]
  },
  {
   "cell_type": "code",
   "execution_count": null,
   "metadata": {},
   "outputs": [],
   "source": []
  },
  {
   "attachments": {},
   "cell_type": "markdown",
   "metadata": {},
   "source": [
    "### Location\n",
    "\n",
    "Add an option to fetch the user's location automatically (using APIs or libraries like `geopy`) and display weather data accordingly."
   ]
  },
  {
   "cell_type": "code",
   "execution_count": null,
   "metadata": {},
   "outputs": [],
   "source": []
  }
 ],
 "metadata": {
  "kernelspec": {
   "display_name": "Python 3",
   "language": "python",
   "name": "python3"
  },
  "language_info": {
   "codemirror_mode": {
    "name": "ipython",
    "version": 3
   },
   "file_extension": ".py",
   "mimetype": "text/x-python",
   "name": "python",
   "nbconvert_exporter": "python",
   "pygments_lexer": "ipython3",
   "version": "3.11.4"
  },
  "orig_nbformat": 4
 },
 "nbformat": 4,
 "nbformat_minor": 2
}
