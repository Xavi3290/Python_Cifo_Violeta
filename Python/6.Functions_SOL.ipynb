{
 "cells": [
  {
   "cell_type": "markdown",
   "metadata": {},
   "source": [
    "# Functions exercises"
   ]
  },
  {
   "cell_type": "markdown",
   "metadata": {},
   "source": [
    "## Multiplication\n",
    "\n",
    "Create a function that takes two numbers as input and returns their product. Prompt the user to enter two numbers and then call the function to display the result."
   ]
  },
  {
   "cell_type": "code",
   "execution_count": 2,
   "metadata": {},
   "outputs": [
    {
     "name": "stdout",
     "output_type": "stream",
     "text": [
      "The product of 2.0 and 5.0 is 10.0.\n"
     ]
    }
   ],
   "source": [
    "def prod(a, b):\n",
    "    return a * b\n",
    "\n",
    "num1 = float(input(\"Enter the first number: \"))\n",
    "num2 = float(input(\"Enter the second number: \"))\n",
    "\n",
    "result = prod(num1, num2)\n",
    "print(f\"The product of {num1} and {num2} is {result}.\")"
   ]
  },
  {
   "cell_type": "markdown",
   "metadata": {},
   "source": [
    "## Odd or even\n",
    "\n",
    "Write a function that takes an integer as input and returns whether the number is odd or even."
   ]
  },
  {
   "cell_type": "code",
   "execution_count": 39,
   "metadata": {},
   "outputs": [],
   "source": [
    "def odd_or_even(num):\n",
    "    return \"even\" if num % 2 == 0 else \"odd\""
   ]
  },
  {
   "cell_type": "code",
   "execution_count": 40,
   "metadata": {},
   "outputs": [
    {
     "name": "stdout",
     "output_type": "stream",
     "text": [
      "The number 5 is odd.\n"
     ]
    }
   ],
   "source": [
    "number = int(input(\"Enter an integer: \"))\n",
    "result = odd_or_even(number)\n",
    "print(f\"The number {number} is {result}.\")"
   ]
  },
  {
   "cell_type": "markdown",
   "metadata": {},
   "source": [
    "## Area of a circle\n",
    "\n",
    "Write a function that takes the radius of a circle as input and returns the area of the circle. You can use the `math` module to get the value of pi."
   ]
  },
  {
   "cell_type": "code",
   "execution_count": 5,
   "metadata": {},
   "outputs": [],
   "source": [
    "import math"
   ]
  },
  {
   "cell_type": "code",
   "execution_count": 6,
   "metadata": {},
   "outputs": [],
   "source": [
    "def circle_area(radius):\n",
    "    return math.pi * radius ** 2"
   ]
  },
  {
   "cell_type": "code",
   "execution_count": 7,
   "metadata": {},
   "outputs": [
    {
     "name": "stdout",
     "output_type": "stream",
     "text": [
      "The area of the circle with radius 5 is 78.54.\n"
     ]
    }
   ],
   "source": [
    "radius = 5\n",
    "area = circle_area(radius)\n",
    "print(f\"The area of the circle with radius {radius} is {area:.2f}.\")"
   ]
  },
  {
   "cell_type": "markdown",
   "metadata": {},
   "source": [
    "## Multiplication 2\n",
    "\n",
    "Create a function that takes numbers as input and returns their product. The function should not be aware of the number of numbers that will come in."
   ]
  },
  {
   "cell_type": "code",
   "execution_count": 9,
   "metadata": {},
   "outputs": [
    {
     "name": "stdout",
     "output_type": "stream",
     "text": [
      "The product of the provided numbers is 330.\n"
     ]
    }
   ],
   "source": [
    "def prod(*args):\n",
    "    result = 1\n",
    "    for x in args:\n",
    "        result = result * x\n",
    "    return result\n",
    "\n",
    "result = prod(2, 3, 5, 11)\n",
    "print(f\"The product of the provided numbers is {result}.\")"
   ]
  },
  {
   "cell_type": "markdown",
   "metadata": {},
   "source": [
    "## Fibonacci\n",
    "\n",
    "Write a function that generates the first $n$ numbers of the Fibonacci sequence, where $n$ is a user-provided integer. The Fibonacci sequence is a series of numbers where each number is the sum of the two preceding ones, starting from 0 and 1.\n",
    "\n",
    "Example:\n",
    "- n = 10 --> [0, 1, 1, 2, 3, 5, 8, 13, 21, 34]"
   ]
  },
  {
   "cell_type": "code",
   "execution_count": 13,
   "metadata": {},
   "outputs": [],
   "source": [
    "def fibonacci(n):\n",
    "    sequence = [0, 1]\n",
    "    for _ in range(n - 2):\n",
    "        sequence.append(sequence[-1] + sequence[-2])\n",
    "    return sequence"
   ]
  },
  {
   "cell_type": "code",
   "execution_count": null,
   "metadata": {},
   "outputs": [
    {
     "name": "stdout",
     "output_type": "stream",
     "text": [
      "The first 10 numbers of the Fibonacci sequence are: [0, 1, 1, 2, 3, 5, 8, 13, 21, 34]\n"
     ]
    }
   ],
   "source": [
    "n = int(input(\"Enter the number of Fibonacci sequence terms: \"))\n",
    "fib_sequence = fibonacci(n)\n",
    "\n",
    "print(f\"The first {n} numbers of the Fibonacci sequence are: {fib_sequence}\")"
   ]
  },
  {
   "cell_type": "markdown",
   "metadata": {},
   "source": [
    "Recursive solution:"
   ]
  },
  {
   "cell_type": "code",
   "execution_count": 30,
   "metadata": {},
   "outputs": [],
   "source": [
    "def fibonacci_recursive(n):\n",
    "    if n <= 2:\n",
    "        return [0, 1][:n]\n",
    "    else:\n",
    "        sequence = fibonacci_recursive(n - 1)\n",
    "        sequence.append(sequence[-1] + sequence[-2])\n",
    "        return sequence"
   ]
  },
  {
   "cell_type": "code",
   "execution_count": 31,
   "metadata": {},
   "outputs": [
    {
     "name": "stdout",
     "output_type": "stream",
     "text": [
      "The first 10 numbers of the Fibonacci sequence are: [0, 1, 1, 2, 3, 5, 8, 13, 21, 34]\n"
     ]
    }
   ],
   "source": [
    "n = int(input(\"Enter the number of Fibonacci sequence terms: \"))\n",
    "fib_sequence = fibonacci_recursive(n)\n",
    "\n",
    "print(f\"The first {n} numbers of the Fibonacci sequence are: {fib_sequence}\")"
   ]
  },
  {
   "cell_type": "markdown",
   "metadata": {},
   "source": [
    "## Primality\n",
    "\n",
    "Create a function that checks whether a given number is a prime number. A prime number is a number greater than 1 that is only divisible by 1 and itself. Prompt the user to enter a number and then call the function to display the result."
   ]
  },
  {
   "cell_type": "code",
   "execution_count": 15,
   "metadata": {},
   "outputs": [],
   "source": [
    "def is_prime(num):\n",
    "    if num <= 1:\n",
    "        return False\n",
    "    for i in range(2, num):\n",
    "        if num % i == 0:\n",
    "            return False\n",
    "    return True"
   ]
  },
  {
   "cell_type": "code",
   "execution_count": 18,
   "metadata": {},
   "outputs": [
    {
     "name": "stdout",
     "output_type": "stream",
     "text": [
      "97 is a prime number.\n"
     ]
    }
   ],
   "source": [
    "number = int(input(\"Enter a number: \"))\n",
    "if is_prime(number):\n",
    "    print(f\"{number} is a prime number.\")\n",
    "else:\n",
    "    print(f\"{number} is not a prime number.\")"
   ]
  },
  {
   "cell_type": "markdown",
   "metadata": {},
   "source": [
    "## Palindromes\n",
    "\n",
    "Write a function that checks if a given word or phrase is a palindrome. A palindrome is a word or phrase that reads the same backward as forward. You can ignore spaces and capitalization. Prompt the user to enter a word or phrase and then call the function to display the result.\n",
    "\n",
    "Examples:\n",
    "   - noon --> True\n",
    "   - none --> False\n",
    "   - Never odd or even --> True"
   ]
  },
  {
   "cell_type": "code",
   "execution_count": 22,
   "metadata": {},
   "outputs": [],
   "source": [
    "def is_palindrome(text):\n",
    "    cleaned_text = text.lower().replace(' ', '')\n",
    "    return cleaned_text == cleaned_text[::-1]"
   ]
  },
  {
   "cell_type": "code",
   "execution_count": 23,
   "metadata": {},
   "outputs": [
    {
     "name": "stdout",
     "output_type": "stream",
     "text": [
      "'Never odd or even' is a palindrome.\n"
     ]
    }
   ],
   "source": [
    "user_input = input(\"Enter a word or phrase: \")\n",
    "if is_palindrome(user_input):\n",
    "    print(f\"'{user_input}' is a palindrome.\")\n",
    "else:\n",
    "    print(f\"'{user_input}' is not a palindrome.\")"
   ]
  },
  {
   "cell_type": "markdown",
   "metadata": {},
   "source": [
    "## Common elements\n",
    "\n",
    "Write a function that takes two lists as input and returns a list of their common elements without duplicates."
   ]
  },
  {
   "cell_type": "code",
   "execution_count": 24,
   "metadata": {},
   "outputs": [],
   "source": [
    "def common_elements(list1, list2):\n",
    "    return list(set(list1) & set(list2))"
   ]
  },
  {
   "cell_type": "code",
   "execution_count": 25,
   "metadata": {},
   "outputs": [
    {
     "name": "stdout",
     "output_type": "stream",
     "text": [
      "Common elements: [4, 5]\n"
     ]
    }
   ],
   "source": [
    "list1 = [1, 2, 3, 4, 5]\n",
    "list2 = [4, 5, 6, 7, 8]\n",
    "\n",
    "common = common_elements(list1, list2)\n",
    "print(f\"Common elements: {common}\")"
   ]
  },
  {
   "cell_type": "markdown",
   "metadata": {},
   "source": [
    "## Longest word\n",
    "\n",
    "Create a function that takes a sentence as input and returns the longest word in the sentence. If there are multiple words with the same length, return the lowest one (alphabetically).\n",
    "\n",
    "Example:\n",
    "- \"One banana and two apples and three melons\" --> \"The longest word in the sentence is 'apples'.\""
   ]
  },
  {
   "cell_type": "code",
   "execution_count": 28,
   "metadata": {},
   "outputs": [],
   "source": [
    "# Non-optimal solution\n",
    "def longest_word(sentence):\n",
    "    words = sentence.split()\n",
    "    longest = words[0]\n",
    "    max_length = len(longest)\n",
    "\n",
    "    for word in words[1:]:\n",
    "        if len(word) > max_length:\n",
    "            longest = word\n",
    "            max_length = len(longest)\n",
    "        elif len(word) == max_length and word.lower() < longest.lower():\n",
    "            longest = word\n",
    "    \n",
    "    return longest"
   ]
  },
  {
   "cell_type": "code",
   "execution_count": 35,
   "metadata": {},
   "outputs": [
    {
     "name": "stdout",
     "output_type": "stream",
     "text": [
      "The longest word in the sentence is 'apples'.\n"
     ]
    }
   ],
   "source": [
    "sentence = \"One banana and two apples and three melons\"\n",
    "longest = longest_word(sentence)\n",
    "print(f\"The longest word in the sentence is '{longest}'.\")"
   ]
  },
  {
   "cell_type": "markdown",
   "metadata": {},
   "source": [
    "## Reversed words\n",
    "\n",
    "Create a function that takes a sentence as input and returns a new sentence with each word reversed. Preserve the original order of the words.\n",
    "\n",
    "Example:\n",
    "- This is a reversed sentence --> sihT si a desrever ecnetnes"
   ]
  },
  {
   "cell_type": "code",
   "execution_count": 36,
   "metadata": {},
   "outputs": [],
   "source": [
    "def reverse_words(sentence):\n",
    "    words = sentence.split()\n",
    "    reversed_words = [word[::-1] for word in words]\n",
    "    return ' '.join(reversed_words)"
   ]
  },
  {
   "cell_type": "code",
   "execution_count": 38,
   "metadata": {},
   "outputs": [
    {
     "name": "stdout",
     "output_type": "stream",
     "text": [
      "Reversed sentence: sihT si a desrever ecnetnes\n"
     ]
    }
   ],
   "source": [
    "reversed_sentence = reverse_words(\"This is a reversed sentence\")\n",
    "print(f\"Reversed sentence: {reversed_sentence}\")"
   ]
  },
  {
   "cell_type": "markdown",
   "metadata": {},
   "source": [
    "## Map, Filter and Reduce\n",
    "\n",
    "Solve the exercises in this section using `map`, `filter`, and/or `reduce` functions. Check the theory notebook for an explanation on how they work (or search them on the internet)."
   ]
  },
  {
   "cell_type": "markdown",
   "metadata": {},
   "source": [
    "### C to F\n",
    "\n",
    "Convert a list of temperatures in Celsius to Fahrenheit. Given the temperature in Celsius, multiply it by 9/5 and then add 32 to obtain the corresponding temperatures in Fahrenheit."
   ]
  },
  {
   "cell_type": "code",
   "execution_count": 73,
   "metadata": {},
   "outputs": [],
   "source": [
    "celsius = [0, 20, 30, 100]"
   ]
  },
  {
   "cell_type": "code",
   "execution_count": 74,
   "metadata": {},
   "outputs": [
    {
     "name": "stdout",
     "output_type": "stream",
     "text": [
      "[32.0, 68.0, 86.0, 212.0]\n"
     ]
    }
   ],
   "source": [
    "fahrenheit = list(map(lambda x: (x * 9/5) + 32, celsius))\n",
    "print(fahrenheit)"
   ]
  },
  {
   "cell_type": "markdown",
   "metadata": {},
   "source": [
    "### Palindromes only\n",
    "\n",
    "Find all the palindromes in a list of words."
   ]
  },
  {
   "cell_type": "code",
   "execution_count": 63,
   "metadata": {},
   "outputs": [],
   "source": [
    "words = [\"racecar\", \"apple\", \"level\", \"banana\", \"madam\", \"rotor\", \"cherry\"]"
   ]
  },
  {
   "cell_type": "code",
   "execution_count": 64,
   "metadata": {},
   "outputs": [
    {
     "name": "stdout",
     "output_type": "stream",
     "text": [
      "['racecar', 'level', 'madam', 'rotor']\n"
     ]
    }
   ],
   "source": [
    "def is_palindrome(text):\n",
    "    cleaned_text = text.lower().replace(' ', '')\n",
    "    return cleaned_text == cleaned_text[::-1]\n",
    "\n",
    "palindromes = list(filter(is_palindrome, words))\n",
    "print(palindromes)"
   ]
  },
  {
   "cell_type": "markdown",
   "metadata": {},
   "source": [
    "### Primes only\n",
    "\n",
    "Get all the prime numbers from a list with the first 50 integers."
   ]
  },
  {
   "cell_type": "code",
   "execution_count": 66,
   "metadata": {},
   "outputs": [
    {
     "name": "stdout",
     "output_type": "stream",
     "text": [
      "[2, 3, 5, 7, 11, 13, 17, 19, 23, 29, 31, 37, 41, 43, 47]\n"
     ]
    }
   ],
   "source": [
    "def is_prime(num):\n",
    "    if num <= 1:\n",
    "        return False\n",
    "    for i in range(2, num):\n",
    "        if num % i == 0:\n",
    "            return False\n",
    "    return True\n",
    "\n",
    "numbers = list(range(1, 51))\n",
    "primes = list(filter(is_prime, numbers))\n",
    "print(primes)"
   ]
  },
  {
   "cell_type": "markdown",
   "metadata": {},
   "source": [
    "### Factorial\n",
    "\n",
    "Calculate the factorial of a given number. Take into account that it can be 0 (and the factorial of 0 is 1)."
   ]
  },
  {
   "cell_type": "code",
   "execution_count": 67,
   "metadata": {},
   "outputs": [
    {
     "name": "stdout",
     "output_type": "stream",
     "text": [
      "5! = 120\n"
     ]
    }
   ],
   "source": [
    "def factorial(n):\n",
    "    if n == 0:\n",
    "        return 1\n",
    "    return functools.reduce(lambda x, y: x * y, range(1, n + 1))\n",
    "\n",
    "number = 5\n",
    "result = factorial(number)\n",
    "\n",
    "print(f\"{number}! = {result}\")"
   ]
  },
  {
   "cell_type": "markdown",
   "metadata": {},
   "source": [
    "### Squared odds\n",
    "\n",
    "Get the squared elements of a list, but only the ones for which its square is an odd number."
   ]
  },
  {
   "cell_type": "code",
   "execution_count": 68,
   "metadata": {},
   "outputs": [],
   "source": [
    "numbers = list(range(10))"
   ]
  },
  {
   "cell_type": "code",
   "execution_count": 72,
   "metadata": {},
   "outputs": [
    {
     "name": "stdout",
     "output_type": "stream",
     "text": [
      "[1, 9, 25, 49, 81]\n"
     ]
    }
   ],
   "source": [
    "squared = list(map(lambda x: x * x, numbers))\n",
    "odd_squares = list(filter(lambda x: x % 2 != 0, squared))\n",
    "\n",
    "print(odd_squares)"
   ]
  },
  {
   "cell_type": "markdown",
   "metadata": {},
   "source": [
    "### Longest word in list\n",
    "\n",
    "Use `reduce` to find the longest word in a list of words."
   ]
  },
  {
   "cell_type": "code",
   "execution_count": 61,
   "metadata": {},
   "outputs": [],
   "source": [
    "words = [\"apple\", \"banana\", \"cherry\", \"kiwi\", \"grapefruit\", \"strawberry\", \"blueberry\"]"
   ]
  },
  {
   "cell_type": "code",
   "execution_count": 62,
   "metadata": {},
   "outputs": [
    {
     "name": "stdout",
     "output_type": "stream",
     "text": [
      "strawberry\n"
     ]
    }
   ],
   "source": [
    "import functools\n",
    "\n",
    "# Another solution with reduce\n",
    "longest_word = functools.reduce(lambda x, y: x if len(x) > len(y) else y, words)\n",
    "print(longest_word)"
   ]
  },
  {
   "cell_type": "markdown",
   "metadata": {},
   "source": [
    "# Bonus"
   ]
  },
  {
   "cell_type": "markdown",
   "metadata": {},
   "source": [
    "## Password generator\n",
    "\n",
    "Create a password generator function that generates a random password with a given length. The password must contain uppercase and lowercase letters, digits, and special characters. Use a function to generate the password.\n",
    "\n",
    "**Hint**: The `string` module has some interesting variables that can make your life easier: `ascii_lowercase`, `ascii_uppercase`, `digits` and `punctuation`."
   ]
  },
  {
   "cell_type": "code",
   "execution_count": 2,
   "metadata": {},
   "outputs": [],
   "source": [
    "import random\n",
    "import string"
   ]
  },
  {
   "cell_type": "code",
   "execution_count": 13,
   "metadata": {},
   "outputs": [],
   "source": [
    "def generate_password(length):\n",
    "    if length < 4:\n",
    "        print(\"Password length must be at least 4.\")\n",
    "        return\n",
    "\n",
    "    # Randomly select at least 1 character of each type\n",
    "    lowerc = random.choice(string.ascii_lowercase)\n",
    "    upperc = random.choice(string.ascii_uppercase)\n",
    "    digit = random.choice(string.digits)\n",
    "    punct = random.choice(string.punctuation)\n",
    "    password = [lowerc, upperc, digit, punct]\n",
    "\n",
    "    # Add the ramaining characters randomly\n",
    "    all_characters = string.ascii_letters + string.digits + string.punctuation\n",
    "    remaining = length - 4\n",
    "    password += [random.choice(all_characters) for _ in range(remaining)]\n",
    "\n",
    "    # Shuffle the password characters randomly\n",
    "    random.shuffle(password)\n",
    "\n",
    "    return ''.join(password)"
   ]
  },
  {
   "cell_type": "code",
   "execution_count": 18,
   "metadata": {},
   "outputs": [
    {
     "name": "stdout",
     "output_type": "stream",
     "text": [
      "Your generated password is: z7)~uR\\e\n"
     ]
    }
   ],
   "source": [
    "password_length = int(input(\"Enter the desired password length: \"))\n",
    "password = generate_password(password_length)\n",
    "if password:\n",
    "    print(f\"Your generated password is: {password}\")"
   ]
  },
  {
   "cell_type": "markdown",
   "metadata": {},
   "source": [
    "## Tic-Tac-Toe\n",
    "\n",
    "Write the functions for playing Tic-Tac-Toe (3 en ratlla) between 2 players, X and O. You have the main code below, so your job is to write the code of the functions: `init_board`, `print_board`, `enter_row_and_col`, `check_winner`, `is_full`, `is_cell_empty`."
   ]
  },
  {
   "cell_type": "code",
   "execution_count": 25,
   "metadata": {},
   "outputs": [],
   "source": [
    "def init_board() -> list[list[str]]:\n",
    "    ''' Returns a 3 x 3 board with all cells empty. '''\n",
    "    return [[\" \" for _ in range(3)] for _ in range(3)]\n",
    "\n",
    "\n",
    "def print_board(board: list[list[str]]) -> None:\n",
    "    ''' Prints the 3x3 board. '''\n",
    "    for row in board:\n",
    "        print(\" | \".join(row))\n",
    "        print(\"-\" * 9)\n",
    "\n",
    "\n",
    "def enter_row_and_col() -> tuple[int, int]:\n",
    "    ''' Returns the row and column entered by the user. Rows and columns are zero-based. \n",
    "        Make sure the user enters valid values.'''\n",
    "    invalid = True\n",
    "    while invalid:\n",
    "        row_col = input(\"Enter the row and column separated by a comma: \")\n",
    "        row, col = row_col.split(\",\")\n",
    "        row, col = int(row), int(col)\n",
    "        if row not in range(3) or col not in range(3):\n",
    "            print(\"Invalid row or column. Try again.\")\n",
    "        else:\n",
    "            invalid = False\n",
    "    return row, col\n",
    "\n",
    "\n",
    "def check_winner(board: list[list[str]], player: str) -> bool:\n",
    "    ''' Returns True if the given player has won the game. '''\n",
    "    for row in board:\n",
    "        if all([cell == player for cell in row]):\n",
    "            return True\n",
    "    for col in range(3):\n",
    "        if all([board[row][col] == player for row in range(3)]):\n",
    "            return True\n",
    "    if all([board[i][i] == player for i in range(3)]) or all([board[i][2-i] == player for i in range(3)]):\n",
    "        return True\n",
    "    return False\n",
    "\n",
    "\n",
    "def is_full(board: list[list[str]]) -> bool:\n",
    "    ''' Returns True if the board is full. '''\n",
    "    return all([cell != \" \" for row in board for cell in row])\n",
    "\n",
    "\n",
    "def is_cell_empty(cell: str) -> bool:\n",
    "    ''' Returns True if the board cell is empty. '''\n",
    "    return cell == \" \""
   ]
  },
  {
   "cell_type": "code",
   "execution_count": 22,
   "metadata": {},
   "outputs": [
    {
     "name": "stdout",
     "output_type": "stream",
     "text": [
      "  |   |  \n",
      "---------\n",
      "  |   |  \n",
      "---------\n",
      "  |   |  \n",
      "---------\n",
      "\n",
      "Player X's turn.\n",
      "  |   |  \n",
      "---------\n",
      "  | X |  \n",
      "---------\n",
      "  |   |  \n",
      "---------\n",
      "\n",
      "Player O's turn.\n",
      "O |   |  \n",
      "---------\n",
      "  | X |  \n",
      "---------\n",
      "  |   |  \n",
      "---------\n",
      "\n",
      "Player X's turn.\n",
      "O |   |  \n",
      "---------\n",
      "  | X |  \n",
      "---------\n",
      "  | X |  \n",
      "---------\n",
      "\n",
      "Player O's turn.\n",
      "O |   |  \n",
      "---------\n",
      "  | X | O\n",
      "---------\n",
      "  | X |  \n",
      "---------\n",
      "\n",
      "Player X's turn.\n",
      "O | X |  \n",
      "---------\n",
      "  | X | O\n",
      "---------\n",
      "  | X |  \n",
      "---------\n",
      "Player X wins!\n"
     ]
    }
   ],
   "source": [
    "import time\n",
    "\n",
    "# Initialize the board (3x3 list)\n",
    "board = init_board()\n",
    "current_player = \"X\"\n",
    "winner = False\n",
    "\n",
    "while not is_full(board):\n",
    "    # Print 3x3 board\n",
    "    print_board(board)\n",
    "    time.sleep(0.2)\n",
    "    print()\n",
    "    print(f\"Player {current_player}'s turn.\")\n",
    "    # Wait for the user to input a correct row and column separated by a comma (E.g. 2,0 or 1,1)\n",
    "    row, col = enter_row_and_col()\n",
    "\n",
    "    # Check if the cell (row and column) is empty\n",
    "    if is_cell_empty(board[row][col]):\n",
    "        # Update the board with the current player's mark\n",
    "        board[row][col] = current_player\n",
    "        # Check if the current player has won the game\n",
    "        if check_winner(board, current_player):\n",
    "            print_board(board)\n",
    "            print(f\"Player {current_player} wins!\")\n",
    "            winner = True\n",
    "            break\n",
    "        # Switch the current player\n",
    "        current_player = \"O\" if current_player == \"X\" else \"X\"\n",
    "    else:\n",
    "        print(\"Cell is already occupied. Try again.\")\n",
    "\n",
    "if not winner:\n",
    "    # Board is full and no winner\n",
    "    print_board(board)\n",
    "    print(\"It's a draw!\")"
   ]
  },
  {
   "cell_type": "markdown",
   "metadata": {},
   "source": [
    "## Hangman\n",
    "\n",
    "Write a program for playing hangman. One player inputs a word and the other player has to guess it in a limited number of attempts."
   ]
  },
  {
   "cell_type": "code",
   "execution_count": 59,
   "metadata": {},
   "outputs": [
    {
     "name": "stdout",
     "output_type": "stream",
     "text": [
      "Welcome to Hangman!\n",
      "\n",
      "Remaining attempts: 7\n",
      "___\n",
      "Wrong guess.\n",
      "\n",
      "Remaining attempts: 6\n",
      "___\n",
      "Wrong guess.\n",
      "\n",
      "Remaining attempts: 5\n",
      "___\n",
      "Wrong guess.\n",
      "\n",
      "Remaining attempts: 4\n",
      "___\n",
      "Invalid input. Please enter a single letter.\n",
      "\n",
      "Remaining attempts: 4\n",
      "___\n",
      "Invalid input. Please enter a single letter.\n",
      "\n",
      "Remaining attempts: 4\n",
      "___\n",
      "Invalid input. Please enter a single letter.\n",
      "\n",
      "Remaining attempts: 4\n",
      "___\n",
      "Invalid input. Please enter a single letter.\n",
      "\n",
      "Remaining attempts: 4\n",
      "___\n",
      "Invalid input. Please enter a single letter.\n",
      "\n",
      "Remaining attempts: 4\n",
      "___\n",
      "Invalid input. Please enter a single letter.\n",
      "\n",
      "Remaining attempts: 4\n",
      "___\n",
      "Invalid input. Please enter a single letter.\n",
      "\n",
      "Remaining attempts: 4\n",
      "___\n",
      "Invalid input. Please enter a single letter.\n",
      "\n",
      "Remaining attempts: 4\n",
      "___\n",
      "Invalid input. Please enter a single letter.\n",
      "\n",
      "Remaining attempts: 4\n",
      "___\n",
      "Invalid input. Please enter a single letter.\n",
      "\n",
      "Remaining attempts: 4\n",
      "___\n",
      "Invalid input. Please enter a single letter.\n",
      "\n",
      "Remaining attempts: 4\n",
      "___\n",
      "Invalid input. Please enter a single letter.\n",
      "\n",
      "Remaining attempts: 4\n",
      "___\n",
      "Invalid input. Please enter a single letter.\n",
      "\n",
      "Remaining attempts: 4\n",
      "___\n",
      "Invalid input. Please enter a single letter.\n",
      "\n",
      "Remaining attempts: 4\n",
      "___\n",
      "You've already guessed this letter.\n",
      "\n",
      "Remaining attempts: 4\n",
      "___\n",
      "You've already guessed this letter.\n",
      "\n",
      "Remaining attempts: 4\n",
      "___\n",
      "You've already guessed this letter.\n",
      "\n",
      "Remaining attempts: 4\n",
      "___\n",
      "Invalid input. Please enter a single letter.\n",
      "\n",
      "Remaining attempts: 4\n",
      "___\n",
      "Invalid input. Please enter a single letter.\n",
      "\n",
      "Remaining attempts: 4\n",
      "___\n",
      "Invalid input. Please enter a single letter.\n",
      "\n",
      "Remaining attempts: 4\n",
      "___\n",
      "Invalid input. Please enter a single letter.\n",
      "\n",
      "Remaining attempts: 4\n",
      "___\n",
      "Invalid input. Please enter a single letter.\n",
      "\n",
      "Remaining attempts: 4\n",
      "___\n",
      "Invalid input. Please enter a single letter.\n",
      "\n",
      "Remaining attempts: 4\n",
      "___\n"
     ]
    },
    {
     "ename": "KeyboardInterrupt",
     "evalue": "Interrupted by user",
     "output_type": "error",
     "traceback": [
      "\u001b[0;31m---------------------------------------------------------------------------\u001b[0m",
      "\u001b[0;31mKeyboardInterrupt\u001b[0m                         Traceback (most recent call last)",
      "\u001b[1;32m/home/ibci/Documents/CIFO/2023/Python_23/exercises/6.Functions_SOL.ipynb Cell 44\u001b[0m in \u001b[0;36m<cell line: 6>\u001b[0;34m()\u001b[0m\n\u001b[1;32m      <a href='vscode-notebook-cell:/home/ibci/Documents/CIFO/2023/Python_23/exercises/6.Functions_SOL.ipynb#Y136sZmlsZQ%3D%3D?line=6'>7</a>\u001b[0m \u001b[39mprint\u001b[39m(\u001b[39mf\u001b[39m\u001b[39m\"\u001b[39m\u001b[39m\\n\u001b[39;00m\u001b[39mRemaining attempts: \u001b[39m\u001b[39m{\u001b[39;00mattempts\u001b[39m}\u001b[39;00m\u001b[39m\"\u001b[39m)\n\u001b[1;32m      <a href='vscode-notebook-cell:/home/ibci/Documents/CIFO/2023/Python_23/exercises/6.Functions_SOL.ipynb#Y136sZmlsZQ%3D%3D?line=7'>8</a>\u001b[0m \u001b[39mprint\u001b[39m(display_word(word, guessed_letters))\n\u001b[0;32m---> <a href='vscode-notebook-cell:/home/ibci/Documents/CIFO/2023/Python_23/exercises/6.Functions_SOL.ipynb#Y136sZmlsZQ%3D%3D?line=9'>10</a>\u001b[0m guess \u001b[39m=\u001b[39m \u001b[39minput\u001b[39;49m(\u001b[39m\"\u001b[39;49m\u001b[39mGuess a letter: \u001b[39;49m\u001b[39m\"\u001b[39;49m)\u001b[39m.\u001b[39mlower()\n\u001b[1;32m     <a href='vscode-notebook-cell:/home/ibci/Documents/CIFO/2023/Python_23/exercises/6.Functions_SOL.ipynb#Y136sZmlsZQ%3D%3D?line=11'>12</a>\u001b[0m \u001b[39mif\u001b[39;00m \u001b[39mlen\u001b[39m(guess) \u001b[39m!=\u001b[39m \u001b[39m1\u001b[39m \u001b[39mor\u001b[39;00m \u001b[39mnot\u001b[39;00m guess\u001b[39m.\u001b[39misalpha():\n\u001b[1;32m     <a href='vscode-notebook-cell:/home/ibci/Documents/CIFO/2023/Python_23/exercises/6.Functions_SOL.ipynb#Y136sZmlsZQ%3D%3D?line=12'>13</a>\u001b[0m     \u001b[39mprint\u001b[39m(\u001b[39m\"\u001b[39m\u001b[39mInvalid input. Please enter a single letter.\u001b[39m\u001b[39m\"\u001b[39m)\n",
      "File \u001b[0;32m~/anaconda3/lib/python3.9/site-packages/ipykernel/kernelbase.py:1075\u001b[0m, in \u001b[0;36mKernel.raw_input\u001b[0;34m(self, prompt)\u001b[0m\n\u001b[1;32m   1071\u001b[0m \u001b[39mif\u001b[39;00m \u001b[39mnot\u001b[39;00m \u001b[39mself\u001b[39m\u001b[39m.\u001b[39m_allow_stdin:\n\u001b[1;32m   1072\u001b[0m     \u001b[39mraise\u001b[39;00m StdinNotImplementedError(\n\u001b[1;32m   1073\u001b[0m         \u001b[39m\"\u001b[39m\u001b[39mraw_input was called, but this frontend does not support input requests.\u001b[39m\u001b[39m\"\u001b[39m\n\u001b[1;32m   1074\u001b[0m     )\n\u001b[0;32m-> 1075\u001b[0m \u001b[39mreturn\u001b[39;00m \u001b[39mself\u001b[39;49m\u001b[39m.\u001b[39;49m_input_request(\n\u001b[1;32m   1076\u001b[0m     \u001b[39mstr\u001b[39;49m(prompt),\n\u001b[1;32m   1077\u001b[0m     \u001b[39mself\u001b[39;49m\u001b[39m.\u001b[39;49m_parent_ident[\u001b[39m\"\u001b[39;49m\u001b[39mshell\u001b[39;49m\u001b[39m\"\u001b[39;49m],\n\u001b[1;32m   1078\u001b[0m     \u001b[39mself\u001b[39;49m\u001b[39m.\u001b[39;49mget_parent(\u001b[39m\"\u001b[39;49m\u001b[39mshell\u001b[39;49m\u001b[39m\"\u001b[39;49m),\n\u001b[1;32m   1079\u001b[0m     password\u001b[39m=\u001b[39;49m\u001b[39mFalse\u001b[39;49;00m,\n\u001b[1;32m   1080\u001b[0m )\n",
      "File \u001b[0;32m~/anaconda3/lib/python3.9/site-packages/ipykernel/kernelbase.py:1120\u001b[0m, in \u001b[0;36mKernel._input_request\u001b[0;34m(self, prompt, ident, parent, password)\u001b[0m\n\u001b[1;32m   1117\u001b[0m             \u001b[39mbreak\u001b[39;00m\n\u001b[1;32m   1118\u001b[0m \u001b[39mexcept\u001b[39;00m \u001b[39mKeyboardInterrupt\u001b[39;00m:\n\u001b[1;32m   1119\u001b[0m     \u001b[39m# re-raise KeyboardInterrupt, to truncate traceback\u001b[39;00m\n\u001b[0;32m-> 1120\u001b[0m     \u001b[39mraise\u001b[39;00m \u001b[39mKeyboardInterrupt\u001b[39;00m(\u001b[39m\"\u001b[39m\u001b[39mInterrupted by user\u001b[39m\u001b[39m\"\u001b[39m) \u001b[39mfrom\u001b[39;00m \u001b[39mNone\u001b[39m\n\u001b[1;32m   1121\u001b[0m \u001b[39mexcept\u001b[39;00m \u001b[39mException\u001b[39;00m:\n\u001b[1;32m   1122\u001b[0m     \u001b[39mself\u001b[39m\u001b[39m.\u001b[39mlog\u001b[39m.\u001b[39mwarning(\u001b[39m\"\u001b[39m\u001b[39mInvalid Message:\u001b[39m\u001b[39m\"\u001b[39m, exc_info\u001b[39m=\u001b[39m\u001b[39mTrue\u001b[39;00m)\n",
      "\u001b[0;31mKeyboardInterrupt\u001b[0m: Interrupted by user"
     ]
    }
   ],
   "source": [
    "word = input(\"Enter a word in uppercase: \")\n",
    "attempts = 3\n",
    "guessed_letters = set()\n",
    "print(\"Welcome to Hangman!\")\n",
    "\n",
    "while attempts > 0:\n",
    "    print(f\"\\nRemaining attempts: {attempts}\")\n",
    "    print(display_word(word, guessed_letters))\n",
    "\n",
    "    guess = input(\"Guess a letter: \").lower()\n",
    "\n",
    "    if len(guess) != 1 or not guess.isalpha():\n",
    "        print(\"Invalid input. Please enter a single letter.\")\n",
    "        continue\n",
    "\n",
    "    if guess in guessed_letters:\n",
    "        print(\"You've already guessed this letter.\")\n",
    "        continue\n",
    "\n",
    "    guessed_letters.add(guess)\n",
    "\n",
    "    if guess in word:\n",
    "        print(\"Good guess!\")\n",
    "        if set(word).issubset(guessed_letters):\n",
    "            print(f\"\\nCongratulations, you've guessed the word: {word}\")\n",
    "            exit()\n",
    "    else:\n",
    "        print(\"Wrong guess.\")\n",
    "        attempts -= 1\n",
    "\n",
    "print(f\"\\nSorry, you've run out of attempts. The word was: {word}\")"
   ]
  },
  {
   "cell_type": "markdown",
   "metadata": {},
   "source": [
    "## Blackjack\n",
    "\n",
    "Implement a simplified text-based version of the card game Blackjack, where the player competes against the computer to get a hand closer to 21 without going over. Use functions to handle deck creation, card shuffling, user input, hand scoring, and game state management.\n",
    "\n",
    "You can write a simplified version of Blackjack that focuses on the basic game mechanics, without implementing everything. For example:\n",
    "\n",
    "- No bets: The game doesn't involve any betting or money management.\n",
    "\n",
    "- Single deck: The game uses a single, shuffled deck of 52 standard playing cards.\n",
    "- Card values: Number cards are worth their face value, face cards (J, Q, K) are worth 10, and Aces are worth 11 or 1, depending on the hand's total value.\n",
    "- Dealing: Both the player and dealer are dealt two cards initially. The dealer's first card is shown, but not the second one.\n",
    "- Player's turn: The player starts the game. He/she can choose to \"hit\" (receive additional cards) or \"stand\" (stop receiving cards) until their hand's total value is 21 or higher.\n",
    "- Dealer's turn: The dealer reveals their face-down card and must hit until their hand's total value is 17 or higher.\n",
    "- Scoring: The goal is to have a hand value closer to 21 than the opponent without going over (busting).\n",
    "- Bust: If a player or dealer's hand exceeds 21, they bust and lose the game.\n",
    "- No splitting: The game doesn't include the option to split pairs and play separate hands.\n",
    "\n",
    "If you feel very confident, feel free to code some of the omitted rules (e.g. betting, splitting, multi-deck, multi-player...)."
   ]
  },
  {
   "cell_type": "code",
   "execution_count": 29,
   "metadata": {},
   "outputs": [],
   "source": [
    "import time\n",
    "import random\n",
    "import sys"
   ]
  },
  {
   "cell_type": "code",
   "execution_count": 32,
   "metadata": {},
   "outputs": [],
   "source": [
    "\n",
    "def create_deck():\n",
    "    # returns a list of 52 shuffled cards\n",
    "    ranks = ['2', '3', '4', '5', '6', '7', '8', '9', '10', 'J', 'Q', 'K', 'A']\n",
    "    # ranks definition above is easier to read and occupies a similar amount of space, thus I prefer it\n",
    "    # ranks = [str(i) for i in range(2, 11)] + ['J', 'Q', 'K', 'A']\n",
    "    suits = ['♠', '♣', '♦', '♥']\n",
    "    deck = [f'{rank}{suit}' for rank in ranks for suit in suits]\n",
    "    random.shuffle(deck)\n",
    "    return deck\n",
    "\n",
    "def card_number_value(card):\n",
    "    # returns the numeric value of a card\n",
    "    value = card[:-1]\n",
    "    if value in ['J', 'Q', 'K']:\n",
    "        return 10\n",
    "    elif value == 'A':\n",
    "        return 11\n",
    "    else:\n",
    "        return int(value)\n",
    "\n",
    "def hand_value(hand):\n",
    "    # returns the value (sum) of a hand\n",
    "    value = sum(card_number_value(card) for card in hand)\n",
    "    num_aces = sum(1 for card in hand if 'A' in card)\n",
    "    \n",
    "    # if the hand contains aces and the value is greater than 21, the aces are counted as 1\n",
    "    while value > 21 and num_aces:\n",
    "        value -= 10\n",
    "        num_aces -= 1\n",
    "    \n",
    "    return value\n",
    "\n",
    "def deal(deck, num_cards):\n",
    "    # returns a list of cards from the top of the deck\n",
    "    return [deck.pop() for _ in range(num_cards)]\n",
    "\n",
    "def display_hand(hand, name):\n",
    "    # prints the hand of a player and its value (sum)\n",
    "    print(f\"{name}: {' '.join(hand)} ({hand_value(hand)})\")"
   ]
  },
  {
   "cell_type": "code",
   "execution_count": 45,
   "metadata": {},
   "outputs": [
    {
     "name": "stdout",
     "output_type": "stream",
     "text": [
      "Player: 6♦ 4♥ (10)\n",
      "Dealer: 3♦ (3)\n",
      "Player's turn:\n",
      "Player: 6♦ 4♥ 5♠ (15)\n",
      "Player: 6♦ 4♥ 5♠ 2♠ (17)\n",
      "Player's hand value: 17\n",
      "Dealer's turn:\n",
      "Dealer: 3♦ A♣ 7♦ (21)\n",
      "Dealer's hand value: 21\n",
      "Dealer wins.\n"
     ]
    }
   ],
   "source": [
    "deck = create_deck()\n",
    "player_hand = deal(deck, 2)\n",
    "dealer_hand = deal(deck, 2)\n",
    "\n",
    "# display the player's hand and the dealer's first card\n",
    "display_hand(player_hand, \"Player\")\n",
    "display_hand(dealer_hand[:1], \"Dealer\")\n",
    "\n",
    "# player's turn, the player can hit (draw a card) or stand (stop drawing cards)\n",
    "# the player can hit as many times as they want while the hand value is less than 21\n",
    "print(\"Player's turn:\")\n",
    "while hand_value(player_hand) < 21:\n",
    "    choice = input(\"Enter 'h' to hit or 's' to stand: \").lower()\n",
    "    time.sleep(0.2)\n",
    "    if choice == 'h':\n",
    "        player_hand += deal(deck, 1)\n",
    "        display_hand(player_hand, \"Player\")\n",
    "    elif choice == 's':\n",
    "        break\n",
    "    else:\n",
    "        print(\"Invalid input, try again.\")\n",
    "\n",
    "player_value = hand_value(player_hand)\n",
    "print(f\"Player's hand value: {player_value}\")\n",
    "\n",
    "# if the player's hand value is greater than 21, the player busts and the dealer wins\n",
    "if player_value > 21:\n",
    "    print(\"Player busts! Dealer wins.\")\n",
    "    sys.exit()\n",
    "\n",
    "# dealer's turn, the dealer must hit until the hand value is greater than 17\n",
    "print(\"Dealer's turn:\")\n",
    "while hand_value(dealer_hand) < 17:\n",
    "    dealer_hand += deal(deck, 1)\n",
    "    display_hand(dealer_hand, \"Dealer\")\n",
    "\n",
    "dealer_value = hand_value(dealer_hand)\n",
    "print(f\"Dealer's hand value: {dealer_value}\")\n",
    "\n",
    "# calculate the winner\n",
    "if dealer_value > 21:\n",
    "    print(\"Dealer busts! Player wins.\")\n",
    "elif dealer_value > player_value:\n",
    "    print(\"Dealer wins.\")\n",
    "elif dealer_value < player_value:\n",
    "    print(\"Player wins.\")\n",
    "else:\n",
    "    print(\"It's a tie!\")"
   ]
  },
  {
   "cell_type": "markdown",
   "metadata": {},
   "source": [
    "## Select one of the following:\n",
    "\n",
    "1. Create a text-based adventure game with a basic storyline and a few choices for the player to make, affecting the outcome of the game.\n",
    "2. Create an Artificial Intelligence for playing Tic-Tac-Toe (so a user can play against it). Use one of the following algorithms:\n",
    "    - Minimax\n",
    "    - Monte Carlo\n",
    "3. Create a program for playing Checkers.\n",
    "4. Create a program for playing Othello."
   ]
  }
 ],
 "metadata": {
  "kernelspec": {
   "display_name": "Python 3 (ipykernel)",
   "language": "python",
   "name": "python3"
  },
  "language_info": {
   "codemirror_mode": {
    "name": "ipython",
    "version": 3
   },
   "file_extension": ".py",
   "mimetype": "text/x-python",
   "name": "python",
   "nbconvert_exporter": "python",
   "pygments_lexer": "ipython3",
   "version": "3.10.12"
  },
  "toc": {
   "base_numbering": 1,
   "nav_menu": {},
   "number_sections": true,
   "sideBar": true,
   "skip_h1_title": false,
   "title_cell": "Table of Contents",
   "title_sidebar": "Contents",
   "toc_cell": false,
   "toc_position": {
    "height": "calc(100% - 180px)",
    "left": "10px",
    "top": "150px",
    "width": "346.364px"
   },
   "toc_section_display": true,
   "toc_window_display": true
  },
  "varInspector": {
   "cols": {
    "lenName": 16,
    "lenType": 16,
    "lenVar": 40
   },
   "kernels_config": {
    "python": {
     "delete_cmd_postfix": "",
     "delete_cmd_prefix": "del ",
     "library": "var_list.py",
     "varRefreshCmd": "print(var_dic_list())"
    },
    "r": {
     "delete_cmd_postfix": ") ",
     "delete_cmd_prefix": "rm(",
     "library": "var_list.r",
     "varRefreshCmd": "cat(var_dic_list()) "
    }
   },
   "types_to_exclude": [
    "module",
    "function",
    "builtin_function_or_method",
    "instance",
    "_Feature"
   ],
   "window_display": false
  }
 },
 "nbformat": 4,
 "nbformat_minor": 2
}
