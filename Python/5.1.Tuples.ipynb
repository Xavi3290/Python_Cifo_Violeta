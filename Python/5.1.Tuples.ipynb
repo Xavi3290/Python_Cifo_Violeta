{
 "cells": [
  {
   "cell_type": "markdown",
   "metadata": {},
   "source": [
    "# Tuple exercises"
   ]
  },
  {
   "cell_type": "markdown",
   "metadata": {},
   "source": [
    "## Even indices\n",
    "\n",
    "Given a tuple, create a new tuple containing only the elements with even indices."
   ]
  },
  {
   "cell_type": "code",
   "execution_count": 1,
   "metadata": {},
   "outputs": [],
   "source": [
    "my_tuple = ('a', 'b', 'c', 'd', 'e', 'f', 'g', 'h')"
   ]
  },
  {
   "cell_type": "code",
   "execution_count": 4,
   "metadata": {},
   "outputs": [
    {
     "name": "stdout",
     "output_type": "stream",
     "text": [
      "('a', 'c', 'e', 'g')\n"
     ]
    }
   ],
   "source": [
    "a = my_tuple[::2]\n",
    "print(a)"
   ]
  },
  {
   "cell_type": "markdown",
   "metadata": {},
   "source": [
    "## Counting\n",
    "\n",
    "Given a tuple, count how many times an element appears in the tuple."
   ]
  },
  {
   "cell_type": "code",
   "execution_count": 5,
   "metadata": {},
   "outputs": [],
   "source": [
    "my_tuple = (1, 2, 3, 2, 1, 4, 4, 5, 1, 2, 3)"
   ]
  },
  {
   "cell_type": "code",
   "execution_count": 6,
   "metadata": {},
   "outputs": [
    {
     "name": "stdout",
     "output_type": "stream",
     "text": [
      "3\n"
     ]
    }
   ],
   "source": [
    "print(my_tuple.count(1))"
   ]
  },
  {
   "cell_type": "markdown",
   "metadata": {},
   "source": [
    "## Reverse\n",
    "\n",
    "Given a tuple, create a new tuple with the elements reversed."
   ]
  },
  {
   "cell_type": "code",
   "execution_count": 7,
   "metadata": {},
   "outputs": [],
   "source": [
    "my_tuple = (1, 2, 3, 4, 5)"
   ]
  },
  {
   "cell_type": "code",
   "execution_count": 9,
   "metadata": {},
   "outputs": [
    {
     "name": "stdout",
     "output_type": "stream",
     "text": [
      "(5, 4, 3, 2, 1)\n"
     ]
    }
   ],
   "source": [
    "b = my_tuple[::-1]\n",
    "print(b)"
   ]
  },
  {
   "cell_type": "markdown",
   "metadata": {},
   "source": [
    "## Concatenate\n",
    "\n",
    "Given two tuples, create a new tuple by concatenating the elements from the input tuples."
   ]
  },
  {
   "cell_type": "code",
   "execution_count": 10,
   "metadata": {},
   "outputs": [],
   "source": [
    "tuple1 = (1, 2, 3)\n",
    "tuple2 = (4, 5, 6)"
   ]
  },
  {
   "cell_type": "code",
   "execution_count": 11,
   "metadata": {},
   "outputs": [
    {
     "name": "stdout",
     "output_type": "stream",
     "text": [
      "(1, 2, 3, 4, 5, 6)\n"
     ]
    }
   ],
   "source": [
    "a = tuple1 + tuple2\n",
    "print(a)"
   ]
  },
  {
   "cell_type": "markdown",
   "metadata": {},
   "source": [
    "## Min and Max\n",
    "\n",
    "Given a tuple of numbers, find the minimum and maximum values without using the built-in `min()` and `max()` functions."
   ]
  },
  {
   "cell_type": "code",
   "execution_count": 13,
   "metadata": {},
   "outputs": [],
   "source": [
    "my_tuple = (3, 7, 2, 8, 4, 1, 9, 6)"
   ]
  },
  {
   "cell_type": "code",
   "execution_count": 14,
   "metadata": {},
   "outputs": [
    {
     "name": "stdout",
     "output_type": "stream",
     "text": [
      "1\n",
      "9\n"
     ]
    }
   ],
   "source": [
    "print(min(my_tuple))\n",
    "print(max(my_tuple))"
   ]
  },
  {
   "cell_type": "markdown",
   "metadata": {},
   "source": [
    "## Flatten\n",
    "\n",
    "Given a tuple containing tuples, create a new flat tuple with the elements of the nested tuples."
   ]
  },
  {
   "cell_type": "code",
   "execution_count": 18,
   "metadata": {},
   "outputs": [],
   "source": [
    "nested_tuple = ((1, 2), (3, 4), (5, 6))"
   ]
  },
  {
   "cell_type": "code",
   "execution_count": 31,
   "metadata": {},
   "outputs": [
    {
     "name": "stdout",
     "output_type": "stream",
     "text": [
      "(1, 2, 3, 4, 5, 6)\n"
     ]
    }
   ],
   "source": [
    "a = []\n",
    "for i in range(len(nested_tuple)):\n",
    "    a.append(nested_tuple[i])\n",
    "b = tuple(a)    \n",
    "print(b)"
   ]
  },
  {
   "cell_type": "markdown",
   "metadata": {},
   "source": [
    "## Rotation\n",
    "\n",
    "Given a tuple of elements, rotate its elements to the left by the specified number of positions. For example:\n",
    "\n",
    "Input:\n",
    "- (1, 2, 3, 4, 5)\n",
    "- positions = 2\n",
    "\n",
    "Output:\n",
    "- (3, 4, 5, 1, 2)"
   ]
  },
  {
   "cell_type": "code",
   "execution_count": 21,
   "metadata": {},
   "outputs": [
    {
     "name": "stdout",
     "output_type": "stream",
     "text": [
      "(3, 4, 5, 1, 2)\n"
     ]
    }
   ],
   "source": [
    "my_tuple = (1, 2, 3, 4, 5)"
   ]
  },
  {
   "cell_type": "code",
   "execution_count": 33,
   "metadata": {},
   "outputs": [
    {
     "name": "stdout",
     "output_type": "stream",
     "text": [
      "Rotacio: 2\n",
      "(3, 4, 5, 1, 2)\n"
     ]
    }
   ],
   "source": [
    "my_tuple = (1, 2, 3, 4, 5)\n",
    "rot = int(input(\"Rotacio: \"))\n",
    "a = my_tuple[rot:len(my_tuple)] +my_tuple[:rot] \n",
    "print(a)"
   ]
  },
  {
   "cell_type": "markdown",
   "metadata": {},
   "source": [
    "## Student sort\n",
    "\n",
    "Given a tuple of student tuples containing a name and an age, sort the students by age in ascending order. In case of a tie, maintain the original order."
   ]
  },
  {
   "cell_type": "code",
   "execution_count": 34,
   "metadata": {},
   "outputs": [],
   "source": [
    "students = ((\"Alice\", 25), (\"Bob\", 22), (\"Charlie\", 25), (\"David\", 23))"
   ]
  },
  {
   "cell_type": "code",
   "execution_count": 63,
   "metadata": {},
   "outputs": [
    {
     "name": "stdout",
     "output_type": "stream",
     "text": [
      "[('Bob', 22), ('David', 23), ('Alice', 25), ('Charlie', 25)]\n"
     ]
    }
   ],
   "source": [
    "print(sorted(students, key = lambda students:students[1], reverse = False))\n",
    "#a = list(students)\n",
    "#print(a)\n",
    "#for i in range(len(a)):\n",
    "#    for j in range(len(a[i])):\n",
    "#        print(a[i][j])"
   ]
  },
  {
   "cell_type": "markdown",
   "metadata": {},
   "source": [
    "# Bonus"
   ]
  },
  {
   "cell_type": "markdown",
   "metadata": {},
   "source": [
    "## Area\n",
    "\n",
    "Given a tuple of 2D coordinates representing the vertices of a triangle, calculate the area of the triangle."
   ]
  },
  {
   "cell_type": "code",
   "execution_count": 64,
   "metadata": {},
   "outputs": [],
   "source": [
    "vertices = ((1, 1), (4, 1), (4, 5))"
   ]
  },
  {
   "cell_type": "code",
   "execution_count": 77,
   "metadata": {},
   "outputs": [
    {
     "name": "stdout",
     "output_type": "stream",
     "text": [
      "12\n"
     ]
    }
   ],
   "source": [
    "#Area = 1/2[x1(y2 - y3) + x2(y3 - y1) + x3(y1 - y2)]\n",
    "v = ((1, 1), (4, 1), (4, 5)) \n",
    "a = (v[0][0]*(v[1][1] - v[2][1])) + (v[1][0] * (v[2][1] - v[0][1])) + (v[2][0] * (v[0][1] - v[1][1]))\n",
    "print(a)"
   ]
  },
  {
   "cell_type": "markdown",
   "metadata": {},
   "source": [
    "## Two Sum\n",
    "\n",
    "Write a Python program that takes a list of integers and a target integer. It should return all unique pairs of elements in the list that sum up to the target. These pairs should be a tuple.\n",
    "\n",
    "Example: [1, 2, 3, 4, 5], 6  --> [(1, 5), (2, 4)]"
   ]
  },
  {
   "cell_type": "code",
   "execution_count": 88,
   "metadata": {},
   "outputs": [
    {
     "name": "stdout",
     "output_type": "stream",
     "text": [
      "[(1, 5), (2, 4)]\n"
     ]
    }
   ],
   "source": [
    "a = [1, 2, 3, 4, 5], 6\n",
    "b = a[0]\n",
    "c = []\n",
    "for i in range(int(len(b)/2) + 1):\n",
    "    for j in range(len(b)):\n",
    "        if b[i] + b[j] == a[1] and b[i] != b[j]:\n",
    "            c.append((b[i],b[j]))\n",
    "print(c)"
   ]
  },
  {
   "cell_type": "markdown",
   "metadata": {},
   "source": [
    "## Maximum Value\n",
    "\n",
    "Use tuple unpacking to find the maximum value in a list of tuples.\n",
    "\n",
    "Example: [(1, 2), (3, 4), (9, 1), (5, 8)] --> 9"
   ]
  },
  {
   "cell_type": "code",
   "execution_count": 99,
   "metadata": {},
   "outputs": [
    {
     "name": "stdout",
     "output_type": "stream",
     "text": [
      "9\n"
     ]
    }
   ],
   "source": [
    "a = [(1, 2), (3, 4), (9, 1), (5, 8)]\n",
    "maxi = 0\n",
    "for i in range(len(a)):\n",
    "    for j in range(len(a[i])):\n",
    "        if maxi < a[i][j]:\n",
    "               maxi = a[i][j]\n",
    "print(maxi)"
   ]
  },
  {
   "cell_type": "code",
   "execution_count": null,
   "metadata": {},
   "outputs": [],
   "source": []
  }
 ],
 "metadata": {
  "kernelspec": {
   "display_name": "Python 3 (ipykernel)",
   "language": "python",
   "name": "python3"
  },
  "language_info": {
   "codemirror_mode": {
    "name": "ipython",
    "version": 3
   },
   "file_extension": ".py",
   "mimetype": "text/x-python",
   "name": "python",
   "nbconvert_exporter": "python",
   "pygments_lexer": "ipython3",
   "version": "3.11.4"
  },
  "toc": {
   "base_numbering": 1,
   "nav_menu": {},
   "number_sections": true,
   "sideBar": true,
   "skip_h1_title": false,
   "title_cell": "Table of Contents",
   "title_sidebar": "Contents",
   "toc_cell": false,
   "toc_position": {},
   "toc_section_display": true,
   "toc_window_display": false
  },
  "varInspector": {
   "cols": {
    "lenName": 16,
    "lenType": 16,
    "lenVar": 40
   },
   "kernels_config": {
    "python": {
     "delete_cmd_postfix": "",
     "delete_cmd_prefix": "del ",
     "library": "var_list.py",
     "varRefreshCmd": "print(var_dic_list())"
    },
    "r": {
     "delete_cmd_postfix": ") ",
     "delete_cmd_prefix": "rm(",
     "library": "var_list.r",
     "varRefreshCmd": "cat(var_dic_list()) "
    }
   },
   "types_to_exclude": [
    "module",
    "function",
    "builtin_function_or_method",
    "instance",
    "_Feature"
   ],
   "window_display": false
  }
 },
 "nbformat": 4,
 "nbformat_minor": 2
}
