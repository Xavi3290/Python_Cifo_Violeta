{
 "cells": [
  {
   "cell_type": "markdown",
   "metadata": {},
   "source": [
    "# Indexing\n",
    "\n",
    "Use the following list for completing this section's exercises."
   ]
  },
  {
   "cell_type": "code",
   "execution_count": 2,
   "metadata": {},
   "outputs": [],
   "source": [
    "a = [3,4,\"hi\",1, \"bye\"]"
   ]
  },
  {
   "cell_type": "markdown",
   "metadata": {},
   "source": [
    "## First element\n",
    "Extract the first element from a given list."
   ]
  },
  {
   "cell_type": "code",
   "execution_count": 3,
   "metadata": {},
   "outputs": [
    {
     "name": "stdout",
     "output_type": "stream",
     "text": [
      "3\n"
     ]
    }
   ],
   "source": [
    "print(a[0])"
   ]
  },
  {
   "cell_type": "markdown",
   "metadata": {},
   "source": [
    "## Third element\n",
    "Extract the third element from a given list."
   ]
  },
  {
   "cell_type": "code",
   "execution_count": 4,
   "metadata": {},
   "outputs": [
    {
     "name": "stdout",
     "output_type": "stream",
     "text": [
      "hi\n"
     ]
    }
   ],
   "source": [
    "print(a[2])"
   ]
  },
  {
   "cell_type": "markdown",
   "metadata": {},
   "source": [
    "# Last element\n",
    "Extract the last element from a given list."
   ]
  },
  {
   "cell_type": "code",
   "execution_count": 5,
   "metadata": {},
   "outputs": [
    {
     "name": "stdout",
     "output_type": "stream",
     "text": [
      "bye\n"
     ]
    }
   ],
   "source": [
    "print(a[-1])"
   ]
  },
  {
   "cell_type": "markdown",
   "metadata": {},
   "source": [
    "## Second to last\n",
    "Extract the second to last element from a given list."
   ]
  },
  {
   "cell_type": "code",
   "execution_count": 6,
   "metadata": {},
   "outputs": [
    {
     "name": "stdout",
     "output_type": "stream",
     "text": [
      "1\n"
     ]
    }
   ],
   "source": [
    "print(a[-2])"
   ]
  },
  {
   "cell_type": "markdown",
   "metadata": {},
   "source": [
    "# Slicing\n",
    "Make use of list slicing for solving the exercises in this section."
   ]
  },
  {
   "cell_type": "code",
   "execution_count": null,
   "metadata": {},
   "outputs": [],
   "source": []
  },
  {
   "cell_type": "markdown",
   "metadata": {},
   "source": [
    "## First 3\n",
    "Extract the first 3 elements from a given list."
   ]
  },
  {
   "cell_type": "code",
   "execution_count": 8,
   "metadata": {},
   "outputs": [
    {
     "name": "stdout",
     "output_type": "stream",
     "text": [
      "[3, 4, 'hi']\n"
     ]
    }
   ],
   "source": [
    "print(a[0:3])"
   ]
  },
  {
   "cell_type": "markdown",
   "metadata": {},
   "source": [
    "## Second and third\n",
    "Extract the second and third elements from a given list."
   ]
  },
  {
   "cell_type": "code",
   "execution_count": 10,
   "metadata": {},
   "outputs": [
    {
     "name": "stdout",
     "output_type": "stream",
     "text": [
      "[4, 'hi']\n"
     ]
    }
   ],
   "source": [
    "print(a[1:3])"
   ]
  },
  {
   "cell_type": "markdown",
   "metadata": {},
   "source": [
    "## Last two\n",
    "Extract the last two elements from a given list."
   ]
  },
  {
   "cell_type": "code",
   "execution_count": 16,
   "metadata": {},
   "outputs": [
    {
     "name": "stdout",
     "output_type": "stream",
     "text": [
      "[1, 'bye']\n"
     ]
    }
   ],
   "source": [
    "print(a[3:5])"
   ]
  },
  {
   "cell_type": "markdown",
   "metadata": {},
   "source": [
    "## First half\n",
    "\n",
    "Extract the first half of elements from a given list. Round down if there is an odd number of elements.\n",
    "\n",
    "Examples:\n",
    "- [1, 2, 3, 4] --> [1, 2]\n",
    "- [1, 2, 3] --> [1]\n",
    "- [1, 2, 3, 4, 5] --> [1, 2]"
   ]
  },
  {
   "cell_type": "code",
   "execution_count": 22,
   "metadata": {},
   "outputs": [
    {
     "name": "stdout",
     "output_type": "stream",
     "text": [
      "[1, 2]\n"
     ]
    }
   ],
   "source": [
    "a = [ 1, 2, 3, 4, 5]\n",
    "print(a[: int(len(a)/2)])"
   ]
  },
  {
   "cell_type": "markdown",
   "metadata": {},
   "source": [
    "## Odd-indexes\n",
    "Extract all odd-indexed elements from a given list.\n",
    "\n",
    "Example: [1, 2, 3, 4, 5, 5, 6, 7, 8, 9] --> [2, 4, 5, 7, 9]"
   ]
  },
  {
   "cell_type": "code",
   "execution_count": 61,
   "metadata": {},
   "outputs": [
    {
     "name": "stdout",
     "output_type": "stream",
     "text": [
      "2\n",
      "4\n",
      "5\n",
      "7\n",
      "9\n",
      "[2, 4, 5, 7, 9]\n"
     ]
    }
   ],
   "source": [
    "a = [1, 2, 3, 4, 5, 5, 6, 7, 8, 9]\n",
    "for index, value in enumerate(a):\n",
    "    if index % 2 == 1:\n",
    "        print(value)\n",
    "a = a[1:len(a):2]\n",
    "print(a)"
   ]
  },
  {
   "cell_type": "markdown",
   "metadata": {},
   "source": [
    "## Third elements\n",
    "Create a list with every third element of a given list.\n",
    "\n",
    "Example: [1, 2, 3, 4, 5, 5, 6, 7, 8, 9] --> [3, 5, 8]"
   ]
  },
  {
   "cell_type": "code",
   "execution_count": 59,
   "metadata": {},
   "outputs": [
    {
     "name": "stdout",
     "output_type": "stream",
     "text": [
      "[3, 5, 8]\n",
      "[3, 5, 8]\n"
     ]
    }
   ],
   "source": [
    "a = [1, 2, 3, 4, 5, 5, 6, 7, 8, 9]\n",
    "b = []\n",
    "for index, value in enumerate(a):\n",
    "    if index % 3 == 2:\n",
    "        b.append(value)\n",
    "print(b)\n",
    "a = [1, 2, 3, 4, 5, 5, 6, 7, 8, 9]\n",
    "a = a[2:len(a):3]\n",
    "print(a)"
   ]
  },
  {
   "cell_type": "markdown",
   "metadata": {},
   "source": [
    "## Swap halves\n",
    "Swap the first and second halves of a list.\n",
    "\n",
    "Example: ['Python', 'is', 'so', 'good'] --> ['so', 'good', 'Python', 'is']"
   ]
  },
  {
   "cell_type": "code",
   "execution_count": 52,
   "metadata": {},
   "outputs": [
    {
     "name": "stdout",
     "output_type": "stream",
     "text": [
      "['so', 'good', 'Python', 'is']\n",
      "['so', 'good', 'Python', 'is']\n"
     ]
    }
   ],
   "source": [
    "a = [\"Python\", \"is\", \"so\", \"good\"]\n",
    "b = []\n",
    "i = 0\n",
    "while i < int(len(a) / 2):\n",
    "    b.append(a[i])\n",
    "    i += 1\n",
    "i = 0\n",
    "while i < int(len(a) / 2 + 1):\n",
    "    del a[0]\n",
    "    i += 1\n",
    "a.extend(b)\n",
    "print(a)\n",
    "a = [\"Python\", \"is\", \"so\", \"good\"]\n",
    "a = a[int((len(a)/2)):len(a)] + a[0:int((len(a)/2))]\n",
    "print(a)\n"
   ]
  },
  {
   "cell_type": "markdown",
   "metadata": {},
   "source": [
    "## Reverse\n",
    "Reverse the order of the elements of a given list.\n",
    "\n",
    "Example: [1, 2, 3, 4] --> [4, 3, 2, 1]"
   ]
  },
  {
   "cell_type": "code",
   "execution_count": 36,
   "metadata": {},
   "outputs": [
    {
     "name": "stdout",
     "output_type": "stream",
     "text": [
      "[4, 3, 2, 1]\n",
      "[4, 3, 2, 1]\n"
     ]
    }
   ],
   "source": [
    "a = [1, 2, 3, 4]\n",
    "print(a[::-1])\n",
    "a.reverse()\n",
    "print(a)"
   ]
  },
  {
   "cell_type": "markdown",
   "metadata": {},
   "source": [
    "## Every other\n",
    "Create a new list that contains every other element, starting with the second element, of a given list.\n",
    "\n",
    "Example: ['apple', 'banana', 'cherry', 'date', 'fig', 'grape'] --> ['banana', 'date', 'grape']"
   ]
  },
  {
   "cell_type": "code",
   "execution_count": 55,
   "metadata": {},
   "outputs": [
    {
     "name": "stdout",
     "output_type": "stream",
     "text": [
      "['banana', 'date', 'grape']\n",
      "['banana', 'date', 'grape']\n"
     ]
    }
   ],
   "source": [
    "fruits = [\"apple\", \"banana\", \"cherry\", \"date\", \"fig\", \"grape\"]\n",
    "new_fruits = []\n",
    "for index, value in enumerate(fruits):\n",
    "    if index % 2 == 1:\n",
    "          new_fruits.append(value)\n",
    "print(new_fruits)\n",
    "fruits = [\"apple\", \"banana\", \"cherry\", \"date\", \"fig\", \"grape\"]\n",
    "fruits = fruits[1:len(fruits):2]\n",
    "print(fruits)"
   ]
  },
  {
   "cell_type": "markdown",
   "metadata": {},
   "source": [
    "## Rotation\n",
    "Rotate a list by a specified number of positions (user input) to the left.\n",
    "\n",
    "Example: [1, 2, 3, 4, 5] with 3 positions rotation --> [4, 5, 1, 2, 3]"
   ]
  },
  {
   "cell_type": "code",
   "execution_count": 53,
   "metadata": {},
   "outputs": [
    {
     "name": "stdout",
     "output_type": "stream",
     "text": [
      "rotation numbers: 3\n",
      "[4, 5, 1, 2, 3]\n"
     ]
    }
   ],
   "source": [
    "a = [1, 2, 3, 4, 5]\n",
    "rot = int(input(\"rotation numbers: \"))\n",
    "a = a[rot:len(a)] + a[0:rot]\n",
    "print(a)\n",
    "    \n"
   ]
  },
  {
   "cell_type": "markdown",
   "metadata": {},
   "source": [
    "# Loops basics\n",
    "\n",
    "Solve the following exercises using lists and `for` or `while` statements. Feel free to use list comprehension whenever you consider it appropriate."
   ]
  },
  {
   "cell_type": "markdown",
   "metadata": {},
   "source": [
    "## First numbers\n",
    "Print the numbers from 1 to 10."
   ]
  },
  {
   "cell_type": "code",
   "execution_count": 66,
   "metadata": {},
   "outputs": [
    {
     "name": "stdout",
     "output_type": "stream",
     "text": [
      "1\n",
      "2\n",
      "3\n",
      "4\n",
      "5\n",
      "6\n",
      "7\n",
      "8\n",
      "9\n",
      "10\n"
     ]
    }
   ],
   "source": [
    "for i in range(10):\n",
    "    print(i + 1)"
   ]
  },
  {
   "cell_type": "markdown",
   "metadata": {},
   "source": [
    "## Even numbers\n",
    "Create a list of the first 100 even numbers."
   ]
  },
  {
   "cell_type": "code",
   "execution_count": 73,
   "metadata": {},
   "outputs": [
    {
     "name": "stdout",
     "output_type": "stream",
     "text": [
      "[1, 2, 3, 4, 5, 6, 7, 8, 9, 10, 11, 12, 13, 14, 15, 16, 17, 18, 19, 20, 21, 22, 23, 24, 25, 26, 27, 28, 29, 30, 31, 32, 33, 34, 35, 36, 37, 38, 39, 40, 41, 42, 43, 44, 45, 46, 47, 48, 49, 50, 51, 52, 53, 54, 55, 56, 57, 58, 59, 60, 61, 62, 63, 64, 65, 66, 67, 68, 69, 70, 71, 72, 73, 74, 75, 76, 77, 78, 79, 80, 81, 82, 83, 84, 85, 86, 87, 88, 89, 90, 91, 92, 93, 94, 95, 96, 97, 98, 99, 100]\n"
     ]
    }
   ],
   "source": [
    "a = []\n",
    "for  i in range(100):\n",
    "    a.append(i + 1)\n",
    "print(a)\n",
    "    "
   ]
  },
  {
   "cell_type": "markdown",
   "metadata": {},
   "source": [
    "## Count element\n",
    "Given a list of numbers, ask the user to select a specific number to count from the list. Count all instances of the selected element from the list.\n",
    "\n",
    "Example: [1, 2, 3, 4, 3, 5, 3, 3] and user input is 3 --> 4"
   ]
  },
  {
   "cell_type": "code",
   "execution_count": 67,
   "metadata": {},
   "outputs": [
    {
     "name": "stdout",
     "output_type": "stream",
     "text": [
      "num: 3\n",
      "4\n"
     ]
    }
   ],
   "source": [
    "a = [1, 2, 3, 4, 3, 5, 3, 3]\n",
    "find = int(input(\"num: \"))\n",
    "print(a.count(3))"
   ]
  },
  {
   "cell_type": "markdown",
   "metadata": {},
   "source": [
    "## Remove element\n",
    "Given a list of numbers, ask the user to select a specific number to remove from the list. Remove all instances of the selected element from the list.\n",
    "\n",
    "Example: [1, 2, 3, 4, 3, 5, 3, 3] and user input is 3 --> [1, 2, 4, 5]"
   ]
  },
  {
   "cell_type": "code",
   "execution_count": 77,
   "metadata": {},
   "outputs": [
    {
     "name": "stdout",
     "output_type": "stream",
     "text": [
      "Remove: 3\n",
      "[1, 2, 4, 5]\n"
     ]
    }
   ],
   "source": [
    "a = [1, 2, 3, 4, 3, 5, 3, 3]\n",
    "rem = int(input(\"Remove: \")) \n",
    "for i in range(a.count(rem)):\n",
    "    a.remove(rem)\n",
    "print(a)"
   ]
  },
  {
   "cell_type": "markdown",
   "metadata": {},
   "source": [
    "## Reverse\n",
    "Write a program that reverses the elements of a list.\n",
    "\n",
    "Example: [1, 4, 3, 4, 5] --> [5, 4, 3, 4, 1]"
   ]
  },
  {
   "cell_type": "code",
   "execution_count": 78,
   "metadata": {},
   "outputs": [
    {
     "name": "stdout",
     "output_type": "stream",
     "text": [
      "[5, 4, 3, 4, 1]\n"
     ]
    }
   ],
   "source": [
    "a = [1, 4, 3, 4, 5]\n",
    "a.reverse()\n",
    "print(a)"
   ]
  },
  {
   "cell_type": "markdown",
   "metadata": {},
   "source": [
    "# Functions\n",
    "Solve the exercises in this section by using Python's built-in functions. For the exercises involving numbers, you can use the following variable."
   ]
  },
  {
   "cell_type": "code",
   "execution_count": null,
   "metadata": {},
   "outputs": [],
   "source": []
  },
  {
   "cell_type": "markdown",
   "metadata": {},
   "source": [
    "## Min, Max\n",
    "Find the minimum and the maximum numbers in the list."
   ]
  },
  {
   "cell_type": "code",
   "execution_count": 79,
   "metadata": {},
   "outputs": [
    {
     "name": "stdout",
     "output_type": "stream",
     "text": [
      "5\n",
      "1\n"
     ]
    }
   ],
   "source": [
    "a = [1,2,3,4,5]\n",
    "print(max(a))\n",
    "print(min(a))"
   ]
  },
  {
   "cell_type": "markdown",
   "metadata": {},
   "source": [
    "## Sum\n",
    "Find the sum of all elements in the list."
   ]
  },
  {
   "cell_type": "code",
   "execution_count": 82,
   "metadata": {},
   "outputs": [
    {
     "name": "stdout",
     "output_type": "stream",
     "text": [
      "3.0\n"
     ]
    }
   ],
   "source": [
    "print(sum(a))"
   ]
  },
  {
   "cell_type": "markdown",
   "metadata": {},
   "source": [
    "## Mean\n",
    "Find the mean of the elements in the list."
   ]
  },
  {
   "cell_type": "code",
   "execution_count": 83,
   "metadata": {},
   "outputs": [
    {
     "name": "stdout",
     "output_type": "stream",
     "text": [
      "3.0\n"
     ]
    }
   ],
   "source": [
    "print(sum(a)/len(a))"
   ]
  },
  {
   "cell_type": "markdown",
   "metadata": {},
   "source": [
    "## Sort\n",
    "Sort the elements in the list without modifying it."
   ]
  },
  {
   "cell_type": "code",
   "execution_count": 89,
   "metadata": {},
   "outputs": [
    {
     "name": "stdout",
     "output_type": "stream",
     "text": [
      "[1, 2, 3, 5, 6, 8]\n"
     ]
    }
   ],
   "source": [
    "a = [3,2,1,6,5,8]\n",
    "a.sort()\n",
    "print(a)"
   ]
  },
  {
   "cell_type": "markdown",
   "metadata": {},
   "source": [
    "## String concatenation\n",
    "Given a list of strings, concatenate (join) all the elements in the list."
   ]
  },
  {
   "cell_type": "code",
   "execution_count": 90,
   "metadata": {},
   "outputs": [],
   "source": [
    "strings = ['I', ' ', 'like', ' Python', '!']"
   ]
  },
  {
   "cell_type": "code",
   "execution_count": 98,
   "metadata": {},
   "outputs": [
    {
     "name": "stdout",
     "output_type": "stream",
     "text": [
      "I like Python!\n"
     ]
    }
   ],
   "source": [
    "print(\"\".join(strings))"
   ]
  },
  {
   "cell_type": "markdown",
   "metadata": {},
   "source": [
    "# A bit more complex"
   ]
  },
  {
   "cell_type": "markdown",
   "metadata": {},
   "source": [
    "## FizzBuzz\n",
    "\n",
    "Write a program that prints numbers from 1 to 10. For multiples of 3, print \"Fizz\" instead of the number, and for multiples of 5, print \"Buzz\". For numbers that are multiples of both 3 and 5, print \"FizzBuzz\".\n",
    "\n",
    "Example: 1, 2, Fizz, 4, Buzz, ..."
   ]
  },
  {
   "cell_type": "code",
   "execution_count": 101,
   "metadata": {},
   "outputs": [
    {
     "name": "stdout",
     "output_type": "stream",
     "text": [
      "1\n",
      "2\n",
      "Fizz\n",
      "4\n",
      "Buzz\n",
      "Fizz\n",
      "7\n",
      "8\n",
      "Fizz\n",
      "Buzz\n",
      "11\n",
      "Fizz\n",
      "13\n",
      "14\n",
      "FizzBuzz\n"
     ]
    }
   ],
   "source": [
    "for i in range(15):\n",
    "    if (i + 1) % 3 == 0 and (i + 1) % 5 == 0:\n",
    "        print(\"FizzBuzz\")\n",
    "    elif (i + 1) % 3 == 0:\n",
    "        print(\"Fizz\")\n",
    "    elif (i + 1) % 5 == 0:\n",
    "        print(\"Buzz\")\n",
    "    else:\n",
    "        print(i + 1)"
   ]
  },
  {
   "cell_type": "markdown",
   "metadata": {},
   "source": [
    "## Flatten\n",
    "Write a program that flattens a nested list using loops.\n",
    "\n",
    "Example: [[1, 2, 3], [4, 5], [6, 7, 8, 9]] --> [1, 2, 3, 4, 5, 6, 7, 8, 9]"
   ]
  },
  {
   "cell_type": "code",
   "execution_count": 110,
   "metadata": {},
   "outputs": [
    {
     "name": "stdout",
     "output_type": "stream",
     "text": [
      "[1, 2, 3, 4, 5, 6, 7, 8, 9]\n"
     ]
    }
   ],
   "source": [
    "a = [[1,2,3],[4,5], [6,7,8,9]]\n",
    "b = []\n",
    "for i in a:\n",
    "    for x in i:\n",
    "        b.append(x)\n",
    "print(b)"
   ]
  },
  {
   "cell_type": "markdown",
   "metadata": {},
   "source": [
    "## Common elements\n",
    "\n",
    "Write a program that finds the common elements between two lists with the same length.\n",
    "\n",
    "Input:\n",
    "- list1 = [1, 2, 3, 4, 5]\n",
    "- list2 = [4, 5, 6, 7, 8]\n",
    "\n",
    "Output:\n",
    "- common_elements = [4, 5]"
   ]
  },
  {
   "cell_type": "code",
   "execution_count": 111,
   "metadata": {},
   "outputs": [
    {
     "name": "stdout",
     "output_type": "stream",
     "text": [
      "[4, 5]\n"
     ]
    }
   ],
   "source": [
    "list1 = [1, 2, 3, 4, 5]\n",
    "list2 = [4, 5, 6, 7, 8]\n",
    "common = []\n",
    "for i in list1:\n",
    "    for j in list2:\n",
    "        if i == j:\n",
    "            common.append(i)\n",
    "print(common)"
   ]
  },
  {
   "cell_type": "markdown",
   "metadata": {},
   "source": [
    "## Guess the number\n",
    "\n",
    "Write a program that generates a random number between 1 and 100, and then asks the user to guess the number. The program should provide hints like \"Too high\" or \"Too low\" until the user correctly guesses the number."
   ]
  },
  {
   "cell_type": "code",
   "execution_count": 115,
   "metadata": {},
   "outputs": [
    {
     "name": "stdout",
     "output_type": "stream",
     "text": [
      "Adivina el numero: 50\n",
      "too high\n",
      "Adivina el numero: 25\n",
      "too high\n",
      "Adivina el numero: 13\n",
      "Too low\n",
      "Adivina el numero: 19\n",
      "Too low\n",
      "Adivina el numero: 22\n",
      "Encertat\n"
     ]
    }
   ],
   "source": [
    "import random\n",
    "num = random.randint(1,101)\n",
    "guess = int(input(\"Adivina el numero: \"))\n",
    "while guess != num:   \n",
    "    if guess < num:\n",
    "        print(\"Too low\")\n",
    "        guess = int(input(\"Adivina el numero: \"))\n",
    "    else:\n",
    "        print(\"too high\")\n",
    "        guess = int(input(\"Adivina el numero: \"))\n",
    "if guess == num:\n",
    "        print(\"Encertat\")"
   ]
  },
  {
   "cell_type": "markdown",
   "metadata": {},
   "source": [
    "# Palindrome\n",
    "\n",
    "Write a program that checks if a given word is a palindrome (a word that reads the same backward as forward).\n",
    "\n",
    "Examples:\n",
    "- 'ABBA' --> True.\n",
    "- 'a' --> True.\n",
    "- 'Python' --> False.\n",
    "- 'non' --> True.\n",
    "- 'none' --> False."
   ]
  },
  {
   "cell_type": "code",
   "execution_count": 8,
   "metadata": {},
   "outputs": [
    {
     "name": "stdout",
     "output_type": "stream",
     "text": [
      "True\n"
     ]
    }
   ],
   "source": [
    "w = 'ABBA'\n",
    "b = w[::-1]\n",
    "print(w == b)"
   ]
  },
  {
   "cell_type": "code",
   "execution_count": 134,
   "metadata": {},
   "outputs": [
    {
     "name": "stdout",
     "output_type": "stream",
     "text": [
      "True\n"
     ]
    }
   ],
   "source": [
    "a = \"a\"\n",
    "i = 0\n",
    "j = len(a)\n",
    "is_palindrome = True\n",
    "while i < j:\n",
    "    if a[i] != a[j - 1]:\n",
    "        is_palindrome = False\n",
    "        break\n",
    "    i += 1\n",
    "    j -= 1\n",
    "print(is_palindrome)"
   ]
  },
  {
   "cell_type": "markdown",
   "metadata": {},
   "source": [
    "## Triangle\n",
    "Print a right-aligned triangle pattern with a specified height.\n",
    "\n",
    "Example:\n",
    "- Height = 5"
   ]
  },
  {
   "cell_type": "code",
   "execution_count": 51,
   "metadata": {},
   "outputs": [
    {
     "name": "stdout",
     "output_type": "stream",
     "text": [
      "     \n",
      "    n\n",
      "   nn\n",
      "  nnn\n",
      " nnnn\n",
      "nnnnn\n"
     ]
    }
   ],
   "source": [
    "n = 6\n",
    "for i in range(n):\n",
    "    print(\" \" * (n - i -1) + \"n\" * i)\n",
    "        "
   ]
  },
  {
   "cell_type": "code",
   "execution_count": null,
   "metadata": {},
   "outputs": [],
   "source": []
  },
  {
   "cell_type": "markdown",
   "metadata": {},
   "source": [
    "# Fibonacci\n",
    "\n",
    "Write a program that, given an integer n, generates the first n numbers of the Fibonacci sequence.\n",
    "\n",
    "Example: 10 --> [0, 1, 1, 2, 3, 5, 8, 13, 21, 34]"
   ]
  },
  {
   "cell_type": "code",
   "execution_count": 65,
   "metadata": {},
   "outputs": [
    {
     "name": "stdout",
     "output_type": "stream",
     "text": [
      "fibonacci de: 8\n",
      "[0, 1, 1, 2, 3, 5, 8, 13]\n"
     ]
    }
   ],
   "source": [
    "i = 0\n",
    "result = []\n",
    "num = 0\n",
    "n = int(input(\"fibonacci de: \"))\n",
    "while i < n:    \n",
    "    if i == 0:\n",
    "        result.append(num)\n",
    "    elif i == 1:\n",
    "        result.append(1)\n",
    "    else:\n",
    "        result.append(result[i - 2] + result[i - 1])\n",
    "    i+=1\n",
    "print(result)"
   ]
  },
  {
   "cell_type": "markdown",
   "metadata": {},
   "source": [
    "## No duplicates\n",
    "Given a list, create a new list that contains the same elements but without any duplicates, while keeping the original order.\n",
    "\n",
    "Example:\n",
    "- [1, 2, 3, 2, 4, 5, 4, 6, 7, 5, 8, 9, 8] --> [1, 2, 3, 4, 5, 6, 7, 8, 9]"
   ]
  },
  {
   "cell_type": "code",
   "execution_count": 102,
   "metadata": {},
   "outputs": [
    {
     "name": "stdout",
     "output_type": "stream",
     "text": [
      "[1, 2, 3, 4, 5, 6, 7, 8, 9]\n"
     ]
    }
   ],
   "source": [
    "a = [1, 2, 3, 2, 4, 5, 4, 6, 7, 5, 8, 9, 8]\n",
    "b = a[::-1].copy()\n",
    "leng = len(b)\n",
    "i = 0\n",
    "while i < leng:\n",
    "    j = 0\n",
    "    while j < b.count(b[i]):\n",
    "        if b.count(b[i]) != 1:\n",
    "            b.remove(b[i])\n",
    "            leng -= 1\n",
    "        j += 1\n",
    "    i += 1      \n",
    "a = b[::-1].copy()\n",
    "print(a)"
   ]
  },
  {
   "cell_type": "markdown",
   "metadata": {},
   "source": [
    "## Square\n",
    "For a given size, print a square pattern (size x size) with alternating Xs and Os characters.\n",
    "\n",
    "Example:\n",
    "- Size = 5\n",
    "\n",
    "XOXOX\n",
    "\n",
    "OXOXO\n",
    "\n",
    "XOXOX\n",
    "\n",
    "OXOXO\n",
    "\n",
    "XOXOX"
   ]
  },
  {
   "cell_type": "code",
   "execution_count": 111,
   "metadata": {},
   "outputs": [
    {
     "name": "stdout",
     "output_type": "stream",
     "text": [
      "Size:5\n",
      "xxxxxxxx\n",
      "xxxxxxxx\n",
      "xxxxxxxx\n",
      "xxxxxxxx\n",
      "xxxxxxxx\n"
     ]
    }
   ],
   "source": [
    "size = int(input(\"Size:\"))\n",
    "i = 0\n",
    "while i < size:\n",
    "    j = 0\n",
    "    while j < n:\n",
    "        print(\"x\", end=\"\")\n",
    "        j += 1\n",
    "    print(\"\")\n",
    "    i += 1"
   ]
  },
  {
   "cell_type": "markdown",
   "metadata": {},
   "source": [
    "## Password\n",
    "\n",
    "Write a Python program that takes a password as input and checks its strength based on the following conditions:\n",
    "\n",
    "Length must be at least 8 characters.\n",
    "- Must contain at least one uppercase letter.\n",
    "- Must contain at least one number.\n",
    "- Must contain at least one special character (e.g., !, @, #, $, etc.).\n",
    "\n",
    "Print out whether the password is \"Weak\", \"Moderate\", or \"Strong\" based on how many of these conditions it meets."
   ]
  },
  {
   "cell_type": "code",
   "execution_count": null,
   "metadata": {},
   "outputs": [],
   "source": []
  },
  {
   "cell_type": "markdown",
   "metadata": {},
   "source": [
    "## Primes\n",
    "Create a list of every prime number between 1 and 50."
   ]
  },
  {
   "cell_type": "code",
   "execution_count": null,
   "metadata": {},
   "outputs": [],
   "source": []
  },
  {
   "cell_type": "markdown",
   "metadata": {},
   "source": [
    "## Password\n",
    "\n",
    "Write a Python program that takes a password as input and checks its strength based on the following conditions:\n",
    "\n",
    "Length must be at least 8 characters.\n",
    "- Must contain at least one uppercase letter.\n",
    "- Must contain at least one number.\n",
    "- Must contain at least one special character (e.g., !, @, #, $, etc.).\n",
    "\n",
    "Print out whether the password is \"Weak\", \"Moderate\", or \"Strong\" based on how many of these conditions it meets."
   ]
  },
  {
   "cell_type": "code",
   "execution_count": null,
   "metadata": {},
   "outputs": [],
   "source": []
  },
  {
   "cell_type": "markdown",
   "metadata": {},
   "source": [
    "# Bonus"
   ]
  },
  {
   "cell_type": "markdown",
   "metadata": {},
   "source": [
    "## Price Alert\n",
    "\n",
    "\n",
    "Write a program that simulates stock price monitoring. You are given a list of stock prices (floats). The program should alert (and break) when the stock price has increased by 10% compared to the first price. It should also alert (and break) if the stock has decreased by 10% compared to the first price."
   ]
  },
  {
   "cell_type": "code",
   "execution_count": null,
   "metadata": {},
   "outputs": [],
   "source": [
    "stock_prices = [100.0, 105.0, 98.0, 110.0, 95.0, 90.5, 89.0, 115.0]"
   ]
  },
  {
   "cell_type": "code",
   "execution_count": null,
   "metadata": {},
   "outputs": [],
   "source": []
  },
  {
   "cell_type": "markdown",
   "metadata": {},
   "source": [
    "## Date Validator\n",
    "\n",
    "Create a program that validates a list of dates. Each date is in the format YYYY-MM-DD. For each date, it should print if it is \"Valid\" or \"Invalid\" if the date does not adhere to these rules:\n",
    "\n",
    "- Year must be between 1900 and 2100.\n",
    "- Month must be between 1 and 12.\n",
    "- Day must be valid according to the month (don't forget about leap years for February)."
   ]
  },
  {
   "cell_type": "code",
   "execution_count": null,
   "metadata": {},
   "outputs": [],
   "source": [
    "date_list = [\n",
    "    '2022-02-30', '1800-05-21', '2020-04-31', '2024-02-29',\n",
    "    '2000-12-31', '2100-11-31', '1900-01-01', '2024-06-31',\n",
    "    '2025-02-28', '1987-11-31', '1996-02-29', '2001-04-31'\n",
    "]"
   ]
  },
  {
   "cell_type": "code",
   "execution_count": null,
   "metadata": {},
   "outputs": [],
   "source": []
  },
  {
   "cell_type": "markdown",
   "metadata": {},
   "source": [
    "## Strings format\n",
    "\n",
    "Write a program that accepts a list of strings and transforms each one as follows:\n",
    "- Replace every 'a' with '@'.\n",
    "- Delete every vowel.\n",
    "- Replace every ' ' (space) with '_'.\n",
    "\n",
    "Use a loop for iterating over all the characters in a string. Do not use specific string functions such as `replace`."
   ]
  },
  {
   "cell_type": "code",
   "execution_count": null,
   "metadata": {},
   "outputs": [],
   "source": [
    "text_list = ['apple', 'banana', 'cherry']"
   ]
  },
  {
   "cell_type": "code",
   "execution_count": null,
   "metadata": {},
   "outputs": [],
   "source": []
  },
  {
   "cell_type": "markdown",
   "metadata": {},
   "source": [
    "# Sieve of Eratosthenes\n",
    "Print the first 100 prime numbers by implementing the [sieve of Erathostenes](https://en.wikipedia.org/wiki/Sieve_of_Eratosthenes) algorithm."
   ]
  },
  {
   "cell_type": "code",
   "execution_count": null,
   "metadata": {},
   "outputs": [],
   "source": []
  },
  {
   "cell_type": "markdown",
   "metadata": {},
   "source": [
    "Explanation: This implementation first creates a list of numbers from 2 to 100. Then, it iteratively selects the smallest number (which is prime) from the list and removes all its multiples from the list. This process is repeated until no more numbers are left in the list."
   ]
  },
  {
   "cell_type": "markdown",
   "metadata": {},
   "source": [
    "## Diamond\n",
    "Print a diamond pattern with a specified character and height.\n",
    "\n",
    "Example:\n",
    "- Height = 5"
   ]
  },
  {
   "cell_type": "code",
   "execution_count": null,
   "metadata": {},
   "outputs": [
    {
     "name": "stdout",
     "output_type": "stream",
     "text": [
      "    n\n",
      "   nnn\n",
      "  nnnnn\n",
      " nnnnnnn\n",
      "nnnnnnnnn\n",
      " nnnnnnn\n",
      "  nnnnn\n",
      "   nnn\n",
      "    n\n"
     ]
    }
   ],
   "source": []
  },
  {
   "cell_type": "code",
   "execution_count": null,
   "metadata": {},
   "outputs": [],
   "source": []
  },
  {
   "cell_type": "markdown",
   "metadata": {},
   "source": [
    "## Insertion sort\n",
    "\n",
    "Write a program for sorting a list with the [insertion sort](https://en.wikipedia.org/wiki/Insertion_sort#:~:text=Insertion%20sort%20is%20a%20simple,%2C%20heapsort%2C%20or%20merge%20sort.) algorithm."
   ]
  },
  {
   "cell_type": "code",
   "execution_count": null,
   "metadata": {},
   "outputs": [],
   "source": []
  },
  {
   "cell_type": "markdown",
   "metadata": {},
   "source": [
    "## Caesar cipher\n",
    "\n",
    "Write a program that encrypts a given text using the Caesar cipher with a given shift value. That is, each character in a string is replaced by the character that is \"shift\" steps from it. For example, the character a\" with a shift of 1 becomes \"b\". With a shift of 2 it would become \"c\". In case you are calculating the shift and you reach \"z\", you have to keep counting starting again from \"a\". It could be useful to use \"ord\" and \"chr\" built-in functions. For simplicity, you can assume the text is written in lowercase. Example:\n",
    "\n",
    "Input 1:\n",
    "\n",
    "- text = \"hello\"\n",
    "- shift = 3\n",
    "\n",
    "Output 1:\n",
    "\n",
    "- \"khoor\"\n",
    "\n",
    "Input 2:\n",
    "\n",
    "- text = \"zoo\"\n",
    "- shift = 5\n",
    "\n",
    "Output 2:\n",
    "\n",
    "- \"ett\""
   ]
  },
  {
   "cell_type": "code",
   "execution_count": null,
   "metadata": {},
   "outputs": [],
   "source": []
  },
  {
   "cell_type": "markdown",
   "metadata": {},
   "source": [
    "## Longest increasing subsequence\n",
    "Find the longest subsequence of increasing numbers in a list.\n",
    "\n",
    "Example:\n",
    "- [1, 2, 1, 2, 3, 1, 2, 3, 4, 2] --> [1, 2, 3, 4]"
   ]
  },
  {
   "cell_type": "code",
   "execution_count": null,
   "metadata": {},
   "outputs": [],
   "source": []
  }
 ],
 "metadata": {
  "kernelspec": {
   "display_name": "Python 3 (ipykernel)",
   "language": "python",
   "name": "python3"
  },
  "language_info": {
   "codemirror_mode": {
    "name": "ipython",
    "version": 3
   },
   "file_extension": ".py",
   "mimetype": "text/x-python",
   "name": "python",
   "nbconvert_exporter": "python",
   "pygments_lexer": "ipython3",
   "version": "3.11.4"
  },
  "toc": {
   "base_numbering": 1,
   "nav_menu": {},
   "number_sections": true,
   "sideBar": true,
   "skip_h1_title": false,
   "title_cell": "Table of Contents",
   "title_sidebar": "Contents",
   "toc_cell": false,
   "toc_position": {},
   "toc_section_display": true,
   "toc_window_display": false
  },
  "varInspector": {
   "cols": {
    "lenName": 16,
    "lenType": 16,
    "lenVar": 40
   },
   "kernels_config": {
    "python": {
     "delete_cmd_postfix": "",
     "delete_cmd_prefix": "del ",
     "library": "var_list.py",
     "varRefreshCmd": "print(var_dic_list())"
    },
    "r": {
     "delete_cmd_postfix": ") ",
     "delete_cmd_prefix": "rm(",
     "library": "var_list.r",
     "varRefreshCmd": "cat(var_dic_list()) "
    }
   },
   "types_to_exclude": [
    "module",
    "function",
    "builtin_function_or_method",
    "instance",
    "_Feature"
   ],
   "window_display": false
  }
 },
 "nbformat": 4,
 "nbformat_minor": 2
}
