{
 "cells": [
  {
   "cell_type": "markdown",
   "metadata": {},
   "source": [
    "# Bond, James Bond\n",
    "Write a program that asks for the user's name, if the name is \"Bond\" make it print \"Welcome on board 007.\" Otherwise make it print \"Good morning [name]\"."
   ]
  },
  {
   "cell_type": "code",
   "execution_count": 3,
   "metadata": {},
   "outputs": [
    {
     "name": "stdout",
     "output_type": "stream",
     "text": [
      "Name: Bond\n",
      "Welcome on board 007\n"
     ]
    }
   ],
   "source": [
    "name = input(\"Name: \")\n",
    "if name == \"Bond\":\n",
    "    print(\"Welcome on board 007\")\n",
    "else:\n",
    "    print(f\"Good morning {name}\")"
   ]
  },
  {
   "cell_type": "markdown",
   "metadata": {},
   "source": [
    "# Password\n",
    "Write a program that asks the user to enter a password. If the password is \"Python\", the program should print \"Access granted.\" If the password is anything else, the program should print \"Access denied.\""
   ]
  },
  {
   "cell_type": "code",
   "execution_count": 5,
   "metadata": {},
   "outputs": [
    {
     "name": "stdout",
     "output_type": "stream",
     "text": [
      "Password: Python\n",
      "Access granted\n"
     ]
    }
   ],
   "source": [
    "passw = input(\"Password: \")\n",
    "if passw == \"Python\":\n",
    "    print(\"Access granted\")\n",
    "else:\n",
    "    print(\"Access denied\")"
   ]
  },
  {
   "cell_type": "markdown",
   "metadata": {},
   "source": [
    "# Greater number\n",
    "Write a program that asks the user for two numbers and then prints: \"[x] is greater than [y].\" or \"Both numbers are equal.\"."
   ]
  },
  {
   "cell_type": "code",
   "execution_count": 8,
   "metadata": {},
   "outputs": [
    {
     "name": "stdout",
     "output_type": "stream",
     "text": [
      "Primer num: 3\n",
      "Segon num: 7\n"
     ]
    }
   ],
   "source": [
    "x = input(\"Primer num: \")\n",
    "y = input(\"Segon num: \")\n",
    "if x > y:\n",
    "    print(f\"{x} is greater than {y}\")\n",
    "elif x == y:\n",
    "    print(\"Both numbers are equal\")"
   ]
  },
  {
   "cell_type": "markdown",
   "metadata": {},
   "source": [
    "# In range\n",
    "\n",
    "Write a program that takes a number as input and checks if the number is within the range of 1 to 100 (inclusive). If it's within the range, print \"Number [num] is within the range,\" else print \"Number [num] is outside the range."
   ]
  },
  {
   "cell_type": "code",
   "execution_count": 10,
   "metadata": {},
   "outputs": [
    {
     "name": "stdout",
     "output_type": "stream",
     "text": [
      "Número: 3\n",
      "Number 3 is within the range\n"
     ]
    }
   ],
   "source": [
    "x = int(input(\"Número: \"))\n",
    "if x >= 1 and x <= 100:\n",
    "    print(f\"Number {x} is within the range\")\n",
    "else:\n",
    "    print(f\"Number {x} is outside the range\")"
   ]
  },
  {
   "cell_type": "markdown",
   "metadata": {},
   "source": [
    "# Odd or even\n",
    "Write a program that asks the user for an integer and then prints whether that integer is odd or even."
   ]
  },
  {
   "cell_type": "code",
   "execution_count": 12,
   "metadata": {},
   "outputs": [
    {
     "name": "stdout",
     "output_type": "stream",
     "text": [
      "Numero: 3\n",
      "Es impar\n"
     ]
    }
   ],
   "source": [
    "x = int(input(\"Numero: \"))\n",
    "if x % 2 == 0:\n",
    "    print(\"Es par\")\n",
    "else:\n",
    "    print(\"Es impar\")"
   ]
  },
  {
   "cell_type": "markdown",
   "metadata": {},
   "source": [
    "# Leap year\n",
    "Write a program that asks the user for a year and determines whether it is a leap year or not. A year is a leap year if it is divisible by 4 but not divisible by 100, or if it is divisible by 400."
   ]
  },
  {
   "cell_type": "code",
   "execution_count": 27,
   "metadata": {},
   "outputs": [
    {
     "name": "stdout",
     "output_type": "stream",
     "text": [
      "Año:108\n",
      "Año bisiesto\n"
     ]
    }
   ],
   "source": [
    "year = int(input(\"Año:\"))\n",
    "if year % 400 == 0:  # Some centuries are leap years...\n",
    "    print(\"Año bisiesto\")\n",
    "elif year % 100 == 0: # ... but most are not ...\n",
    "    print(\"Año no bisiesto\")\n",
    "elif year % 4 == 0:   # ... even though other divisibly-by-four years are\n",
    "    print(\"Año bisiesto\")\n",
    "else:\n",
    "    print(\"Año no bisiesto\")"
   ]
  },
  {
   "cell_type": "markdown",
   "metadata": {},
   "source": [
    "# Day of the week\n",
    "Write a program that asks the suer for a number between 1 and 7 and prints the day of the week, starting from \"Monday\" (1) to \"Sunday\" (7)."
   ]
  },
  {
   "cell_type": "code",
   "execution_count": 29,
   "metadata": {},
   "outputs": [
    {
     "name": "stdout",
     "output_type": "stream",
     "text": [
      "Dia entre 1 y 7: 7\n",
      "Domingo\n"
     ]
    }
   ],
   "source": [
    "day = int(input(\"Dia entre 1 y 7: \"))\n",
    "if day >= 1 and day <= 7:\n",
    "    if day == 1:\n",
    "        print(\"Lunes\")\n",
    "    elif day == 2:\n",
    "        print(\"Martes\")\n",
    "    elif day == 3:\n",
    "        print(\"Miercoles\")\n",
    "    elif day == 4:\n",
    "        print(\"Jueves\")\n",
    "    elif day == 5:\n",
    "        print(\"Viernes\")\n",
    "    elif day == 6:\n",
    "        print(\"Sabado\")\n",
    "    else:\n",
    "        print(\"Domingo\")\n",
    "else:\n",
    "    print(f\"{day} no esta entre 1 i 7\")"
   ]
  },
  {
   "cell_type": "markdown",
   "metadata": {},
   "source": [
    "# Guess the number\n",
    "Write a program that generates a random number between 1 and 10 and asks the user to guess what the number is. If the user guesses correctly, the program should print \"Congratulations, you guessed the number!\" If the user guesses incorrectly, the program should print \"Sorry, that's not the right number.\""
   ]
  },
  {
   "cell_type": "code",
   "execution_count": 36,
   "metadata": {},
   "outputs": [
    {
     "name": "stdout",
     "output_type": "stream",
     "text": [
      "Adivina el numero del 1 al 10: 3\n",
      "Has fallado, el numero correcto era 1\n"
     ]
    }
   ],
   "source": [
    "import random\n",
    "\n",
    "x = random.randint(1,11)\n",
    "guess = int(input(\"Adivina el numero del 1 al 10: \"))\n",
    "if guess == x:\n",
    "    print(f\"Lo has adivinado, es igual a {guess}\")\n",
    "else:\n",
    "    print(f\"Has fallado, el numero correcto era {x}\")"
   ]
  },
  {
   "cell_type": "markdown",
   "metadata": {},
   "source": [
    "# Grading\n",
    "Write a program that asks the user for their exam score (between 0 and 10) and then prints their grade according to the following scale:\n",
    "- 9-10: Excel·lent\n",
    "- 7-9: Notable\n",
    "- 6-7: Bé\n",
    "- 5-6: Suficient\n",
    "- 0-5: Insuficient\n",
    "\n",
    "If the given score is not a number between 0 and 10, the program should just show an error."
   ]
  },
  {
   "cell_type": "code",
   "execution_count": 38,
   "metadata": {},
   "outputs": [
    {
     "name": "stdout",
     "output_type": "stream",
     "text": [
      "Nota examen: 9\n",
      "Excel·lent\n"
     ]
    }
   ],
   "source": [
    "grade = int(input(\"Nota examen: \"))\n",
    "if grade >= 0 and grade <= 10:\n",
    "    if grade >= 0 and grade < 5:\n",
    "        print(\"Insuficient\")\n",
    "    elif grade >= 5 and grade < 6:\n",
    "        print(\"Suficient\")\n",
    "    elif grade >= 6 and grade < 7:\n",
    "        print(\"Bé\")\n",
    "    elif grade >= 7 and grade < 9:\n",
    "        print(\"Notable\")\n",
    "    else:\n",
    "        print(\"Excel·lent\")\n",
    "else:\n",
    "    print(\"La nota a d'estar entre 0 i 10\")"
   ]
  },
  {
   "cell_type": "markdown",
   "metadata": {},
   "source": [
    "# Palindromes\n",
    "Write a program that asks the user for a word or phrase and checks if it is a palindrome (a word or phrase that reads the same backward as forward). Do not take into account whitespaces. If it is palindrome, show: \"[word] is a palindrome!\", if not show: \"[word] is not a palindrome.\"\n",
    "\n",
    "Examples:\n",
    "- User inputs \"noon\" --> \"noon is a palindrome!\".\n",
    "- User inputs \"madam\" --> \"madam is a palindrome!\".\n",
    "- User inputs \"taco cat\" --> \"taco cat is a palindrome!\".\n",
    "- User inputs \"no lemon no melon\" --> \"no lemon no melon is palindrome!\".\n",
    "- User inputs \"Python\" --> \"Python is not a palindrome.\""
   ]
  },
  {
   "cell_type": "code",
   "execution_count": 40,
   "metadata": {},
   "outputs": [
    {
     "name": "stdout",
     "output_type": "stream",
     "text": [
      "Paraula: Python\n",
      "Python is not a palindrome\n"
     ]
    }
   ],
   "source": [
    "word = input(\"Paraula: \")\n",
    "if word[::1] == word[::-1]:\n",
    "    print(f\"{word} is a palindrome!\")\n",
    "else:\n",
    "    print(f\"{word} is not a palindrome\")"
   ]
  },
  {
   "cell_type": "markdown",
   "metadata": {},
   "source": [
    "# Calculator\n",
    "Write a program that asks the user for two numbers and an operation (+, -, *, or /). The program should perform the operation and print the result. If the user enters an invalid operation, the program should print an error message."
   ]
  },
  {
   "cell_type": "code",
   "execution_count": 47,
   "metadata": {},
   "outputs": [
    {
     "name": "stdout",
     "output_type": "stream",
     "text": [
      "Primer número: 3\n",
      "Segon número: 2\n",
      "Quin tipus d'operació vols fer (+, -, *, /): +\n",
      "3 + 2 = 5\n"
     ]
    }
   ],
   "source": [
    "x = int(input(\"Primer número: \"))\n",
    "y = int(input(\"Segon número: \"))\n",
    "oper = input(\"Quin tipus d'operació vols fer (+, -, *, /): \")\n",
    "if oper != \"+\" and oper != \"-\" and oper != \"*\" and oper != \"/\":\n",
    "    print(\"No es pot fer ver la operació, nomes accepta aquestes operacions (+, -, *, /)\")\n",
    "else:\n",
    "    if oper == \"+\":\n",
    "        print(f\"{x} + {y} = {x + y}\")\n",
    "    elif oper == \"-\":\n",
    "        print(f\"{x} - {y} = {x - y}\")\n",
    "    elif oper == \"*\":\n",
    "        print(f\"{x} * {y} = {x * y}\")\n",
    "    else:\n",
    "        if y != 0:\n",
    "            print(f\"{x} / {y} = {x / y}\")\n",
    "        else:\n",
    "            print(\"No se puede dividir entre 0\")"
   ]
  },
  {
   "cell_type": "markdown",
   "metadata": {},
   "source": [
    "# Temperature converter\n",
    "Write a program that asks the user for a temperature. The last character should be a 'C' (Celsius) or 'F' (Fahrenheit). The program should convert the temperature to the other unit of measurement and print the result. If the user enters an invalid unit of measurement, the program should print an error message.\n",
    "\n",
    "Example:\n",
    "- User inputs '25C' (which means 25 degrees Celsius) --> 77F.\n",
    "- User inputs '77F' --> 25C."
   ]
  },
  {
   "cell_type": "code",
   "execution_count": 55,
   "metadata": {},
   "outputs": [
    {
     "name": "stdout",
     "output_type": "stream",
     "text": [
      "Temperatura (acaba en C Celsius o en F Fahrenheit): 44p\n",
      "Has escrit malament les dades\n"
     ]
    }
   ],
   "source": [
    "temp = input(\"Temperatura (acaba en C Celsius o en F Fahrenheit): \")\n",
    "opc = temp[-1]\n",
    "temp_bue = float(temp[:len(temp) - 1])\n",
    "if opc == \"C\" or opc == \"F\":\n",
    "    if opc == \"C\":\n",
    "        print(f\"Farenheit: {temp_bue * (9 / 5) + 32}\")\n",
    "    else:\n",
    "        print(f\"Celsius: {(temp_bue - 32) * (5 / 9) }\")\n",
    "else:\n",
    "    print(\"Has escrit malament les dades\")\n"
   ]
  },
  {
   "cell_type": "markdown",
   "metadata": {},
   "source": [
    "# Triangle\n",
    "Write a program that asks the user for three numbers that represent the length of a triangle sides, then prints whether those numbers can form an equilateral triangle, an isosceles triangle, or a scalene triangle."
   ]
  },
  {
   "cell_type": "code",
   "execution_count": 65,
   "metadata": {},
   "outputs": [
    {
     "name": "stdout",
     "output_type": "stream",
     "text": [
      "Primer lado del triangulo: 4\n",
      "Segundo lado del triangulo: 4\n",
      "Tercer lado del triangulo: 4\n",
      "Equilatero\n"
     ]
    }
   ],
   "source": [
    "x = float(input(\"Primer lado del triangulo: \"))\n",
    "y = float(input(\"Segundo lado del triangulo: \"))\n",
    "z = float(input(\"Tercer lado del triangulo: \"))\n",
    "if x == y and x == z and y == z:\n",
    "    print(\"Equilatero\")\n",
    "elif (x != y and x != z and y != z) or (x != y and x != z and y != z) or (x != y and x != z and y != z):\n",
    "    print(\"Escaleno\")\n",
    "else:\n",
    "    print(\"Isóceles\")"
   ]
  },
  {
   "cell_type": "markdown",
   "metadata": {},
   "source": [
    "# Rock, paper, scissors\n",
    "Write a program that allows the user to play rock, paper, scissors against the computer. The computer should choose its move randomly, and the program should announce the winner."
   ]
  },
  {
   "cell_type": "code",
   "execution_count": 72,
   "metadata": {},
   "outputs": [
    {
     "name": "stdout",
     "output_type": "stream",
     "text": [
      "R = Rock\n",
      "P = Paper\n",
      "S = Scissors\n",
      "a\n",
      "Write good your choice\n"
     ]
    }
   ],
   "source": [
    "import random\n",
    "\n",
    "human = input(\"R = Rock\\nP = Paper\\nS = Scissors\\n\")\n",
    "ran = random.randint(1, 4)\n",
    "comp = 0\n",
    "\n",
    "if human == \"R\" or human == \"P\" or human == \"S\":\n",
    "    if ran == 1:\n",
    "        comp = \"R\"\n",
    "    elif ran == 2:\n",
    "        comp = \"P\"\n",
    "    else:\n",
    "        comp = \"S\"\n",
    "\n",
    "    if human == comp:\n",
    "        print(\"Draw\")\n",
    "    elif human == \"R\" and comp == \"P\":\n",
    "        print(f\"{human} vs {comp} WINNER Computer\")\n",
    "    elif human == \"P\" and comp == \"R\":\n",
    "        print(f\"{human} vs {comp} WINNER Human\")\n",
    "    elif human == \"R\" and comp == \"S\":\n",
    "        print(f\"{human} vs {comp} WINNER Human\")\n",
    "    elif human == \"S\" and comp == \"R\":\n",
    "        print(f\"{human} vs {comp} WINNER Computer\")\n",
    "    elif human == \"P\" and comp == \"S\":\n",
    "        print(f\"{human} vs {comp} WINNER Computer\")\n",
    "    else:\n",
    "        print(f\"{human} vs {comp} WINNER Human\")\n",
    "else:\n",
    "    print(\"Write good your choice\")\n"
   ]
  },
  {
   "cell_type": "markdown",
   "metadata": {},
   "source": [
    "## Insurance premium\n",
    "\n",
    "Write a program that calculates the insurance premium based on the user's age, if the user has had any previous accident (Yes/No), and the type of insurance plan they choose (basic or premium). The rules for calculating the premium are as follows:\n",
    "\n",
    "- Base price for basic plan: 200€.\n",
    "- Base price for premium plan: 500€.\n",
    "- If the user is under 25 and has had an accident at some point, add a 30% surcharge.\n",
    "- If the user is under 25 and has no bad accidents record, add a 5% surcharge.\n",
    "- If the user is 25 or older, no surcharge.\n",
    "\n",
    "Take into account that the user may enter invalid data. For example a plan that does not exist or the answer about previous accidents is not a \"Yes\" or \"No\". You can call the `exit()` function for stopping the execution of the program at any point."
   ]
  },
  {
   "cell_type": "code",
   "execution_count": 82,
   "metadata": {},
   "outputs": [
    {
     "name": "stdout",
     "output_type": "stream",
     "text": [
      "Age: 23\n",
      "P = Premium, B = Basic :P\n",
      "Accident (Yes = 1, Not = 0): 0\n",
      "Your plan Premium cost: 525.0\n"
     ]
    }
   ],
   "source": [
    "age = int(input(\"Age: \"))\n",
    "if age >= 0 and age <= 90:    \n",
    "    plan = input(\"P = Premium, B = Basic :\")\n",
    "    if plan == \"P\" or plan == \"B\":\n",
    "        accid = input(\"Accident (Yes = 1, Not = 0): \")\n",
    "        if accid == \"1\" or accid == \"0\":\n",
    "            if plan == \"P\":\n",
    "                if age < 25 and accid == \"1\":\n",
    "                    print(f\"Your plan Premium cost: {500 * 1.3}\")\n",
    "                elif age < 25 and accid != \"1\":\n",
    "                    print(f\"Your plan Premium cost: {500 * 1.05}\")\n",
    "                else:\n",
    "                    print(f\"Your plan Premium cost: 500\")\n",
    "            else:\n",
    "                if age < 25 and accid == \"1\":\n",
    "                    print(f\"Your plan Premium cost: {200 * 1.3}\")\n",
    "                elif age < 25 and accid != \"1\":\n",
    "                    print(f\"Your plan Premium cost: {200 * 1.05}\")\n",
    "                else:\n",
    "                    print(f\"Your plan Premium cost: 200\")\n",
    "        else:\n",
    "            print(\"Choose 1 or 0 only\")\n",
    "    else:\n",
    "        print(\"Your choice is not in our plans.\")\n",
    "else:\n",
    "    print(\"With this age not are any plan for you.\")\n"
   ]
  },
  {
   "cell_type": "markdown",
   "metadata": {},
   "source": [
    "# Bonus"
   ]
  },
  {
   "cell_type": "markdown",
   "metadata": {},
   "source": [
    "## Discounted price\n",
    "\n",
    "Write a program that calculates the discounted price of a product based on the original price and discount rate. The discount rate is applied as follows:\n",
    "\n",
    "- No discount for prices up to 20.\n",
    "- 10% discount for prices between 21 and 50.\n",
    "- 20% discount for prices between 51 and 100.\n",
    "- 30% discount for prices above 100."
   ]
  },
  {
   "cell_type": "code",
   "execution_count": 88,
   "metadata": {},
   "outputs": [
    {
     "name": "stdout",
     "output_type": "stream",
     "text": [
      "Price: 101\n",
      "Price: 70.69999999999999\n"
     ]
    }
   ],
   "source": [
    "price = float(input(\"Price: \"))\n",
    "if price <= 20:\n",
    "    print(f\"Price: {price}\")\n",
    "elif price >= 21 and price <= 50:\n",
    "    print(f\"Price: {price * 0.9}\")\n",
    "elif price >= 51 and price <= 100:\n",
    "    print(f\"Price: {price * 0.8}\")\n",
    "else:\n",
    "    print(f\"Price: {price * 0.7}\")"
   ]
  },
  {
   "cell_type": "markdown",
   "metadata": {},
   "source": [
    "## Zodiac sign\n",
    "\n",
    "Write a program that takes the user's birth date as input (month and day) and outputs their zodiac sign."
   ]
  },
  {
   "cell_type": "code",
   "execution_count": 89,
   "metadata": {},
   "outputs": [
    {
     "name": "stdout",
     "output_type": "stream",
     "text": [
      "Mes: 5\n",
      "Dia: 6\n",
      "Tauro\n"
     ]
    },
    {
     "data": {
      "text/plain": [
       "'\\nAcuario: del 20 de enero al 18 de febrero\\nPiscis: del 19 de febrero al 20 de marzo\\nAries: del 21 de marzo al 19 de abril\\nTauro: del 20 de abril al 20 de mayo\\nGéminis: del 21 de mayo al 20 de junio\\nCáncer: del 21 de junio al 22 de julio\\nLeo: del 23 de julio al 22 de agosto\\nVirgo: del 23 de agosto al 22 de septiembre\\nLibra: del 23 de septiembre al 22 de octubre\\nEscorpio: del 23 de octubre al 21 de noviembre\\nSagitario: del 22 de noviembre al 21 de diciembre\\nCapricornio: del 22 de diciembre al 19 de enero\\n\\n'"
      ]
     },
     "execution_count": 89,
     "metadata": {},
     "output_type": "execute_result"
    }
   ],
   "source": [
    "month = int(input(\"Mes: \"))\n",
    "day = int(input(\"Dia: \"))\n",
    "if (day >= 20 and day <= 31 and month == 1) or (day >= 1 and day <= 18 and month == 2):\n",
    "    print(\"Acuario\")\n",
    "elif (day >= 19 and day <= 29 and mont == 2) or (day >= 1 and day <= 20 and month == 3):\n",
    "    print(\"Piscis\")\n",
    "elif (day >= 21 and day <= 31 and mont == 3) or (day >= 1 and day <= 19 and month == 4):\n",
    "    print(\"Aries\")\n",
    "elif (day >= 20 and day <= 30 and mont == 4) or (day >= 1 and day <= 20 and month == 5):\n",
    "    print(\"Tauro\")\n",
    "elif (day >= 21 and day <= 31 and mont == 5) or (day >= 1 and day <= 20 and month == 6):\n",
    "    print(\"Géminis\")\n",
    "elif (day >= 21 and day <= 30 and mont == 6) or (day >= 1 and day <= 22 and month == 7):\n",
    "    print(\"Cáncer\")\n",
    "elif (day >= 23 and day <= 31 and mont == 7) or (day >= 1 and day <= 22 and month == 8):\n",
    "    print(\"Leo\")\n",
    "elif (day >= 23 and day <= 31 and mont == 8) or (day >= 1 and day <= 22 and month == 9):\n",
    "    print(\"Virgo\")\n",
    "elif (day >= 23 and day <= 30 and mont == 9) or (day >= 1 and day <= 22 and month == 10):\n",
    "    print(\"Libra\")\n",
    "elif (day >= 23 and day <= 31 and mont == 10) or (day >= 1 and day <= 21 and month == 11):\n",
    "    print(\"Escorpio\")\n",
    "elif (day >= 22 and day <= 30 and mont == 11) or (day >= 1 and day <= 21 and month == 12):\n",
    "    print(\"Sagitario\")\n",
    "elif (day >= 22 and day <= 31 and mont == 12) or (day >= 1 and day <= 19 and month == 1):\n",
    "    print(\"Capricornio\")\n",
    "'''\n",
    "Acuario: del 20 de enero al 18 de febrero\n",
    "Piscis: del 19 de febrero al 20 de marzo\n",
    "Aries: del 21 de marzo al 19 de abril\n",
    "Tauro: del 20 de abril al 20 de mayo\n",
    "Géminis: del 21 de mayo al 20 de junio\n",
    "Cáncer: del 21 de junio al 22 de julio\n",
    "Leo: del 23 de julio al 22 de agosto\n",
    "Virgo: del 23 de agosto al 22 de septiembre\n",
    "Libra: del 23 de septiembre al 22 de octubre\n",
    "Escorpio: del 23 de octubre al 21 de noviembre\n",
    "Sagitario: del 22 de noviembre al 21 de diciembre\n",
    "Capricornio: del 22 de diciembre al 19 de enero\n",
    "\n",
    "'''"
   ]
  },
  {
   "cell_type": "markdown",
   "metadata": {},
   "source": [
    "## Temperature converter 2\n",
    "\n",
    "Write a program that converts temperatures between Celsius, Fahrenheit, and Kelvin. The user should enter the source temperature unit (C, F or K), target temperature unit (C, F or K), and the temperature value."
   ]
  },
  {
   "cell_type": "code",
   "execution_count": 12,
   "metadata": {},
   "outputs": [
    {
     "name": "stdout",
     "output_type": "stream",
     "text": [
      "Temperatura en (C Celsius o en F Fahrenheit o K Kelvin): K\n",
      "Temperatura en convertida a (C Celsius o en F Fahrenheit o K Kelvin): C\n",
      "Temperatura: 20\n",
      "Celsius: -253.14999999999998\n"
     ]
    }
   ],
   "source": [
    "opc = input(\"Temperatura en (C Celsius o en F Fahrenheit o K Kelvin): \")\n",
    "if opc == \"C\" or opc == \"F\" or opc == \"K\":\n",
    "    opc2 = input(\"Temperatura en convertida a (C Celsius o en F Fahrenheit o K Kelvin): \")\n",
    "    if opc2 == \"C\" or opc2 == \"F\" or opc2 == \"K\":\n",
    "        temp = float(input(\"Temperatura: \"))\n",
    "        if opc == \"C\" and opc2 == \"F\":\n",
    "            print(f\"Farenheit: {temp * (9 / 5) + 32}\")\n",
    "        elif opc == \"F\" and opc2 == \"C\":\n",
    "            print(f\"Celsius: {(temp - 32) * (5 / 9) }\")\n",
    "        elif opc == \"C\" and opc2 == \"K\":\n",
    "            print(f\"Kelvin: {temp + 273.15}\")\n",
    "        elif opc == \"K\" and opc2 == \"C\":\n",
    "            print(f\"Celsius: {temp - 273.15}\")\n",
    "        elif opc == \"F\" and opc2 == \"K\":\n",
    "            print(f\"Kelvin: {(5/9) * (temp - 32) + 273.15}\")\n",
    "        else:\n",
    "            print(f\"Farenheit: {1.8 * (temp - 273.15) + 32}\")\n",
    "    else:\n",
    "        print(\"Has escrit malament les dades de opc2\")\n",
    "else:\n",
    "    print(\"Has escrit malament les dades opc\")"
   ]
  },
  {
   "cell_type": "markdown",
   "metadata": {},
   "source": [
    "## Tax\n",
    "\n",
    "Write a program that asks the user for his salary before taxes and calculates the total amount of money he or she has to pay in taxes based on:\n",
    "- The first 10,000 euros do not have any tax.\n",
    "- From 10,001 to 25,000: 15%\n",
    "- From 25,001 to 38,000: 20%\n",
    "- More than 38,000: 40%\n",
    "\n",
    "Take into account that the tax is progressive, that is the tax is calculated by applying the percentages progressively. For example, if a person earns 18,000, he has to pay 0% for the first 10,000 and 15% for the remaining 8,000, so the final tax to be paid is 8,000 * 0.15 = 1,200€.\n",
    "\n",
    "Another example: a person that earns 60,000€ has to pay 10,000 * 0 + 15,000 * 0.15 + 13,000 * 0.20 + 22,000 * 0.40 = 13,650€."
   ]
  },
  {
   "cell_type": "code",
   "execution_count": 18,
   "metadata": {},
   "outputs": [
    {
     "name": "stdout",
     "output_type": "stream",
     "text": [
      "Diners guanyats: 60000\n",
      "El total de taxa a pagar és 13650.0\n"
     ]
    }
   ],
   "source": [
    "money = int(input(\"Diners guanyats: \"))\n",
    "tax1 = 0\n",
    "tax2 = 0\n",
    "tax3 = 0\n",
    "money2 = 0\n",
    "if money >= 38001:\n",
    "    money2 = money - 38000\n",
    "    tax3 = money2 * 0.4\n",
    "    money2 = 38000 - 25000\n",
    "    tax2 = money2 * 0.20\n",
    "    money2 = 25000 - 10000\n",
    "    tax1 = money2 * 0.15\n",
    "    print(f\"El total de taxa a pagar és {tax3 + tax2 + tax1}\")\n",
    "elif money >= 25001 and money <= 38000:\n",
    "    money2 = 38000 - 25000\n",
    "    tax2 = money2 * 0.20\n",
    "    money2 = 25000 - 10000\n",
    "    tax1 = money2 * 0.15\n",
    "    print(f\"El total de taxa a pagar és {tax2 + tax1}\")\n",
    "elif money >= 10001 and money <= 25000:\n",
    "    money2 = 25000 - 10000\n",
    "    tax1 = money2 * 0.15\n",
    "    print(f\"El total de taxa a pagar és {tax1}\")\n",
    "else:\n",
    "    print(\"El total de taxa a pagar és 0\")\n",
    "    "
   ]
  },
  {
   "cell_type": "markdown",
   "metadata": {},
   "source": [
    "## Quadratic equation solver\n",
    "\n",
    "Write a program that takes the coefficients a, b, and c of a quadratic equation (ax^2 + bx + c = 0) as input and outputs the real roots, if they exist. If the roots are complex, print \"Complex roots.\""
   ]
  },
  {
   "cell_type": "code",
   "execution_count": 21,
   "metadata": {},
   "outputs": [
    {
     "name": "stdout",
     "output_type": "stream",
     "text": [
      "Enter the coefficients a,b,c\n",
      "coefficient a : 1\n",
      "coefficient b : 5\n",
      "coefficient c : 1\n",
      "your quadratic eq is :  1.0 x^2 + 5.0 x + 1.0\n",
      "Roots are real and different\n",
      "x1 =  215.5\n",
      "x2 =  -225.5\n"
     ]
    }
   ],
   "source": [
    "print('Enter the coefficients a,b,c')\n",
    "a = float(input('coefficient a : '))\n",
    "b = float(input('coefficient b : '))\n",
    "c = float(input('coefficient c : '))\n",
    "print('your quadratic eq is : ',a,'x^2','+',b,'x','+',c)\n",
    "discriminant = (b*b - 4*a*c)\n",
    "\n",
    "if (discriminant > 0) :\n",
    "    x1 = (-b + (discriminant * discriminant)/(2*a))\n",
    "    x2 = (-b - (discriminant * discriminant)/(2*a))\n",
    "    print('Roots are real and different')\n",
    "    print('x1 = ',x1)\n",
    "    print('x2 = ',x2)\n",
    "elif (discriminant == 0) :\n",
    "    print('Roots are real and same')\n",
    "    x1 = -b/(2*a)\n",
    "    print('x1 = x2 = ',x1)\n",
    "else:\n",
    "    realpart = -b/(2*a)\n",
    "    imaginarypart = -(discriminant * discriminant)/(2*a)    \n",
    "    print('Roots are complex and different')\n",
    "    print('x1 =',realpart,'+',imaginarypart,'i')\n",
    "    print('x2 =',realpart,'-',imaginarypart,'i')\n"
   ]
  },
  {
   "cell_type": "markdown",
   "metadata": {},
   "source": [
    "## Day of the week\n",
    "\n",
    "Write a program that takes a date as input (day, month, and year) and calculates the day of the week for that date."
   ]
  },
  {
   "cell_type": "code",
   "execution_count": null,
   "metadata": {},
   "outputs": [],
   "source": [
    "day = int(input(\"Dia: \"))\n",
    "month = int(input(\"Mes: \"))\n",
    "year = int(input(\"Año: \"))\n",
    "if year % 400 == 0:  # Some centuries are leap years...\n",
    "    print(\"Año bisiesto\")\n",
    "elif year % 100 == 0: # ... but most are not ...\n",
    "    print(\"Año no bisiesto\")\n",
    "elif year % 4 == 0:   # ... even though other divisibly-by-four years are\n",
    "    print(\"Año bisiesto\")\n",
    "else:\n",
    "    print(\"Año no bisiesto\")"
   ]
  }
 ],
 "metadata": {
  "kernelspec": {
   "display_name": "Python 3 (ipykernel)",
   "language": "python",
   "name": "python3"
  },
  "language_info": {
   "codemirror_mode": {
    "name": "ipython",
    "version": 3
   },
   "file_extension": ".py",
   "mimetype": "text/x-python",
   "name": "python",
   "nbconvert_exporter": "python",
   "pygments_lexer": "ipython3",
   "version": "3.11.4"
  },
  "toc": {
   "base_numbering": 1,
   "nav_menu": {},
   "number_sections": true,
   "sideBar": true,
   "skip_h1_title": false,
   "title_cell": "Table of Contents",
   "title_sidebar": "Contents",
   "toc_cell": false,
   "toc_position": {},
   "toc_section_display": true,
   "toc_window_display": false
  },
  "varInspector": {
   "cols": {
    "lenName": 16,
    "lenType": 16,
    "lenVar": 40
   },
   "kernels_config": {
    "python": {
     "delete_cmd_postfix": "",
     "delete_cmd_prefix": "del ",
     "library": "var_list.py",
     "varRefreshCmd": "print(var_dic_list())"
    },
    "r": {
     "delete_cmd_postfix": ") ",
     "delete_cmd_prefix": "rm(",
     "library": "var_list.r",
     "varRefreshCmd": "cat(var_dic_list()) "
    }
   },
   "types_to_exclude": [
    "module",
    "function",
    "builtin_function_or_method",
    "instance",
    "_Feature"
   ],
   "window_display": false
  }
 },
 "nbformat": 4,
 "nbformat_minor": 2
}
