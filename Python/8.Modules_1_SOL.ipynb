{
 "cells": [
  {
   "cell_type": "markdown",
   "id": "a3e1890b",
   "metadata": {},
   "source": [
    "# Custom modules"
   ]
  },
  {
   "cell_type": "markdown",
   "id": "4454c160",
   "metadata": {},
   "source": [
    "## String Manipulation Module\n",
    "\n",
    "Create a module named `string_utils.py`.\n",
    "\n",
    "Add functions for:\n",
    "- Reversing a string (`reverse_string(string)`).\n",
    "- Checking if a string is a palindrome (`is_palindrome(string)`).\n",
    "- Counting the number of vowels in a string (`count_vowels(string)`).\n",
    "\n",
    "The following code should execute properly after the module implementation:"
   ]
  },
  {
   "cell_type": "code",
   "execution_count": null,
   "id": "1e831455",
   "metadata": {},
   "outputs": [],
   "source": [
    "import string_utils as su"
   ]
  },
  {
   "cell_type": "code",
   "execution_count": null,
   "id": "d52a8d18",
   "metadata": {},
   "outputs": [],
   "source": [
    "assert(su.reverse_string(\"\") == \"\")\n",
    "assert(su.reverse_string(\"abc\") == \"cba\")\n",
    "assert(su.reverse_string(\"world\") == \"dlrow\")"
   ]
  },
  {
   "cell_type": "code",
   "execution_count": null,
   "id": "8e8ba879",
   "metadata": {},
   "outputs": [],
   "source": [
    "assert(su.is_palindrome(\"\") == True)\n",
    "assert(su.is_palindrome(\"abba\") == True)\n",
    "assert(su.is_palindrome(\"aba\") == True)\n",
    "assert(su.is_palindrome(\"abca\") == False)\n",
    "assert(su.is_palindrome(\"radar\") == True)\n",
    "assert(su.is_palindrome(\"hello\") == False)"
   ]
  },
  {
   "cell_type": "code",
   "execution_count": null,
   "id": "06571b70",
   "metadata": {},
   "outputs": [],
   "source": [
    "assert(su.count_vowels(\"\") == 0)\n",
    "assert(su.count_vowels(\"-1Km\") == 0)\n",
    "assert(su.count_vowels(\"hOla\") == 2)"
   ]
  },
  {
   "cell_type": "markdown",
   "id": "5b5e5cbd",
   "metadata": {},
   "source": [
    "## Contacts Management Module\n",
    "\n",
    "Create a module named `contact_manager.py`.\n",
    "\n",
    "Implement functions to:\n",
    "- Add a contact (with name and phone number) to a dictionary (`add_contact(name, number)`)\n",
    "- Delete a contact (`delete_contact(name)`)\n",
    "- Search for a contact's phone number by name (`search_contact(name)`)\n",
    "\n",
    "The following code should execute properly after the module implementation:"
   ]
  },
  {
   "cell_type": "code",
   "execution_count": null,
   "id": "4725be2c",
   "metadata": {},
   "outputs": [],
   "source": [
    "import contact_manager as cm"
   ]
  },
  {
   "cell_type": "code",
   "execution_count": null,
   "id": "8d766508",
   "metadata": {},
   "outputs": [],
   "source": [
    "# Adding a contact\n",
    "assert(cm.add_contact(\"Alice\", \"1234567\") == \"Contact Alice added.\")\n",
    "\n",
    "# Adding the same contact should not be allowed\n",
    "assert(cm.add_contact(\"Alice\", \"1234567\") == \"Contact already exists.\")\n",
    "\n",
    "# Searching for the added contact should return its number\n",
    "assert(cm.search_contact(\"Alice\") == \"1234567\")\n",
    "\n",
    "# Searching for a non-existing contact should notify it's not found\n",
    "assert(cm.search_contact(\"Bob\") == \"Contact not found.\")\n",
    "\n",
    "# Deleting an existing contact should confirm deletion\n",
    "assert(cm.delete_contact(\"Alice\") == \"Contact Alice deleted.\")\n",
    "\n",
    "# Deleting a non-existing contact or already deleted one should notify it's not found\n",
    "assert(cm.delete_contact(\"Alice\") == \"Contact not found.\")"
   ]
  },
  {
   "cell_type": "markdown",
   "id": "cab7d8b1",
   "metadata": {},
   "source": [
    "As we will see in a future lesson, this problem could be better solved using OOP rather than with custom modules."
   ]
  },
  {
   "cell_type": "markdown",
   "id": "2938c1ac",
   "metadata": {},
   "source": [
    "# Modules 1"
   ]
  },
  {
   "cell_type": "markdown",
   "id": "02bd202e",
   "metadata": {},
   "source": [
    "The goal of these exercises is not just to get the correct answer but to integrate different modules, practicing their combined use in more realistic scenarios.\n",
    "\n",
    "You will have to read the modules documentation or do a Google search for understanding how to solve some of the problems in the exercises."
   ]
  },
  {
   "cell_type": "code",
   "execution_count": null,
   "id": "97a9b647",
   "metadata": {},
   "outputs": [],
   "source": [
    "import os\n",
    "import random\n",
    "import time\n",
    "import itertools\n",
    "import numpy as np\n",
    "from datetime import datetime, timedelta"
   ]
  },
  {
   "cell_type": "markdown",
   "id": "c4c479c5",
   "metadata": {},
   "source": [
    "## Directory Analyzer\n",
    "\n",
    "Write a script that analyzes a directory and provides a summary:\n",
    "- Number of files.\n",
    "- Number of directories.\n",
    "- Largest file.\n",
    "- Most recently modified file.\n",
    "\n",
    "You only need to traverse the current directory (the one with the current notebook), there is no need to check the contents of subdirectories."
   ]
  },
  {
   "cell_type": "code",
   "execution_count": null,
   "id": "d42956d9",
   "metadata": {},
   "outputs": [],
   "source": [
    "def directory_analyzer(path='.'):\n",
    "    num_files = 0\n",
    "    num_dirs = 0\n",
    "    largest_file = (\"\", 0)  # (filename, size)\n",
    "    most_recent_file = (\"\", 0.0)  # (filename, timestamp)\n",
    "\n",
    "    for foldername, subfolders, filenames in os.walk(path):\n",
    "        for filename in filenames:\n",
    "            filepath = os.path.join(foldername, filename)\n",
    "            file_size = os.path.getsize(filepath)\n",
    "            file_mtime = os.path.getmtime(filepath)\n",
    "\n",
    "            if file_size > largest_file[1]:\n",
    "                largest_file = (filename, file_size)\n",
    "            if file_mtime > most_recent_file[1]:\n",
    "                most_recent_file = (filename, file_mtime)\n",
    "            num_files += 1\n",
    "        \n",
    "        for subfolder in subfolders:\n",
    "            num_dirs += 1\n",
    "\n",
    "    print(f\"Number of files: {num_files}\")\n",
    "    print(f\"Number of directories: {num_dirs}\")\n",
    "    print(f\"Largest file: {largest_file[0]} with size {largest_file[1]:,} bytes\")\n",
    "    print(f\"Most recently modified file: {most_recent_file[0]}\")\n",
    "\n",
    "directory_analyzer('.')"
   ]
  },
  {
   "cell_type": "markdown",
   "id": "fef6a39e",
   "metadata": {},
   "source": [
    "## Date Calculator\n",
    "\n",
    "Create a program where users can input two dates and find out the difference in days, weeks, and months. Also, show the day of the week for both dates (Monday, Tuesday, etc.). For simplicity, you can assume months have 30 days."
   ]
  },
  {
   "cell_type": "code",
   "execution_count": null,
   "id": "d9958762",
   "metadata": {},
   "outputs": [],
   "source": [
    "def date_difference():\n",
    "    date_format = \"%Y-%m-%d\"\n",
    "    date1 = input(\"Enter first date (YYYY-MM-DD): \")\n",
    "    date2 = input(\"Enter second date (YYYY-MM-DD): \")\n",
    "    \n",
    "    week_days = [\"Mon\", \"Tue\", \"Wen\", \"Thu\", \"Fri\", \"Sat\", \"Sun\"]\n",
    "\n",
    "    d1 = datetime.strptime(date1, date_format)\n",
    "    d2 = datetime.strptime(date2, date_format)\n",
    "    print(f\"{date1} ({week_days[d1.weekday()]})\")\n",
    "    print(f\"{date2} ({week_days[d2.weekday()]})\")\n",
    "    print()\n",
    "\n",
    "    difference = abs((d2 - d1).days)\n",
    "    print(f\"Difference in days: {difference}\")\n",
    "    print(f\"Difference in weeks: {difference / 7}\")\n",
    "    print(f\"Difference in months: {difference / 30}\")\n",
    "\n",
    "date_difference()"
   ]
  },
  {
   "cell_type": "markdown",
   "id": "629e67f0",
   "metadata": {},
   "source": [
    "## Random Data Generator\n",
    "\n",
    "Generate 10 random dates between 2000-01-01 and 2023-12-31 and return them ascendingly."
   ]
  },
  {
   "cell_type": "code",
   "execution_count": null,
   "id": "1804de3e",
   "metadata": {},
   "outputs": [],
   "source": [
    "def random_data_generator():\n",
    "    start_date = datetime(2000, 1, 1)\n",
    "    end_date = datetime(2023, 12, 31)\n",
    "    date_range = [start_date + timedelta(days=random.randint(0, (end_date-start_date).days)) for _ in range(10)]\n",
    "    return sorted(date_range)\n",
    "\n",
    "random_data_generator()"
   ]
  },
  {
   "cell_type": "markdown",
   "id": "0ce685e4",
   "metadata": {},
   "source": [
    "## File Organizer\n",
    "Create a tool that organizes the files in a directory:\n",
    "- Move all `.txt` files to a folder named \"TextFiles\".\n",
    "- Move all `.jpg` and `.png` files to a folder named \"Images\"."
   ]
  },
  {
   "cell_type": "code",
   "execution_count": null,
   "id": "ef3bb357",
   "metadata": {},
   "outputs": [],
   "source": [
    "def file_organizer(path='.'):\n",
    "    text_dir = os.path.join(path, \"TextFiles\")\n",
    "    image_dir = os.path.join(path, \"Images\")\n",
    "\n",
    "    if not os.path.exists(text_dir):\n",
    "        os.makedirs(text_dir)\n",
    "    if not os.path.exists(image_dir):\n",
    "        os.makedirs(image_dir)\n",
    "\n",
    "    for filename in os.listdir(path):\n",
    "        file_path = os.path.join(path, filename)\n",
    "        \n",
    "        if filename.endswith(\".txt\"):\n",
    "            os.rename(file_path, os.path.join(text_dir, filename))\n",
    "        elif filename.endswith((\".jpg\", \".png\")):\n",
    "            os.rename(file_path, os.path.join(image_dir, filename))"
   ]
  },
  {
   "cell_type": "markdown",
   "id": "fa7b2cbc",
   "metadata": {},
   "source": [
    "## Timed Task\n",
    "\n",
    "Implement a timer tool. The user inputs a time duration in seconds and, after that duration, the tool notifies them (maybe by printing a message to the console)."
   ]
  },
  {
   "cell_type": "code",
   "execution_count": null,
   "id": "7dd3f7ea",
   "metadata": {},
   "outputs": [],
   "source": [
    "def timer_tool():\n",
    "    # User input for duration\n",
    "    duration = float(input(\"Enter the duration in seconds: \"))\n",
    "    # Feedback to the user\n",
    "    print(f\"Timer started for {duration} seconds...\")\n",
    "    # Wait for the specified duration\n",
    "    time.sleep(duration)\n",
    "    # Notify the user after the duration\n",
    "    print(\"\\nTime's up!\")\n",
    "\n",
    "timer_tool()"
   ]
  },
  {
   "cell_type": "markdown",
   "id": "6e372a55",
   "metadata": {},
   "source": [
    "## Schedule Reminder\n",
    "\n",
    "Users provide a date, a time and a task, and the program reminds them of the task on that date (by printing to the console)."
   ]
  },
  {
   "cell_type": "code",
   "execution_count": null,
   "id": "26ce11f9",
   "metadata": {},
   "outputs": [],
   "source": [
    "def schedule_reminder():\n",
    "    date_format = \"%Y-%m-%d %H:%M\"\n",
    "    \n",
    "    task_date = input(\"Enter the date for the task (YYYY-MM-DD): \")\n",
    "    task_time = input(\"Enter the time for the task (HH:MM, 24-hour format): \")\n",
    "    \n",
    "    task_datetime_str = f\"{task_date} {task_time}\"\n",
    "    task_datetime = datetime.strptime(task_datetime_str, date_format)\n",
    "    \n",
    "    task_description = input(\"Describe your task: \")\n",
    "\n",
    "    while datetime.now() < task_datetime:\n",
    "        time.sleep(60)  # Checking every minute. This can be adjusted.\n",
    "    print(f\"Reminder: {task_description}\")\n",
    "\n",
    "schedule_reminder()"
   ]
  },
  {
   "cell_type": "markdown",
   "id": "8d97dbbd",
   "metadata": {},
   "source": [
    "## Iterative combinations\n",
    "\n",
    "Given a list of 5 strings, compute and print all 3-string combinations possible."
   ]
  },
  {
   "cell_type": "code",
   "execution_count": null,
   "id": "dd6ac8b6",
   "metadata": {},
   "outputs": [],
   "source": [
    "string_list = [\"apple\", \"banana\", \"cherry\", \"date\", \"elderberry\"]"
   ]
  },
  {
   "cell_type": "code",
   "execution_count": null,
   "id": "80284f13",
   "metadata": {},
   "outputs": [],
   "source": [
    "combinations = list(itertools.combinations(string_list, 3))\n",
    "for combo in combinations:\n",
    "    print(\", \".join(combo))"
   ]
  },
  {
   "cell_type": "markdown",
   "id": "c01458e8",
   "metadata": {},
   "source": [
    "## Birthday Statistics\n",
    "\n",
    "Given the birthdays of 10 people. Calculate:\n",
    "- The oldest person.\n",
    "- The youngest person.\n",
    "- Average age."
   ]
  },
  {
   "cell_type": "code",
   "execution_count": null,
   "id": "25f8d710",
   "metadata": {},
   "outputs": [],
   "source": [
    "birthdays = [\n",
    "    (\"Alice\", \"1990-04-15\"),\n",
    "    (\"Bob\", \"1985-06-23\"),\n",
    "    (\"Charlie\", \"2000-12-12\"),\n",
    "    (\"Diana\", \"1995-03-08\"),\n",
    "    (\"Ethan\", \"1988-10-19\"),\n",
    "    (\"Fiona\", \"1999-07-30\"),\n",
    "    (\"George\", \"1982-02-21\"),\n",
    "    (\"Helen\", \"1993-09-04\"),\n",
    "    (\"Isaac\", \"2001-11-01\"),\n",
    "    (\"Jenny\", \"1997-01-28\")\n",
    "]"
   ]
  },
  {
   "cell_type": "code",
   "execution_count": null,
   "id": "958b77db",
   "metadata": {},
   "outputs": [],
   "source": [
    "def birthday_statistics(birthdates):\n",
    "    oldest = min(birthdates)\n",
    "    youngest = max(birthdates)\n",
    "    current_date = datetime.now().date()\n",
    "    age_diff = np.mean([(current_date - d.date()).days / 365.25 for d in birthdates])\n",
    "\n",
    "    print(f\"Oldest person was born on: {oldest.date()}\")\n",
    "    print(f\"Youngest person was born on: {youngest.date()}\")\n",
    "    print(f\"Average age: {age_diff:.2f} years\")\n",
    "\n",
    "extracted_birthdates = [datetime.strptime(birth, \"%Y-%m-%d\") for _, birth in birthdays]\n",
    "birthday_statistics(extracted_birthdates)"
   ]
  },
  {
   "cell_type": "markdown",
   "id": "2003d890",
   "metadata": {},
   "source": [
    "## File System Statistics\n",
    "\n",
    "Create a function that generates statistics on the types of files in a directory:\n",
    "- Percentage of image files.\n",
    "- Percentage of document files."
   ]
  },
  {
   "cell_type": "code",
   "execution_count": null,
   "id": "5dad7809",
   "metadata": {},
   "outputs": [],
   "source": [
    "image_extensions = ['.jpg', '.jpeg', '.png', '.gif', '.bmp']\n",
    "document_extensions = ['.txt', '.pdf', '.doc', '.docx', '.xls', '.xlsx']"
   ]
  },
  {
   "cell_type": "code",
   "execution_count": null,
   "id": "0b1757e0",
   "metadata": {},
   "outputs": [],
   "source": [
    "def file_system_statistics(path='.'):\n",
    "    image_extensions = ['.jpg', '.jpeg', '.png', '.gif', '.bmp']\n",
    "    document_extensions = ['.txt', '.pdf', '.doc', '.docx', '.xls', '.xlsx']\n",
    "\n",
    "    total_files = 0\n",
    "    image_files = 0\n",
    "    document_files = 0\n",
    "\n",
    "    for filename in os.listdir(path):\n",
    "        if os.path.isfile(os.path.join(path, filename)):\n",
    "            total_files += 1\n",
    "            _, ext = os.path.splitext(filename)\n",
    "            \n",
    "            if ext in image_extensions:\n",
    "                image_files += 1\n",
    "            elif ext in document_extensions:\n",
    "                document_files += 1\n",
    "\n",
    "    print(f\"Percentage of image files: {100 * image_files / total_files:.2f}%\")\n",
    "    print(f\"Percentage of document files: {100 * document_files / total_files:.2f}%\")\n",
    "\n",
    "file_system_statistics()"
   ]
  },
  {
   "cell_type": "markdown",
   "id": "240de1bd",
   "metadata": {},
   "source": [
    "## Weather Simulator\n",
    "\n",
    "Simulate weather data for a month. For each day, randomly generate:\n",
    "- Temperature (consider reasonable ranges like 15°C to 40°C in summer).\n",
    "- Weather condition (Sunny, Rainy, Cloudy).\n",
    "\n",
    "At the end of the execution, show a summary of the minimum, maximum and average temperature for that month. Also, how many days were Sunny, Rainy and Cloudy, alongside the percentage.\n",
    "\n",
    "Example output:\n",
    "```\n",
    "2023-01-01: Rainy, 27°C\n",
    "2023-01-02: Sunny, 18°C\n",
    "2023-01-03: Rainy, 19°C\n",
    "2023-01-04: Cloudy, 24°C\n",
    "(...)\n",
    "\n",
    "Month Summary\n",
    "================\n",
    "Min. temperature: 15\n",
    "Max. temperature: 39\n",
    "Avg. temperature: 27.0\n",
    "Sunny days: 7 (23%)\n",
    "Rainy days: 10 (33%)\n",
    "Cloudy days: 13 (43%)\n",
    "```"
   ]
  },
  {
   "cell_type": "code",
   "execution_count": null,
   "id": "e3490162",
   "metadata": {},
   "outputs": [],
   "source": [
    "from collections import defaultdict"
   ]
  },
  {
   "cell_type": "code",
   "execution_count": null,
   "id": "dc10da56",
   "metadata": {
    "scrolled": false
   },
   "outputs": [],
   "source": [
    "def weather_simulator(start_date_str=\"2023-01-01\"):\n",
    "    weather_conditions = ['Sunny', 'Rainy', 'Cloudy']\n",
    "    temperatures = range(15, 40)\n",
    "    # Assuming a month of 30 days for simplicity\n",
    "    month_days = 30\n",
    "    month_conditions = np.random.choice(weather_conditions, size=month_days)\n",
    "    month_temperatures = np.random.choice(temperatures, size=month_days)\n",
    "    condition_counter = defaultdict(lambda: 0)\n",
    "\n",
    "    start_date = datetime.strptime(start_date_str, \"%Y-%m-%d\")\n",
    "    for day, cond, temp in zip(range(month_days), month_conditions, month_temperatures):  \n",
    "        current_date = start_date + timedelta(days=day)\n",
    "        condition_counter[cond] += 1\n",
    "        print(f\"{current_date.date()}: {cond}, {temp}°C\")\n",
    "    \n",
    "    # Display summary\n",
    "    print(\"\\nMonth Summary\\n================\")\n",
    "    print(f\"Min. temperature: {min(temperatures)}\")\n",
    "    print(f\"Max. temperature: {max(temperatures)}\")\n",
    "    print(f\"Avg. temperature: {np.mean(temperatures)}\")\n",
    "    \n",
    "    for cond in weather_conditions:\n",
    "        n = condition_counter[cond]\n",
    "        print(f\"{cond} days: {n} ({n / month_days:.0%})\")\n",
    "    \n",
    "weather_simulator()"
   ]
  },
  {
   "cell_type": "markdown",
   "id": "d0ca1961",
   "metadata": {},
   "source": [
    "## Timed Mathematical Quiz\n",
    "\n",
    "Generate a series of random math questions (e.g. addition of two numbers) that the user has to answer.\n",
    "- The user has 15 seconds for answering as many question as he/she can.\n",
    "- After each question, the program shows if it is correct or not and the number of seconds it took to answer.\n",
    "- At the end, the total score is printed."
   ]
  },
  {
   "cell_type": "code",
   "execution_count": null,
   "id": "612b4c62",
   "metadata": {
    "scrolled": false
   },
   "outputs": [],
   "source": [
    "def ask_question():\n",
    "    num1 = random.randint(1, 10)\n",
    "    num2 = random.randint(1, 10)\n",
    "    correct_answer = num1 + num2\n",
    "    start_time = time.time()\n",
    "    answer = int(input(f\"What is {num1} + {num2}? \"))\n",
    "    end_time = time.time()\n",
    "    return answer == correct_answer, end_time - start_time\n",
    "\n",
    "def play():\n",
    "    end_time = time.time() + 15  # 15 seconds from now\n",
    "    score = 0\n",
    "    question_count = 0\n",
    "    \n",
    "    while time.time() < end_time:\n",
    "        question_count += 1\n",
    "        is_correct, time_taken = ask_question()\n",
    "        # Check if the question was answered on time\n",
    "        remaining_time = end_time - time.time()\n",
    "        if remaining_time <= 0:\n",
    "            print(\"Out of time!\")\n",
    "            break\n",
    "        if is_correct:\n",
    "            print(f\"Correct! Answered in {time_taken:.2f} seconds.\")\n",
    "            score += 1\n",
    "        else:\n",
    "            print(f\"Incorrect. Answered in {time_taken:.2f} seconds.\")\n",
    "        print(f\"You have {remaining_time:.2f} seconds remaining.\")\n",
    "        print()\n",
    "    \n",
    "    print(f\"\\nFinished! Your score is {score}.\")\n",
    "\n",
    "play()"
   ]
  },
  {
   "cell_type": "markdown",
   "id": "513bd6c3",
   "metadata": {},
   "source": [
    "## Directory File Type Counter\n",
    "\n",
    "- Prompt the user for a directory path.\n",
    "- Count the number of each file type (based on file extensions).\n",
    "- Display a summary at the end."
   ]
  },
  {
   "cell_type": "code",
   "execution_count": null,
   "id": "5a67e79f",
   "metadata": {},
   "outputs": [],
   "source": [
    "def count_file_types(directory):\n",
    "    file_types = {}\n",
    "    \n",
    "    for filename in os.listdir(directory):\n",
    "        if os.path.isfile(os.path.join(directory, filename)):\n",
    "            ext = os.path.splitext(filename)[1]\n",
    "            file_types[ext] = file_types.get(ext, 0) + 1\n",
    "            \n",
    "    return file_types\n",
    "\n",
    "directory = input(\"Enter the directory path: \")\n",
    "file_type_counts = count_file_types(directory)\n",
    "\n",
    "for ext, count in file_type_counts.items():\n",
    "    print(f\"{ext}: {count}\")"
   ]
  },
  {
   "cell_type": "markdown",
   "id": "f8c2a89b",
   "metadata": {},
   "source": [
    "## Iterative Data Filter\n",
    "\n",
    "- Given a dataset (list of tuples) of people with their names, ages, and incomes, filter out those who are under 21 and whose income is below the average.\n",
    "- Display the filtered list sorted by income."
   ]
  },
  {
   "cell_type": "code",
   "execution_count": null,
   "id": "85ab5e75",
   "metadata": {},
   "outputs": [],
   "source": [
    "data = [\n",
    "    (\"Alice\", 25, 30000),\n",
    "    (\"Bob\", 19, 32000),\n",
    "    (\"Bob\", 20, 22000),\n",
    "    (\"Charlie\", 30, 25000),\n",
    "    (\"Diana\", 22, 28000),\n",
    "    (\"Diana\", 20, 40000),\n",
    "]"
   ]
  },
  {
   "cell_type": "code",
   "execution_count": null,
   "id": "7a278d7d",
   "metadata": {},
   "outputs": [],
   "source": [
    "avg_income = np.mean([x[2] for x in data])\n",
    "filtered_data = filter(lambda x: x[1] < 21 and x[2] >= avg_income, data)\n",
    "sorted_data = sorted(filtered_data, key=lambda x: x[2], reverse=True)\n",
    "\n",
    "for person in sorted_data:\n",
    "    print(person)"
   ]
  },
  {
   "cell_type": "markdown",
   "id": "ef40dc8a",
   "metadata": {},
   "source": [
    "## Data Analysis Tool\n",
    "\n",
    "Build a simple data analysis tool.\n",
    "\n",
    "Given a dataset of sales transactions (including date of the sale, different items sold together, and price), determine:\n",
    "- Total sales.\n",
    "- Average sale value.\n",
    "- Number of transactions per day.\n",
    "- Most frequent **pair** of items sold together."
   ]
  },
  {
   "cell_type": "code",
   "execution_count": null,
   "id": "fab48a3d",
   "metadata": {},
   "outputs": [],
   "source": [
    "sales = \"\"\"\n",
    "date,item,amount\n",
    "2022-05-01,apple|orange,4.5\n",
    "2022-05-01,banana|grapes,3.0\n",
    "2022-05-02,apple|banana|orange,3.5\n",
    "2022-05-03,apple|grapes,4.0\n",
    "2022-05-04,orange|grapes|apple,4.8\n",
    "2022-05-05,banana|orange|grapes,6.0\n",
    "\"\"\""
   ]
  },
  {
   "cell_type": "code",
   "execution_count": null,
   "id": "d89edd92",
   "metadata": {},
   "outputs": [],
   "source": [
    "def data_analysis(sales_data):\n",
    "    total_sales = 0.0\n",
    "    transactions_per_day = {}\n",
    "    item_combinations = {}\n",
    "    \n",
    "    lines = sales_data.strip().split('\\n')[1:]  # Splitting by lines and skipping header\n",
    "\n",
    "    for line in lines:\n",
    "        date, items, amount = line.split(',')\n",
    "        items_list = items.split('|')\n",
    "        total_sales += float(amount)\n",
    "            \n",
    "        # Count transactions per day\n",
    "        if date in transactions_per_day:\n",
    "            transactions_per_day[date] += 1\n",
    "        else:\n",
    "            transactions_per_day[date] = 1\n",
    "\n",
    "        # Count item combinations\n",
    "        for combo in itertools.combinations(items_list, 2):\n",
    "            combo_tuple = tuple(sorted(combo))\n",
    "            if combo_tuple in item_combinations:\n",
    "                item_combinations[combo_tuple] += 1\n",
    "            else:\n",
    "                item_combinations[combo_tuple] = 1\n",
    "\n",
    "    avg_sale = total_sales / sum(transactions_per_day.values())\n",
    "    frequent_items = max(item_combinations, key=item_combinations.get)\n",
    "\n",
    "    print(f\"Total Sales: {total_sales:.2f}€\")\n",
    "    print(f\"Average Sale: {avg_sale:.2f}€\")\n",
    "    print(\"Transactions per Day:\")\n",
    "    for day, count in transactions_per_day.items():\n",
    "        print(f\"\\t{day}: {count}\")\n",
    "    print(f\"Most Frequent Items Sold Together: {frequent_items}\")"
   ]
  },
  {
   "cell_type": "code",
   "execution_count": null,
   "id": "b9f3f107",
   "metadata": {},
   "outputs": [],
   "source": [
    "data_analysis(sales)"
   ]
  },
  {
   "cell_type": "markdown",
   "id": "a71ebfd8",
   "metadata": {},
   "source": [
    "## Process Simulator\n",
    "\n",
    "Simulate a process system.\n",
    "\n",
    "- Generate random \"processes\" that have a random execution time (e.g. 10 processes).\n",
    "- Display them in a queue (they are processed sequentially in order of arrival).\n",
    "- Execute them one by one, showing the process ID and execution time.\n",
    "- Print a log of executed processes and their respective execution times.\n",
    "\n",
    "Example output:\n",
    "```\n",
    "Executing process 0...\n",
    "Process 0 executed in 1.00 seconds\n",
    "Executing process 1...\n",
    "Process 1 executed in 2.00 seconds\n",
    "Executing process 2...\n",
    "Process 2 executed in 5.00 seconds\n",
    "(...)\n",
    "```"
   ]
  },
  {
   "cell_type": "code",
   "execution_count": null,
   "id": "ea2cba33",
   "metadata": {},
   "outputs": [],
   "source": [
    "def generate_process(process_id):\n",
    "    execution_time = random.randint(1, 5)  # random execution time between 1 to 5 seconds\n",
    "    return process_id, execution_time\n",
    "\n",
    "def process_simulator():\n",
    "    process_queue = [generate_process(i) for i in range(10)]  # Generating 10 random processes\n",
    "\n",
    "    for process_id, execution_time in process_queue:\n",
    "        print(f\"Executing process {process_id}...\")\n",
    "        start_time = time.time()\n",
    "        time.sleep(execution_time)\n",
    "        end_time = time.time() - start_time\n",
    "        print(f\"Process {process_id} executed in {end_time:.2f} seconds\")\n",
    "\n",
    "process_simulator()"
   ]
  },
  {
   "cell_type": "markdown",
   "id": "cf6dff11",
   "metadata": {},
   "source": [
    "# Bonus"
   ]
  },
  {
   "cell_type": "markdown",
   "id": "80e18bea",
   "metadata": {},
   "source": [
    "## Automated File Backup System\n",
    "\n",
    "Backup files automatically.\n",
    "\n",
    "- Detect new or modified files in a directory.\n",
    "- Backup these files (copy them to another folder for simplicity) at specified intervals using the time module. In reality, this other folder would be an external device, either physical or in the cloud.\n",
    "- Organize backups to run at specific date and time intervals."
   ]
  },
  {
   "cell_type": "code",
   "execution_count": null,
   "id": "e96eede4",
   "metadata": {},
   "outputs": [],
   "source": [
    "SOURCE_DIRECTORY = \"./source_files/\"\n",
    "BACKUP_DIRECTORY = \"./backup_files/\"\n",
    "\n",
    "def backup_files(source, backup):\n",
    "    # Check if the backup directory exists, if not, create it\n",
    "    if not os.path.exists(backup):\n",
    "        os.makedirs(backup)\n",
    "\n",
    "    # Iterate over files in the source directory\n",
    "    for filename in os.listdir(source):\n",
    "        source_path = os.path.join(source, filename)\n",
    "        backup_path = os.path.join(backup, datetime.datetime.now().strftime(\"%Y-%m-%d\"), filename)\n",
    "        \n",
    "        if not os.path.exists(os.path.dirname(backup_path)):\n",
    "            os.makedirs(os.path.dirname(backup_path))\n",
    "        \n",
    "        # Backup the file\n",
    "        shutil.copy2(source_path, backup_path)\n",
    "        \n",
    "    print(f\"Backup for {datetime.datetime.now().strftime('%Y-%m-%d')} completed!\")\n",
    "\n",
    "while True:\n",
    "    backup_files(SOURCE_DIRECTORY, BACKUP_DIRECTORY)\n",
    "    time.sleep(60*60*24)  # wait for a day (86400 seconds) before the next backup"
   ]
  },
  {
   "cell_type": "markdown",
   "id": "705b1c2d",
   "metadata": {},
   "source": [
    "## Path Finder\n",
    "\n",
    "Develop a toolkit that helps a user navigate a grid-based board.\n",
    "\n",
    "Overview:\n",
    "- `grid.py`: Helps in creating a grid of any size filled with default values.\n",
    "- `path_algorithm.py`: Contains the logic to find a path from a start to end point on the grid.\n",
    "- `navigator.py`: A user interface to input the grid size, start, and end point. It then uses the above modules to display the path.\n",
    "\n",
    "Details:\n",
    "\n",
    "- `grid.py`:\n",
    "    - `make_grid(rows, columns)`: Returns a 2D list (grid) filled with '0's with the provided rows and columns.\n",
    "    - `print_grid(grid)`: Display the grid.\n",
    "\n",
    "- `path_algorithm.py`:\n",
    "    - Implement a Breadth-First Search (BFS) algorithm to find the shortest path between two points on a grid.\n",
    "    - `find_path(grid, start, end)`: Using BFS, find the shortest path from start to end in the given grid. Return a list of coordinates to trace the path.\n",
    "    - The grid can have obstacles (marked as 'X') that the BFS needs to navigate around.\n",
    "    \n",
    "- main program (here in the notebook):\n",
    "    - User is prompted to input the grid dimensions: rows and columns.\n",
    "    - Then they input the start point (row and column) and the end point (row and column).\n",
    "    - The user also inputs the locations of obstacles on the grid.\n",
    "    - The program should then dispay the grid with the shortest path marked (e.g., with `*`) from start to end, avoiding the obstacles.\n",
    "    \n",
    "Example:\n",
    "- User inputs:\n",
    "```\n",
    "Rows: 5\n",
    "Columns: 5\n",
    "Start: 0 0\n",
    "End: 4 4\n",
    "Obstacles: 1 2, 2 2, 3 2\n",
    "```\n",
    "\n",
    "- Output:\n",
    "```\n",
    "S 0 0 0 0\n",
    "0 0 X 0 0\n",
    "0 0 X 0 0\n",
    "0 0 X 0 0\n",
    "0 0 0 0 E\n",
    "```\n",
    "\n",
    "Here, 'S' denotes the start, 'E' denotes the end, 'X' are the obstacles, and '\\*' marks the path. In this case, the path should find its way around the column of obstacles to reach the end point."
   ]
  },
  {
   "cell_type": "code",
   "execution_count": null,
   "id": "f660e147",
   "metadata": {},
   "outputs": [],
   "source": [
    "# grid_maker.py\n",
    "\n",
    "def make_grid(rows, columns):\n",
    "    return [['0' for _ in range(columns)] for _ in range(rows)]\n",
    "\n",
    "def print_grid(grid):\n",
    "    for row in grid:\n",
    "        print(' '.join(row))"
   ]
  },
  {
   "cell_type": "code",
   "execution_count": null,
   "id": "d871db36",
   "metadata": {},
   "outputs": [],
   "source": [
    "# path_algorithm.py\n",
    "from collections import deque\n",
    "\n",
    "def is_valid_move(x, y, grid, visited):\n",
    "    rows = len(grid)\n",
    "    columns = len(grid[0])\n",
    "    return 0 <= x < rows and 0 <= y < columns and grid[x][y] != 'X' and not visited[x][y]\n",
    "\n",
    "def find_path(grid, start, end):\n",
    "    rows = len(grid)\n",
    "    columns = len(grid[0])\n",
    "\n",
    "    visited = [[False for _ in range(columns)] for _ in range(rows)]\n",
    "    prev = [[None for _ in range(columns)] for _ in range(rows)]\n",
    "\n",
    "    dx = [-1, 1, 0, 0]\n",
    "    dy = [0, 0, -1, 1]\n",
    "\n",
    "    queue = deque([start])\n",
    "    visited[start[0]][start[1]] = True\n",
    "\n",
    "    while queue:\n",
    "        x, y = queue.popleft()\n",
    "\n",
    "        if (x, y) == end:\n",
    "            break\n",
    "\n",
    "        for i in range(4):\n",
    "            nx, ny = x + dx[i], y + dy[i]\n",
    "\n",
    "            if is_valid_move(nx, ny, grid, visited):\n",
    "                visited[nx][ny] = True\n",
    "                prev[nx][ny] = (x, y)\n",
    "                queue.append((nx, ny))\n",
    "\n",
    "    path = []\n",
    "    current = end\n",
    "    while current:\n",
    "        path.append(current)\n",
    "        current = prev[current[0]][current[1]]\n",
    "\n",
    "    return path[::-1]"
   ]
  },
  {
   "cell_type": "code",
   "execution_count": null,
   "id": "ef638eaa",
   "metadata": {},
   "outputs": [],
   "source": [
    "from grid_maker import make_grid\n",
    "from path_algorithm import find_path"
   ]
  },
  {
   "cell_type": "code",
   "execution_count": 32,
   "id": "b8d171bf",
   "metadata": {},
   "outputs": [
    {
     "name": "stdout",
     "output_type": "stream",
     "text": [
      "Enter number of rows: 5\n",
      "Enter number of columns: 5\n",
      "Enter start row and column (separated by space): 0 0\n",
      "Enter end row and column (separated by space): 4 4\n",
      "Enter obstacles as row col (comma-separated): 1 2, 2 2, 3 2\n",
      "\n",
      "Path:\n",
      "S 0 0 0 0\n",
      "* 0 X 0 0\n",
      "* 0 X 0 0\n",
      "* 0 X 0 0\n",
      "* * * * E\n"
     ]
    }
   ],
   "source": [
    "rows = int(input(\"Enter number of rows: \"))\n",
    "columns = int(input(\"Enter number of columns: \"))\n",
    "grid = make_grid(rows, columns)\n",
    "\n",
    "start_row, start_col = map(int, input(\"Enter start row and column (separated by space): \").split())\n",
    "end_row, end_col = map(int, input(\"Enter end row and column (separated by space): \").split())\n",
    "\n",
    "obstacles = input(\"Enter obstacles as row col (comma-separated): \").split(\", \")\n",
    "for obstacle in obstacles:\n",
    "    r, c = map(int, obstacle.split())\n",
    "    grid[r][c] = 'X'\n",
    "\n",
    "path = find_path(grid, (start_row, start_col), (end_row, end_col))\n",
    "\n",
    "for r, c in path:\n",
    "    if grid[r][c] == '0':\n",
    "        grid[r][c] = '*'\n",
    "grid[start_row][start_col] = 'S'\n",
    "grid[end_row][end_col] = 'E'\n",
    "print(\"\\nPath:\")\n",
    "print_grid(grid)"
   ]
  },
  {
   "cell_type": "markdown",
   "id": "f51c26c8",
   "metadata": {},
   "source": [
    "## Dynamic File System Navigator with Command Execution\n",
    "\n",
    "Create a program that navigates through the file system dynamically and allows users to execute certain commands on files and folders.\n",
    "\n",
    "Requirements:\n",
    "\n",
    "1. Navigation:\n",
    "    - Display the contents of the current directory.\n",
    "    - Allow users to navigate into directories and back out.\n",
    "    - Display the path of the current directory.\n",
    "\n",
    "\n",
    "2. File/Folder Operations. Allow users to:\n",
    "    - Create a new folder.\n",
    "    - Create a new file.\n",
    "    - Read the contents of a text file.\n",
    "    - Delete files or folders.\n",
    "    - Rename files or folders.\n",
    "    - Copy a file from one directory and paste it in another.\n",
    "\n",
    "\n",
    "3. Log:\n",
    "    - Keep a log of all operations performed by the user.\n",
    "    - Log entries should be timestamped.\n",
    "   \n",
    "   \n",
    "4. Exit:\n",
    "    - Provide an option to safely exit the program.\n",
    "\n",
    "\n",
    "5. Bonus:\n",
    "    - Add functionality to compress and decompress files.\n",
    "    - Integrate a basic search feature to find files or folders.\n",
    "    \n",
    "    \n",
    "Modules to use:\n",
    "- `os`: For directory navigation and file operations.\n",
    "- `shutil`: For operations like copying files.\n",
    "- `datetime`: For precise timestamping and setting the timer.\n",
    "- `gzip` (for the bonus task): For compressing and decompressing files."
   ]
  },
  {
   "cell_type": "code",
   "execution_count": null,
   "id": "2ea1914f",
   "metadata": {},
   "outputs": [],
   "source": [
    "import shutil"
   ]
  },
  {
   "cell_type": "code",
   "execution_count": null,
   "id": "7988b80d",
   "metadata": {},
   "outputs": [],
   "source": [
    "def log_action(action):\n",
    "    \"\"\"Log user actions with timestamp.\"\"\"\n",
    "    with open(\"navigator_log.txt\", 'a') as log_file:\n",
    "        log_file.write(f\"[{datetime.now()}] - {action}\\n\")\n",
    "\n",
    "def display_contents(directory):\n",
    "    \"\"\"Display contents of the current directory.\"\"\"\n",
    "    for item in os.listdir(directory):\n",
    "        print(item)\n",
    "\n",
    "def create_folder(directory):\n",
    "    \"\"\"Create a new folder.\"\"\"\n",
    "    folder_name = input(\"Enter new folder name: \")\n",
    "    os.mkdir(os.path.join(directory, folder_name))\n",
    "    log_action(f\"Created folder {folder_name} in {directory}\")\n",
    "\n",
    "def create_file(directory):\n",
    "    \"\"\"Create a new file.\"\"\"\n",
    "    file_name = input(\"Enter new file name: \")\n",
    "    with open(os.path.join(directory, file_name), 'w') as f:\n",
    "        f.write(\"\")\n",
    "    log_action(f\"Created file {file_name} in {directory}\")\n",
    "\n",
    "def read_file(directory):\n",
    "    \"\"\"Read the contents of a file.\"\"\"\n",
    "    file_name = input(\"Enter the name of the file to read: \")\n",
    "    with open(os.path.join(directory, file_name), 'r') as f:\n",
    "        print(f.read())\n",
    "    log_action(f\"Read file {file_name} in {directory}\")\n",
    "\n",
    "def delete(directory):\n",
    "    \"\"\"Delete a file or folder.\"\"\"\n",
    "    name = input(\"Enter the name of the file/folder to delete: \")\n",
    "    path = os.path.join(directory, name)\n",
    "    if os.path.isdir(path):\n",
    "        shutil.rmtree(path)\n",
    "        log_action(f\"Deleted folder {name} from {directory}\")\n",
    "    else:\n",
    "        os.remove(path)\n",
    "        log_action(f\"Deleted file {name} from {directory}\")\n",
    "\n",
    "def rename(directory):\n",
    "    \"\"\"Rename a file or folder.\"\"\"\n",
    "    old_name = input(\"Enter the current name: \")\n",
    "    new_name = input(\"Enter the new name: \")\n",
    "    os.rename(os.path.join(directory, old_name), os.path.join(directory, new_name))\n",
    "    log_action(f\"Renamed {old_name} to {new_name} in {directory}\")\n",
    "\n",
    "def copy_file(source_directory):\n",
    "    \"\"\"Copy a file from source to destination.\"\"\"\n",
    "    file_name = input(\"Enter the name of the file to copy: \")\n",
    "    destination = input(\"Enter the destination directory: \")\n",
    "    shutil.copy2(os.path.join(source_directory, file_name), destination)\n",
    "    log_action(f\"Copied {file_name} from {source_directory} to {destination}\")\n",
    "\n",
    "def main():\n",
    "    current_directory = os.getcwd()\n",
    "    while True:\n",
    "        print(f\"\\nCurrent Directory: {current_directory}\")\n",
    "        display_contents(current_directory)\n",
    "        print(\"\\nOptions: \")\n",
    "        print(\"1 - Navigate into a directory\")\n",
    "        print(\"2 - Go to parent directory\")\n",
    "        print(\"3 - Create a new folder\")\n",
    "        print(\"4 - Create a new file\")\n",
    "        print(\"5 - Read a file\")\n",
    "        print(\"6 - Delete a file/folder\")\n",
    "        print(\"7 - Rename a file/folder\")\n",
    "        print(\"8 - Copy a file to another directory\")\n",
    "        print(\"0 - Exit\")\n",
    "        \n",
    "        choice = input(\"\\nEnter your choice: \")\n",
    "        \n",
    "        if choice == \"1\":\n",
    "            directory_name = input(\"Enter directory name to navigate into: \")\n",
    "            current_directory = os.path.join(current_directory, directory_name)\n",
    "        elif choice == \"2\":\n",
    "            current_directory = os.path.dirname(current_directory)\n",
    "        elif choice == \"3\":\n",
    "            create_folder(current_directory)\n",
    "        elif choice == \"4\":\n",
    "            create_file(current_directory)\n",
    "        elif choice == \"5\":\n",
    "            read_file(current_directory)\n",
    "        elif choice == \"6\":\n",
    "            delete(current_directory)\n",
    "        elif choice == \"7\":\n",
    "            rename(current_directory)\n",
    "        elif choice == \"8\":\n",
    "            copy_file(current_directory)\n",
    "        elif choice == \"0\":\n",
    "            break"
   ]
  },
  {
   "cell_type": "code",
   "execution_count": null,
   "id": "11e806c9",
   "metadata": {},
   "outputs": [],
   "source": [
    "main()"
   ]
  }
 ],
 "metadata": {
  "kernelspec": {
   "display_name": "Python 3 (ipykernel)",
   "language": "python",
   "name": "python3"
  },
  "language_info": {
   "codemirror_mode": {
    "name": "ipython",
    "version": 3
   },
   "file_extension": ".py",
   "mimetype": "text/x-python",
   "name": "python",
   "nbconvert_exporter": "python",
   "pygments_lexer": "ipython3",
   "version": "3.10.12"
  },
  "toc": {
   "base_numbering": 1,
   "nav_menu": {},
   "number_sections": true,
   "sideBar": true,
   "skip_h1_title": false,
   "title_cell": "Table of Contents",
   "title_sidebar": "Contents",
   "toc_cell": false,
   "toc_position": {
    "height": "calc(100% - 180px)",
    "left": "10px",
    "top": "150px",
    "width": "288px"
   },
   "toc_section_display": true,
   "toc_window_display": true
  },
  "varInspector": {
   "cols": {
    "lenName": 16,
    "lenType": 16,
    "lenVar": 40
   },
   "kernels_config": {
    "python": {
     "delete_cmd_postfix": "",
     "delete_cmd_prefix": "del ",
     "library": "var_list.py",
     "varRefreshCmd": "print(var_dic_list())"
    },
    "r": {
     "delete_cmd_postfix": ") ",
     "delete_cmd_prefix": "rm(",
     "library": "var_list.r",
     "varRefreshCmd": "cat(var_dic_list()) "
    }
   },
   "types_to_exclude": [
    "module",
    "function",
    "builtin_function_or_method",
    "instance",
    "_Feature"
   ],
   "window_display": false
  }
 },
 "nbformat": 4,
 "nbformat_minor": 5
}
