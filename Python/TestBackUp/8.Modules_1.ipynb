{
 "cells": [
  {
   "attachments": {},
   "cell_type": "markdown",
   "id": "a3e1890b",
   "metadata": {},
   "source": [
    "# Custom modules"
   ]
  },
  {
   "attachments": {},
   "cell_type": "markdown",
   "id": "4454c160",
   "metadata": {},
   "source": [
    "## String Manipulation Module\n",
    "\n",
    "Create a module named `string_utils.py`.\n",
    "\n",
    "Add functions for:\n",
    "- Reversing a string (`reverse_string(string)`).\n",
    "- Checking if a string is a palindrome (`is_palindrome(string)`).\n",
    "- Counting the number of vowels in a string (`count_vowels(string)`).\n",
    "\n",
    "The following code should execute properly after the module implementation:"
   ]
  },
  {
   "cell_type": "code",
   "execution_count": 1,
   "id": "1e831455",
   "metadata": {},
   "outputs": [],
   "source": [
    "import string_utils as su"
   ]
  },
  {
   "cell_type": "code",
   "execution_count": 2,
   "id": "d52a8d18",
   "metadata": {},
   "outputs": [],
   "source": [
    "assert(su.reverse_string(\"\") == \"\")\n",
    "assert(su.reverse_string(\"abc\") == \"cba\")\n",
    "assert(su.reverse_string(\"world\") == \"dlrow\")"
   ]
  },
  {
   "cell_type": "code",
   "execution_count": 3,
   "id": "8e8ba879",
   "metadata": {},
   "outputs": [],
   "source": [
    "assert(su.is_palindrome(\"\") == True)\n",
    "assert(su.is_palindrome(\"abba\") == True)\n",
    "assert(su.is_palindrome(\"aba\") == True)\n",
    "assert(su.is_palindrome(\"abca\") == False)\n",
    "assert(su.is_palindrome(\"radar\") == True)\n",
    "assert(su.is_palindrome(\"hello\") == False)"
   ]
  },
  {
   "cell_type": "code",
   "execution_count": 4,
   "id": "06571b70",
   "metadata": {},
   "outputs": [],
   "source": [
    "assert(su.count_vowels(\"\") == 0)\n",
    "assert(su.count_vowels(\"-1Km\") == 0)\n",
    "assert(su.count_vowels(\"hOla\") == 2)"
   ]
  },
  {
   "attachments": {},
   "cell_type": "markdown",
   "id": "5b5e5cbd",
   "metadata": {},
   "source": [
    "## Contacts Management Module\n",
    "\n",
    "Create a module named `contact_manager.py`.\n",
    "\n",
    "Implement functions to:\n",
    "- Add a contact (with name and phone number) to a dictionary (`add_contact(name, number)`)\n",
    "- Delete a contact (`delete_contact(name)`)\n",
    "- Search for a contact's phone number by name (`search_contact(name)`)\n",
    "\n",
    "The following code should execute properly after the module implementation:"
   ]
  },
  {
   "cell_type": "code",
   "execution_count": 1,
   "id": "4725be2c",
   "metadata": {},
   "outputs": [],
   "source": [
    "import contact_manager as cm"
   ]
  },
  {
   "cell_type": "code",
   "execution_count": 2,
   "id": "8d766508",
   "metadata": {},
   "outputs": [],
   "source": [
    "# Adding a contact\n",
    "assert(cm.add_contact(\"Alice\", \"1234567\") == \"Contact Alice added.\")\n",
    "\n",
    "# Adding the same contact should not be allowed\n",
    "assert(cm.add_contact(\"Alice\", \"1234567\") == \"Contact already exists.\")\n",
    "\n",
    "# Searching for the added contact should return its number\n",
    "assert(cm.search_contact(\"Alice\") == \"1234567\")\n",
    "\n",
    "# Searching for a non-existing contact should notify it's not found\n",
    "assert(cm.search_contact(\"Bob\") == \"Contact not found.\")\n",
    "\n",
    "# Deleting an existing contact should confirm deletion\n",
    "assert(cm.delete_contact(\"Alice\") == \"Contact Alice deleted.\")\n",
    "\n",
    "# Deleting a non-existing contact or already deleted one should notify it's not found\n",
    "assert(cm.delete_contact(\"Alice\") == \"Contact not found.\")"
   ]
  },
  {
   "attachments": {},
   "cell_type": "markdown",
   "id": "cab7d8b1",
   "metadata": {},
   "source": [
    "As we will see in a future lesson, this problem could be better solved using OOP rather than with custom modules."
   ]
  },
  {
   "attachments": {},
   "cell_type": "markdown",
   "id": "2938c1ac",
   "metadata": {},
   "source": [
    "# Modules 1"
   ]
  },
  {
   "attachments": {},
   "cell_type": "markdown",
   "id": "02bd202e",
   "metadata": {},
   "source": [
    "The goal of these exercises is not just to get the correct answer but to integrate different modules, practicing their combined use in more realistic scenarios.\n",
    "\n",
    "You will have to read the modules documentation or do a Google search for understanding how to solve some of the problems in the exercises."
   ]
  },
  {
   "cell_type": "code",
   "execution_count": 1,
   "id": "97a9b647",
   "metadata": {},
   "outputs": [],
   "source": [
    "import os\n",
    "import random\n",
    "import time\n",
    "import itertools\n",
    "import numpy as np\n",
    "from datetime import datetime, timedelta"
   ]
  },
  {
   "attachments": {},
   "cell_type": "markdown",
   "id": "c4c479c5",
   "metadata": {},
   "source": [
    "## Directory Analyzer\n",
    "\n",
    "Write a script that analyzes a directory and provides a summary:\n",
    "- Number of files.\n",
    "- Number of directories.\n",
    "- Largest file.\n",
    "- Most recently modified file."
   ]
  },
  {
   "cell_type": "code",
   "execution_count": 26,
   "id": "8da64684",
   "metadata": {},
   "outputs": [
    {
     "name": "stdout",
     "output_type": "stream",
     "text": [
      "48\n",
      "3\n",
      "The largest file is: .\\6.Functions.slides.html , Size: 703270 bytes\n",
      "recently modified: file: 8.Modules_1.ipynb, time: 1695988392.0\n"
     ]
    }
   ],
   "source": [
    "num_files = len(os.listdir(\".\"))\n",
    "print(num_files)\n",
    "num_dir = len(list(os.walk(\".\")))\n",
    "print(num_dir)\n",
    "\n",
    "max_size = 0\n",
    "for folder, subfolders, files in os.walk(\".\"):\n",
    "      \n",
    "    # checking the size of each file\n",
    "    for file in files:\n",
    "        size = os.stat(os.path.join( folder, file  )).st_size\n",
    "          \n",
    "        # updating maximum size\n",
    "        if size>max_size:\n",
    "            max_size = size\n",
    "            max_file = os.path.join( folder, file  )\n",
    "  \n",
    "print(f\"The largest file is: {max_file} , Size: {max_size} bytes\")\n",
    "\n",
    "max_mtime = 0\n",
    "\n",
    "for dirname,subdirs,files in os.walk(\".\"):\n",
    "    for fname in files:\n",
    "        full_path = os.path.join(dirname, fname)\n",
    "        mtime = os.stat(full_path).st_mtime\n",
    "        if mtime > max_mtime:\n",
    "            max_mtime = mtime\n",
    "            max_dir = dirname\n",
    "            max_file = fname\n",
    "\n",
    "print(f\"recently modified: file: {max_file}, time: {max_mtime}\")"
   ]
  },
  {
   "attachments": {},
   "cell_type": "markdown",
   "id": "fef6a39e",
   "metadata": {},
   "source": [
    "## Date Calculator\n",
    "\n",
    "Create a program where users can input two dates and find out the difference in days, weeks, and months. Also, show the day of the week for both dates (Monday, Tuesday, etc.)."
   ]
  },
  {
   "cell_type": "code",
   "execution_count": 16,
   "id": "89848f55",
   "metadata": {},
   "outputs": [
    {
     "name": "stdout",
     "output_type": "stream",
     "text": [
      "Difference in days: 12199\n",
      "Difference in weeks: 1742\n",
      "Difference in months: 400\n",
      "Start date is a Sunday\n",
      "End date is a Friday\n"
     ]
    }
   ],
   "source": [
    "def date_difference(start_date, end_date):\n",
    "    # Convert the input strings to datetime objects\n",
    "    start_date = datetime.strptime(start_date, \"%d-%m-%Y\")\n",
    "    end_date = datetime.strptime(end_date, \"%d-%m-%Y\")\n",
    "\n",
    "    # Calculate the difference in days\n",
    "    days_difference = (end_date - start_date).days\n",
    "\n",
    "    # Calculate the difference in weeks\n",
    "    weeks_difference = days_difference // 7\n",
    "\n",
    "    # Calculate the difference in months\n",
    "    months_difference = (end_date.year - start_date.year) * 12 + (end_date.month - start_date.month)\n",
    "\n",
    "    # Get the day of the week for both dates\n",
    "    start_day_of_week = start_date.strftime(\"%A\")\n",
    "    end_day_of_week = end_date.strftime(\"%A\")\n",
    "\n",
    "    return days_difference, weeks_difference, months_difference, start_day_of_week, end_day_of_week\n",
    "\n",
    "# Prompt the user for input\n",
    "start_date = input(\"Enter the start date (DD-MM-YYYY): \")\n",
    "end_date = input(\"Enter the end date (DD-MM-YYYY): \")\n",
    "\n",
    "# Call the function to get the date difference and day of the week\n",
    "days_diff, weeks_diff, months_diff, start_day_week, end_day_week = date_difference(start_date, end_date)\n",
    "\n",
    "# Display the results\n",
    "print(\"Difference in days:\", days_diff)\n",
    "print(\"Difference in weeks:\", weeks_diff)\n",
    "print(\"Difference in months:\", months_diff)\n",
    "print(\"Start date is a\", start_day_week)\n",
    "print(\"End date is a\", end_day_week)"
   ]
  },
  {
   "attachments": {},
   "cell_type": "markdown",
   "id": "629e67f0",
   "metadata": {},
   "source": [
    "## Random Data Generator\n",
    "\n",
    "Generate 10 random dates between 2000-01-01 and 2023-12-31 and return them ascendingly."
   ]
  },
  {
   "cell_type": "code",
   "execution_count": 25,
   "id": "69d8b3d1",
   "metadata": {},
   "outputs": [
    {
     "name": "stdout",
     "output_type": "stream",
     "text": [
      "2002-07-08\n",
      "2003-09-23\n",
      "2006-03-19\n",
      "2009-03-21\n",
      "2010-03-14\n",
      "2013-09-12\n",
      "2015-12-13\n",
      "2017-09-08\n",
      "2021-01-17\n",
      "2021-04-16\n"
     ]
    }
   ],
   "source": [
    "def generate_random_dates(start_date, end_date, num_dates):\n",
    "    random_dates = []\n",
    "\n",
    "    # Convert the start and end dates to datetime objects\n",
    "    start_date = datetime.strptime(start_date, \"%Y-%m-%d\")\n",
    "    end_date = datetime.strptime(end_date, \"%Y-%m-%d\")\n",
    "\n",
    "    # Calculate the range of days between start and end dates\n",
    "    num_days = (end_date - start_date).days\n",
    "\n",
    "    # Generate random dates\n",
    "    for i in range(num_dates):\n",
    "        random_days = random.randint(0, num_days)\n",
    "        random_date = start_date + timedelta(days=random_days)\n",
    "        random_dates.append(random_date)\n",
    "\n",
    "    # Sort the random dates in ascending order\n",
    "    random_dates.sort()\n",
    "\n",
    "    return random_dates\n",
    "\n",
    "# Define the start and end dates\n",
    "start_date = \"2000-01-01\"\n",
    "end_date = \"2023-12-31\"\n",
    "\n",
    "# Generate 10 random dates\n",
    "random_dates = generate_random_dates(start_date, end_date, 10)\n",
    "\n",
    "# Display the random dates\n",
    "for date in random_dates:\n",
    "    print(date.strftime(\"%Y-%m-%d\"))"
   ]
  },
  {
   "attachments": {},
   "cell_type": "markdown",
   "id": "0ce685e4",
   "metadata": {},
   "source": [
    "## File Organizer\n",
    "Create a tool that organizes the files in a directory:\n",
    "- Move all `.txt` files to a folder named \"TextFiles\".\n",
    "- Move all `.jpg` and `.png` files to a folder named \"Images\"."
   ]
  },
  {
   "cell_type": "code",
   "execution_count": 27,
   "id": "2e89f134",
   "metadata": {},
   "outputs": [],
   "source": [
    "import shutil\n",
    "\n",
    "os.mkdir(\"TextFiles\")\n",
    "os.mkdir(\"Images\")\n",
    "\n",
    "for dire, subdir, files in os.walk(\".\"):\n",
    "    for file in files:\n",
    "        if file.endswith(\"*.txt\"):\n",
    "            shutil.copy(os.path.join(dire, file),f\"TextFiles/{file}\")\n",
    "        if file.endswith(\"*.jpg\") or file.endswith(\"*.png\"):\n",
    "            shutil.copy(os.path.join(dire, file),f\"Images/{file}\")        "
   ]
  },
  {
   "attachments": {},
   "cell_type": "markdown",
   "id": "fa7b2cbc",
   "metadata": {},
   "source": [
    "## Timed Task\n",
    "\n",
    "Implement a timer tool. The user inputs a time duration (e.g. 10 seconds), and after that duration, the tool notifies them (maybe by printing a message to the console)."
   ]
  },
  {
   "cell_type": "code",
   "execution_count": 3,
   "id": "f33fba4c",
   "metadata": {},
   "outputs": [
    {
     "name": "stdout",
     "output_type": "stream",
     "text": [
      "Wake up!!\n"
     ]
    }
   ],
   "source": [
    "tim = int(input(\"Time to sleep: \"))\n",
    "time.sleep(tim)\n",
    "print(\"Wake up!!\")"
   ]
  },
  {
   "attachments": {},
   "cell_type": "markdown",
   "id": "6e372a55",
   "metadata": {},
   "source": [
    "## Schedule Reminder\n",
    "\n",
    "Users provide a date, a time and a task, and the program reminds them of the task on that date (by printing to the console)."
   ]
  },
  {
   "cell_type": "code",
   "execution_count": 10,
   "id": "b21f2ebc",
   "metadata": {},
   "outputs": [
    {
     "name": "stdout",
     "output_type": "stream",
     "text": [
      "Wait 32.291218 for reminder!\n",
      "Reminder hihi!\n"
     ]
    }
   ],
   "source": [
    "def date_reminder(day, day_time, task):\n",
    "     date_save = datetime.strptime(day + \" \" + day_time, \"%d-%m-%Y %H:%M:%S\")\n",
    "     current_day = datetime.now()\n",
    "     time_diff = date_save - current_day\n",
    "     if time_diff.total_seconds() > 0:\n",
    "          print(f\"Wait {time_diff.total_seconds()} for reminder!\")\n",
    "          time.sleep(time_diff.total_seconds())\n",
    "          print(f\"Reminder {task}!\")\n",
    "     else:\n",
    "          print(\"Can do the task cause the time is invalid\")\n",
    "     \n",
    "\n",
    "date_save = input(\"Enter the date you want to remind (DD-MM-YYYY): \")\n",
    "date_time = input(\"Enter the time you want to remind (H:M:S): \")\n",
    "task = input(\"Write the task for reminder: \")\n",
    "date_reminder(date_save, date_time, task)"
   ]
  },
  {
   "attachments": {},
   "cell_type": "markdown",
   "id": "8d97dbbd",
   "metadata": {},
   "source": [
    "## Iterative combinations\n",
    "\n",
    "Given a list of 5 strings, compute and print all 3-string combinations possible."
   ]
  },
  {
   "cell_type": "code",
   "execution_count": 11,
   "id": "dd6ac8b6",
   "metadata": {},
   "outputs": [],
   "source": [
    "string_list = [\"apple\", \"banana\", \"cherry\", \"date\", \"elderberry\"]"
   ]
  },
  {
   "cell_type": "code",
   "execution_count": 12,
   "id": "15c6a07b",
   "metadata": {},
   "outputs": [
    {
     "name": "stdout",
     "output_type": "stream",
     "text": [
      "[('apple', 'banana', 'cherry'), ('apple', 'cherry', 'banana'), ('banana', 'apple', 'cherry'), ('banana', 'cherry', 'apple'), ('cherry', 'apple', 'banana'), ('cherry', 'banana', 'apple')]\n"
     ]
    }
   ],
   "source": [
    "print(list(itertools.permutations([string_list[0], string_list[1], string_list[2]])))"
   ]
  },
  {
   "attachments": {},
   "cell_type": "markdown",
   "id": "c01458e8",
   "metadata": {},
   "source": [
    "## Birthday Statistics\n",
    "\n",
    "Given the birthdays of 10 people. Calculate:\n",
    "- The oldest person.\n",
    "- The youngest person.\n",
    "- Average age."
   ]
  },
  {
   "cell_type": "code",
   "execution_count": 13,
   "id": "25f8d710",
   "metadata": {},
   "outputs": [],
   "source": [
    "birthdays = [\n",
    "    (\"Alice\", \"1990-04-15\"),\n",
    "    (\"Bob\", \"1985-06-23\"),\n",
    "    (\"Charlie\", \"2000-12-12\"),\n",
    "    (\"Diana\", \"1995-03-08\"),\n",
    "    (\"Ethan\", \"1988-10-19\"),\n",
    "    (\"Fiona\", \"1999-07-30\"),\n",
    "    (\"George\", \"1982-02-21\"),\n",
    "    (\"Helen\", \"1993-09-04\"),\n",
    "    (\"Isaac\", \"2001-11-01\"),\n",
    "    (\"Jenny\", \"1997-01-28\")\n",
    "]"
   ]
  },
  {
   "cell_type": "code",
   "execution_count": 43,
   "id": "aa1ee422",
   "metadata": {},
   "outputs": [
    {
     "name": "stdout",
     "output_type": "stream",
     "text": [
      "Oldest person: George\n",
      "Younger person : Isaac\n",
      "Avarage ages: 29.7\n"
     ]
    }
   ],
   "source": [
    "birthdates = np.array([datetime.strptime(date, \"%Y-%m-%d\") for i, date in birthdays])\n",
    "oldest = np.argmin(birthdates)\n",
    "younger = np.argmax(birthdates)\n",
    "print(f\"Oldest person: {birthdays[oldest][0]}\")\n",
    "print(f\"Younger person : {birthdays[younger][0]}\")\n",
    "today = datetime.now().date()\n",
    "ages = np.array([(today - date.date()).days // 365 for date in birthdates])\n",
    "print(f\"Avarage ages: {np.mean(ages)}\")"
   ]
  },
  {
   "attachments": {},
   "cell_type": "markdown",
   "id": "2003d890",
   "metadata": {},
   "source": [
    "## File System Statistics\n",
    "\n",
    "Create a function that generates statistics on the types of files in a directory:\n",
    "- Percentage of image files.\n",
    "- Percentage of document files."
   ]
  },
  {
   "cell_type": "code",
   "execution_count": null,
   "id": "5dad7809",
   "metadata": {},
   "outputs": [],
   "source": [
    "image_extensions = ['.jpg', '.jpeg', '.png', '.gif', '.bmp']\n",
    "document_extensions = ['.txt', '.pdf', '.doc', '.docx', '.xls', '.xlsx']"
   ]
  },
  {
   "cell_type": "code",
   "execution_count": 49,
   "id": "19fb3745",
   "metadata": {},
   "outputs": [
    {
     "name": "stdout",
     "output_type": "stream",
     "text": [
      "50\n",
      "100.0%\n",
      "0\n",
      "0.0%\n",
      "0\n",
      "0.0%\n"
     ]
    }
   ],
   "source": [
    "count_file = 0\n",
    "count_imag = 0\n",
    "count_all = 0\n",
    "\n",
    "for dire, subdir, files in os.walk(\".\"):\n",
    "    for file in files:\n",
    "        if file.endswith(\"*.txt\") or file.endswith(\"*.pdf\") or file.endswith(\"*.doc\") or file.endswith(\"*.docx\") or file.endswith(\"*.xls\") or file.endswith(\"*.xlsx\"):\n",
    "            count_file += 1\n",
    "        if file.endswith(\"*.jpg\") or file.endswith(\"*.png\") or file.endswith(\"*.jpeg\") or file.endswith(\"*.gif\") or file.endswith(\"*.bmp\"):\n",
    "            count_imag += 1\n",
    "        count_all += 1\n",
    "print(count_all)\n",
    "print(f\"{(count_all/count_all)*100}%\")\n",
    "print(count_file)\n",
    "print(f\"{(count_file/count_all)*100}%\")\n",
    "print(count_imag)\n",
    "print(f\"{(count_imag/count_all)*100}%\")\n",
    "\n"
   ]
  },
  {
   "attachments": {},
   "cell_type": "markdown",
   "id": "240de1bd",
   "metadata": {},
   "source": [
    "## Weather Simulator\n",
    "\n",
    "Simulate weather data for a month. For each day, randomly generate:\n",
    "- Temperature (consider reasonable ranges like 15°C to 40°C in summer).\n",
    "- Weather condition (Sunny, Rainy, Cloudy).\n",
    "\n",
    "At the end of the execution, show a summary of the minimum, maximum and average temperature for that month. Also, how many days were Sunny, Rainy and Cloudy, alongside the percentage.\n",
    "\n",
    "Example output:\n",
    "```\n",
    "2023-01-01: Rainy, 27°C\n",
    "2023-01-02: Sunny, 18°C\n",
    "2023-01-03: Rainy, 19°C\n",
    "2023-01-04: Cloudy, 24°C\n",
    "(...)\n",
    "\n",
    "Month Summary\n",
    "================\n",
    "Min. temperature: 15\n",
    "Max. temperature: 39\n",
    "Avg. temperature: 27.0\n",
    "Sunny days: 7 (23%)\n",
    "Rainy days: 10 (33%)\n",
    "Cloudy days: 13 (43%)\n",
    "```"
   ]
  },
  {
   "cell_type": "code",
   "execution_count": 84,
   "id": "eb01c51d",
   "metadata": {},
   "outputs": [
    {
     "name": "stdout",
     "output_type": "stream",
     "text": [
      "2023-01-01: Rainy, 22ºC\n",
      "2023-01-02: Rainy, 32ºC\n",
      "2023-01-03: Rainy, 34ºC\n",
      "2023-01-04: Sunny, 39ºC\n",
      "2023-01-05: Cloudy, 34ºC\n",
      "2023-01-06: Sunny, 20ºC\n",
      "2023-01-07: Rainy, 21ºC\n",
      "2023-01-08: Sunny, 37ºC\n",
      "2023-01-09: Sunny, 29ºC\n",
      "2023-01-10: Cloudy, 36ºC\n",
      "2023-01-11: Sunny, 15ºC\n",
      "2023-01-12: Sunny, 40ºC\n",
      "2023-01-13: Sunny, 32ºC\n",
      "2023-01-14: Cloudy, 25ºC\n",
      "2023-01-15: Sunny, 30ºC\n",
      "2023-01-16: Cloudy, 39ºC\n",
      "2023-01-17: Sunny, 30ºC\n",
      "2023-01-18: Sunny, 21ºC\n",
      "2023-01-19: Rainy, 35ºC\n",
      "2023-01-20: Rainy, 17ºC\n",
      "2023-01-21: Rainy, 25ºC\n",
      "2023-01-22: Cloudy, 23ºC\n",
      "2023-01-23: Cloudy, 29ºC\n",
      "2023-01-24: Sunny, 33ºC\n",
      "2023-01-25: Cloudy, 26ºC\n",
      "2023-01-26: Rainy, 39ºC\n",
      "2023-01-27: Sunny, 22ºC\n",
      "2023-01-28: Cloudy, 30ºC\n",
      "2023-01-29: Cloudy, 30ºC\n",
      "2023-01-30: Rainy, 18ºC\n",
      "2023-01-31: Rainy, 37ºC\n",
      "\n",
      " Month Summary\n",
      "Max temp: 40\n",
      "Min temp: 15\n",
      "Avg temp: 29.032258064516128\n",
      "Sunny days: 12 (3.72)\n",
      "Rainy days: 10 (3.1)\n",
      "Cloudy days: 9 (2.79)\n"
     ]
    }
   ],
   "source": [
    "l = []\n",
    "weath = [\"Rainy\", \"Sunny\", \"Cloudy\"]\n",
    "for i in range(1, 32):\n",
    "    l2 = []\n",
    "    if(i < 10):\n",
    "        l2.append(\"2023-01-0\" + str(i))\n",
    "        l2.append(random.choice(weath))\n",
    "        l2.append(random.randint(15,40))\n",
    "    else:\n",
    "        l2.append(\"2023-01-\" + str(i))\n",
    "        l2.append(random.choice(weath))\n",
    "        l2.append(random.randint(15,40))\n",
    "    l.append(l2)\n",
    "\n",
    "temp = [item[2] for item in l]\n",
    "wear = [item[1] for item in l]\n",
    "new_l = np.array(temp)\n",
    "max_temp = np.max(new_l)\n",
    "min_temp = np.min(new_l)\n",
    "avg = np.mean(new_l)\n",
    "leng = len(wear)\n",
    "sun = wear.count(\"Sunny\")\n",
    "rai = wear.count(\"Rainy\")\n",
    "clo = wear.count(\"Cloudy\")\n",
    "\n",
    "for day, we, te in l:\n",
    "    print(f\"{day}: {we}, {te}ºC\")\n",
    "print(\"\\n Month Summary\")\n",
    "print(f\"Max temp: {max_temp}\")\n",
    "print(f\"Min temp: {min_temp}\")\n",
    "print(f\"Avg temp: {avg}\")\n",
    "print(f\"Sunny days: {sun} ({(sun * leng)/100})\")\n",
    "print(f\"Rainy days: {rai} ({(rai * leng)/100})\")\n",
    "print(f\"Cloudy days: {clo} ({(clo * leng)/100})\")"
   ]
  },
  {
   "attachments": {},
   "cell_type": "markdown",
   "id": "d0ca1961",
   "metadata": {},
   "source": [
    "## Timed Mathematical Quiz\n",
    "\n",
    "Generate a series of random math questions (e.g. addition of two numbers) that the user has to answer.\n",
    "- The user has 15 seconds for answering as many question as he/she can.\n",
    "- After each question, the program shows if it is correct or not and the number of seconds it took to answer.\n",
    "- At the end, the total score is printed."
   ]
  },
  {
   "cell_type": "code",
   "execution_count": 91,
   "id": "ebfb6444",
   "metadata": {},
   "outputs": [
    {
     "name": "stdout",
     "output_type": "stream",
     "text": [
      "Time finished\n",
      "Puntuation 6\n"
     ]
    }
   ],
   "source": [
    "score = 0\n",
    "start = time.time() \n",
    "while True:      \n",
    "    num1 = random.randint(0,10)\n",
    "    num2 = random.randint(0,10)\n",
    "    total_time = time.time() - start\n",
    "    if total_time > 15:\n",
    "        print(\"Time finished\")\n",
    "        break\n",
    "    res = int(input(f\"{num1} + {num2} = \"))\n",
    "    if res == num1 + num2:\n",
    "        score += 1\n",
    "    else:\n",
    "        print(\"Lose\")\n",
    "        break\n",
    "print(f\"Puntuation {score}\")"
   ]
  },
  {
   "attachments": {},
   "cell_type": "markdown",
   "id": "513bd6c3",
   "metadata": {},
   "source": [
    "## Directory File Type Counter\n",
    "\n",
    "- Prompt the user for a directory path.\n",
    "- Count the number of each file type (based on file extensions).\n",
    "- Display a summary at the end."
   ]
  },
  {
   "cell_type": "code",
   "execution_count": 96,
   "id": "4bc83b07",
   "metadata": {},
   "outputs": [
    {
     "name": "stdout",
     "output_type": "stream",
     "text": [
      "1.4.Jupyter_notebooks.ipynb\n",
      "1.1.Intro.ipynb\n",
      "2.2.Strings.ipynb\n",
      "2.1.Numbers.ipynb\n",
      "2.3.Bonus_SOL.ipynb\n",
      "2.1.Numbers_SOL.ipynb\n",
      "2.2.Strings_SOL.ipynb\n",
      "2.3.Bonus.ipynb\n",
      "3.Conditionals.ipynb\n",
      "3.1.Bonus.ipynb\n",
      "3.1.Bonus_SOL.ipynb\n",
      "4.Lists_and_loops.ipynb\n",
      "5.3.Dictionaries.ipynb\n",
      "5.1.Tuples.ipynb\n",
      "5.2.Sets.ipynb\n",
      "4.Lists_and_loops_SOL.ipynb\n",
      "3.Conditionals_SOL.ipynb\n",
      "5.3.Dictionaries_SOL.ipynb\n",
      "5.1.Tuples_SOL.ipynb\n",
      "5.2.Sets_SOL.ipynb\n",
      "6.Functions.ipynb\n",
      "7.Scope_None_and_is.ipynb\n",
      "8.Modules_1.ipynb\n",
      "6.Functions_SOL.ipynb\n",
      "7.Scope_None_and_is_SOL.ipynb\n",
      "Total files: 25\n"
     ]
    }
   ],
   "source": [
    "pa = input(\"Write directory path: \")\n",
    "type_fi = input(\"Write the extension of the file: \")\n",
    "count = 0\n",
    "for dire, subdir, files in os.walk(pa):\n",
    "    for file in files:\n",
    "        if file.endswith(\".\" + type_fi):\n",
    "            count += 1\n",
    "            print(file)\n",
    "print(f\"Total files: {count}\")"
   ]
  },
  {
   "attachments": {},
   "cell_type": "markdown",
   "id": "f8c2a89b",
   "metadata": {},
   "source": [
    "## Iterative Data Filter\n",
    "\n",
    "- Given a dataset (list of tuples) of people with their names, ages, and incomes, filter out those who are under 21 and whose income is below the average.\n",
    "- Display the filtered list sorted by income."
   ]
  },
  {
   "cell_type": "code",
   "execution_count": 97,
   "id": "85ab5e75",
   "metadata": {},
   "outputs": [],
   "source": [
    "data = [\n",
    "    (\"Alice\", 25, 30000),\n",
    "    (\"Bob\", 19, 32000),\n",
    "    (\"Bob\", 20, 22000),\n",
    "    (\"Charlie\", 30, 25000),\n",
    "    (\"Diana\", 22, 28000),\n",
    "    (\"Diana\", 20, 40000),\n",
    "]"
   ]
  },
  {
   "cell_type": "code",
   "execution_count": 111,
   "id": "de61b1b5",
   "metadata": {},
   "outputs": [
    {
     "name": "stdout",
     "output_type": "stream",
     "text": [
      "[False  True  True False False  True]\n",
      "29500.0\n",
      "[['Bob' '20' '22000']]\n",
      "[['Bob' '20' '22000']]\n"
     ]
    }
   ],
   "source": [
    "age = [item[1] for item in data]\n",
    "mone = [item[2] for item in data] \n",
    "arr = np.array(age)\n",
    "arr2 = np.array(mone)\n",
    "resu = np.less(arr, 21) #esta no hace falta\n",
    "avg = np.mean(arr2)\n",
    "filt = np.array(data)[np.logical_and(arr < 21, arr2 < avg)]\n",
    "sor = filt[np.argsort(filt[:, 2])]  #[:,2] es otra manera de filtrar por la columna que deseas\n",
    "print(resu)\n",
    "print(avg)\n",
    "print(filt)\n",
    "print(filt)"
   ]
  },
  {
   "attachments": {},
   "cell_type": "markdown",
   "id": "ef40dc8a",
   "metadata": {},
   "source": [
    "## Data Analysis Tool\n",
    "\n",
    "Build a simple data analysis tool.\n",
    "\n",
    "Given a dataset of sales transactions (including date of the sale, different items sold together, and price), determine:\n",
    "- Total sales.\n",
    "- Average sale value.\n",
    "- Number of transactions per day.\n",
    "- Most frequent **pair** of items sold together."
   ]
  },
  {
   "cell_type": "code",
   "execution_count": null,
   "id": "fab48a3d",
   "metadata": {},
   "outputs": [],
   "source": [
    "sales = \"\"\"\n",
    "date,item,amount\n",
    "2022-05-01,apple|orange,4.5\n",
    "2022-05-01,banana|grapes,3.0\n",
    "2022-05-02,apple|banana|orange,3.5\n",
    "2022-05-03,apple|grapes,4.0\n",
    "2022-05-04,orange|grapes|apple,4.8\n",
    "2022-05-05,banana|orange|grapes,6.0\n",
    "\"\"\""
   ]
  },
  {
   "cell_type": "code",
   "execution_count": 124,
   "id": "4b2230a7",
   "metadata": {},
   "outputs": [
    {
     "name": "stdout",
     "output_type": "stream",
     "text": [
      "4.3\n",
      "25.8\n",
      "Number of transactions per day:\n",
      "2022-05-01    2\n",
      "2022-05-02    1\n",
      "2022-05-03    1\n",
      "2022-05-04    1\n",
      "2022-05-05    1\n",
      "Name: Fecha, dtype: int64\n",
      "La combinación más frecuente de artículos vendidos juntos es: ('apple', 'orange')\n"
     ]
    }
   ],
   "source": [
    "import pandas as pd\n",
    "from itertools import combinations\n",
    "from collections import Counter\n",
    "\n",
    "l = [[\"2022-05-01\", [\"apple\", \"orange\"], 4.5],\n",
    "      [\"2022-05-01\", [\"banana\",\"grapes\"], 3.0],\n",
    "      [\"2022-05-02\", [\"apple\", \"banana\", \"orange\"], 3.5],\n",
    "      [\"2022-05-03\", [\"apple\", \"grapes\"], 4.0],\n",
    "      [\"2022-05-04\", [\"orange\", \"grapes\", \"apple\"], 4.8],\n",
    "      [\"2022-05-05\", [\"banana\", \"orange\", \"grapes\"], 6.0]\n",
    "      ]\n",
    "total_sales = [item[2] for item in l]\n",
    "days = [item[0] for item in l]\n",
    "sales = np.array(total_sales)\n",
    "avg = np.mean(sales)\n",
    "total = np.sum(sales)\n",
    "day = np.array(days)\n",
    "print(avg)\n",
    "print(total)\n",
    "\n",
    "# Convertir los datos en un DataFrame de pandas\n",
    "df = pd.DataFrame(l, columns=[\"Fecha\", \"Items\", \"Precio\"])\n",
    "\n",
    "transactions_per_day = df[\"Fecha\"].value_counts().sort_index()\n",
    "print(\"Number of transactions per day:\")\n",
    "print(transactions_per_day)\n",
    "\n",
    "# Crear una columna con todas las combinaciones posibles de los items\n",
    "df[\"Combinaciones\"] = df[\"Items\"].apply(lambda x: list(combinations(sorted(x), 2)))\n",
    "\n",
    "# Contar la frecuencia de las combinaciones\n",
    "frecuencia_combinaciones = Counter([pair for sublist in df[\"Combinaciones\"] for pair in sublist])\n",
    "\n",
    "# Encontrar la combinación más frecuente\n",
    "combinacion_mas_frecuente = frecuencia_combinaciones.most_common(1)[0][0]\n",
    "\n",
    "print(\"La combinación más frecuente de artículos vendidos juntos es:\", combinacion_mas_frecuente)"
   ]
  },
  {
   "attachments": {},
   "cell_type": "markdown",
   "id": "a71ebfd8",
   "metadata": {},
   "source": [
    "## Process Simulator\n",
    "\n",
    "Simulate a process system.\n",
    "\n",
    "- Generate random \"processes\" that have a random execution time (e.g. 10 processes).\n",
    "- Display them in a queue (they are processed sequentially in order of arrival).\n",
    "- Execute them one by one, showing the process ID and execution time.\n",
    "- Print a log of executed processes and their respective execution times.\n",
    "\n",
    "Example output:\n",
    "```\n",
    "Executing process 0...\n",
    "Process 0 executed in 1.00 seconds\n",
    "Executing process 1...\n",
    "Process 1 executed in 2.00 seconds\n",
    "Executing process 2...\n",
    "Process 2 executed in 5.00 seconds\n",
    "(...)\n",
    "```"
   ]
  },
  {
   "cell_type": "code",
   "execution_count": 2,
   "id": "cdbbe6c8",
   "metadata": {},
   "outputs": [
    {
     "name": "stdout",
     "output_type": "stream",
     "text": [
      "Executin process 0...\n",
      "Process 0 executed in 10 seconds\n",
      "Executin process 1...\n",
      "Process 1 executed in 1 seconds\n",
      "Executin process 2...\n",
      "Process 2 executed in 8 seconds\n",
      "Executin process 3...\n",
      "Process 3 executed in 6 seconds\n",
      "Executin process 4...\n",
      "Process 4 executed in 4 seconds\n",
      "Executin process 5...\n",
      "Process 5 executed in 6 seconds\n",
      "Executin process 6...\n",
      "Process 6 executed in 2 seconds\n",
      "Executin process 7...\n",
      "Process 7 executed in 9 seconds\n",
      "Executin process 8...\n",
      "Process 8 executed in 10 seconds\n",
      "Executin process 9...\n",
      "Process 9 executed in 6 seconds\n",
      "Executin process 10...\n",
      "Process 10 executed in 7 seconds\n"
     ]
    }
   ],
   "source": [
    "l = []\n",
    "for i in range(0,11):\n",
    "    l.append(random.randint(1,10))\n",
    "\n",
    "for i in range(len(l)):\n",
    "    print(f\"Executin process {i}...\")\n",
    "    time.sleep(l[i])\n",
    "    print(f\"Process {i} executed in {l[i]} seconds\")"
   ]
  },
  {
   "attachments": {},
   "cell_type": "markdown",
   "id": "cf6dff11",
   "metadata": {},
   "source": [
    "# Bonus"
   ]
  },
  {
   "attachments": {},
   "cell_type": "markdown",
   "id": "80e18bea",
   "metadata": {},
   "source": [
    "## Automated File Backup System\n",
    "\n",
    "Backup files automatically.\n",
    "\n",
    "- Detect new or modified files in a directory.\n",
    "- Backup these files (copy them to another folder for simplicity) at specified intervals using the time module. In reality, this other folder would be an external device, either physical or in the cloud.\n",
    "- Organize backups to run at specific date and time intervals."
   ]
  },
  {
   "cell_type": "code",
   "execution_count": null,
   "id": "531c41fd",
   "metadata": {},
   "outputs": [],
   "source": []
  },
  {
   "attachments": {},
   "cell_type": "markdown",
   "id": "705b1c2d",
   "metadata": {},
   "source": [
    "## Path Finder\n",
    "\n",
    "Develop a toolkit that helps a user navigate a grid-based board.\n",
    "\n",
    "Overview:\n",
    "- `grid.py`: Helps in creating a grid of any size filled with default values.\n",
    "- `path_algorithm.py`: Contains the logic to find a path from a start to end point on the grid.\n",
    "- `navigator.py`: A user interface to input the grid size, start, and end point. It then uses the above modules to display the path.\n",
    "\n",
    "Details:\n",
    "\n",
    "- `grid.py`:\n",
    "    - `make_grid(rows, columns)`: Returns a 2D list (grid) filled with '0's with the provided rows and columns.\n",
    "    - `print_grid(grid)`: Display the grid.\n",
    "\n",
    "- `path_algorithm.py`:\n",
    "    - Implement a Breadth-First Search (BFS) algorithm to find the shortest path between two points on a grid.\n",
    "    - `find_path(grid, start, end)`: Using BFS, find the shortest path from start to end in the given grid. Return a list of coordinates to trace the path.\n",
    "    - The grid can have obstacles (marked as 'X') that the BFS needs to navigate around.\n",
    "    \n",
    "- main program (here in the notebook):\n",
    "    - User is prompted to input the grid dimensions: rows and columns.\n",
    "    - Then they input the start point (row and column) and the end point (row and column).\n",
    "    - The user also inputs the locations of obstacles on the grid.\n",
    "    - The program should then dispay the grid with the shortest path marked (e.g., with `*`) from start to end, avoiding the obstacles.\n",
    "    \n",
    "Example:\n",
    "- User inputs:\n",
    "```\n",
    "Rows: 5\n",
    "Columns: 5\n",
    "Start: 0 0\n",
    "End: 4 4\n",
    "Obstacles: 1 2, 2 2, 3 2\n",
    "```\n",
    "\n",
    "- Output:\n",
    "```\n",
    "S 0 0 0 0\n",
    "0 0 X 0 0\n",
    "0 0 X 0 0\n",
    "0 0 X 0 0\n",
    "0 0 0 0 E\n",
    "```\n",
    "\n",
    "Here, 'S' denotes the start, 'E' denotes the end, 'X' are the obstacles, and '\\*' marks the path. In this case, the path should find its way around the column of obstacles to reach the end point."
   ]
  },
  {
   "cell_type": "code",
   "execution_count": null,
   "id": "a4638161",
   "metadata": {},
   "outputs": [],
   "source": []
  },
  {
   "attachments": {},
   "cell_type": "markdown",
   "id": "f51c26c8",
   "metadata": {},
   "source": [
    "## Dynamic File System Navigator with Command Execution\n",
    "\n",
    "Create a program that navigates through the file system dynamically and allows users to execute certain commands on files and folders.\n",
    "\n",
    "Requirements:\n",
    "\n",
    "1. Navigation:\n",
    "    - Display the contents of the current directory.\n",
    "    - Allow users to navigate into directories and back out.\n",
    "    - Display the path of the current directory.\n",
    "\n",
    "\n",
    "2. File/Folder Operations. Allow users to:\n",
    "    - Create a new folder.\n",
    "    - Create a new file.\n",
    "    - Read the contents of a text file.\n",
    "    - Delete files or folders.\n",
    "    - Rename files or folders.\n",
    "    - Copy a file from one directory and paste it in another.\n",
    "\n",
    "\n",
    "3. Log:\n",
    "    - Keep a log of all operations performed by the user.\n",
    "    - Log entries should be timestamped.\n",
    "   \n",
    "   \n",
    "4. Exit:\n",
    "    - Provide an option to safely exit the program.\n",
    "\n",
    "\n",
    "5. Bonus:\n",
    "    - Add functionality to compress and decompress files.\n",
    "    - Integrate a basic search feature to find files or folders.\n",
    "    \n",
    "    \n",
    "Modules to use:\n",
    "- `os`: For directory navigation and file operations.\n",
    "- `shutil`: For operations like copying files.\n",
    "- `datetime`: For precise timestamping and setting the timer.\n",
    "- `gzip` (for the bonus task): For compressing and decompressing files."
   ]
  },
  {
   "cell_type": "code",
   "execution_count": null,
   "id": "573aff3c",
   "metadata": {},
   "outputs": [],
   "source": []
  }
 ],
 "metadata": {
  "kernelspec": {
   "display_name": "Python 3 (ipykernel)",
   "language": "python",
   "name": "python3"
  },
  "language_info": {
   "codemirror_mode": {
    "name": "ipython",
    "version": 3
   },
   "file_extension": ".py",
   "mimetype": "text/x-python",
   "name": "python",
   "nbconvert_exporter": "python",
   "pygments_lexer": "ipython3",
   "version": "3.11.4"
  },
  "toc": {
   "base_numbering": 1,
   "nav_menu": {},
   "number_sections": true,
   "sideBar": true,
   "skip_h1_title": false,
   "title_cell": "Table of Contents",
   "title_sidebar": "Contents",
   "toc_cell": false,
   "toc_position": {
    "height": "calc(100% - 180px)",
    "left": "10px",
    "top": "150px",
    "width": "288px"
   },
   "toc_section_display": true,
   "toc_window_display": true
  },
  "varInspector": {
   "cols": {
    "lenName": 16,
    "lenType": 16,
    "lenVar": 40
   },
   "kernels_config": {
    "python": {
     "delete_cmd_postfix": "",
     "delete_cmd_prefix": "del ",
     "library": "var_list.py",
     "varRefreshCmd": "print(var_dic_list())"
    },
    "r": {
     "delete_cmd_postfix": ") ",
     "delete_cmd_prefix": "rm(",
     "library": "var_list.r",
     "varRefreshCmd": "cat(var_dic_list()) "
    }
   },
   "types_to_exclude": [
    "module",
    "function",
    "builtin_function_or_method",
    "instance",
    "_Feature"
   ],
   "window_display": false
  }
 },
 "nbformat": 4,
 "nbformat_minor": 5
}
