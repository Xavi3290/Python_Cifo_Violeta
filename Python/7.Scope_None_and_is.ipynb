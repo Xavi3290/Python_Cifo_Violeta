{
 "cells": [
  {
   "attachments": {},
   "cell_type": "markdown",
   "id": "7ddc101f",
   "metadata": {},
   "source": [
    "# Variable Scope "
   ]
  },
  {
   "attachments": {},
   "cell_type": "markdown",
   "id": "e1bbcb13",
   "metadata": {},
   "source": [
    "## Basic Scope\n",
    "\n",
    "What will be printed? Think and run it."
   ]
  },
  {
   "cell_type": "code",
   "execution_count": 1,
   "id": "407058cb",
   "metadata": {},
   "outputs": [
    {
     "name": "stdout",
     "output_type": "stream",
     "text": [
      "10\n"
     ]
    }
   ],
   "source": [
    "x = 10\n",
    "\n",
    "def print_x():\n",
    "    print(x)\n",
    "\n",
    "print_x()"
   ]
  },
  {
   "attachments": {},
   "cell_type": "markdown",
   "id": "0604e301",
   "metadata": {},
   "source": [
    "## Local Scope:\n",
    "\n",
    "What will be printed? Think and run it."
   ]
  },
  {
   "cell_type": "code",
   "execution_count": 2,
   "id": "8a5cde05",
   "metadata": {},
   "outputs": [
    {
     "name": "stdout",
     "output_type": "stream",
     "text": [
      "5\n",
      "10\n"
     ]
    }
   ],
   "source": [
    "x = 10\n",
    "\n",
    "def change_x():\n",
    "    x = 5\n",
    "    print(x)\n",
    "\n",
    "change_x()\n",
    "print(x)"
   ]
  },
  {
   "attachments": {},
   "cell_type": "markdown",
   "id": "a7e14e9f",
   "metadata": {},
   "source": [
    "## Nested Functions\n",
    "\n",
    "What will be printed? Think and run it."
   ]
  },
  {
   "cell_type": "code",
   "execution_count": 3,
   "id": "abe5977b",
   "metadata": {},
   "outputs": [
    {
     "name": "stdout",
     "output_type": "stream",
     "text": [
      "inner\n",
      "outer\n"
     ]
    }
   ],
   "source": [
    "def outer():\n",
    "    x = 'outer'\n",
    "    def inner():\n",
    "        x = 'inner'\n",
    "        print(x)\n",
    "    inner()\n",
    "    print(x)\n",
    "    \n",
    "outer()"
   ]
  },
  {
   "attachments": {},
   "cell_type": "markdown",
   "id": "3a3c3a5d",
   "metadata": {},
   "source": [
    "## Changing arguments\n",
    "\n",
    "What will be printed? Think and run it."
   ]
  },
  {
   "cell_type": "code",
   "execution_count": 2,
   "id": "a578ba6b",
   "metadata": {},
   "outputs": [
    {
     "name": "stdout",
     "output_type": "stream",
     "text": [
      "1\n",
      "[3, 4]\n"
     ]
    }
   ],
   "source": [
    "def modify_arguments(x, lst):\n",
    "    x = 8\n",
    "    lst.append(3)\n",
    "    lst.append(4)\n",
    "\n",
    "n = 1\n",
    "lst = []\n",
    "modify_arguments(n, lst)\n",
    "\n",
    "print(n)\n",
    "print(lst)"
   ]
  },
  {
   "attachments": {},
   "cell_type": "markdown",
   "id": "94a78f69",
   "metadata": {},
   "source": [
    "## Default Argument\n",
    "\n",
    "What will be printed? Think and run it."
   ]
  },
  {
   "cell_type": "code",
   "execution_count": 3,
   "id": "c32d8832",
   "metadata": {},
   "outputs": [
    {
     "name": "stdout",
     "output_type": "stream",
     "text": [
      "[1]\n",
      "[1, 2]\n"
     ]
    }
   ],
   "source": [
    "def append_to_list(value, lst=[]):\n",
    "    lst.append(value)\n",
    "    return lst\n",
    "\n",
    "print(append_to_list(1))\n",
    "print(append_to_list(2))"
   ]
  },
  {
   "attachments": {},
   "cell_type": "markdown",
   "id": "b6f670a7",
   "metadata": {},
   "source": [
    "## Changing List Inside Function\n",
    "\n",
    "What will be printed? Think and run it."
   ]
  },
  {
   "cell_type": "code",
   "execution_count": 4,
   "id": "8b11645c",
   "metadata": {},
   "outputs": [
    {
     "name": "stdout",
     "output_type": "stream",
     "text": [
      "Inside function: [10, 11, 12]\n",
      "Outside function: [1, 2, 3, 4]\n"
     ]
    }
   ],
   "source": [
    "def modify_list(lst):\n",
    "    lst.append(4)\n",
    "    lst = [10, 11, 12]\n",
    "    print(\"Inside function:\", lst)\n",
    "\n",
    "numbers = [1, 2, 3]\n",
    "modify_list(numbers)\n",
    "print(\"Outside function:\", numbers)"
   ]
  },
  {
   "attachments": {},
   "cell_type": "markdown",
   "id": "b6daeacb",
   "metadata": {},
   "source": [
    "This code snippet deals with the concept of reference and variable binding in Python, especially when using mutable types like lists.\n",
    "\n",
    "1. In the function, the `append` method modified the list that lst referenced (which is also what `numbers` referenced).\n",
    "2. The reassignment of `lst` only changed what `lst` itself pointed to; it did not change the contents of the original `numbers` list."
   ]
  },
  {
   "attachments": {},
   "cell_type": "markdown",
   "id": "a9e06cd9",
   "metadata": {},
   "source": [
    "# `None` and `is`"
   ]
  },
  {
   "attachments": {},
   "cell_type": "markdown",
   "id": "d74753aa",
   "metadata": {},
   "source": [
    "## Basic None\n",
    "\n",
    "Write a function named `is_empty` that takes in a string and returns `True` if the string is `None` or empty, otherwise `False`."
   ]
  },
  {
   "cell_type": "code",
   "execution_count": 6,
   "id": "c154088a",
   "metadata": {},
   "outputs": [
    {
     "data": {
      "text/plain": [
       "False"
      ]
     },
     "execution_count": 6,
     "metadata": {},
     "output_type": "execute_result"
    }
   ],
   "source": [
    "def is_empty(text):\n",
    "    if text is None:\n",
    "        return True\n",
    "    else:\n",
    "        return False\n",
    "    \n",
    "s = None\n",
    "is_empty(\"hola\")"
   ]
  },
  {
   "attachments": {},
   "cell_type": "markdown",
   "id": "e279fb4a",
   "metadata": {},
   "source": [
    "## is vs ==\n",
    "\n",
    "For each of the following pairs, predict whether they would be `True` or `False`. Think and run it."
   ]
  },
  {
   "cell_type": "code",
   "execution_count": 7,
   "id": "c18f2bae",
   "metadata": {},
   "outputs": [
    {
     "data": {
      "text/plain": [
       "False"
      ]
     },
     "execution_count": 7,
     "metadata": {},
     "output_type": "execute_result"
    }
   ],
   "source": [
    "[] is []"
   ]
  },
  {
   "cell_type": "code",
   "execution_count": 8,
   "id": "1ff7246d",
   "metadata": {},
   "outputs": [
    {
     "data": {
      "text/plain": [
       "True"
      ]
     },
     "execution_count": 8,
     "metadata": {},
     "output_type": "execute_result"
    }
   ],
   "source": [
    "[] == []"
   ]
  },
  {
   "cell_type": "code",
   "execution_count": 9,
   "id": "af0aad8a",
   "metadata": {},
   "outputs": [
    {
     "data": {
      "text/plain": [
       "True"
      ]
     },
     "execution_count": 9,
     "metadata": {},
     "output_type": "execute_result"
    }
   ],
   "source": [
    "None is None"
   ]
  },
  {
   "cell_type": "code",
   "execution_count": 10,
   "id": "e498e8ba",
   "metadata": {},
   "outputs": [
    {
     "name": "stderr",
     "output_type": "stream",
     "text": [
      "<>:1: SyntaxWarning: \"is\" with a literal. Did you mean \"==\"?\n",
      "<>:1: SyntaxWarning: \"is\" with a literal. Did you mean \"==\"?\n",
      "C:\\Users\\Alumne_mati1\\AppData\\Local\\Temp\\ipykernel_2216\\1783323536.py:1: SyntaxWarning: \"is\" with a literal. Did you mean \"==\"?\n",
      "  5 is 5\n"
     ]
    },
    {
     "data": {
      "text/plain": [
       "True"
      ]
     },
     "execution_count": 10,
     "metadata": {},
     "output_type": "execute_result"
    }
   ],
   "source": [
    "5 is 5"
   ]
  },
  {
   "cell_type": "code",
   "execution_count": 11,
   "id": "e7d1682e",
   "metadata": {},
   "outputs": [
    {
     "name": "stderr",
     "output_type": "stream",
     "text": [
      "<>:1: SyntaxWarning: \"is\" with a literal. Did you mean \"==\"?\n",
      "<>:1: SyntaxWarning: \"is\" with a literal. Did you mean \"==\"?\n",
      "C:\\Users\\Alumne_mati1\\AppData\\Local\\Temp\\ipykernel_2216\\114188319.py:1: SyntaxWarning: \"is\" with a literal. Did you mean \"==\"?\n",
      "  5.0 is 5.0\n"
     ]
    },
    {
     "data": {
      "text/plain": [
       "True"
      ]
     },
     "execution_count": 11,
     "metadata": {},
     "output_type": "execute_result"
    }
   ],
   "source": [
    "5.0 is 5.0"
   ]
  },
  {
   "cell_type": "code",
   "execution_count": 12,
   "id": "d8cb4396",
   "metadata": {},
   "outputs": [
    {
     "data": {
      "text/plain": [
       "True"
      ]
     },
     "execution_count": 12,
     "metadata": {},
     "output_type": "execute_result"
    }
   ],
   "source": [
    "5.0 == 5.0"
   ]
  },
  {
   "attachments": {},
   "cell_type": "markdown",
   "id": "893b4e38",
   "metadata": {},
   "source": [
    "## `None` placeholder\n",
    "\n",
    "Define a function `retrieve_from_dict` that takes a dictionary and a key as arguments. It should return the value associated with the key if it exists. If the key does not exist, it should return `None`."
   ]
  },
  {
   "cell_type": "code",
   "execution_count": 21,
   "id": "96877f33",
   "metadata": {},
   "outputs": [
    {
     "name": "stdout",
     "output_type": "stream",
     "text": [
      "3\n",
      "None\n"
     ]
    }
   ],
   "source": [
    "def retrieve_from_dict(d, key):\n",
    "    for ke, val in d.items():\n",
    "        if ke == key:\n",
    "            return val\n",
    "    return None\n",
    "\n",
    "d = {\"a\":1, \"b\":2, \"c\":3}\n",
    "print(retrieve_from_dict(d, \"c\"))\n",
    "print(retrieve_from_dict(d, \"d\"))"
   ]
  },
  {
   "attachments": {},
   "cell_type": "markdown",
   "id": "a44acdef",
   "metadata": {},
   "source": [
    "## Checking for None\n",
    "\n",
    "Write a function `has_none_value` that accepts a list and checks if any element in the list is `None`. It should return `True` if there's at least one `None`, otherwise `False`."
   ]
  },
  {
   "cell_type": "code",
   "execution_count": 20,
   "id": "9ef711db",
   "metadata": {},
   "outputs": [
    {
     "name": "stdout",
     "output_type": "stream",
     "text": [
      "False\n",
      "True\n"
     ]
    }
   ],
   "source": [
    "def has_none_value(l):\n",
    "    for i in l:\n",
    "        if i == None:\n",
    "            return True\n",
    "    return False\n",
    "\n",
    "l = [\"a\", 1, 0]\n",
    "l2 = [\"a\", 1, None]\n",
    "print(has_none_value(l))\n",
    "print(has_none_value(l2))"
   ]
  },
  {
   "attachments": {},
   "cell_type": "markdown",
   "id": "e2c9033e",
   "metadata": {},
   "source": [
    "## Multiple None\n",
    "\n",
    "What will be printed? Think and run it."
   ]
  },
  {
   "cell_type": "code",
   "execution_count": 22,
   "id": "c3c5dac1",
   "metadata": {},
   "outputs": [],
   "source": [
    "a = None\n",
    "b = None\n",
    "c = 5"
   ]
  },
  {
   "cell_type": "code",
   "execution_count": 23,
   "id": "b071b32c",
   "metadata": {},
   "outputs": [
    {
     "data": {
      "text/plain": [
       "True"
      ]
     },
     "execution_count": 23,
     "metadata": {},
     "output_type": "execute_result"
    }
   ],
   "source": [
    "a is b"
   ]
  },
  {
   "cell_type": "code",
   "execution_count": 24,
   "id": "4563df22",
   "metadata": {},
   "outputs": [
    {
     "data": {
      "text/plain": [
       "True"
      ]
     },
     "execution_count": 24,
     "metadata": {},
     "output_type": "execute_result"
    }
   ],
   "source": [
    "a is None"
   ]
  },
  {
   "cell_type": "code",
   "execution_count": 25,
   "id": "a80e8bfb",
   "metadata": {},
   "outputs": [
    {
     "data": {
      "text/plain": [
       "True"
      ]
     },
     "execution_count": 25,
     "metadata": {},
     "output_type": "execute_result"
    }
   ],
   "source": [
    "b is None"
   ]
  },
  {
   "cell_type": "code",
   "execution_count": 26,
   "id": "db1ad336",
   "metadata": {},
   "outputs": [
    {
     "data": {
      "text/plain": [
       "False"
      ]
     },
     "execution_count": 26,
     "metadata": {},
     "output_type": "execute_result"
    }
   ],
   "source": [
    "c is None"
   ]
  },
  {
   "attachments": {},
   "cell_type": "markdown",
   "id": "1599410a",
   "metadata": {},
   "source": [
    "## Modify None\n",
    "\n",
    "What will be printed? Think and run it."
   ]
  },
  {
   "cell_type": "code",
   "execution_count": 27,
   "id": "23a84ba6",
   "metadata": {},
   "outputs": [
    {
     "name": "stdout",
     "output_type": "stream",
     "text": [
      "[1] [1]\n"
     ]
    }
   ],
   "source": [
    "def set_value(value=None):\n",
    "    if value is None:\n",
    "        value = []\n",
    "    value.append(1)\n",
    "    return value\n",
    "\n",
    "x = set_value()\n",
    "y = set_value()\n",
    "\n",
    "print(x, y)"
   ]
  },
  {
   "attachments": {},
   "cell_type": "markdown",
   "id": "89b05a04",
   "metadata": {},
   "source": [
    "# More...\n",
    "\n",
    "Continue with the previous day's exercises."
   ]
  }
 ],
 "metadata": {
  "kernelspec": {
   "display_name": "Python 3 (ipykernel)",
   "language": "python",
   "name": "python3"
  },
  "language_info": {
   "codemirror_mode": {
    "name": "ipython",
    "version": 3
   },
   "file_extension": ".py",
   "mimetype": "text/x-python",
   "name": "python",
   "nbconvert_exporter": "python",
   "pygments_lexer": "ipython3",
   "version": "3.11.4"
  },
  "toc": {
   "base_numbering": 1,
   "nav_menu": {},
   "number_sections": true,
   "sideBar": true,
   "skip_h1_title": false,
   "title_cell": "Table of Contents",
   "title_sidebar": "Contents",
   "toc_cell": false,
   "toc_position": {},
   "toc_section_display": true,
   "toc_window_display": true
  },
  "varInspector": {
   "cols": {
    "lenName": 16,
    "lenType": 16,
    "lenVar": 40
   },
   "kernels_config": {
    "python": {
     "delete_cmd_postfix": "",
     "delete_cmd_prefix": "del ",
     "library": "var_list.py",
     "varRefreshCmd": "print(var_dic_list())"
    },
    "r": {
     "delete_cmd_postfix": ") ",
     "delete_cmd_prefix": "rm(",
     "library": "var_list.r",
     "varRefreshCmd": "cat(var_dic_list()) "
    }
   },
   "types_to_exclude": [
    "module",
    "function",
    "builtin_function_or_method",
    "instance",
    "_Feature"
   ],
   "window_display": false
  }
 },
 "nbformat": 4,
 "nbformat_minor": 5
}
