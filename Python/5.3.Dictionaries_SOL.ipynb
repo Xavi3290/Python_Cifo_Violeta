{
 "cells": [
  {
   "cell_type": "markdown",
   "metadata": {},
   "source": [
    "# Dictionaries exercises"
   ]
  },
  {
   "cell_type": "markdown",
   "metadata": {},
   "source": [
    "## Squares\n",
    "\n",
    "Given a list of numbers, create a dictionary where the keys are the numbers and the values are the squares of the numbers.\n",
    "\n",
    "Example: [1, 2, 3, 4, 5] --> {1: 1, 2: 4, 3: 9, 4: 16, 5: 25}"
   ]
  },
  {
   "cell_type": "code",
   "execution_count": 11,
   "metadata": {},
   "outputs": [],
   "source": [
    "numbers = [1, 2, 3, 4, 5]"
   ]
  },
  {
   "cell_type": "code",
   "execution_count": 12,
   "metadata": {},
   "outputs": [
    {
     "data": {
      "text/plain": [
       "{1: 1, 2: 4, 3: 9, 4: 16, 5: 25}"
      ]
     },
     "execution_count": 12,
     "metadata": {},
     "output_type": "execute_result"
    }
   ],
   "source": [
    "{num: num ** 2 for num in numbers}"
   ]
  },
  {
   "cell_type": "markdown",
   "metadata": {},
   "source": [
    "## Merge\n",
    "\n",
    "Given two dictionaries, merge them into a new dictionary."
   ]
  },
  {
   "cell_type": "code",
   "execution_count": 8,
   "metadata": {},
   "outputs": [],
   "source": [
    "dict1 = {'a': 1, 'b': 2, 'c': 3}\n",
    "dict2 = {'d': 4, 'e': 5, 'f': 6}"
   ]
  },
  {
   "cell_type": "code",
   "execution_count": 10,
   "metadata": {},
   "outputs": [
    {
     "name": "stdout",
     "output_type": "stream",
     "text": [
      "{'a': 1, 'b': 2, 'c': 3, 'd': 4, 'e': 5, 'f': 6}\n"
     ]
    }
   ],
   "source": [
    "dict1.update(dict2)\n",
    "print(dict1)"
   ]
  },
  {
   "cell_type": "markdown",
   "metadata": {},
   "source": [
    "## Word frequency\n",
    "\n",
    "Given a string, create a dictionary with the frequency of each word in the string.\n",
    "\n",
    "Example: \"the lazy fox jumps over the lazy dog\" --> {'the': 2, 'lazy': 2, 'fox': 1, 'jumps': 1, 'over': 1, 'dog': 1}\n"
   ]
  },
  {
   "cell_type": "code",
   "execution_count": 1,
   "metadata": {},
   "outputs": [],
   "source": [
    "text = \"the lazy fox jumps over the lazy dog\""
   ]
  },
  {
   "cell_type": "code",
   "execution_count": 2,
   "metadata": {},
   "outputs": [
    {
     "name": "stdout",
     "output_type": "stream",
     "text": [
      "{'the': 2, 'lazy': 2, 'fox': 1, 'jumps': 1, 'over': 1, 'dog': 1}\n"
     ]
    }
   ],
   "source": [
    "# Create empty dictionary for word frequency\n",
    "word_frequency = {}\n",
    "\n",
    "# Split text into words (separated by a space) and iterate over each word\n",
    "for word in text.split(' '):\n",
    "    # Add word to dictionary if it doesn't exist (with a default value of 0),\n",
    "    # otherwise increment count\n",
    "    word_frequency[word] = word_frequency.get(word, 0) + 1\n",
    "\n",
    "print(word_frequency)"
   ]
  },
  {
   "cell_type": "markdown",
   "metadata": {},
   "source": [
    "## Character frequency\n",
    "\n",
    "Given a string, create a dictionary with the frequency of each character in the string."
   ]
  },
  {
   "cell_type": "code",
   "execution_count": 19,
   "metadata": {},
   "outputs": [],
   "source": [
    "text = \"the quick brown fox jumps over the lazy dog\""
   ]
  },
  {
   "cell_type": "code",
   "execution_count": 20,
   "metadata": {},
   "outputs": [
    {
     "name": "stdout",
     "output_type": "stream",
     "text": [
      "{'t': 2, 'h': 2, 'e': 3, ' ': 8, 'q': 1, 'u': 2, 'i': 1, 'c': 1, 'k': 1, 'b': 1, 'r': 2, 'o': 4, 'w': 1, 'n': 1, 'f': 1, 'x': 1, 'j': 1, 'm': 1, 'p': 1, 's': 1, 'v': 1, 'l': 1, 'a': 1, 'z': 1, 'y': 1, 'd': 1, 'g': 1}\n"
     ]
    }
   ],
   "source": [
    "char_frequency = {}\n",
    "for char in text:\n",
    "    char_frequency[char] = char_frequency.get(char, 0) + 1\n",
    "\n",
    "print(char_frequency)"
   ]
  },
  {
   "cell_type": "markdown",
   "metadata": {},
   "source": [
    "## Sort frequency\n",
    "\n",
    "Given the character frequency of the exercise above, sort it descendingly (greatest to lowest) by value."
   ]
  },
  {
   "cell_type": "code",
   "execution_count": 27,
   "metadata": {},
   "outputs": [
    {
     "data": {
      "text/plain": [
       "{' ': 8,\n",
       " 'o': 4,\n",
       " 'e': 3,\n",
       " 't': 2,\n",
       " 'h': 2,\n",
       " 'u': 2,\n",
       " 'r': 2,\n",
       " 'q': 1,\n",
       " 'i': 1,\n",
       " 'c': 1,\n",
       " 'k': 1,\n",
       " 'b': 1,\n",
       " 'w': 1,\n",
       " 'n': 1,\n",
       " 'f': 1,\n",
       " 'x': 1,\n",
       " 'j': 1,\n",
       " 'm': 1,\n",
       " 'p': 1,\n",
       " 's': 1,\n",
       " 'v': 1,\n",
       " 'l': 1,\n",
       " 'a': 1,\n",
       " 'z': 1,\n",
       " 'y': 1,\n",
       " 'd': 1,\n",
       " 'g': 1}"
      ]
     },
     "execution_count": 27,
     "metadata": {},
     "output_type": "execute_result"
    }
   ],
   "source": [
    "dict(sorted(char_frequency.items(), key=lambda item: item[1], reverse=True))"
   ]
  },
  {
   "cell_type": "markdown",
   "metadata": {},
   "source": [
    "## Swap key-values\n",
    "\n",
    "Given a dictionary, create a new dictionary with the keys and values swapped, so keys are the values and values are the keys."
   ]
  },
  {
   "cell_type": "code",
   "execution_count": 5,
   "metadata": {},
   "outputs": [],
   "source": [
    "my_dict = {'a': 1, 'b': 2, 'c': 3}"
   ]
  },
  {
   "cell_type": "code",
   "execution_count": 6,
   "metadata": {},
   "outputs": [
    {
     "name": "stdout",
     "output_type": "stream",
     "text": [
      "{1: 'a', 2: 'b', 3: 'c'}\n"
     ]
    }
   ],
   "source": [
    "inverted_dict = {value: key for key, value in my_dict.items()}\n",
    "print(inverted_dict)"
   ]
  },
  {
   "cell_type": "markdown",
   "metadata": {},
   "source": [
    "## Type groups\n",
    "\n",
    "Given a list of items of different types, create a dictionary where the keys are the types and the values are lists of items of that type."
   ]
  },
  {
   "cell_type": "code",
   "execution_count": 30,
   "metadata": {},
   "outputs": [],
   "source": [
    "items = [1, \"apple\", 3.14, 2, \"banana\", \"cat\", 5, 3.1415, \"dog\"]"
   ]
  },
  {
   "cell_type": "code",
   "execution_count": 38,
   "metadata": {},
   "outputs": [
    {
     "name": "stdout",
     "output_type": "stream",
     "text": [
      "{<class 'int'>: [1, 2, 5], <class 'str'>: ['apple', 'banana', 'cat', 'dog'], <class 'float'>: [3.14, 3.1415]}\n"
     ]
    }
   ],
   "source": [
    "grouped_items = {}\n",
    "for item in items:\n",
    "    item_type = type(item)\n",
    "    if item_type in grouped_items:\n",
    "        grouped_items[item_type].append(item)\n",
    "    else:\n",
    "        grouped_items[item_type] = [item]\n",
    "\n",
    "print(grouped_items)"
   ]
  },
  {
   "cell_type": "markdown",
   "metadata": {},
   "source": [
    "More elegant solution:"
   ]
  },
  {
   "cell_type": "code",
   "execution_count": 35,
   "metadata": {},
   "outputs": [
    {
     "name": "stdout",
     "output_type": "stream",
     "text": [
      "{<class 'int'>: [1, 2, 5], <class 'str'>: ['apple', 'banana', 'cat', 'dog'], <class 'float'>: [3.14, 3.1415]}\n"
     ]
    }
   ],
   "source": [
    "grouped_items = {}\n",
    "for item in items:\n",
    "    item_type = type(item)\n",
    "    grouped_items.setdefault(item_type, []).append(item)\n",
    "\n",
    "print(grouped_items)"
   ]
  },
  {
   "cell_type": "markdown",
   "metadata": {},
   "source": [
    "## Grades\n",
    "\n",
    "Given a list of students and their grades, create a dictionary where the keys are the students' names and the values are lists of their grades."
   ]
  },
  {
   "cell_type": "code",
   "execution_count": 41,
   "metadata": {},
   "outputs": [],
   "source": [
    "grades = [(\"Alice\", 8.5), (\"Bob\", 7.8), (\"Alice\", 9.0), (\"Bob\", 8.5), (\"Charlie\", 9.2), (\"Alice\", 9.5), (\"Charlie\", 6.1)]"
   ]
  },
  {
   "cell_type": "code",
   "execution_count": 42,
   "metadata": {},
   "outputs": [
    {
     "name": "stdout",
     "output_type": "stream",
     "text": [
      "{'Alice': [8.5, 9.0, 9.5], 'Bob': [7.8, 8.5], 'Charlie': [9.2, 6.1]}\n"
     ]
    }
   ],
   "source": [
    "grade_book = {}\n",
    "for name, grade in grades:\n",
    "    grade_book.setdefault(name, []).append(grade)\n",
    "\n",
    "print(grade_book)"
   ]
  },
  {
   "cell_type": "markdown",
   "metadata": {},
   "source": [
    "# Bonus"
   ]
  },
  {
   "cell_type": "markdown",
   "metadata": {},
   "source": [
    "## Birthdays\n",
    "\n",
    "Create a program that allows users to enter their friends' birthdays, store them in a dictionary. The user can type \"done\" when he/she is done entering data. After that, allow the user to look up the birthdays using their friends' names."
   ]
  },
  {
   "cell_type": "code",
   "execution_count": 46,
   "metadata": {},
   "outputs": [
    {
     "name": "stdout",
     "output_type": "stream",
     "text": [
      "Marc's birthday is on 12-1-12\n"
     ]
    }
   ],
   "source": [
    "birthdays = {}\n",
    "\n",
    "# Adding friends' birthdays\n",
    "while True:\n",
    "    name = input(\"Enter a friend's name or type 'done' to stop: \").strip()\n",
    "    if name.lower() == \"done\":\n",
    "        break\n",
    "    date = input(f\"Enter {name}'s birthday: \").strip()\n",
    "    birthdays[name] = date\n",
    "\n",
    "# Looking up friends' birthdays\n",
    "while True:\n",
    "    name = input(\"Enter a friend's name to look up their birthday or type 'done' to stop: \").strip()\n",
    "    if name.lower() == \"done\":\n",
    "        break\n",
    "    if name in birthdays:\n",
    "        print(f\"{name}'s birthday is on {birthdays[name]}\")\n",
    "    else:\n",
    "        print(f\"{name}'s birthday is not in the database.\")"
   ]
  },
  {
   "cell_type": "markdown",
   "metadata": {},
   "source": [
    "## Average movie rating\n",
    "\n",
    "Given a list of tuples containing movie titles and their ratings, create a dictionary where the keys are the movie titles and the values are the average ratings. Show the dictionary with movie and average rating sorted descendingly by average rating."
   ]
  },
  {
   "cell_type": "code",
   "execution_count": 69,
   "metadata": {},
   "outputs": [],
   "source": [
    "ratings = [\n",
    "    (\"The Godfather\", 9.2), (\"Pulp Fiction\", 8.9), (\"The Lord of the Rings: The Return of the King\", 8.8),\n",
    "    (\"The Godfather\", 9.5), (\"Pulp Fiction\", 8.5), (\"The Godfather\", 9.1), (\"The Lord of the Rings: The Return of the King\", 9.3),\n",
    "    (\"Pulp Fiction\", 9.7), (\"The Lord of the Rings: The Return of the King\", 9.99999999)]"
   ]
  },
  {
   "cell_type": "code",
   "execution_count": 70,
   "metadata": {},
   "outputs": [],
   "source": [
    "import numpy as np"
   ]
  },
  {
   "cell_type": "code",
   "execution_count": 71,
   "metadata": {},
   "outputs": [
    {
     "name": "stdout",
     "output_type": "stream",
     "text": [
      "{'The Lord of the Rings: The Return of the King': 9.37, 'The Godfather': 9.27, 'Pulp Fiction': 9.03}\n"
     ]
    }
   ],
   "source": [
    "movie_ratings = {}\n",
    "for movie, rating in ratings:\n",
    "    movie_ratings.setdefault(movie, []).append(rating)\n",
    "\n",
    "average_ratings = {movie: round(np.mean(ratings), 2) for movie, ratings in movie_ratings.items()}\n",
    "avg_ratings_sort = dict(sorted(average_ratings.items(), key=lambda item: item[1], reverse=True))\n",
    "\n",
    "print(avg_ratings_sort)"
   ]
  },
  {
   "cell_type": "markdown",
   "metadata": {},
   "source": [
    "## Course grades\n",
    "\n",
    "Given a list of tuples containing course names, student names, and their grades, create a nested dictionary where the keys are the course names and the values are dictionaries containing the students' names as keys and their grades as values.\n",
    "\n",
    "For example, the output for the grades below should be:\n",
    "\n",
    "`{'Calculus': {'Alice': 85, 'Bob': 90}, 'Physics': {'Bob': 78, 'Alice': 85, 'Charlie': 92}}`"
   ]
  },
  {
   "cell_type": "code",
   "execution_count": 47,
   "metadata": {},
   "outputs": [],
   "source": [
    "grades = [(\"Calculus\", \"Alice\", 85), (\"Physics\", \"Bob\", 78), (\"Calculus\", \"Bob\", 90), (\"Physics\", \"Alice\", 85), (\"Physics\", \"Charlie\", 92)]"
   ]
  },
  {
   "cell_type": "code",
   "execution_count": 48,
   "metadata": {},
   "outputs": [
    {
     "name": "stdout",
     "output_type": "stream",
     "text": [
      "{'Calculus': {'Alice': 85, 'Bob': 90}, 'Physics': {'Bob': 78, 'Alice': 85, 'Charlie': 92}}\n"
     ]
    }
   ],
   "source": [
    "course_grades = {}\n",
    "for course, student, grade in grades:\n",
    "    if course not in course_grades:\n",
    "        course_grades[course] = {}\n",
    "    course_grades[course][student] = grade\n",
    "\n",
    "print(course_grades)"
   ]
  },
  {
   "cell_type": "markdown",
   "metadata": {},
   "source": [
    "## Graph adjacency\n",
    "\n",
    "Given a list of edges in a graph, create a dictionary where the keys are the nodes and the values are lists of adjacent nodes.\n",
    "\n",
    "For example, for the edges below, the result should be:\n",
    "\n",
    "`{'A': ['B', 'C'], 'B': ['A', 'D'], 'C': ['A', 'D'], 'D': ['B', 'C', 'E'], 'E': ['D', 'F'], 'F': ['E']}`"
   ]
  },
  {
   "cell_type": "code",
   "execution_count": 73,
   "metadata": {},
   "outputs": [],
   "source": [
    "edges = [('A', 'B'), ('A', 'C'), ('B', 'D'), ('C', 'D'), ('D', 'E'), ('E', 'F')]"
   ]
  },
  {
   "cell_type": "code",
   "execution_count": 74,
   "metadata": {},
   "outputs": [
    {
     "name": "stdout",
     "output_type": "stream",
     "text": [
      "{'A': ['B', 'C'], 'B': ['A', 'D'], 'C': ['A', 'D'], 'D': ['B', 'C', 'E'], 'E': ['D', 'F'], 'F': ['E']}\n"
     ]
    }
   ],
   "source": [
    "graph = {}\n",
    "for node1, node2 in edges:\n",
    "    graph.setdefault(node1, []).append(node2)\n",
    "    graph.setdefault(node2, []).append(node1)\n",
    "\n",
    "print(graph)"
   ]
  },
  {
   "cell_type": "markdown",
   "metadata": {},
   "source": [
    "## List to Dictionary Conversion\n",
    "\n",
    "Create a Python program that converts a list of strings into a dictionary, where the key is the string and the value is the number of vowels in the string.\n",
    "\n",
    "Example: [\"apple\", \"banana\", \"cherry\"] --> {\"apple\": 2, \"banana\": 3, \"cherry\": 2}"
   ]
  },
  {
   "cell_type": "code",
   "execution_count": null,
   "metadata": {},
   "outputs": [],
   "source": [
    "lst = [\"apple\", \"banana\", \"cherry\"]"
   ]
  },
  {
   "cell_type": "code",
   "execution_count": 4,
   "metadata": {},
   "outputs": [
    {
     "name": "stdout",
     "output_type": "stream",
     "text": [
      "{'apple': 2, 'banana': 3, 'cherry': 1}\n"
     ]
    }
   ],
   "source": [
    "vowels = \"aeiouAEIOU\"\n",
    "result = {}\n",
    "\n",
    "for word in lst:\n",
    "    count = sum(1 for char in word if char in vowels)\n",
    "    result[word] = count\n",
    "\n",
    "print(result)\n"
   ]
  },
  {
   "cell_type": "markdown",
   "metadata": {},
   "source": [
    "## Dictionary Merging with Sum of Values\n",
    "\n",
    "You have two dictionaries with overlapping keys. Merge the dictionaries and, if a key is in both of them, sum the values."
   ]
  },
  {
   "cell_type": "code",
   "execution_count": 5,
   "metadata": {},
   "outputs": [],
   "source": [
    "dict1 = {'a': 10, 'b': 20, 'c': 30}\n",
    "dict2 = {'b': 70, 'c': 80, 'd': 90}"
   ]
  },
  {
   "cell_type": "code",
   "execution_count": 6,
   "metadata": {},
   "outputs": [
    {
     "name": "stdout",
     "output_type": "stream",
     "text": [
      "{'a': 10, 'b': 90, 'c': 110, 'd': 90}\n"
     ]
    }
   ],
   "source": [
    "merged_dict = dict1.copy()\n",
    "for key, value in dict2.items():\n",
    "    if key in merged_dict:\n",
    "        merged_dict[key] += value\n",
    "    else:\n",
    "        merged_dict[key] = value\n",
    "\n",
    "print(merged_dict)"
   ]
  },
  {
   "cell_type": "markdown",
   "metadata": {},
   "source": [
    "## Unique Values Dictionary Filter\n",
    "\n",
    "Given a dictionary, filter out keys with non-unique values.\n",
    "\n",
    "Example: {'a': 1, 'b': 2, 'c': 3, 'd': 2} --> {'a': 1, 'c': 3}"
   ]
  },
  {
   "cell_type": "code",
   "execution_count": 13,
   "metadata": {},
   "outputs": [],
   "source": [
    "d = {\"a\": 1, \"b\": 2, \"c\": 3, \"d\": 2}"
   ]
  },
  {
   "cell_type": "code",
   "execution_count": 14,
   "metadata": {},
   "outputs": [
    {
     "name": "stdout",
     "output_type": "stream",
     "text": [
      "{'a': 1, 'c': 3}\n"
     ]
    }
   ],
   "source": [
    "value_count = {}\n",
    "for key, value in d.items():\n",
    "    if value in value_count:\n",
    "        value_count[value].append(key)\n",
    "    else:\n",
    "        value_count[value] = [key]\n",
    "\n",
    "unique_val_dict = {key: value for key, value in d.items() if len(value_count[value]) == 1}\n",
    "print(unique_val_dict)"
   ]
  },
  {
   "cell_type": "markdown",
   "metadata": {},
   "source": [
    "## Intersection of Two Arrays\n",
    "\n",
    "Given two lists, `list1` and `list2`, find the intersection of the two lists and store the result in a dictionary where the key is the intersecting element and the value is the number of times it appears in both lists.\n",
    "\n",
    "The output of the given lists below should be: `{2: 4, 3: 2, 5: 2}`."
   ]
  },
  {
   "cell_type": "code",
   "execution_count": 16,
   "metadata": {},
   "outputs": [],
   "source": [
    "list1 = [1, 2, 2, 3, 4, 5, 6]\n",
    "list2 = [2, 2, 3, 5, 7, 8]"
   ]
  },
  {
   "cell_type": "code",
   "execution_count": 18,
   "metadata": {},
   "outputs": [
    {
     "name": "stdout",
     "output_type": "stream",
     "text": [
      "{2: 4, 3: 2, 5: 2}\n"
     ]
    }
   ],
   "source": [
    "intersect_dict = {}\n",
    "for num in list1:\n",
    "    if num in list2:\n",
    "        intersect_dict[num] = list1.count(num) + list2.count(num)\n",
    "print(intersect_dict)"
   ]
  },
  {
   "cell_type": "markdown",
   "metadata": {},
   "source": [
    "## Number of Atoms\n",
    "\n",
    "Given a chemical formula as a string, you need to parse the string and return a dictionary containing the count of each atom.\n",
    "\n",
    "Key Points:\n",
    "- Elements Representation:\n",
    "    - Atomic elements are represented by an uppercase character, followed by zero or more lowercase letters.\n",
    "    - For example: \"O\" for Oxygen, \"H\" for Hydrogen, \"Na\" for Sodium.\n",
    "- Atoms Count:\n",
    "    - If the element is followed by a number, it represents the count of that element.\n",
    "    - If there is no number following the element, it is assumed to be 1.\n",
    "\n",
    "Write a Python program that takes a chemical formula as a string and returns a dictionary representing the count of each atom.\n",
    "\n",
    "You can assume:\n",
    "- The given characters represent an element, you don't need to check whether this element's name really exists.\n",
    "- Each element only appears once in the string sequence.\n",
    "- The input string sequence is well formatted.\n",
    "\n",
    "Examples:\n",
    "- 'H2O' --> {'H':2, 'O': 1}\n",
    "- 'Mg2N12' --> {'Mg': 2, 'N': 12}\n",
    "- 'K4ONS36' --> {'K': 4, 'O': 1, 'N': 1, 'S': 36}\n",
    "- 'SP4CNH232O10Whatever' --> {'S': 1, 'P': 4, 'C': 1, 'N': 1, 'H': 232, 'O': 10, 'Whatever': 1}"
   ]
  },
  {
   "cell_type": "code",
   "execution_count": 41,
   "metadata": {},
   "outputs": [
    {
     "name": "stdout",
     "output_type": "stream",
     "text": [
      "{'Mg': 2, 'N': 12}\n"
     ]
    }
   ],
   "source": [
    "formula = 'Mg2N12'\n",
    "stack = {}\n",
    "name = ''\n",
    "number = ''\n",
    "\n",
    "for e in formula:\n",
    "    if e.isalpha():\n",
    "        # is character\n",
    "        if e.isupper():\n",
    "            # init of the element's name\n",
    "            if name:\n",
    "                # if there was another processed element, update the stack\n",
    "                stack[name] = int(number) if number else 1\n",
    "                number = ''\n",
    "            name = e\n",
    "        else:\n",
    "            # continuation of the element's name\n",
    "            name += e\n",
    "    elif e.isdigit():\n",
    "        # is digit\n",
    "        number += e\n",
    "    else:\n",
    "        print('Error: Invalid character.')\n",
    "\n",
    "# make sure the last element is included\n",
    "stack[name] = int(number) if number else 1\n",
    "\n",
    "print(stack)\n",
    "        "
   ]
  }
 ],
 "metadata": {
  "kernelspec": {
   "display_name": "Python 3 (ipykernel)",
   "language": "python",
   "name": "python3"
  },
  "language_info": {
   "codemirror_mode": {
    "name": "ipython",
    "version": 3
   },
   "file_extension": ".py",
   "mimetype": "text/x-python",
   "name": "python",
   "nbconvert_exporter": "python",
   "pygments_lexer": "ipython3",
   "version": "3.10.12"
  },
  "toc": {
   "base_numbering": 1,
   "nav_menu": {},
   "number_sections": true,
   "sideBar": true,
   "skip_h1_title": false,
   "title_cell": "Table of Contents",
   "title_sidebar": "Contents",
   "toc_cell": false,
   "toc_position": {},
   "toc_section_display": true,
   "toc_window_display": false
  },
  "varInspector": {
   "cols": {
    "lenName": 16,
    "lenType": 16,
    "lenVar": 40
   },
   "kernels_config": {
    "python": {
     "delete_cmd_postfix": "",
     "delete_cmd_prefix": "del ",
     "library": "var_list.py",
     "varRefreshCmd": "print(var_dic_list())"
    },
    "r": {
     "delete_cmd_postfix": ") ",
     "delete_cmd_prefix": "rm(",
     "library": "var_list.r",
     "varRefreshCmd": "cat(var_dic_list()) "
    }
   },
   "types_to_exclude": [
    "module",
    "function",
    "builtin_function_or_method",
    "instance",
    "_Feature"
   ],
   "window_display": false
  }
 },
 "nbformat": 4,
 "nbformat_minor": 2
}
