{
 "cells": [
  {
   "cell_type": "markdown",
   "metadata": {},
   "source": [
    "# Dictionaries exercises"
   ]
  },
  {
   "cell_type": "markdown",
   "metadata": {},
   "source": [
    "## Squares\n",
    "\n",
    "Given a list of numbers, create a dictionary where the keys are the numbers and the values are the squares of the numbers.\n",
    "\n",
    "Example: [1, 2, 3, 4, 5] --> {1: 1, 2: 4, 3: 9, 4: 16, 5: 25}"
   ]
  },
  {
   "cell_type": "code",
   "execution_count": 2,
   "metadata": {},
   "outputs": [],
   "source": [
    "numbers = [1, 2, 3, 4, 5]"
   ]
  },
  {
   "cell_type": "code",
   "execution_count": 10,
   "metadata": {},
   "outputs": [
    {
     "name": "stdout",
     "output_type": "stream",
     "text": [
      "{1: 1, 2: 4, 3: 9, 4: 16, 5: 25}\n"
     ]
    }
   ],
   "source": [
    "square_dict = {}\n",
    "for i in numbers:\n",
    "    square_dict[i] = i ** 2\n",
    "print(square_dict)"
   ]
  },
  {
   "cell_type": "markdown",
   "metadata": {},
   "source": [
    "## Merge\n",
    "\n",
    "Given two dictionaries, merge them into a new dictionary."
   ]
  },
  {
   "cell_type": "code",
   "execution_count": 11,
   "metadata": {},
   "outputs": [],
   "source": [
    "dict1 = {'a': 1, 'b': 2, 'c': 3}\n",
    "dict2 = {'d': 4, 'e': 5, 'f': 6}"
   ]
  },
  {
   "cell_type": "code",
   "execution_count": 14,
   "metadata": {},
   "outputs": [
    {
     "name": "stdout",
     "output_type": "stream",
     "text": [
      "{'a': 1, 'b': 2, 'c': 3, 'd': 4, 'e': 5, 'f': 6}\n"
     ]
    }
   ],
   "source": [
    "dict1.update(dict2)\n",
    "print(dict1)"
   ]
  },
  {
   "cell_type": "markdown",
   "metadata": {},
   "source": [
    "## Word frequency\n",
    "\n",
    "Given a string, create a dictionary with the frequency of each word in the string.\n",
    "\n",
    "Example: \"the lazy fox jumps over the lazy dog\" --> {'the': 2, 'lazy': 2, 'fox': 1, 'jumps': 1, 'over': 1, 'dog': 1}\n"
   ]
  },
  {
   "cell_type": "code",
   "execution_count": 15,
   "metadata": {},
   "outputs": [],
   "source": [
    "text = \"the lazy fox jumps over the lazy dog\""
   ]
  },
  {
   "cell_type": "code",
   "execution_count": 23,
   "metadata": {},
   "outputs": [
    {
     "name": "stdout",
     "output_type": "stream",
     "text": [
      "{'dog': 1, 'fox': 1, 'jumps': 1, 'the': 2, 'over': 1, 'lazy': 2}\n"
     ]
    }
   ],
   "source": [
    "words = set(text.split())\n",
    "words2 = text.split()\n",
    "dict_text = {}\n",
    "for i in words:\n",
    "    for j in words2:\n",
    "        dict_text[i] = words2.count(i)\n",
    "print(dict_text)"
   ]
  },
  {
   "cell_type": "markdown",
   "metadata": {},
   "source": [
    "## Character frequency\n",
    "\n",
    "Given a string, create a dictionary with the frequency of each character in the string."
   ]
  },
  {
   "cell_type": "code",
   "execution_count": 24,
   "metadata": {},
   "outputs": [],
   "source": [
    "text = \"the quick brown fox jumps over the lazy dog\""
   ]
  },
  {
   "cell_type": "code",
   "execution_count": 26,
   "metadata": {},
   "outputs": [
    {
     "name": "stdout",
     "output_type": "stream",
     "text": [
      "{'x': 1, 'd': 1, 'b': 1, 'f': 1, 'a': 1, 'z': 1, 'y': 1, 'v': 1, 'm': 1, 'l': 1, 'h': 2, 't': 2, 'i': 1, 'o': 4, ' ': 8, 'q': 1, 'j': 1, 'u': 2, 'k': 1, 'e': 3, 'r': 2, 'p': 1, 'w': 1, 's': 1, 'c': 1, 'g': 1, 'n': 1}\n"
     ]
    }
   ],
   "source": [
    "words = set(text)\n",
    "words2 = list(text)\n",
    "dict_let = {}\n",
    "for i in words:\n",
    "    for j in words2:\n",
    "        dict_let[i] = words2.count(i)\n",
    "print(dict_let)"
   ]
  },
  {
   "cell_type": "markdown",
   "metadata": {},
   "source": [
    "## Sort frequency\n",
    "\n",
    "Given the character frequency of the exercise above, sort it descendingly (greatest to lowest) by value."
   ]
  },
  {
   "cell_type": "code",
   "execution_count": null,
   "metadata": {},
   "outputs": [],
   "source": []
  },
  {
   "cell_type": "markdown",
   "metadata": {},
   "source": [
    "## Swap key-values\n",
    "\n",
    "Given a dictionary, create a new dictionary with the keys and values swapped, so keys are the values and values are the keys."
   ]
  },
  {
   "cell_type": "code",
   "execution_count": 27,
   "metadata": {},
   "outputs": [],
   "source": [
    "my_dict = {'a': 1, 'b': 2, 'c': 3}"
   ]
  },
  {
   "cell_type": "code",
   "execution_count": 29,
   "metadata": {},
   "outputs": [
    {
     "name": "stdout",
     "output_type": "stream",
     "text": [
      "{1: 'a', 2: 'b', 3: 'c'}\n"
     ]
    }
   ],
   "source": [
    "my_dict2 = {}\n",
    "for key, value in my_dict.items():\n",
    "    my_dict2[value] = key\n",
    "print(my_dict2)"
   ]
  },
  {
   "cell_type": "markdown",
   "metadata": {},
   "source": [
    "## Type groups\n",
    "\n",
    "Given a list of items of different types, create a dictionary where the keys are the types and the values are lists of items of that type."
   ]
  },
  {
   "cell_type": "code",
   "execution_count": 31,
   "metadata": {},
   "outputs": [],
   "source": [
    "items = [1, \"apple\", 3.14, 2, \"banana\", \"cat\", 5, 3.1415, \"dog\"]"
   ]
  },
  {
   "cell_type": "code",
   "execution_count": 38,
   "metadata": {},
   "outputs": [
    {
     "name": "stdout",
     "output_type": "stream",
     "text": [
      "[1, 2, 5]\n",
      "['apple', 'banana', 'cat', 'dog']\n",
      "[3.14, 3.1415]\n",
      "{<class 'int'>: [1, 2, 5], <class 'str'>: ['apple', 'banana', 'cat', 'dog'], <class 'float'>: [3.14, 3.1415]}\n"
     ]
    }
   ],
   "source": [
    "list_int = []\n",
    "list_str = []\n",
    "list_flo = []\n",
    "my_dict = {}\n",
    "for i in items:\n",
    "    if type(i) == int:\n",
    "        list_int.append(i)\n",
    "        my_dict[int] = list_int\n",
    "    elif type(i) == str:\n",
    "        list_str.append(i)\n",
    "        my_dict[str] = list_str\n",
    "    elif type(i) == float:\n",
    "        list_flo.append(i)\n",
    "        my_dict[float] = list_flo\n",
    "print(list_int)\n",
    "print(list_str)\n",
    "print(list_flo)\n",
    "print(my_dict)"
   ]
  },
  {
   "cell_type": "markdown",
   "metadata": {},
   "source": [
    "## Grades\n",
    "\n",
    "Given a list of students and their grades, create a dictionary where the keys are the students' names and the values are lists of their grades."
   ]
  },
  {
   "cell_type": "code",
   "execution_count": 39,
   "metadata": {},
   "outputs": [],
   "source": [
    "grades = [(\"Alice\", 8.5), (\"Bob\", 7.8), (\"Alice\", 9.0), (\"Bob\", 8.5), (\"Charlie\", 9.2), (\"Alice\", 9.5), (\"Charlie\", 6.1)]"
   ]
  },
  {
   "cell_type": "code",
   "execution_count": 59,
   "metadata": {},
   "outputs": [
    {
     "name": "stdout",
     "output_type": "stream",
     "text": [
      "{'Alice': [8.5, 8.5, 7.8, 7.8, 9.0, 9.0, 8.5, 8.5, 9.2, 9.2, 9.5, 9.5, 6.1, 6.1, 8.5, 8.5, 7.8, 7.8, 9.0, 9.0, 8.5, 8.5, 9.2, 9.2, 9.5, 9.5, 6.1, 6.1], 'Bob': [8.5, 8.5, 7.8, 7.8, 9.0, 9.0, 8.5, 8.5, 9.2, 9.2, 9.5, 9.5, 6.1, 6.1, 8.5, 8.5, 7.8, 7.8, 9.0, 9.0, 8.5, 8.5, 9.2, 9.2, 9.5, 9.5, 6.1, 6.1], 'Charlie': [8.5, 8.5, 7.8, 7.8, 9.0, 9.0, 8.5, 8.5, 9.2, 9.2, 9.5, 9.5, 6.1, 6.1, 8.5, 8.5, 7.8, 7.8, 9.0, 9.0, 8.5, 8.5, 9.2, 9.2, 9.5, 9.5, 6.1, 6.1]}\n"
     ]
    }
   ],
   "source": [
    "#MAAAAAAL\n",
    "student_grades = {}\n",
    "nota_a = []\n",
    "nota_b = []\n",
    "nota_c = []\n",
    "for i in range(len(grades)):\n",
    "    for j in range(len(grades[i])):\n",
    "            student_grades[grades[i][0]] = nota\n",
    "            nota.append(grades[i][1])\n",
    "print(student_grades)"
   ]
  },
  {
   "cell_type": "code",
   "execution_count": 61,
   "metadata": {},
   "outputs": [
    {
     "data": {
      "text/plain": [
       "{'Alice': [8.5, 9.0, 9.5], 'Bob': [7.8, 8.5], 'Charlie': [9.2, 6.1]}"
      ]
     },
     "execution_count": 61,
     "metadata": {},
     "output_type": "execute_result"
    }
   ],
   "source": [
    "d = {}\n",
    "for name, gr in grades:\n",
    "    d[name] = d.get(name, []) + [gr]\n",
    "d"
   ]
  },
  {
   "cell_type": "code",
   "execution_count": 62,
   "metadata": {},
   "outputs": [
    {
     "data": {
      "text/plain": [
       "{'Alice': [8.5, 9.0, 9.5], 'Bob': [7.8, 8.5], 'Charlie': [9.2, 6.1]}"
      ]
     },
     "execution_count": 62,
     "metadata": {},
     "output_type": "execute_result"
    }
   ],
   "source": [
    "d = {}\n",
    "for name, gr in grades:\n",
    "    if name in d:\n",
    "        d[name].append(gr)\n",
    "    else:\n",
    "        d[name] = [gr]\n",
    "d"
   ]
  },
  {
   "cell_type": "markdown",
   "metadata": {},
   "source": [
    "# Bonus"
   ]
  },
  {
   "cell_type": "markdown",
   "metadata": {},
   "source": [
    "## Birthdays\n",
    "\n",
    "Create a program that allows users to enter their friends' birthdays, store them in a dictionary, and look up the birthdays using their friends' names. The user can type \"done\" when he/she is done entering data."
   ]
  },
  {
   "cell_type": "code",
   "execution_count": 74,
   "metadata": {},
   "outputs": [
    {
     "name": "stdout",
     "output_type": "stream",
     "text": [
      "Name: hola\n",
      "Birthday: 6\n",
      "Name: adeu\n",
      "Birthday: 8\n",
      "Name: done\n",
      "{'hola': '6', 'adeu': '8'}\n"
     ]
    }
   ],
   "source": [
    "d = {}\n",
    "bir = \"\"\n",
    "name = input(\"Name: \")\n",
    "while bir != \"done\" or name != \"done\":\n",
    "    bir = input(\"Birthday: \")\n",
    "    if bir == \"done\":\n",
    "        break\n",
    "    d[name] = bir\n",
    "    name = input(\"Name: \")\n",
    "    if name == \"done\":\n",
    "        break\n",
    "print(d)"
   ]
  },
  {
   "cell_type": "markdown",
   "metadata": {},
   "source": [
    "## Average movie rating\n",
    "\n",
    "Given a list of tuples containing movie titles and their ratings, create a dictionary where the keys are the movie titles and the values are the average ratings. Show the dictionary with movie and average rating sorted descendingly by average rating."
   ]
  },
  {
   "cell_type": "code",
   "execution_count": 75,
   "metadata": {},
   "outputs": [],
   "source": [
    "ratings = [\n",
    "    (\"The Godfather\", 9.2), (\"Pulp Fiction\", 8.9), (\"The Lord of the Rings: The Return of the King\", 8.8),\n",
    "    (\"The Godfather\", 9.5), (\"Pulp Fiction\", 8.5), (\"The Godfather\", 9.1), (\"The Lord of the Rings: The Return of the King\", 9.3),\n",
    "    (\"Pulp Fiction\", 9.7), (\"The Lord of the Rings: The Return of the King\", 9.99999999)]"
   ]
  },
  {
   "cell_type": "code",
   "execution_count": 76,
   "metadata": {},
   "outputs": [
    {
     "data": {
      "text/plain": [
       "{'The Godfather': [9.2, 9.5, 9.1],\n",
       " 'Pulp Fiction': [8.9, 8.5, 9.7],\n",
       " 'The Lord of the Rings: The Return of the King': [8.8, 9.3, 9.99999999]}"
      ]
     },
     "execution_count": 76,
     "metadata": {},
     "output_type": "execute_result"
    }
   ],
   "source": [
    "d = {}\n",
    "for name, gr in ratings:\n",
    "    d[name] = d.get(name, []) + [gr]\n",
    "d"
   ]
  },
  {
   "cell_type": "markdown",
   "metadata": {},
   "source": [
    "## Course grades\n",
    "\n",
    "Given a list of tuples containing course names, student names, and their grades, create a nested dictionary where the keys are the course names and the values are dictionaries containing the students' names as keys and their grades as values.\n",
    "\n",
    "For example, the output for the grades below should be:\n",
    "\n",
    "`{'Calculus': {'Alice': 85, 'Bob': 90}, 'Physics': {'Bob': 78, 'Alice': 85, 'Charlie': 92}}`"
   ]
  },
  {
   "cell_type": "code",
   "execution_count": 77,
   "metadata": {},
   "outputs": [],
   "source": [
    "grades = [(\"Calculus\", \"Alice\", 85), (\"Physics\", \"Bob\", 78), (\"Calculus\", \"Bob\", 90), (\"Physics\", \"Alice\", 85), (\"Physics\", \"Charlie\", 92)]"
   ]
  },
  {
   "cell_type": "code",
   "execution_count": 88,
   "metadata": {},
   "outputs": [
    {
     "data": {
      "text/plain": [
       "{'Calculus': {'Alice': 85, 'Bob': 90},\n",
       " 'Physics': {'Bob': 78, 'Alice': 85, 'Charlie': 92}}"
      ]
     },
     "execution_count": 88,
     "metadata": {},
     "output_type": "execute_result"
    }
   ],
   "source": [
    "d = {}\n",
    "for cours, name, gr in grades:\n",
    "    if cours in d:\n",
    "        d[cours].update({name: gr})\n",
    "    else:\n",
    "        d[cours] = {name: gr}\n",
    "d"
   ]
  },
  {
   "cell_type": "markdown",
   "metadata": {},
   "source": [
    "## Graph adjacency\n",
    "\n",
    "Given a list of edges in a graph, create a dictionary where the keys are the nodes and the values are lists of adjacent nodes.\n",
    "\n",
    "For example, for the edges below, the result should be:\n",
    "\n",
    "`{'A': ['B', 'C'], 'B': ['A', 'D'], 'C': ['A', 'D'], 'D': ['B', 'C', 'E'], 'E': ['D', 'F'], 'F': ['E']}`"
   ]
  },
  {
   "cell_type": "code",
   "execution_count": 89,
   "metadata": {},
   "outputs": [],
   "source": [
    "edges = [('A', 'B'), ('A', 'C'), ('B', 'D'), ('C', 'D'), ('D', 'E'), ('E', 'F')]"
   ]
  },
  {
   "cell_type": "code",
   "execution_count": 90,
   "metadata": {},
   "outputs": [
    {
     "name": "stdout",
     "output_type": "stream",
     "text": [
      "{'A': ['B', 'C'], 'B': ['A', 'D'], 'C': ['A', 'D'], 'D': ['B', 'C', 'E'], 'E': ['D', 'F'], 'F': ['E']}\n"
     ]
    }
   ],
   "source": [
    "d = {}\n",
    "for let1, let2 in edges:\n",
    "    d[let1] = d.get(let1, []) + [let2]\n",
    "    d[let2] = d.get(let2, []) + [let1]\n",
    "print(d)    "
   ]
  },
  {
   "cell_type": "markdown",
   "metadata": {},
   "source": [
    "## List to Dictionary Conversion\n",
    "\n",
    "Create a Python program that converts a list of strings into a dictionary, where the key is the string and the value is the number of vowels in the string.\n",
    "\n",
    "Example: [\"apple\", \"banana\", \"cherry\"] --> {\"apple\": 2, \"banana\": 3, \"cherry\": 2}"
   ]
  },
  {
   "cell_type": "code",
   "execution_count": 91,
   "metadata": {},
   "outputs": [],
   "source": [
    "lst = [\"apple\", \"banana\", \"cherry\"]"
   ]
  },
  {
   "cell_type": "code",
   "execution_count": 94,
   "metadata": {},
   "outputs": [
    {
     "name": "stdout",
     "output_type": "stream",
     "text": [
      "{'apple': 2, 'banana': 3, 'cherry': 1}\n"
     ]
    }
   ],
   "source": [
    "d = {}\n",
    "vowels = [\"a\", \"e\", \"i\", \"o\", \"u\"]\n",
    "for fruit in lst:\n",
    "    d[fruit] = fruit.count(\"a\") + fruit.count(\"e\") + fruit.count(\"i\") + fruit.count(\"o\") + fruit.count(\"u\")\n",
    "print(d)"
   ]
  },
  {
   "cell_type": "markdown",
   "metadata": {},
   "source": [
    "## Dictionary Merging with Sum of Values\n",
    "\n",
    "You have two dictionaries with overlapping keys. Merge the dictionaries and, if a key is in both of them, sum the values."
   ]
  },
  {
   "cell_type": "code",
   "execution_count": 95,
   "metadata": {},
   "outputs": [],
   "source": [
    "dict1 = {'a': 10, 'b': 20, 'c': 30}\n",
    "dict2 = {'b': 70, 'c': 80, 'd': 90}"
   ]
  },
  {
   "cell_type": "code",
   "execution_count": 136,
   "metadata": {},
   "outputs": [
    {
     "name": "stdout",
     "output_type": "stream",
     "text": [
      "{'a': 10, 'b': 90, 'c': 110, 'd': 90}\n"
     ]
    }
   ],
   "source": [
    "d = {}\n",
    "for voc, num in dict1.items():\n",
    "    for voc2, num2, in dict2.items():\n",
    "        d[voc] = d.get(voc, num) \n",
    "        d[voc2] = d.get(voc2, num2) \n",
    "        if voc == voc2:\n",
    "            d[voc] = d.get(voc, 0) + num                   \n",
    "print(d)"
   ]
  },
  {
   "cell_type": "markdown",
   "metadata": {},
   "source": [
    "## Unique Values Dictionary Filter\n",
    "\n",
    "Given a dictionary, filter out keys with non-unique values.\n",
    "\n",
    "Example: {'a': 1, 'b': 2, 'c': 3, 'd': 2} --> {'a': 1, 'c': 3}"
   ]
  },
  {
   "cell_type": "code",
   "execution_count": 3,
   "metadata": {},
   "outputs": [],
   "source": [
    "d = {\"a\": 1, \"b\": 2, \"c\": 3, \"d\": 2}"
   ]
  },
  {
   "cell_type": "code",
   "execution_count": 22,
   "metadata": {},
   "outputs": [
    {
     "data": {
      "text/plain": [
       "dict_values([1, 2, 3, 2])"
      ]
     },
     "execution_count": 22,
     "metadata": {},
     "output_type": "execute_result"
    }
   ],
   "source": [
    "d.values()"
   ]
  },
  {
   "cell_type": "code",
   "execution_count": 23,
   "metadata": {},
   "outputs": [
    {
     "name": "stdout",
     "output_type": "stream",
     "text": [
      "{'a': 1, 'c': 3}\n"
     ]
    }
   ],
   "source": [
    "di = {}\n",
    "for voc, num in d.items():\n",
    "    if list(d.values()).count(num) == 1:\n",
    "        di[voc] = num\n",
    "print(di)        "
   ]
  },
  {
   "cell_type": "markdown",
   "metadata": {},
   "source": [
    "## Intersection of Two Arrays\n",
    "\n",
    "Given two lists, `list1` and `list2`, find the intersection of the two lists and store the result in a dictionary where the key is the intersecting element and the value is the number of times it appears in both lists.\n",
    "\n",
    "The output of the given lists below should be: `{2: 4, 3: 2, 5: 2}`."
   ]
  },
  {
   "cell_type": "code",
   "execution_count": 25,
   "metadata": {},
   "outputs": [],
   "source": [
    "list1 = [1, 2, 2, 3, 4, 5, 6]\n",
    "list2 = [2, 2, 3, 5, 7, 8]"
   ]
  },
  {
   "cell_type": "code",
   "execution_count": 44,
   "metadata": {},
   "outputs": [
    {
     "name": "stdout",
     "output_type": "stream",
     "text": [
      "{2: 4, 3: 2, 5: 2}\n"
     ]
    }
   ],
   "source": [
    "d = {}\n",
    "for i in list1:\n",
    "    if list1.count(i) + list2.count(i) > 1:\n",
    "        d[i] = list1.count(i) + list2.count(i)\n",
    "print(d)"
   ]
  },
  {
   "cell_type": "markdown",
   "metadata": {},
   "source": [
    "## Number of Atoms\n",
    "\n",
    "Given a chemical formula as a string, you need to parse the string and return a dictionary containing the count of each atom.\n",
    "\n",
    "Key Points:\n",
    "- Elements Representation:\n",
    "    - Atomic elements are represented by an uppercase character, followed by zero or more lowercase letters.\n",
    "    - For example: \"O\" for Oxygen, \"H\" for Hydrogen, \"Na\" for Sodium.\n",
    "- Atoms Count:\n",
    "    - If the element is followed by a number, it represents the count of that element.\n",
    "    - If there is no number following the element, it is assumed to be 1.\n",
    "\n",
    "Write a Python program that takes a chemical formula as a string and returns a dictionary representing the count of each atom.\n",
    "\n",
    "You can assume:\n",
    "- The given characters represent an element, you don't need to check whether this element's name really exists.\n",
    "- Each element only appears once in the string sequence.\n",
    "- The input string sequence is well formatted.\n",
    "\n",
    "Examples:\n",
    "- 'H2O' --> {'H':2, 'O': 1}\n",
    "- 'Mg2N12' --> {'Mg': 2, 'N': 12}\n",
    "- 'K4ONS36' --> {'K': 4, 'O': 1, 'N': 1, 'S': 36}\n",
    "- 'SP4CNH232O10' --> {'S': 1, 'P': 4, 'C': 1, 'N': 1, 'H': 232, 'O': 10}"
   ]
  },
  {
   "cell_type": "code",
   "execution_count": 50,
   "metadata": {},
   "outputs": [
    {
     "name": "stdout",
     "output_type": "stream",
     "text": [
      "Atomic element: H2O\n",
      "['H', '2', 'O']\n",
      "H\n",
      "O\n",
      "{'': '2'}\n"
     ]
    }
   ],
   "source": [
    "atom = input(\"Atomic element: \")\n",
    "atom = list(atom)\n",
    "nums = [\"0\", \"1\", \"2\", \"3\", \"4\", \"5\", \"6\", \"7\", \"8\", \"9\"]\n",
    "let = [\"H\", \"O\", \"M\", \"g\", \"N\", \"K\", \"S\", \"P\", \"C\", \"H\"]\n",
    "count_num = 0\n",
    "count_let\n",
    "name = \"\"\n",
    "d = {}\n",
    "print(atom)\n",
    "for i in range(len(atom)):\n",
    "    if atom[i] in let:\n",
    "        count_num = 0\n",
    "        count_let += 1\n",
    "        name += name + atom[i]\n",
    "        print(atom[i])\n",
    "    if atom[i] in nums:\n",
    "        name = \"\"\n",
    "        count_let = 0\n",
    "        count_num += 1\n",
    "        if(count_num == 1):\n",
    "            d[name] = atom[i]\n",
    "        elif count_num == 2:\n",
    "            d[name] = atom[i - 1] + atom[i]\n",
    "        elif count_num == 3:\n",
    "            d[name] = atom[i - 2] + atom[i - 1] + atom[i]\n",
    "print(d)      "
   ]
  },
  {
   "cell_type": "code",
   "execution_count": null,
   "metadata": {},
   "outputs": [],
   "source": []
  }
 ],
 "metadata": {
  "kernelspec": {
   "display_name": "Python 3 (ipykernel)",
   "language": "python",
   "name": "python3"
  },
  "language_info": {
   "codemirror_mode": {
    "name": "ipython",
    "version": 3
   },
   "file_extension": ".py",
   "mimetype": "text/x-python",
   "name": "python",
   "nbconvert_exporter": "python",
   "pygments_lexer": "ipython3",
   "version": "3.11.4"
  },
  "toc": {
   "base_numbering": 1,
   "nav_menu": {},
   "number_sections": true,
   "sideBar": true,
   "skip_h1_title": false,
   "title_cell": "Table of Contents",
   "title_sidebar": "Contents",
   "toc_cell": false,
   "toc_position": {},
   "toc_section_display": true,
   "toc_window_display": false
  },
  "varInspector": {
   "cols": {
    "lenName": 16,
    "lenType": 16,
    "lenVar": 40
   },
   "kernels_config": {
    "python": {
     "delete_cmd_postfix": "",
     "delete_cmd_prefix": "del ",
     "library": "var_list.py",
     "varRefreshCmd": "print(var_dic_list())"
    },
    "r": {
     "delete_cmd_postfix": ") ",
     "delete_cmd_prefix": "rm(",
     "library": "var_list.r",
     "varRefreshCmd": "cat(var_dic_list()) "
    }
   },
   "types_to_exclude": [
    "module",
    "function",
    "builtin_function_or_method",
    "instance",
    "_Feature"
   ],
   "window_display": false
  }
 },
 "nbformat": 4,
 "nbformat_minor": 2
}
