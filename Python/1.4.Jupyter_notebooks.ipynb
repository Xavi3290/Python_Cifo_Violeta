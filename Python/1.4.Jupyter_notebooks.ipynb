{
 "cells": [
  {
   "cell_type": "markdown",
   "metadata": {},
   "source": [
    "# Interactive Jupyter Notebook Tutorial\n",
    "\n",
    "## Introduction\n",
    "\n",
    "Jupyter Notebook is as much about ease of use as it is about flexibility. While the toolbar buttons help perform basic operations, knowing keyboard shortcuts can significantly speed up your work. Let's explore both!\n",
    "\n",
    "## Installation and Launching\n",
    "\n",
    "My recommendation for starters is running it with Anaconda:\n",
    "\n",
    "1. Download and install Anaconda: https://docs.anaconda.com/free/anaconda/install/index.html).\n",
    "2. Search `Jupyter` in the Windows search bar or open Anaconda and select `Jupyter Notebook`. With the latter option you also have the possibility to open `Jupyter Lab` or `Visual Studio Code`.\n",
    "\n",
    "By default, Anaconda also installs `python` and typical data science libraries such as `numpy` or `pandas`.\n",
    "\n",
    "Other options for installing notebooks on your local machine:\n",
    "\n",
    "1. Install it directly with pip (requires `python`): `pip install notebook`\n",
    "2. Open an IDE (Integrated Development Environment) that support Jupyter Notebooks.\n",
    "    - E.g., VSCode: https://code.visualstudio.com/\n",
    "3. Create a file with an `.ipynb` extension.\n",
    "    \n",
    "Other options online:\n",
    "- https://noteable.io/\n",
    "- https://colab.research.google.com\n",
    "\n",
    "\n",
    "\n",
    "## Launch Jupyter Notebook\n",
    "\n",
    "1. Open it with Anaconda.\n",
    "\n",
    "2. This will open a new tab in your default web browser showing the Jupyter dashboard.\n",
    "\n",
    "\n",
    "## Create a New Notebook\n",
    "\n",
    "1. On the top right corner of the dashboard, click on the \"New\" dropdown and select \"Python 3\" (or the version you have).\n",
    "\n",
    "2. A new tab will open with an empty notebook.\n",
    "\n",
    "\n",
    "## Understand the User Interface\n",
    "\n",
    "- **Title**: At the top, you'll see \"Untitled\" – this is the title of your notebook. Click on it to rename your notebook.\n",
    "- **Menu Bar**: Contains options like File, Edit, View, etc. to perform various operations on the notebook.\n",
    "- **Toolbar**: Provides shortcuts for common operations.\n",
    "\n",
    "\n",
    "## Creating and Running a Cell\n",
    "\n",
    "Every Jupyter Notebook consists of cells. These can be code cells or text (Markdown) cells.\n",
    "\n",
    "**Toolbar Action**:\n",
    "- Click on the \"+\" button to create a new cell.\n",
    "- Type in some Python code, e.g., `print(\"Hello, Jupyter!\")`.\n",
    "- Click the \"Run\" button (shaped like a play symbol) to execute the code.\n",
    "\n",
    "\n",
    "**Keyboard Shortcuts**:\n",
    "- Type your code.\n",
    "- Press `Ctrl + Enter` to run the code."
   ]
  },
  {
   "cell_type": "code",
   "execution_count": 1,
   "metadata": {},
   "outputs": [
    {
     "name": "stdout",
     "output_type": "stream",
     "text": [
      "Hello World\n"
     ]
    }
   ],
   "source": [
    "print(\"Hello World\")"
   ]
  },
  {
   "cell_type": "markdown",
   "metadata": {},
   "source": [
    "## Running a Cell and Moving to the Next One\n",
    "\n",
    "Sometimes you might want to run a cell and move to the next one.\n",
    "\n",
    "\n",
    "**Keyboard Shortcut**:\n",
    "- Type your code.\n",
    "- Press `Shift + Enter` to run the cell and move to the next cell (or create a new one if none exists)."
   ]
  },
  {
   "cell_type": "code",
   "execution_count": 2,
   "metadata": {},
   "outputs": [
    {
     "name": "stdout",
     "output_type": "stream",
     "text": [
      "Hello World\n"
     ]
    }
   ],
   "source": [
    "print(\"Hello World\")"
   ]
  },
  {
   "cell_type": "markdown",
   "metadata": {},
   "source": [
    "## Command Mode vs. Edit Mode\n",
    "\n",
    "In Jupyter Notebook, each cell can be in one of two modes:\n",
    "\n",
    "**Command Mode**:\n",
    "- When a cell is in command mode, you are able to edit notebook-level features, but not the content within the individual cell.\n",
    "- Visual Cue: The cell border is blue.\n",
    "- Key Features:\n",
    "    - Navigate between cells using arrow keys.\n",
    "    - Use keyboard shortcuts to create, delete, or change the type of cells.\n",
    "    - No blinking cursor inside the cell.\n",
    "- How to Enter:\n",
    "    - Press Esc while in a cell.\n",
    "    - Click outside the text area of a cell.\n",
    "       \n",
    "       \n",
    "**Edit Mode**:\n",
    "- When a cell is in edit mode, you can change the content of the cell, much like editing text in a text editor.\n",
    "- Visual Cue: The cell border is green, and you see a blinking cursor inside the cell.\n",
    "- Key Features:\n",
    "    - Type content (code or markdown) directly into the cell.\n",
    "    - Use typical text editing shortcuts within the cell (like Ctrl + Z to undo).\n",
    "- How to Enter:\n",
    "    - Press Enter on a selected cell.\n",
    "    - Double-click on a cell.\n"
   ]
  },
  {
   "cell_type": "code",
   "execution_count": null,
   "metadata": {},
   "outputs": [],
   "source": [
    "print(\"Hello World\")"
   ]
  },
  {
   "cell_type": "markdown",
   "metadata": {},
   "source": [
    "## Creating Cells Above and Below\n",
    "\n",
    "You can create cells either above or below the current cell.\n",
    "\n",
    "**Toolbar Action**:\n",
    "- Select a cell in command mode (clicking \"outside\" of it, **not** inside).\n",
    "- Use the \"+\" button to add a new cell below.\n",
    "\n",
    "\n",
    "**Keyboard Shortcuts**:\n",
    "- Select a cell in command mode (clicking \"outside\" of it, **not** inside).\n",
    "- Press `a` to create a new cell above the currently selected one.\n",
    "- Press `b` to create one below.\n"
   ]
  },
  {
   "cell_type": "code",
   "execution_count": null,
   "metadata": {},
   "outputs": [],
   "source": [
    "a"
   ]
  },
  {
   "cell_type": "code",
   "execution_count": null,
   "metadata": {},
   "outputs": [],
   "source": [
    "b"
   ]
  },
  {
   "cell_type": "code",
   "execution_count": null,
   "metadata": {},
   "outputs": [],
   "source": [
    "b2"
   ]
  },
  {
   "cell_type": "code",
   "execution_count": null,
   "metadata": {},
   "outputs": [],
   "source": [
    "c"
   ]
  },
  {
   "cell_type": "code",
   "execution_count": null,
   "metadata": {},
   "outputs": [],
   "source": [
    "d"
   ]
  },
  {
   "cell_type": "markdown",
   "metadata": {},
   "source": [
    "## Deleting Cells\n",
    "\n",
    "It's easy to delete cells that you no longer need.\n",
    "\n",
    "**Toolbar Action**:\n",
    "- Select a cell.\n",
    "- Click the \"scissors\" icon to cut (delete) the cell.\n",
    "\n",
    "**Keyboard Shortcuts**:\n",
    "- Select a cell.\n",
    "- Press `dd` (double press the `d` key) to delete it."
   ]
  },
  {
   "cell_type": "markdown",
   "metadata": {},
   "source": [
    "## Cutting, Copying, and Pasting Cells\n",
    "\n",
    "Manipulate cells just like text!\n",
    "\n",
    "\n",
    "**Toolbar Action**:\n",
    "- Select a cell.\n",
    "- Click the \"scissors\" icon to cut, the \"copy\" icon to copy, or the \"clipboard\" icon to paste.\n",
    "\n",
    "\n",
    "**Keyboard Shortcuts**:\n",
    "- Select a cell.\n",
    "- Press `x` to cut a cell.\n",
    "- Press `c` to copy a cell.\n",
    "- Press `v` to paste a cell below the current one."
   ]
  },
  {
   "cell_type": "code",
   "execution_count": null,
   "metadata": {},
   "outputs": [],
   "source": [
    "print(\"Hello World\")"
   ]
  },
  {
   "cell_type": "markdown",
   "metadata": {},
   "source": [
    "## Undoing Cell Operations\n",
    "\n",
    "Everyone makes mistakes, or sometimes you might change your mind after deleting or altering a cell. Jupyter Notebook provides an easy way to undo the last cell operation.\n",
    "\n",
    "**Keyboard Shortcut**:\n",
    "- Press `z` while in command mode (i.e., not actively typing within a cell) to undo the last cell operation, such as cell deletion.\n",
    "\n",
    "**Tip**: Remember, `z` only undoes cell-level operations, like adding, deleting, or moving cells. If you want to undo edits within a cell, use the usual undo shortcut for your system (`Ctrl + z` for Windows/Linux) while in edit mode of the cell."
   ]
  },
  {
   "cell_type": "code",
   "execution_count": 4,
   "metadata": {},
   "outputs": [
    {
     "name": "stdout",
     "output_type": "stream",
     "text": [
      "Hello World\n"
     ]
    }
   ],
   "source": [
    "print(\"Hello World\")"
   ]
  },
  {
   "cell_type": "markdown",
   "metadata": {},
   "source": [
    "## Converting Cells to Markdown\n",
    "\n",
    "Narrative and documentation often use Markdown cells.\n",
    "\n",
    "\n",
    "**Toolbar Action**:\n",
    "- Select a cell.\n",
    "- Use the dropdown menu on the toolbar (which probably says \"Code\") to change it to \"Markdown\".\n",
    "- Enter your markdown text.\n",
    "\n",
    "\n",
    "**Keyboard Shortcuts**:\n",
    "- Select a cell.\n",
    "- Press `m` to convert it to Markdown."
   ]
  },
  {
   "cell_type": "markdown",
   "metadata": {},
   "source": [
    "## Hello world"
   ]
  },
  {
   "cell_type": "markdown",
   "metadata": {},
   "source": [
    "## Exploring Other Shortcuts\n",
    "\n",
    "There are many more shortcuts to help speed up your work.\n",
    "\n",
    "Press `h` while in command mode (i.e., not actively typing within a cell) to view a list of all available keyboard shortcuts."
   ]
  },
  {
   "cell_type": "code",
   "execution_count": 19,
   "metadata": {},
   "outputs": [
    {
     "name": "stdout",
     "output_type": "stream",
     "text": [
      "4\n",
      "3\n",
      "0.3333333333333333\n"
     ]
    }
   ],
   "source": [
    "a = 1\n",
    "b = 3\n",
    "\n",
    "c = a + b\n",
    "print(c)\n",
    "c = a * b\n",
    "print(c)\n",
    "c = a / b\n",
    "print(c)"
   ]
  },
  {
   "cell_type": "code",
   "execution_count": 20,
   "metadata": {},
   "outputs": [
    {
     "name": "stdout",
     "output_type": "stream",
     "text": [
      "5\n"
     ]
    }
   ],
   "source": [
    "a = 2\n",
    "b = 3\n",
    "c = a + b\n",
    "print(c)"
   ]
  },
  {
   "cell_type": "code",
   "execution_count": null,
   "metadata": {},
   "outputs": [],
   "source": []
  }
 ],
 "metadata": {
  "kernelspec": {
   "display_name": "Python 3 (ipykernel)",
   "language": "python",
   "name": "python3"
  },
  "language_info": {
   "codemirror_mode": {
    "name": "ipython",
    "version": 3
   },
   "file_extension": ".py",
   "mimetype": "text/x-python",
   "name": "python",
   "nbconvert_exporter": "python",
   "pygments_lexer": "ipython3",
   "version": "3.11.4"
  },
  "toc": {
   "base_numbering": 1,
   "nav_menu": {},
   "number_sections": true,
   "sideBar": true,
   "skip_h1_title": false,
   "title_cell": "Table of Contents",
   "title_sidebar": "Contents",
   "toc_cell": false,
   "toc_position": {},
   "toc_section_display": true,
   "toc_window_display": false
  },
  "varInspector": {
   "cols": {
    "lenName": 16,
    "lenType": 16,
    "lenVar": 40
   },
   "kernels_config": {
    "python": {
     "delete_cmd_postfix": "",
     "delete_cmd_prefix": "del ",
     "library": "var_list.py",
     "varRefreshCmd": "print(var_dic_list())"
    },
    "r": {
     "delete_cmd_postfix": ") ",
     "delete_cmd_prefix": "rm(",
     "library": "var_list.r",
     "varRefreshCmd": "cat(var_dic_list()) "
    }
   },
   "types_to_exclude": [
    "module",
    "function",
    "builtin_function_or_method",
    "instance",
    "_Feature"
   ],
   "window_display": false
  },
  "vscode": {
   "interpreter": {
    "hash": "82e0eda406eed69f8d19d794de60b8ea7aef4c5866027351da890773d7dda79f"
   }
  }
 },
 "nbformat": 4,
 "nbformat_minor": 2
}
