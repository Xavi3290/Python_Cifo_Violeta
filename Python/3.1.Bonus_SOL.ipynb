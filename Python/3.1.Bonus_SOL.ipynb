{
 "cells": [
  {
   "cell_type": "markdown",
   "metadata": {},
   "source": [
    "# Bonus 2"
   ]
  },
  {
   "cell_type": "markdown",
   "metadata": {},
   "source": [
    "## Investment Advice\n",
    "\n",
    "Given the client's age, current savings, and risk tolerance (either \"low\", \"medium\", or \"high\"), provide investment advice by selecting one of the following portfolios:\n",
    "\n",
    "- Conservative: Bonds 70%, Stocks 30%\n",
    "- Balanced: Bonds 50%, Stocks 50%\n",
    "- Aggressive: Bonds 30%, Stocks 70%\n",
    "\n",
    "Rules:\n",
    "- If age <= 35 and risk tolerance is \"high\", suggest \"Aggressive.\"\n",
    "- If age >= 60 or risk tolerance is \"low\", suggest \"Conservative.\"\n",
    "- Otherwise, suggest \"Balanced.\""
   ]
  },
  {
   "cell_type": "code",
   "execution_count": null,
   "metadata": {},
   "outputs": [],
   "source": [
    "age = int(input(\"Enter your age: \"))\n",
    "savings = float(input(\"Enter your current savings: \"))\n",
    "risk_tolerance = input(\"Enter your risk tolerance (low, medium, high): \").lower()\n",
    "\n",
    "if age <= 35 and risk_tolerance == 'high':\n",
    "    print(\"Suggested Portfolio: Aggressive (Bonds 30%, Stocks 70%)\")\n",
    "elif age >= 60 or risk_tolerance == 'low':\n",
    "    print(\"Suggested Portfolio: Conservative (Bonds 70%, Stocks 30%)\")\n",
    "else:\n",
    "    print(\"Suggested Portfolio: Balanced (Bonds 50%, Stocks 50%)\")"
   ]
  },
  {
   "cell_type": "markdown",
   "metadata": {},
   "source": [
    "## Validate Credit Card Number\n",
    "\n",
    "Write a Python program to validate a credit card number. A valid credit card must:\n",
    "- Have exactly 4 digits (for simplicity).\n",
    "- Start with 4, 5, or 6.\n",
    "- Not contain any characters other than digits."
   ]
  },
  {
   "cell_type": "code",
   "execution_count": 1,
   "metadata": {},
   "outputs": [
    {
     "name": "stdout",
     "output_type": "stream",
     "text": [
      "Invalid credit card number: Must have exactly 16 digits.\n"
     ]
    }
   ],
   "source": [
    "credit_card = input(\"Enter your 16-digit credit card number: \")\n",
    "\n",
    "if len(credit_card) != 16:\n",
    "    print(\"Invalid credit card number: Must have exactly 16 digits.\")\n",
    "elif not credit_card.startswith(('4', '5', '6')):\n",
    "    print(\"Invalid credit card number: Must start with 4, 5, or 6.\")\n",
    "elif not credit_card.isdigit():\n",
    "    print(\"Invalid credit card number: Must contain only digits.\")\n",
    "else:\n",
    "    print(\"Valid credit card number.\")"
   ]
  },
  {
   "cell_type": "markdown",
   "metadata": {},
   "source": [
    "## Cellphone Plan\n",
    "\n",
    "Suppose a cellphone company has three types of plans:\n",
    "- Basic Plan: $20/month\n",
    "- Plus Plan: $40/month\n",
    "- Premium Plan: $60/month\n",
    "\n",
    "Additionally, if the customer is a student, they get a $5 discount on any plan.\n",
    "\n",
    "Write a Python program to calculate the monthly bill based on the chosen plan and whether the customer is a student."
   ]
  },
  {
   "cell_type": "code",
   "execution_count": null,
   "metadata": {},
   "outputs": [],
   "source": [
    "plan = input(\"Enter your plan (Basic, Plus, Premium): \").lower()\n",
    "is_student = input(\"Are you a student? (yes/no): \").lower()\n",
    "\n",
    "if plan == \"basic\":\n",
    "    bill = 20\n",
    "elif plan == \"plus\":\n",
    "    bill = 40\n",
    "elif plan == \"premium\":\n",
    "    bill = 60\n",
    "else:\n",
    "    print(\"Invalid plan selected.\")\n",
    "    exit(0)\n",
    "\n",
    "if is_student == \"yes\":\n",
    "    bill -= 5\n",
    "\n",
    "print(f\"Your monthly bill is ${bill}.\")"
   ]
  },
  {
   "cell_type": "markdown",
   "metadata": {},
   "source": [
    "## FizzBuzz\n",
    "\n",
    "Write a Python program that takes an integer as input. If the number is a multiple of 3, output \"Fizz\". If it's a multiple of 5, output \"Buzz\". If it's a multiple of both 3 and 5, output \"FizzBuzz\". Otherwise, output the number itself."
   ]
  },
  {
   "cell_type": "code",
   "execution_count": 3,
   "metadata": {},
   "outputs": [
    {
     "name": "stdout",
     "output_type": "stream",
     "text": [
      "FizzBuzz\n"
     ]
    }
   ],
   "source": [
    "number = int(input(\"Enter a number: \"))\n",
    "\n",
    "if number % 3 == 0 and number % 5 == 0:\n",
    "    print(\"FizzBuzz\")\n",
    "elif number % 3 == 0:\n",
    "    print(\"Fizz\")\n",
    "elif number % 5 == 0:\n",
    "    print(\"Buzz\")\n",
    "else:\n",
    "    print(number)"
   ]
  },
  {
   "cell_type": "markdown",
   "metadata": {},
   "source": [
    "## Travel Time Calculator\n",
    "\n",
    "A person wants to travel between two cities A and B. The distance is 482.8 km. The person can travel by car at 96.6 km/h, by train at 48.3 km/h, or by plane at 804.7 km/h. However, the car and train take 1 hour to start, and the plane takes 2 hours to start. Given the mode of transport, calculate the total travel time."
   ]
  },
  {
   "cell_type": "code",
   "execution_count": 6,
   "metadata": {},
   "outputs": [
    {
     "name": "stdout",
     "output_type": "stream",
     "text": [
      "Total time: 6.00 hours\n"
     ]
    }
   ],
   "source": [
    "transport = input(\"Enter the mode of transport (car, train, plane): \").lower()\n",
    "\n",
    "if transport == 'car':\n",
    "    print(\"Total time: {:.2f} hours\".format(1 + 482.8 / 96.6))\n",
    "elif transport == 'train':\n",
    "    print(\"Total time: {:.2f} hours\".format(1 + 482.8 / 48.3))\n",
    "elif transport == 'plane':\n",
    "    print(\"Total time: {:.2f} hours\".format(2 + 482.8 / 804.7))\n",
    "else:\n",
    "    print(\"Invalid mode of transport.\")"
   ]
  },
  {
   "cell_type": "markdown",
   "metadata": {},
   "source": [
    "## Parcel Delivery Charges\n",
    "\n",
    "A parcel delivery service has different rates based on the destination and weight of the parcel. The rates are as follows:\n",
    "\n",
    "- Local (same city): 5€ for first kg, 2€ for each additional kg\n",
    "- Domestic (same country, different city): 10€ for first kg, 4€ for each additional kg\n",
    "- International: 20€ for first kg, 10€ for each additional kg\n",
    "\n",
    "Calculate the delivery charges based on user input for the destination and weight. The weight can be a non-integer value."
   ]
  },
  {
   "cell_type": "code",
   "execution_count": 8,
   "metadata": {},
   "outputs": [
    {
     "name": "stdout",
     "output_type": "stream",
     "text": [
      "Total cost: 89.0€\n"
     ]
    }
   ],
   "source": [
    "destination = input(\"Enter the destination (local, domestic, international): \").lower()\n",
    "weight = float(input(\"Enter the weight of the parcel in kg: \"))\n",
    "\n",
    "if destination == 'local':\n",
    "    cost = 5 + (weight - 1) * 2 if weight > 1 else 5\n",
    "    print(f\"Total cost: {cost}€\")\n",
    "elif destination == 'domestic':\n",
    "    cost = 10 + (weight - 1) * 4 if weight > 1 else 10\n",
    "    print(f\"Total cost: {cost}€\")\n",
    "elif destination == 'international':\n",
    "    cost = 20 + (weight - 1) * 10 if weight > 1 else 20\n",
    "    print(f\"Total cost: {cost}€\")\n",
    "else:\n",
    "    print(\"Invalid destination.\")"
   ]
  },
  {
   "cell_type": "markdown",
   "metadata": {},
   "source": [
    "## Rock-Paper-Scissors-Lizard-Spock Game\n",
    "\n",
    "The game Rock-Paper-Scissors-Lizard-Spock expands on the classic method of play by adding two additional weapons: Lizard and Spock. The rules are:\n",
    "\n",
    "- Scissors cuts Paper\n",
    "- Paper covers Rock\n",
    "- Rock crushes Lizard\n",
    "- Lizard poisons Spock\n",
    "- Spock smashes Scissors\n",
    "- Scissors decapitates Lizard\n",
    "- Lizard eats Paper\n",
    "- Paper disproves Spock\n",
    "- Spock vaporizes Rock\n",
    "- Rock crushes Scissors"
   ]
  },
  {
   "cell_type": "code",
   "execution_count": 4,
   "metadata": {},
   "outputs": [
    {
     "name": "stdout",
     "output_type": "stream",
     "text": [
      "Player 2 wins!\n"
     ]
    }
   ],
   "source": [
    "player1 = input(\"Player 1, enter your choice (Rock, Paper, Scissors, Lizard, Spock): \").lower()\n",
    "player2 = input(\"Player 2, enter your choice (Rock, Paper, Scissors, Lizard, Spock): \").lower()\n",
    "\n",
    "if player1 == player2:\n",
    "    print(\"It's a tie!\")\n",
    "elif (player1 == \"rock\" and (player2 == \"scissors\" or player2 == \"lizard\")) or \\\n",
    "     (player1 == \"paper\" and (player2 == \"rock\" or player2 == \"spock\")) or \\\n",
    "     (player1 == \"scissors\" and (player2 == \"paper\" or player2 == \"lizard\")) or \\\n",
    "     (player1 == \"lizard\" and (player2 == \"spock\" or player2 == \"paper\")) or \\\n",
    "     (player1 == \"spock\" and (player2 == \"scissors\" or player2 == \"rock\")):\n",
    "    print(\"Player 1 wins!\")\n",
    "else:\n",
    "    print(\"Player 2 wins!\")"
   ]
  },
  {
   "cell_type": "markdown",
   "metadata": {},
   "source": [
    "## The Coffee Lover\n",
    "\n",
    "A person loves coffee but can only consume a certain amount of caffeine per day without exceeding their tolerance. Given the type of coffee (Espresso, Americano, Latte) and the number of shots, calculate whether they will exceed their caffeine tolerance.\n",
    "\n",
    "- Espresso: 64 mg of caffeine per shot.\n",
    "- Americano: 12 mg of caffeine per shot.\n",
    "- Latte: 32 mg of caffeine per shot.\n",
    "\n",
    "Let's assume the caffeine tolerance is 400 mg per day."
   ]
  },
  {
   "cell_type": "code",
   "execution_count": 10,
   "metadata": {},
   "outputs": [
    {
     "name": "stdout",
     "output_type": "stream",
     "text": [
      "You will consume 320 mg of caffeine, which is within your tolerance.\n"
     ]
    }
   ],
   "source": [
    "coffee_type = input(\"Enter the type of coffee (Espresso, Americano, Latte): \").lower()\n",
    "shots = int(input(\"Enter the number of shots: \"))\n",
    "\n",
    "if coffee_type == 'espresso':\n",
    "    caffeine = shots * 64\n",
    "elif coffee_type == 'americano':\n",
    "    caffeine = shots * 12\n",
    "elif coffee_type == 'latte':\n",
    "    caffeine = shots * 32\n",
    "else:\n",
    "    print(\"Invalid coffee type.\")\n",
    "    caffeine = 0\n",
    "\n",
    "if caffeine != 0:\n",
    "    if caffeine <= 400:\n",
    "        print(f\"You will consume {caffeine} mg of caffeine, which is within your tolerance.\")\n",
    "    else:\n",
    "        print(f\"You will consume {caffeine} mg of caffeine, which exceeds your tolerance.\")"
   ]
  },
  {
   "cell_type": "markdown",
   "metadata": {},
   "source": [
    "## Credit Score Eligibility\n",
    "\n",
    "Assume that credit scores range from 300 to 850. The categories are:\n",
    "\n",
    "- Poor: 300-579\n",
    "- Fair: 580-669\n",
    "- Good: 670-739\n",
    "- Very Good: 740-799\n",
    "- Excellent: 800-850\n",
    "\n",
    "Write a Python program to check if a person is eligible for a loan based on their credit score and income. Assume:\n",
    "\n",
    "- \"Poor\" or \"Fair\" credit scores are not eligible.\n",
    "- \"Good\" requires an income of at least $40,000.\n",
    "- \"Very Good\" requires an income of at least $30,000.\n",
    "- \"Excellent\" requires an income of at least $20,000."
   ]
  },
  {
   "cell_type": "code",
   "execution_count": null,
   "metadata": {},
   "outputs": [],
   "source": [
    "credit_score = int(input(\"Enter your credit score: \"))\n",
    "income = float(input(\"Enter your annual income: \"))\n",
    "\n",
    "if 300 <= credit_score <= 579:\n",
    "    print(\"You are not eligible for a loan.\")\n",
    "elif 580 <= credit_score <= 669:\n",
    "    print(\"You are not eligible for a loan.\")\n",
    "elif 670 <= credit_score <= 739:\n",
    "    if income >= 40000:\n",
    "        print(\"You are eligible for a loan.\")\n",
    "    else:\n",
    "        print(\"You are not eligible for a loan.\")\n",
    "elif 740 <= credit_score <= 799:\n",
    "    if income >= 30000:\n",
    "        print(\"You are eligible for a loan.\")\n",
    "    else:\n",
    "        print(\"You are not eligible for a loan.\")\n",
    "elif 800 <= credit_score <= 850:\n",
    "    if income >= 20000:\n",
    "        print(\"You are eligible for a loan.\")\n",
    "    else:\n",
    "        print(\"You are not eligible for a loan.\")"
   ]
  }
 ],
 "metadata": {
  "kernelspec": {
   "display_name": "Python 3",
   "language": "python",
   "name": "python3"
  },
  "language_info": {
   "codemirror_mode": {
    "name": "ipython",
    "version": 3
   },
   "file_extension": ".py",
   "mimetype": "text/x-python",
   "name": "python",
   "nbconvert_exporter": "python",
   "pygments_lexer": "ipython3",
   "version": "3.10.12"
  },
  "orig_nbformat": 4
 },
 "nbformat": 4,
 "nbformat_minor": 2
}
