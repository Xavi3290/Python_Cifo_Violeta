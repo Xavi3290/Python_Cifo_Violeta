{
 "cells": [
  {
   "attachments": {},
   "cell_type": "markdown",
   "metadata": {},
   "source": [
    "# Tkinter"
   ]
  },
  {
   "cell_type": "code",
   "execution_count": 2,
   "metadata": {},
   "outputs": [],
   "source": [
    "import tkinter as tk"
   ]
  },
  {
   "attachments": {},
   "cell_type": "markdown",
   "metadata": {},
   "source": [
    "## Hello World\n",
    "\n",
    "Create a basic tkinter window with a label that says, “Hello, World!”"
   ]
  },
  {
   "cell_type": "code",
   "execution_count": 5,
   "metadata": {},
   "outputs": [],
   "source": [
    "root = tk.Tk()\n",
    "root.title(\"Hello World screen\")\n",
    "label = tk.Label(root, text=\"Hello World!\").pack()\n",
    "root.mainloop()\n"
   ]
  },
  {
   "attachments": {},
   "cell_type": "markdown",
   "metadata": {},
   "source": [
    "## Button and Label Interaction\n",
    "\n",
    "Create a Tkinter window with a Button and a Label. Initially, the Label should be empty. When the user presses the Button, the text on the Label should change to “Button Pressed!”"
   ]
  },
  {
   "cell_type": "code",
   "execution_count": 12,
   "metadata": {},
   "outputs": [],
   "source": [
    "def on_button_click():\n",
    "    label.config(text = \"Button Pressed\") \n",
    "\n",
    "root = tk.Tk()\n",
    "root.title(\"Hello World screen\")\n",
    "\n",
    "label = tk.Label(root, text=\"Hello World!\")\n",
    "label.pack()\n",
    "button = tk.Button(root, text=\"Click Me!\", command=on_button_click)\n",
    "button.pack()\n",
    "\n",
    "root.mainloop()"
   ]
  },
  {
   "attachments": {},
   "cell_type": "markdown",
   "metadata": {},
   "source": [
    "## User Input\n",
    "\n",
    "Create a Tkinter window with an Entry widget and a Button. When the user presses the Button, print the text entered in the Entry widget to the **notebook**."
   ]
  },
  {
   "cell_type": "code",
   "execution_count": 13,
   "metadata": {},
   "outputs": [
    {
     "name": "stdout",
     "output_type": "stream",
     "text": [
      "hola\n"
     ]
    }
   ],
   "source": [
    "def on_button_click():\n",
    "    content = entry.get()\n",
    "    print(content)\n",
    "\n",
    "root = tk.Tk()\n",
    "root.title(\"Hello World screen\")\n",
    "\n",
    "entry = tk.Entry(root)\n",
    "entry.pack()\n",
    "button = tk.Button(root, text='Print Input', command=on_button_click)\n",
    "button.pack()\n",
    "\n",
    "root.mainloop()"
   ]
  },
  {
   "attachments": {},
   "cell_type": "markdown",
   "metadata": {},
   "source": [
    "## Counter\n",
    "\n",
    "Create a Tkinter window with a Label displaying a number and two Buttons labeled “Increase” and “Decrease”. When the user presses the Increase Button, the number on the Label should increase by 1, and when the user presses the Decrease Button, the number on the Label should decrease by 1."
   ]
  },
  {
   "cell_type": "code",
   "execution_count": 18,
   "metadata": {},
   "outputs": [],
   "source": [
    "def on_button_click_plus():\n",
    "    global num\n",
    "    num += 1\n",
    "    label.config(text = num) \n",
    "def on_button_click_min():\n",
    "    global num\n",
    "    num -= 1\n",
    "    label.config(text = num) \n",
    "\n",
    "num = 0\n",
    "\n",
    "root = tk.Tk()\n",
    "root.title(\"Hello World screen\")\n",
    "\n",
    "label = tk.Label(root, text=num)\n",
    "label.pack()\n",
    "button = tk.Button(root, text=\"Increase!\", command=on_button_click_plus)\n",
    "button.pack()\n",
    "button2 = tk.Button(root, text=\"Decrease!\", command=on_button_click_min)\n",
    "button2.pack()\n",
    "\n",
    "root.mainloop()\n",
    "    \n",
    "\n"
   ]
  },
  {
   "attachments": {},
   "cell_type": "markdown",
   "metadata": {},
   "source": [
    "## Calculator\n",
    "\n",
    "Create a basic calculator app that can add, subtract, multiply, and divide two numbers. The app should have two entry widgets (in text format) to take the numbers and buttons for each operation. There is no need everything looks supernice."
   ]
  },
  {
   "cell_type": "code",
   "execution_count": 25,
   "metadata": {},
   "outputs": [],
   "source": [
    "def on_button_click_plus():\n",
    "    num1 = int(entry.get())\n",
    "    num2 = int(entry2.get())\n",
    "    tot = num1 + num2\n",
    "    label.config(text = tot)\n",
    "\n",
    "def on_button_click_subs():\n",
    "    num1 = int(entry.get())\n",
    "    num2 = int(entry2.get())\n",
    "    tot = num1 - num2\n",
    "    label.config(text = tot)\n",
    "\n",
    "def on_button_click_mult():\n",
    "    num1 = int(entry.get())\n",
    "    num2 = int(entry2.get())\n",
    "    tot = num1 * num2\n",
    "    label.config(text = tot)\n",
    "\n",
    "def on_button_click_div():\n",
    "    num1 = int(entry.get())\n",
    "    num2 = int(entry2.get())\n",
    "    tot = num1 / num2\n",
    "    label.config(text = tot)\n",
    "\n",
    "root = tk.Tk()\n",
    "root.title(\"Calculator\")\n",
    "\n",
    "entry = tk.Entry(root)\n",
    "entry.pack()\n",
    "entry2 = tk.Entry(root)\n",
    "entry2.pack()\n",
    "label = tk.Label(root, text=\"\")\n",
    "label.pack(side=tk.RIGHT)\n",
    "\n",
    "button = tk.Button(root, text=\"+\", command=on_button_click_plus)\n",
    "button.pack(side=tk.LEFT)\n",
    "button2 = tk.Button(root, text=\"-\", command=on_button_click_subs)\n",
    "button2.pack(side=tk.LEFT)\n",
    "button3 = tk.Button(root, text=\"*\", command=on_button_click_mult)\n",
    "button3.pack(side=tk.LEFT)\n",
    "button4 = tk.Button(root, text=\"/\", command=on_button_click_div)\n",
    "button4.pack(side=tk.LEFT)\n",
    "\n",
    "label = tk.Label(root, text=\"\")\n",
    "label.pack()\n",
    "\n",
    "root.mainloop()"
   ]
  },
  {
   "attachments": {},
   "cell_type": "markdown",
   "metadata": {},
   "source": [
    "## To-Do list\n",
    "\n",
    "Create a To-Do List app with an entry widget to add tasks, a listbox to display them, and buttons to delete and clear all tasks."
   ]
  },
  {
   "cell_type": "code",
   "execution_count": 29,
   "metadata": {},
   "outputs": [],
   "source": [
    "def on_button_click_add():\n",
    "    global num\n",
    "    text = entry.get()\n",
    "    listbox.insert(num, text)\n",
    "    num +=1\n",
    "\n",
    "def on_button_click_del():\n",
    "    global num\n",
    "    listbox.delete(0, tk.END)\n",
    "\n",
    "num = 1\n",
    "\n",
    "root = tk.Tk()\n",
    "root.title(\"To Do list\")\n",
    "\n",
    "entry = tk.Entry(root)\n",
    "entry.pack()\n",
    "\n",
    "listbox = tk.Listbox(root)  # Creates a Listbox object\n",
    "listbox.pack()  # Adds the Listbox to the window\n",
    "\n",
    "button = tk.Button(root, text=\"Add at list\", command=on_button_click_add)\n",
    "button.pack(side=tk.LEFT)\n",
    "button = tk.Button(root, text=\"Delete list\", command=on_button_click_del)\n",
    "button.pack(side=tk.LEFT)\n",
    "\n",
    "root.mainloop()"
   ]
  },
  {
   "attachments": {},
   "cell_type": "markdown",
   "metadata": {},
   "source": [
    "## Contacts\n",
    "\n",
    "Create a contact book application where the user can add, edit, delete, and view contacts. Each contact should have a name, phone number, and email. Store the contacts in a file, and load them when the application starts."
   ]
  },
  {
   "cell_type": "code",
   "execution_count": 4,
   "metadata": {},
   "outputs": [],
   "source": [
    "class Contact:\n",
    "    con_id = 0\n",
    "    def __init__(self, name, phone, email):\n",
    "        self.id = Contact.con_id\n",
    "        self.name = name\n",
    "        self.phone = phone\n",
    "        self.email = email        \n",
    "        Contact.con_id += 1\n",
    "\n",
    "def on_button_click_add():\n",
    "    global contacts\n",
    "    name = entry.get()\n",
    "    phone = entry2.get()\n",
    "    email = entry3.get()\n",
    "    con = Contact(name, phone, email)\n",
    "    contacts.append(con)\n",
    "    with open (\"contacts.txt\", \"a\") as file:\n",
    "        file.write(f\"{con.id} {con.name} {con.phone} {con.email}\\n\")\n",
    "\n",
    "def on_button_click_edit():\n",
    "    global contacts\n",
    "    name = entry.get()\n",
    "    phone = entry2.get()\n",
    "    email = entry3.get()\n",
    "    id1 = int(entry4.get())\n",
    "    for i in contacts:\n",
    "        if i.id == id1:\n",
    "            i.name = name\n",
    "            i.phone = phone\n",
    "            i.email = email\n",
    "\n",
    "def on_button_click_show():\n",
    "    global contacts\n",
    "    text = \"\"\n",
    "    for i in contacts:\n",
    "        text += f\"{i.id} {i.name} {i.phone} {i.email}\\n\"\n",
    "    label5.config(text = text)\n",
    "\n",
    "def on_button_click_del():\n",
    "    global contacts\n",
    "    id1 = int(entry4.get())\n",
    "    print(id)\n",
    "    for i in contacts:\n",
    "        if i.id == id1:\n",
    "            contacts.remove(i)\n",
    "\n",
    "def firs_show_contacts():\n",
    "    with open (\"contacts.txt\", \"r\") as file:\n",
    "        con = file.read()\n",
    "    l = list(con.split())\n",
    "    text = \"\"\n",
    "    cont = 0\n",
    "    for i in l:\n",
    "        cont += 1\n",
    "        if(cont % 5 == 0):\n",
    "            text += \"\\n\"\n",
    "        text += f\"{i} \"\n",
    "    label5.config(text = text)   \n",
    "\n",
    "contacts = []\n",
    "\n",
    "root = tk.Tk()\n",
    "root.title(\"Contact Book\")\n",
    "\n",
    "label = tk.Label(root, text=\"Name\")\n",
    "label.pack(side=tk.LEFT)\n",
    "entry = tk.Entry(root)\n",
    "entry.pack(side=tk.LEFT)\n",
    "\n",
    "label2 = tk.Label(root, text=\"Phone\")\n",
    "label2.pack(side=tk.LEFT)\n",
    "entry2 = tk.Entry(root)\n",
    "entry2.pack(side=tk.LEFT)\n",
    "\n",
    "label3 = tk.Label(root, text=\"Email\")\n",
    "label3.pack(side=tk.LEFT)\n",
    "entry3 = tk.Entry(root)\n",
    "entry3.pack(side=tk.LEFT)\n",
    "\n",
    "button = tk.Button(root, text=\"Add\", command=on_button_click_add)\n",
    "button.pack(side=tk.LEFT)\n",
    "button4 = tk.Button(root, text=\"View Contacts\", command=on_button_click_show)\n",
    "button4.pack(side=tk.LEFT)\n",
    "\n",
    "label4 = tk.Label(root, text=\"Id\")\n",
    "label4.pack(side=tk.LEFT)\n",
    "entry4 = tk.Entry(root)\n",
    "entry4.pack(side=tk.LEFT)\n",
    "button2 = tk.Button(root, text=\"Edit\", command=on_button_click_edit)\n",
    "button2.pack(side=tk.LEFT)\n",
    "button3 = tk.Button(root, text=\"Delete\", command=on_button_click_del)\n",
    "button3.pack(side=tk.LEFT)\n",
    "\n",
    "label5 = tk.Label(root, text=\"\")\n",
    "label5.pack(side=tk.LEFT)\n",
    "firs_show_contacts()\n",
    "\n",
    "root.mainloop()"
   ]
  },
  {
   "attachments": {},
   "cell_type": "markdown",
   "metadata": {},
   "source": [
    "## Text Editor\n",
    "\n",
    "Create a basic text editor with Tkinter that can create, open, and save files. Your program should have a Text widget for the user to edit text and a menu bar with options to open, save, and create new files.\n",
    "\n",
    "Hint: The `filedialog` submodule can be useful."
   ]
  },
  {
   "cell_type": "code",
   "execution_count": null,
   "metadata": {},
   "outputs": [],
   "source": [
    "def on_button_click_open():\n",
    "    global name_fi\n",
    "    name_fi = tk.filedialog.askopenfilename()\n",
    "    with open (name_fi, \"r\") as file:\n",
    "        con = file.read()\n",
    "\n",
    "def on_button_click_save():\n",
    "    global name_fi\n",
    "    name_fi = tk.filedialog.asksaveasfilename()\n",
    "\n",
    "def on_button_click_create():\n",
    "    text.pack()  \n",
    "\n",
    "name_fi = \"\"\n",
    "\n",
    "root = tk.Tk()\n",
    "root.title(\"Text Editor\")\n",
    "\n",
    "button = tk.Button(root, text=\"Create\", command=on_button_click_create)\n",
    "button.pack(side=tk.LEFT)\n",
    "button2 = tk.Button(root, text=\"Open\", command=on_button_click_open)\n",
    "button2.pack(side=tk.LEFT)\n",
    "button3 = tk.Button(root, text=\"Save\", command=on_button_click_save)\n",
    "button3.pack(side=tk.LEFT)\n",
    "text = tk.Text(root, height=5, width=40)  \n",
    "\n",
    "root.mainloop()"
   ]
  },
  {
   "attachments": {},
   "cell_type": "markdown",
   "metadata": {},
   "source": [
    "## Calculator Pro\n",
    "\n",
    "Create a calculator app with a user interface containing buttons for each digit (0-9), only the addition operation, an equals button, and a clear button. You can display the entered numbers and the results in the same label or entry widget.\n",
    "\n",
    "Take into account a user may want to add more than two numbers (e.g. 1 + 2 + 3 + 4, then = 10).\n",
    "\n",
    "Hint: Use the `grid()` function from `tk.Button()` to show buttons in a grid format."
   ]
  },
  {
   "cell_type": "code",
   "execution_count": null,
   "metadata": {},
   "outputs": [],
   "source": []
  },
  {
   "attachments": {},
   "cell_type": "markdown",
   "metadata": {},
   "source": [
    "## Drawing\n",
    "\n",
    "Create a drawing app where the user can draw on a canvas using the mouse. Add buttons to change the color of the brush and to clear the canvas."
   ]
  },
  {
   "cell_type": "code",
   "execution_count": null,
   "metadata": {},
   "outputs": [],
   "source": []
  },
  {
   "attachments": {},
   "cell_type": "markdown",
   "metadata": {},
   "source": [
    "## Number Guessing\n",
    "\n",
    "Create a Number Guessing Game using Tkinter. The application should generate a random number and let the user guess the number. If the guessed number is correct, the application should congratulate the user and reset the game. If the guessed number is wrong, the application should inform the user if the correct number is higher or lower.\n",
    "\n",
    "A comfortable way for displaying text when the user guessed the correct number is with the `messagebox` submodule in `tkinter`."
   ]
  },
  {
   "cell_type": "code",
   "execution_count": null,
   "metadata": {},
   "outputs": [],
   "source": []
  },
  {
   "attachments": {},
   "cell_type": "markdown",
   "metadata": {},
   "source": [
    "## Tic-Tac-Toe\n",
    "\n",
    "Create a Tic-Tac-Toe game with a graphical user interface. Create buttons or a canvas to take user inputs for their moves. Display which player's turn it is and announce the winner when one player wins or announce a draw when the game is tied.\n",
    "\n",
    "A comfortable way for displaying a win or a tie is with the `messagebox` submodule in `tkinter`."
   ]
  },
  {
   "cell_type": "code",
   "execution_count": null,
   "metadata": {},
   "outputs": [],
   "source": []
  }
 ],
 "metadata": {
  "kernelspec": {
   "display_name": "Python 3",
   "language": "python",
   "name": "python3"
  },
  "language_info": {
   "codemirror_mode": {
    "name": "ipython",
    "version": 3
   },
   "file_extension": ".py",
   "mimetype": "text/x-python",
   "name": "python",
   "nbconvert_exporter": "python",
   "pygments_lexer": "ipython3",
   "version": "3.11.4"
  },
  "orig_nbformat": 4
 },
 "nbformat": 4,
 "nbformat_minor": 2
}
