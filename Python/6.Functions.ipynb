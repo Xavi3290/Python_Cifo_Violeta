{
 "cells": [
  {
   "attachments": {},
   "cell_type": "markdown",
   "metadata": {},
   "source": [
    "# Functions exercises"
   ]
  },
  {
   "attachments": {},
   "cell_type": "markdown",
   "metadata": {},
   "source": [
    "## Multiplication\n",
    "\n",
    "Create a function that takes two numbers as input and returns their product. Prompt the user to enter two numbers and then call the function to display the result."
   ]
  },
  {
   "cell_type": "code",
   "execution_count": 4,
   "metadata": {},
   "outputs": [
    {
     "name": "stdout",
     "output_type": "stream",
     "text": [
      "4\n"
     ]
    }
   ],
   "source": [
    "def mult(x,y):\n",
    "    return x * y\n",
    "print(mult(2,2))"
   ]
  },
  {
   "attachments": {},
   "cell_type": "markdown",
   "metadata": {},
   "source": [
    "## Odd or even\n",
    "\n",
    "Write a function that takes an integer as input and returns whether the number is odd or even."
   ]
  },
  {
   "cell_type": "code",
   "execution_count": 6,
   "metadata": {},
   "outputs": [
    {
     "name": "stdout",
     "output_type": "stream",
     "text": [
      "odd\n"
     ]
    }
   ],
   "source": [
    "def odd_or_even(x):\n",
    "    if x % 2 == 0:\n",
    "        print(\"even\")\n",
    "    else:\n",
    "        print(\"odd\")\n",
    "odd_or_even(7)"
   ]
  },
  {
   "attachments": {},
   "cell_type": "markdown",
   "metadata": {},
   "source": [
    "## Area of a circle\n",
    "\n",
    "Write a function that takes the radius of a circle as input and returns the area of the circle. You can use the `math` module to get the value of pi."
   ]
  },
  {
   "cell_type": "code",
   "execution_count": 7,
   "metadata": {},
   "outputs": [
    {
     "name": "stdout",
     "output_type": "stream",
     "text": [
      "28.26\n"
     ]
    }
   ],
   "source": [
    "def area_circle(radius):\n",
    "    return 3.14 * (radius * radius)\n",
    "print(area_circle(3))"
   ]
  },
  {
   "attachments": {},
   "cell_type": "markdown",
   "metadata": {},
   "source": [
    "## Multiplication 2\n",
    "\n",
    "Create a function that takes numbers as input and returns their product. The function should not be aware of the number of numbers that will come in."
   ]
  },
  {
   "cell_type": "code",
   "execution_count": 10,
   "metadata": {},
   "outputs": [
    {
     "name": "stdout",
     "output_type": "stream",
     "text": [
      "18\n"
     ]
    }
   ],
   "source": [
    "def mult_all_num(*args):\n",
    "    result = 1\n",
    "    for arg in args:\n",
    "        result *= arg\n",
    "    return result\n",
    "print(mult_all_num(3,2,3))"
   ]
  },
  {
   "attachments": {},
   "cell_type": "markdown",
   "metadata": {},
   "source": [
    "## Fibonacci\n",
    "\n",
    "Write a function that generates the first n numbers of the Fibonacci sequence, where n is a user-provided integer. The Fibonacci sequence is a series of numbers where each number is the sum of the two preceding ones, starting from 0 and 1.\n",
    "\n",
    "Example:\n",
    "- n = 10 --> [0, 1, 1, 2, 3, 5, 8, 13, 21, 34]"
   ]
  },
  {
   "cell_type": "code",
   "execution_count": 14,
   "metadata": {},
   "outputs": [
    {
     "name": "stdout",
     "output_type": "stream",
     "text": [
      "[0, 1, 1, 2, 3, 5, 8, 13, 21, 34]\n"
     ]
    }
   ],
   "source": [
    "def fibonacci(x):\n",
    "    result = []\n",
    "    i = 0\n",
    "    while i < x:    \n",
    "        if i == 0:\n",
    "            result.append(0)\n",
    "        elif i == 1:\n",
    "            result.append(1)\n",
    "        else:\n",
    "            result.append(result[i - 2] + result[i - 1])\n",
    "        i+=1\n",
    "    return result\n",
    "print(fibonacci(10))        "
   ]
  },
  {
   "attachments": {},
   "cell_type": "markdown",
   "metadata": {},
   "source": [
    "## Primality\n",
    "\n",
    "Create a function that checks whether a given number is a prime number. A prime number is a number greater than 1 that is only divisible by 1 and itself. Prompt the user to enter a number and then call the function to display the result."
   ]
  },
  {
   "cell_type": "code",
   "execution_count": 16,
   "metadata": {},
   "outputs": [
    {
     "name": "stdout",
     "output_type": "stream",
     "text": [
      "Es primo\n",
      "True\n"
     ]
    }
   ],
   "source": [
    "def es_primo(num):\n",
    "    for n in range(2, num):\n",
    "        if num % n == 0:\n",
    "            print(\"No es primo\", n, \"es divisor\")\n",
    "            return False\n",
    "    print(\"Es primo\")\n",
    "    return True\n",
    "print(es_primo(19))"
   ]
  },
  {
   "attachments": {},
   "cell_type": "markdown",
   "metadata": {},
   "source": [
    "## Palindromes\n",
    "\n",
    "Write a function that checks if a given word or phrase is a palindrome. A palindrome is a word or phrase that reads the same backward as forward. You can ignore spaces and capitalization. Prompt the user to enter a word or phrase and then call the function to display the result.\n",
    "\n",
    "Examples:\n",
    "   - noon --> True\n",
    "   - none --> False\n",
    "   - Never odd or even --> True"
   ]
  },
  {
   "cell_type": "code",
   "execution_count": 18,
   "metadata": {},
   "outputs": [
    {
     "name": "stdout",
     "output_type": "stream",
     "text": [
      "no es palindrom\n",
      "False\n"
     ]
    }
   ],
   "source": [
    "def palindrom(text):\n",
    "    if text[::1] == text[::-1]:\n",
    "        print(\"es palindrom\")\n",
    "        return True\n",
    "    else:\n",
    "        print(\"no es palindrom\")\n",
    "        return False\n",
    "print(palindrom(\"ABCABA\"))"
   ]
  },
  {
   "attachments": {},
   "cell_type": "markdown",
   "metadata": {},
   "source": [
    "## Common elements\n",
    "\n",
    "Write a function that takes two lists as input and returns a list of their common elements without duplicates."
   ]
  },
  {
   "cell_type": "code",
   "execution_count": 19,
   "metadata": {},
   "outputs": [
    {
     "name": "stdout",
     "output_type": "stream",
     "text": [
      "[3]\n"
     ]
    }
   ],
   "source": [
    "def lista_en_comun(list1, list2):\n",
    "    set1 = set(list1)\n",
    "    set2 = set(list2)\n",
    "    return list(set1 & set2)\n",
    "a = [1,2,3]\n",
    "b = [3,4,5]\n",
    "print(lista_en_comun(a,b))"
   ]
  },
  {
   "attachments": {},
   "cell_type": "markdown",
   "metadata": {},
   "source": [
    "## Longest word\n",
    "\n",
    "Create a function that takes a sentence as input and returns the longest word in the sentence. If there are multiple words with the same length, return the lowest one (alphabetically).\n",
    "\n",
    "Example:\n",
    "- \"One banana and two apples and three melons\" --> \"The longest word in the sentence is 'apples'.\""
   ]
  },
  {
   "cell_type": "code",
   "execution_count": 22,
   "metadata": {},
   "outputs": [
    {
     "name": "stdout",
     "output_type": "stream",
     "text": [
      "apples\n"
     ]
    }
   ],
   "source": [
    "def longest_word(text):\n",
    "    long = 0\n",
    "    l = []\n",
    "    tex = set(text.split())\n",
    "    for i in tex:\n",
    "        if len(i) == long:\n",
    "            l.append(i)\n",
    "        elif len(i) > long:\n",
    "            l = []\n",
    "            l.append(i)\n",
    "            long = len(i)\n",
    "    l = sorted(l, key = lambda x: x)\n",
    "    return l[0]\n",
    "print(longest_word(\"One banana and two apples and three melons\"))"
   ]
  },
  {
   "attachments": {},
   "cell_type": "markdown",
   "metadata": {},
   "source": [
    "## Reversed words\n",
    "\n",
    "Create a function that takes a sentence as input and returns a new sentence with each word reversed. Preserve the original order of the words.\n",
    "\n",
    "Example:\n",
    "- This is a reversed sentence --> sihT si a desrever ecnetnes"
   ]
  },
  {
   "cell_type": "code",
   "execution_count": 30,
   "metadata": {},
   "outputs": [
    {
     "name": "stdout",
     "output_type": "stream",
     "text": [
      "sihT si a desrever ecnetnes \n"
     ]
    }
   ],
   "source": [
    "def rev_words(text):\n",
    "    tex = list(text.split())\n",
    "    l = []\n",
    "    sentence = \"\"\n",
    "    for i in tex:\n",
    "        l.append(i[::-1])\n",
    "    for j in range(len(l)):\n",
    "        if i == len(i) - 1:\n",
    "            sentence = sentence + l[j]\n",
    "        else:\n",
    "            sentence = sentence + l[j] + \" \"\n",
    "    return sentence\n",
    "print(rev_words(\"This is a reversed sentence\"))"
   ]
  },
  {
   "attachments": {},
   "cell_type": "markdown",
   "metadata": {},
   "source": [
    "## Map, Filter and Reduce\n",
    "\n",
    "Solve the exercises in this section using `map`, `filter`, and/or `reduce` functions. Check the theory notebook for an explanation on how they work (or search them on the internet)."
   ]
  },
  {
   "attachments": {},
   "cell_type": "markdown",
   "metadata": {},
   "source": [
    "### C to F\n",
    "\n",
    "Convert a list of temperatures in Celsius to Fahrenheit. Given the temperature in Celsius, multiply it by 9/5 and then add 32 to obtain the corresponding temperatures in Fahrenheit."
   ]
  },
  {
   "cell_type": "code",
   "execution_count": 31,
   "metadata": {},
   "outputs": [],
   "source": [
    "celsius = [0, 20, 30, 100]"
   ]
  },
  {
   "cell_type": "code",
   "execution_count": 34,
   "metadata": {},
   "outputs": [
    {
     "name": "stdout",
     "output_type": "stream",
     "text": [
      "[32.0, 68.0, 86.0, 212.0]\n"
     ]
    }
   ],
   "source": [
    "fahren = list(map(lambda n: n * (9/5) + 32, celsius))\n",
    "print(fahren)"
   ]
  },
  {
   "attachments": {},
   "cell_type": "markdown",
   "metadata": {},
   "source": [
    "### Palindromes only\n",
    "\n",
    "Find all the palindromes in a list of words."
   ]
  },
  {
   "cell_type": "code",
   "execution_count": 35,
   "metadata": {},
   "outputs": [],
   "source": [
    "words = [\"racecar\", \"apple\", \"level\", \"banana\", \"madam\", \"rotor\", \"cherry\"]"
   ]
  },
  {
   "cell_type": "code",
   "execution_count": 36,
   "metadata": {},
   "outputs": [
    {
     "name": "stdout",
     "output_type": "stream",
     "text": [
      "['racecar', 'level', 'madam', 'rotor']\n"
     ]
    }
   ],
   "source": [
    "palind = list(filter(lambda n: n[::1] == n[::-1],words))\n",
    "print(palind)"
   ]
  },
  {
   "attachments": {},
   "cell_type": "markdown",
   "metadata": {},
   "source": [
    "### Primes only\n",
    "\n",
    "Get all the prime numbers from a list with the first 50 integers."
   ]
  },
  {
   "cell_type": "code",
   "execution_count": 48,
   "metadata": {},
   "outputs": [
    {
     "name": "stdout",
     "output_type": "stream",
     "text": [
      "[0, 1, 2, 3, 5, 7, 11, 13, 17, 19, 23, 29, 31, 37, 41, 43, 47]\n"
     ]
    }
   ],
   "source": [
    "def es_primo(num):\n",
    "    for n in range(2, num):\n",
    "        if num % n == 0:\n",
    "           # print(\"No es primo\", n, \"es divisor\")\n",
    "            return False\n",
    "    #print(\"Es primo\")\n",
    "    return True\n",
    "\n",
    "l = []\n",
    "for i in range(0,51):\n",
    "    l.append(i)\n",
    "primes = list(filter(es_primo ,l))\n",
    "print(primes)            \n"
   ]
  },
  {
   "attachments": {},
   "cell_type": "markdown",
   "metadata": {},
   "source": [
    "### Factorial\n",
    "\n",
    "Calculate the factorial of a given number. Take into account that it can be 0 (and the factorial of 0 is 1)."
   ]
  },
  {
   "cell_type": "code",
   "execution_count": 54,
   "metadata": {},
   "outputs": [
    {
     "name": "stdout",
     "output_type": "stream",
     "text": [
      "24\n"
     ]
    }
   ],
   "source": [
    "import functools\n",
    "\n",
    "l = []\n",
    "for i in range(1, 5):\n",
    "    l.append(i)\n",
    "factorial = functools.reduce(lambda x,y : x * y, l)\n",
    "print(factorial)"
   ]
  },
  {
   "attachments": {},
   "cell_type": "markdown",
   "metadata": {},
   "source": [
    "### Squared odds\n",
    "\n",
    "Get the squared elements of a list, but only the ones for which its square is an odd number."
   ]
  },
  {
   "cell_type": "code",
   "execution_count": 1,
   "metadata": {},
   "outputs": [],
   "source": [
    "numbers = list(range(10))"
   ]
  },
  {
   "cell_type": "code",
   "execution_count": 10,
   "metadata": {},
   "outputs": [
    {
     "name": "stdout",
     "output_type": "stream",
     "text": [
      "[1, 3, 5, 7, 9]\n"
     ]
    }
   ],
   "source": [
    "l = list(filter(lambda n: (n ** 2) % 2 == 1 , numbers))\n",
    "print(l)"
   ]
  },
  {
   "attachments": {},
   "cell_type": "markdown",
   "metadata": {},
   "source": [
    "### Longest word in list\n",
    "\n",
    "Use `reduce` to find the longest word in a list of words."
   ]
  },
  {
   "cell_type": "code",
   "execution_count": 11,
   "metadata": {},
   "outputs": [],
   "source": [
    "words = [\"apple\", \"banana\", \"cherry\", \"kiwi\", \"grapefruit\", \"strawberry\", \"blueberry\"]"
   ]
  },
  {
   "cell_type": "code",
   "execution_count": 27,
   "metadata": {},
   "outputs": [
    {
     "name": "stdout",
     "output_type": "stream",
     "text": [
      "strawberry\n"
     ]
    }
   ],
   "source": [
    "import functools\n",
    "\n",
    "l = functools.reduce(lambda x,y: x if len(x) > len(y) else y, words)\n",
    "print(l)"
   ]
  },
  {
   "attachments": {},
   "cell_type": "markdown",
   "metadata": {},
   "source": [
    "# Bonus"
   ]
  },
  {
   "attachments": {},
   "cell_type": "markdown",
   "metadata": {},
   "source": [
    "## Password generator\n",
    "\n",
    "Create a password generator function that generates a random password with a given length. The password must contain uppercase and lowercase letters, digits, and special characters. Use a function to generate the password.\n",
    "\n",
    "**Hint**: The `string` module has some interesting variables that can make your life easier: `ascii_lowercase`, `ascii_uppercase`, `digits` and `punctuation`."
   ]
  },
  {
   "cell_type": "code",
   "execution_count": 64,
   "metadata": {},
   "outputs": [
    {
     "data": {
      "text/plain": [
       "'H'"
      ]
     },
     "execution_count": 64,
     "metadata": {},
     "output_type": "execute_result"
    }
   ],
   "source": [
    "random.choices(string.ascii_letters + string.digits + string.punctuation)[0]"
   ]
  },
  {
   "cell_type": "code",
   "execution_count": 66,
   "metadata": {},
   "outputs": [
    {
     "name": "stdout",
     "output_type": "stream",
     "text": [
      "Pass long: 5\n",
      "A(+yU\n"
     ]
    }
   ],
   "source": [
    "import random\n",
    "import string\n",
    "\n",
    "def gener_pass(long):\n",
    "    passw = \"\"\n",
    "    for i in range(0, long):\n",
    "        passw = passw + random.choices(string.ascii_letters + string.digits + string.punctuation)[0]\n",
    "    return passw\n",
    "\n",
    "long = int(input(\"Pass long: \"))\n",
    "print(gener_pass(long))\n"
   ]
  },
  {
   "attachments": {},
   "cell_type": "markdown",
   "metadata": {},
   "source": [
    "## Tic-Tac-Toe\n",
    "\n",
    "Write the functions for playing Tic-Tac-Toe (3 en ratlla) between 2 players, X and O. You have the main code below, so your job is to write the code of the functions: `init_board`, `print_board`, `enter_row_and_col`, `check_winner`, `is_full`, `is_cell_empty`."
   ]
  },
  {
   "cell_type": "code",
   "execution_count": 18,
   "metadata": {},
   "outputs": [
    {
     "name": "stdout",
     "output_type": "stream",
     "text": [
      "---\n",
      "---\n",
      "---\n",
      "Jugador 1 pon la coordenada x: 0\n",
      "Jugador 1 pon la coordenada y: 0\n",
      "O--\n",
      "---\n",
      "---\n",
      "El jugador O segueix jugant\n",
      "Jugador 2 pon la coordenada x: 1\n",
      "Jugador 2 pon la coordenada y: 0\n",
      "O--\n",
      "X--\n",
      "---\n",
      "El jugador X segueix jugant\n",
      "Jugador 1 pon la coordenada x: 0\n",
      "Jugador 1 pon la coordenada y: 2\n",
      "O-O\n",
      "X--\n",
      "---\n",
      "El jugador O segueix jugant\n",
      "Jugador 2 pon la coordenada x: 0\n",
      "Jugador 2 pon la coordenada y: 1\n",
      "OXO\n",
      "X--\n",
      "---\n",
      "El jugador X segueix jugant\n",
      "Jugador 1 pon la coordenada x: 0\n",
      "Jugador 1 pon la coordenada y: 0\n",
      "Posición ocupada, prueba otras coordenadas!\n",
      "Jugador 1 pon la coordenada x: 1\n",
      "Jugador 1 pon la coordenada y: 2\n",
      "OXO\n",
      "X-O\n",
      "---\n",
      "El jugador O segueix jugant\n",
      "Jugador 2 pon la coordenada x: 2\n",
      "Jugador 2 pon la coordenada y: 2\n",
      "OXO\n",
      "X-O\n",
      "--X\n",
      "El jugador X segueix jugant\n",
      "Jugador 1 pon la coordenada x: 1\n",
      "Jugador 1 pon la coordenada y: 1\n",
      "OXO\n",
      "XOO\n",
      "--X\n",
      "El jugador O segueix jugant\n",
      "Jugador 2 pon la coordenada x: 2\n",
      "Jugador 2 pon la coordenada y: 0\n",
      "OXO\n",
      "XOO\n",
      "X-X\n",
      "El jugador X segueix jugant\n",
      "Jugador 1 pon la coordenada x: 2\n",
      "Jugador 1 pon la coordenada y: 1\n",
      "OXO\n",
      "XOO\n",
      "XOX\n",
      "El jugador O segueix jugant\n",
      "El tablero esta lleno!\n"
     ]
    }
   ],
   "source": [
    "def init_board():\n",
    "    table = [[\"-\",\"-\",\"-\"],[\"-\",\"-\",\"-\"],[\"-\",\"-\",\"-\"]]\n",
    "    for i in range(len(table)):\n",
    "        for j in range(len(table[i])):\n",
    "            print(table[i][j], end=\"\")\n",
    "        print(\"\")   \n",
    "    return table\n",
    "    \n",
    "def print_board(table): \n",
    "    for i in range(len(table)):\n",
    "        for j in range(len(table[i])):\n",
    "            print(table[i][j], end=\"\")\n",
    "        print(\"\")   \n",
    "    \n",
    "def enter_row_and_col(x, y, player):\n",
    "    table[x][y] = player\n",
    "    return table\n",
    "\n",
    "def chef_winner(player):\n",
    "    cont_fila1 = 0\n",
    "    cont_fila2 = 0\n",
    "    cont_fila3 = 0\n",
    "    cont_col1 = 0\n",
    "    cont_col2 = 0\n",
    "    cont_col3 = 0\n",
    "    cont_diag1 = 0\n",
    "    cont_diag2 = 0\n",
    "    \n",
    "     \n",
    "    for i in range(len(table)):\n",
    "        for j in range(len(table[i])):          \n",
    "            if table[0][j] == player and i == 0:\n",
    "                cont_col1 += 1\n",
    "            if table[1][j] == player and i == 1:\n",
    "                cont_col2 += 1\n",
    "            if table[2][j] == player and i == 2:\n",
    "                cont_col3 += 1      \n",
    "            if table[j][j] == player and i == 0:\n",
    "                cont_diag2 += 1\n",
    "        if table[i][0] == player:\n",
    "                cont_fila1 += 1\n",
    "        if table[i][1] == player:\n",
    "                cont_fila2 += 1\n",
    "        if table[i][2] == player:\n",
    "                cont_fila3 += 1\n",
    "        if table[i][2 - i] == player:\n",
    "                cont_diag1 += 1\n",
    "                \n",
    "    if cont_fila1 == 3:\n",
    "        print(f\"El jugador {player} ha ganado\")\n",
    "        return True\n",
    "    elif cont_fila2 == 3:\n",
    "        print(f\"El jugador {player} ha ganado\")\n",
    "        return True\n",
    "    elif cont_fila3 == 3:\n",
    "        print(f\"El jugador {player} ha ganado\")\n",
    "        return True\n",
    "    elif cont_col1 == 3:\n",
    "        print(f\"El jugador {player} ha ganado\")\n",
    "        return True\n",
    "    elif cont_col2 == 3:\n",
    "        print(f\"El jugador {player} ha ganado\")\n",
    "        return True\n",
    "    elif cont_col3 == 3:\n",
    "        print(f\"El jugador {player} ha ganado\")\n",
    "        return True\n",
    "    elif cont_diag1 == 3:\n",
    "        print(f\"El jugador {player} ha ganado\")\n",
    "        return True\n",
    "    elif cont_diag2 == 3:\n",
    "        print(f\"El jugador {player} ha ganado\")\n",
    "        return True\n",
    "    else:\n",
    "        print(f\"El jugador {player} segueix jugant\")\n",
    "        return False\n",
    "                \n",
    "\n",
    "def is_full(table):\n",
    "    cont = 0\n",
    "    for i in range(len(table)):\n",
    "        for j in range(len(table[i])):\n",
    "            if table[i][j] == \"-\":\n",
    "                cont += 1\n",
    "    if cont == 0:\n",
    "        return True\n",
    "    else:\n",
    "        return False\n",
    "\n",
    "def is_cell_empty(table, x, y):\n",
    "    if table[x][y] == \"-\":\n",
    "        return True\n",
    "    else:\n",
    "        return False\n",
    " \n",
    "\n",
    "\n",
    "winner = False\n",
    "jugador = True\n",
    "\n",
    "table = init_board()\n",
    "\n",
    "while not winner:    \n",
    "    if jugador:\n",
    "        if not is_full(table):\n",
    "            x = int(input(\"Jugador 1 pon la coordenada x: \"))\n",
    "            y = int(input(\"Jugador 1 pon la coordenada y: \"))\n",
    "            while not (x >= 0 and x <= 2) or not (y >= 0 and y <= 2):\n",
    "                print(\"Fuera de rango!Repite tiradas\")\n",
    "                x = int(input(\"Jugador 1 pon la coordenada x: \"))\n",
    "                y = int(input(\"Jugador 1 pon la coordenada y: \"))\n",
    "            while not is_cell_empty(table, x, y):\n",
    "                print(\"Posición ocupada, prueba otras coordenadas!\")\n",
    "                x = int(input(\"Jugador 1 pon la coordenada x: \"))\n",
    "                y = int(input(\"Jugador 1 pon la coordenada y: \"))\n",
    "            if is_cell_empty(table, x, y):\n",
    "                table = enter_row_and_col(x, y, \"O\")\n",
    "                print_board(table)\n",
    "                winner = chef_winner(\"O\")\n",
    "        else:\n",
    "            print(\"El tablero esta lleno!\")\n",
    "            winner = True\n",
    "        jugador = False\n",
    "    \n",
    "    else:\n",
    "        if not is_full(table):\n",
    "            x = int(input(\"Jugador 2 pon la coordenada x: \"))\n",
    "            y = int(input(\"Jugador 2 pon la coordenada y: \"))\n",
    "            while not (x >= 0 and x <= 2) or not (y >= 0 and y <= 2):\n",
    "                print(\"Fuera de rango!Repite tiradas\")\n",
    "                x = int(input(\"Jugador 1 pon la coordenada x: \"))\n",
    "                y = int(input(\"Jugador 1 pon la coordenada y: \"))\n",
    "            while not is_cell_empty(table, x, y):\n",
    "                print(\"Posición ocupada, prueba otras coordenadas!\")\n",
    "                x = int(input(\"Jugador 2 pon la coordenada x: \"))\n",
    "                y = int(input(\"Jugador 2 pon la coordenada y: \"))\n",
    "            if is_cell_empty(table, x, y):\n",
    "                table = enter_row_and_col(x, y, \"X\")\n",
    "                print_board(table)\n",
    "                winner = chef_winner(\"X\")\n",
    "        else:\n",
    "            print(\"El tablero esta lleno!\")\n",
    "            winner = True\n",
    "        jugador = True\n",
    "#cambiado"
   ]
  },
  {
   "attachments": {},
   "cell_type": "markdown",
   "metadata": {},
   "source": [
    "## Hangman\n",
    "\n",
    "Write a program for playing hangman. One player inputs a word and the other player has to guess it in a limited number of attempts."
   ]
  },
  {
   "cell_type": "code",
   "execution_count": null,
   "metadata": {},
   "outputs": [],
   "source": [
    "def find_letter(word, letter):\n",
    "    if letter in word:\n",
    "        return True\n",
    "    else:\n",
    "        return False\n",
    "\n",
    "def hide_word(word):\n",
    "    hide_w = \"\"\n",
    "    for i in range(len(word))\n",
    "        hide_w += \"_\"\n",
    "    return hide_w\n",
    "\n",
    "def show_letter(word, letter, hide_w):\n",
    "    l = []\n",
    "    for i in range(len(word)):\n",
    "        if word[i] == letter:\n",
    "            l.append(i)\n",
    "    if len(l) == 1:\n",
    "        \n",
    "            \n",
    "        \n",
    "            \n",
    "\n",
    "\n",
    "player = true\n",
    "winner = False\n",
    "word = \"\"\n",
    "\n",
    "word = input(\"Escribe una palabra para que la adivinen: \")\n",
    "#while not winner:\n",
    "    \n",
    "        \n",
    "        \n",
    "        \n",
    "        \n"
   ]
  },
  {
   "attachments": {},
   "cell_type": "markdown",
   "metadata": {},
   "source": [
    "## Blackjack\n",
    "\n",
    "Implement a simplified text-based version of the card game Blackjack, where the player competes against the computer to get a hand closer to 21 without going over. Use functions to handle deck creation, card shuffling, user input, hand scoring, and game state management.\n",
    "\n",
    "You can write a simplified version of Blackjack that focuses on the basic game mechanics, without implementing everything. For example:\n",
    "\n",
    "- No bets: The game doesn't involve any betting or money management.\n",
    "\n",
    "- Single deck: The game uses a single, shuffled deck of 52 standard playing cards.\n",
    "- Card values: Number cards are worth their face value, face cards (J, Q, K) are worth 10, and Aces are worth 11 or 1, depending on the hand's total value.\n",
    "- Dealing: Both the player and dealer are dealt two cards initially. The dealer's first card is shown, but not the second one.\n",
    "- Player's turn: The player starts the game. He/she can choose to \"hit\" (receive additional cards) or \"stand\" (stop receiving cards) until their hand's total value is 21 or higher.\n",
    "- Dealer's turn: The dealer reveals their face-down card and must hit until their hand's total value is 17 or higher.\n",
    "- Scoring: The goal is to have a hand value closer to 21 than the opponent without going over (busting).\n",
    "- Bust: If a player or dealer's hand exceeds 21, they bust and lose the game.\n",
    "- No splitting: The game doesn't include the option to split pairs and play separate hands.\n",
    "\n",
    "If you feel very confident, feel free to code some of the omitted rules (e.g. betting, splitting, multi-deck, multi-player...)."
   ]
  },
  {
   "cell_type": "code",
   "execution_count": null,
   "metadata": {},
   "outputs": [],
   "source": []
  },
  {
   "attachments": {},
   "cell_type": "markdown",
   "metadata": {},
   "source": [
    "## Select one of the following:\n",
    "\n",
    "1. Create a text-based adventure game with a basic storyline and a few choices for the player to make, affecting the outcome of the game.\n",
    "2. Create an Artificial Intelligence for playing Tic-Tac-Toe (so a user can play against it). Use one of the following algorithms:\n",
    "    - Minimax\n",
    "    - Monte Carlo\n",
    "3. Create a program for playing Checkers.\n",
    "4. Create a program for playing Othello."
   ]
  }
 ],
 "metadata": {
  "kernelspec": {
   "display_name": "Python 3 (ipykernel)",
   "language": "python",
   "name": "python3"
  },
  "language_info": {
   "codemirror_mode": {
    "name": "ipython",
    "version": 3
   },
   "file_extension": ".py",
   "mimetype": "text/x-python",
   "name": "python",
   "nbconvert_exporter": "python",
   "pygments_lexer": "ipython3",
   "version": "3.11.4"
  },
  "toc": {
   "base_numbering": 1,
   "nav_menu": {},
   "number_sections": true,
   "sideBar": true,
   "skip_h1_title": false,
   "title_cell": "Table of Contents",
   "title_sidebar": "Contents",
   "toc_cell": false,
   "toc_position": {
    "height": "calc(100% - 180px)",
    "left": "10px",
    "top": "150px",
    "width": "346.364px"
   },
   "toc_section_display": true,
   "toc_window_display": true
  },
  "varInspector": {
   "cols": {
    "lenName": 16,
    "lenType": 16,
    "lenVar": 40
   },
   "kernels_config": {
    "python": {
     "delete_cmd_postfix": "",
     "delete_cmd_prefix": "del ",
     "library": "var_list.py",
     "varRefreshCmd": "print(var_dic_list())"
    },
    "r": {
     "delete_cmd_postfix": ") ",
     "delete_cmd_prefix": "rm(",
     "library": "var_list.r",
     "varRefreshCmd": "cat(var_dic_list()) "
    }
   },
   "types_to_exclude": [
    "module",
    "function",
    "builtin_function_or_method",
    "instance",
    "_Feature"
   ],
   "window_display": false
  }
 },
 "nbformat": 4,
 "nbformat_minor": 2
}
