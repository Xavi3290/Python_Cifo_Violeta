{
 "cells": [
  {
   "cell_type": "markdown",
   "metadata": {},
   "source": [
    "# Bond, James Bond\n",
    "Write a program that asks for the user's name, if the name is \"Bond\" make it print \"Welcome on board 007.\" Otherwise make it print \"Good morning [name]\"."
   ]
  },
  {
   "cell_type": "code",
   "execution_count": 33,
   "metadata": {},
   "outputs": [
    {
     "name": "stdout",
     "output_type": "stream",
     "text": [
      "Welcome on board 007.\n"
     ]
    }
   ],
   "source": [
    "name = input('Enter your name: ')\n",
    "\n",
    "if name == 'Bond':\n",
    "    print('Welcome on board 007.')\n",
    "else:\n",
    "    print(f'Good morning {name}.')"
   ]
  },
  {
   "cell_type": "markdown",
   "metadata": {},
   "source": [
    "# Password\n",
    "Write a program that asks the user to enter a password. If the password is \"Python\", the program should print \"Access granted.\" If the password is anything else, the program should print \"Access denied.\""
   ]
  },
  {
   "cell_type": "code",
   "execution_count": 14,
   "metadata": {},
   "outputs": [
    {
     "name": "stdout",
     "output_type": "stream",
     "text": [
      "Access granted.\n"
     ]
    }
   ],
   "source": [
    "password = input('Enter your password: ')\n",
    "\n",
    "if password == 'Python':\n",
    "    print('Access granted.')\n",
    "else:\n",
    "    print('Access denied.')"
   ]
  },
  {
   "cell_type": "markdown",
   "metadata": {},
   "source": [
    "# Greater number\n",
    "Write a program that asks the user for two numbers and then prints: \"[x] is greater than [y].\", \"[y] is greater than [x].\", or \"Both numbers are equal.\"."
   ]
  },
  {
   "cell_type": "code",
   "execution_count": null,
   "metadata": {},
   "outputs": [
    {
     "name": "stdout",
     "output_type": "stream",
     "text": [
      "10 is greater than 4.\n"
     ]
    }
   ],
   "source": [
    "num1 = int(input('Enter the first number: '))\n",
    "num2 = int(input('Enter the second number: '))\n",
    "\n",
    "if num1 > num2:\n",
    "    print(f'{num1} is greater than {num2}.')\n",
    "elif num1 < num2:\n",
    "    print(f'{num2} is greater than {num1}.')\n",
    "else:\n",
    "    print('Both numbers are equal.')"
   ]
  },
  {
   "cell_type": "markdown",
   "metadata": {},
   "source": [
    "# In range\n",
    "\n",
    "Write a program that takes a number as input and checks if the number is within the range of 1 to 100 (inclusive). If it's within the range, print \"Number [num] is within the range,\" else print \"Number [num] is outside the range."
   ]
  },
  {
   "cell_type": "code",
   "execution_count": 2,
   "metadata": {},
   "outputs": [
    {
     "name": "stdout",
     "output_type": "stream",
     "text": [
      "Number 11 is within the range.\n"
     ]
    }
   ],
   "source": [
    "number = int(input('Enter a number: '))\n",
    "\n",
    "if 1 <= number <= 100:\n",
    "    print(f'Number {number} is within the range.')\n",
    "else:\n",
    "    print(f'Number {number} is outside the range.')"
   ]
  },
  {
   "cell_type": "markdown",
   "metadata": {},
   "source": [
    "# Odd or even\n",
    "Write a program that asks the user for an integer and then prints whether that integer is odd or even."
   ]
  },
  {
   "cell_type": "code",
   "execution_count": null,
   "metadata": {},
   "outputs": [
    {
     "name": "stdout",
     "output_type": "stream",
     "text": [
      "3 is odd.\n"
     ]
    }
   ],
   "source": [
    "num = int(input('Enter an integer: '))\n",
    "\n",
    "if num % 2 == 0:\n",
    "    print(f'{num} is even.')\n",
    "else:\n",
    "    print(f'{num} is odd.')"
   ]
  },
  {
   "cell_type": "markdown",
   "metadata": {},
   "source": [
    "# Leap year\n",
    "Write a program that asks the user for a year and determines whether it is a leap year or not. A year is a leap year if it is divisible by 4 but not divisible by 100, or if it is divisible by 400."
   ]
  },
  {
   "cell_type": "code",
   "execution_count": null,
   "metadata": {},
   "outputs": [
    {
     "name": "stdout",
     "output_type": "stream",
     "text": [
      "2023 is not a leap year.\n"
     ]
    }
   ],
   "source": [
    "year = int(input('Enter a year: '))\n",
    "\n",
    "if (year % 4 == 0 and year % 100 != 0) or (year % 400 == 0):\n",
    "    print(f'{year} is a leap year.')\n",
    "else:\n",
    "    print(f'{year} is not a leap year.')"
   ]
  },
  {
   "cell_type": "markdown",
   "metadata": {},
   "source": [
    "# Day of the week\n",
    "Write a program that asks the suer for a number between 1 and 7 and prints the day of the week, starting from \"Monday\" (1) to \"Sunday\" (7)."
   ]
  },
  {
   "cell_type": "code",
   "execution_count": 46,
   "metadata": {},
   "outputs": [
    {
     "name": "stdout",
     "output_type": "stream",
     "text": [
      "Tuesday\n"
     ]
    }
   ],
   "source": [
    "num = int(input('Enter a number between 1 and 7: '))\n",
    "\n",
    "if num == 1:\n",
    "    print('Monday')\n",
    "elif num == 2:\n",
    "    print('Tuesday')\n",
    "elif num == 3:\n",
    "    print('Wednesday')\n",
    "elif num == 4:\n",
    "    print('Thursday')\n",
    "elif num == 5:\n",
    "    print('Friday')\n",
    "elif num == 6:\n",
    "    print('Saturday')\n",
    "else:\n",
    "    print('Sunday')"
   ]
  },
  {
   "cell_type": "markdown",
   "metadata": {},
   "source": [
    "# Guess the number\n",
    "Write a program that generates a random number between 1 and 10 and asks the user to guess what the number is. If the user guesses correctly, the program should print \"Congratulations, you guessed the number!\" If the user guesses incorrectly, the program should print \"Sorry, that's not the right number.\""
   ]
  },
  {
   "cell_type": "code",
   "execution_count": 16,
   "metadata": {},
   "outputs": [
    {
     "name": "stdout",
     "output_type": "stream",
     "text": [
      "Congratulations, you guessed the number!\n"
     ]
    }
   ],
   "source": [
    "import random\n",
    "\n",
    "number = random.randint(1, 10)\n",
    "guess = int(input('Guess the number (between 1 and 10): '))\n",
    "\n",
    "if guess == number:\n",
    "    print('Congratulations, you guessed the number!')\n",
    "else:\n",
    "    print('Sorry, that\\'s not the right number.')"
   ]
  },
  {
   "cell_type": "markdown",
   "metadata": {},
   "source": [
    "# Grading\n",
    "Write a program that asks the user for their exam score (between 0 and 10) and then prints their grade according to the following scale:\n",
    "- 9-10: Excel·lent\n",
    "- 7-9: Notable\n",
    "- 6-7: Bé\n",
    "- 5-6: Suficient\n",
    "- 0-5: Insuficient\n",
    "\n",
    "9 should be included in \"Excel·lent\", 7 in \"Notable\", etc.\n",
    "\n",
    "If the given score is not a number between 0 and 10, the program should just show an error."
   ]
  },
  {
   "cell_type": "code",
   "execution_count": 31,
   "metadata": {},
   "outputs": [
    {
     "name": "stdout",
     "output_type": "stream",
     "text": [
      "Your grade is: Excel·lent\n"
     ]
    }
   ],
   "source": [
    "score = float(input('Enter your exam score: '))\n",
    "\n",
    "if score < 0 or score > 10:\n",
    "    print('Scores should be a number between 0 and 10.')\n",
    "else:\n",
    "    if score >= 9:\n",
    "        grade = 'Excel·lent'\n",
    "    elif score >= 80:\n",
    "        grade = 'Notable'\n",
    "    elif score >= 70:\n",
    "        grade = 'Bé'\n",
    "    elif score >= 60:\n",
    "        grade = 'Suficient'\n",
    "    else:\n",
    "        grade = 'Insuficient'\n",
    "\n",
    "print(f'Your grade is: {grade}')"
   ]
  },
  {
   "cell_type": "markdown",
   "metadata": {},
   "source": [
    "# Palindromes\n",
    "Write a program that asks the user for a word or phrase and checks if it is a palindrome (a word or phrase that reads the same backward as forward). Do not take into account whitespaces. If it is palindrome, show: \"[word] is a palindrome!\", if not show: \"[word] is not a palindrome.\"\n",
    "\n",
    "Examples:\n",
    "- User inputs \"noon\" --> \"noon is a palindrome!\".\n",
    "- User inputs \"madam\" --> \"madam is a palindrome!\".\n",
    "- User inputs \"taco cat\" --> \"taco cat is a palindrome!\".\n",
    "- User inputs \"no lemon no melon\" --> \"no lemon no melon is palindrome!\".\n",
    "- User inputs \"Python\" --> \"Python is not a palindrome.\""
   ]
  },
  {
   "cell_type": "code",
   "execution_count": 27,
   "metadata": {},
   "outputs": [
    {
     "name": "stdout",
     "output_type": "stream",
     "text": [
      "taco cat is a palindrome!\n"
     ]
    }
   ],
   "source": [
    "word = input('Enter a word or phrase: ')\n",
    "word_processed = word.replace(' ', '')\n",
    "\n",
    "is_palindrome = word_processed == word_processed[::-1]\n",
    "\n",
    "if is_palindrome:\n",
    "    print(f'{word} is a palindrome!')\n",
    "else:\n",
    "    print(f'{word} is not a palindrome.')"
   ]
  },
  {
   "cell_type": "markdown",
   "metadata": {},
   "source": [
    "# Calculator\n",
    "Write a program that asks the user for two numbers and an operation (+, -, *, or /). The program should perform the operation and print the result. If the user enters an invalid operation, the program should print an error message."
   ]
  },
  {
   "cell_type": "code",
   "execution_count": null,
   "metadata": {},
   "outputs": [],
   "source": [
    "num1 = float(input('Enter the first number: '))\n",
    "num2 = float(input('Enter the second number: '))\n",
    "operation = input('Enter the operation (+, -, *, /): ')\n",
    "\n",
    "if operation == '+':\n",
    "    result = num1 + num2\n",
    "elif operation == '-':\n",
    "    result = num1 - num2\n",
    "elif operation == '*':\n",
    "    result = num1 * num2\n",
    "elif operation == '/':\n",
    "    result = num1 / num2\n",
    "else:\n",
    "    print('Invalid operation.')\n",
    "\n",
    "print(f\"{num1} {operation} {num2} = {result}\")"
   ]
  },
  {
   "cell_type": "markdown",
   "metadata": {},
   "source": [
    "# Temperature converter\n",
    "Write a program that asks the user for a temperature. The last character should be a 'C' (Celsius) or 'F' (Fahrenheit). The program should convert the temperature to the other unit of measurement and print the result. If the user enters an invalid unit of measurement, the program should print an error message.\n",
    "\n",
    "Example:\n",
    "- User inputs '25C' (which means 25 degrees Celsius) --> 77F.\n",
    "- User inputs '77F' --> 25C."
   ]
  },
  {
   "cell_type": "code",
   "execution_count": null,
   "metadata": {},
   "outputs": [
    {
     "name": "stdout",
     "output_type": "stream",
     "text": [
      "25.0 degrees Celsius is 77.0 degrees Fahrenheit.\n"
     ]
    }
   ],
   "source": [
    "inp = input('Enter the temperature: ')\n",
    "temperature = float(inp[:-1])\n",
    "unit = inp[-1]\n",
    "\n",
    "if unit == 'C':\n",
    "    result = (temperature * 9/5) + 32\n",
    "    print(f'{temperature} degrees Celsius is {result} degrees Fahrenheit.')\n",
    "elif unit == 'F':\n",
    "    result = (temperature - 32) * 5/9\n",
    "    print(f'{temperature} degrees Fahrenheit is {result} degrees Celsius.')\n",
    "else:\n",
    "    print('Invalid unit of measurement.')"
   ]
  },
  {
   "cell_type": "markdown",
   "metadata": {},
   "source": [
    "# Triangle\n",
    "Write a program that asks the user for three numbers that represent the length of a triangle sides, then prints whether those numbers can form an equilateral triangle, an isosceles triangle, or a scalene triangle."
   ]
  },
  {
   "cell_type": "code",
   "execution_count": null,
   "metadata": {},
   "outputs": [
    {
     "name": "stdout",
     "output_type": "stream",
     "text": [
      "These sides form an isosceles triangle.\n"
     ]
    }
   ],
   "source": [
    "a = float(input('Enter the length of the first side: '))\n",
    "b = float(input('Enter the length of the second side: '))\n",
    "c = float(input('Enter the length of the third side: '))\n",
    "\n",
    "if a == b == c:\n",
    "    print('These sides form an equilateral triangle.')\n",
    "elif a == b or a == c or b == c:\n",
    "    print('These sides form an isosceles triangle.')\n",
    "else:\n",
    "    print('These sides form a scalene triangle.')"
   ]
  },
  {
   "cell_type": "markdown",
   "metadata": {},
   "source": [
    "# Rock, paper, scissors\n",
    "Write a program that allows the user to play rock, paper, scissors against the computer. The computer should choose its move randomly, and the program should announce the winner."
   ]
  },
  {
   "cell_type": "code",
   "execution_count": 13,
   "metadata": {},
   "outputs": [
    {
     "name": "stdout",
     "output_type": "stream",
     "text": [
      "You lose...\n"
     ]
    }
   ],
   "source": [
    "# There are easier ways to do it with lists (we have not seen them yet), but for now let's keep it like this.\n",
    "\n",
    "player_move = input('Enter your move (rock, paper, or scissors): ')\n",
    "\n",
    "r = random.randint(0, 2)\n",
    "if r == 0:\n",
    "    computer_move = 'scissors'\n",
    "elif r == 1:\n",
    "    computer_move = 'rock'\n",
    "else:\n",
    "    computer_move = 'paper'\n",
    "\n",
    "print(f'The computer chose {computer_move}.')\n",
    "\n",
    "if player_move == computer_move:\n",
    "    print('Tie!')\n",
    "elif player_move == 'rock' and computer_move == 'scissors':\n",
    "    print('You win! Rock smashes scissors.')\n",
    "elif player_move == 'paper' and computer_move == 'rock':\n",
    "    print('You win! Paper covers rock.')\n",
    "elif player_move == 'scissors' and computer_move == 'paper':\n",
    "    print('You win! Scissors cut paper.')\n",
    "else:\n",
    "    print('You lose...')"
   ]
  },
  {
   "cell_type": "markdown",
   "metadata": {},
   "source": [
    "## Insurance premium\n",
    "\n",
    "Write a program that calculates the insurance premium based on the user's age, if the user has had any previous accident (Yes/No), and the type of insurance plan they choose (basic or premium). The rules for calculating the premium are as follows:\n",
    "\n",
    "- Base price for basic plan: 200€.\n",
    "- Base price for premium plan: 500€.\n",
    "- If the user is under 25 and has had an accident at some point, add a 30% surcharge.\n",
    "- If the user is under 25 and has no bad accidents record, add a 5% surcharge.\n",
    "- If the user is 25 or older, no surcharge.\n",
    "\n",
    "Take into account that the user may enter invalid data. For example a plan that does not exist or the answer about previous accidents is not a \"Yes\" or \"No\". You can call the `exit()` function for stopping the execution of the program at any point."
   ]
  },
  {
   "cell_type": "code",
   "execution_count": 10,
   "metadata": {},
   "outputs": [
    {
     "name": "stdout",
     "output_type": "stream",
     "text": [
      "Your insurance premium is 210.0€.\n"
     ]
    }
   ],
   "source": [
    "age = int(input('Enter your age: '))\n",
    "any_accident = input('Any previous accident (Yes/No): ').lower()\n",
    "plan = input('Enter the type of insurance plan (basic/premium): ').lower()\n",
    "\n",
    "if plan == 'basic':\n",
    "    base_price = 200\n",
    "elif plan == 'premium':\n",
    "    base_price = 500\n",
    "else:\n",
    "    print('Invalid plan entered.')\n",
    "    exit()\n",
    "\n",
    "if age < 25:\n",
    "    if any_accident == 'yes':\n",
    "        surcharge = 0.3\n",
    "    elif any_accident == 'no':\n",
    "        surcharge = 0.05\n",
    "    else:\n",
    "        print('Invalid gender entered.')\n",
    "        exit()\n",
    "else:\n",
    "    surcharge = 0\n",
    "\n",
    "premium = base_price * (1 + surcharge)\n",
    "print(f'Your insurance premium is {premium}€.')"
   ]
  },
  {
   "cell_type": "markdown",
   "metadata": {},
   "source": [
    "# Bonus"
   ]
  },
  {
   "cell_type": "markdown",
   "metadata": {},
   "source": [
    "## Discounted price\n",
    "\n",
    "Write a program that calculates the discounted price of a product based on the original price and discount rate. The discount rate is applied as follows:\n",
    "\n",
    "- No discount for prices up to 20.\n",
    "- 10% discount for prices between 21 and 50.\n",
    "- 20% discount for prices between 51 and 100.\n",
    "- 30% discount for prices above 100."
   ]
  },
  {
   "cell_type": "code",
   "execution_count": 5,
   "metadata": {},
   "outputs": [
    {
     "name": "stdout",
     "output_type": "stream",
     "text": [
      "The discounted price is 65.6€.\n"
     ]
    }
   ],
   "source": [
    "original_price = float(input('Enter the original price: '))\n",
    "\n",
    "if original_price <= 20:\n",
    "    discount_rate = 0\n",
    "elif original_price <= 50:\n",
    "    discount_rate = 0.1\n",
    "elif original_price <= 100:\n",
    "    discount_rate = 0.2\n",
    "else:\n",
    "    discount_rate = 0.3\n",
    "\n",
    "discounted_price = original_price * (1 - discount_rate)\n",
    "print(f'The discounted price is {round(discounted_price, 2)}€.')"
   ]
  },
  {
   "cell_type": "markdown",
   "metadata": {},
   "source": [
    "## Zodiac sign\n",
    "\n",
    "Write a program that takes the user's birth date as input (month and day) and outputs their zodiac sign."
   ]
  },
  {
   "cell_type": "code",
   "execution_count": 8,
   "metadata": {},
   "outputs": [
    {
     "name": "stdout",
     "output_type": "stream",
     "text": [
      "Virgo\n"
     ]
    }
   ],
   "source": [
    "month = int(input('Enter your birth month (1-12): '))\n",
    "day = int(input('Enter your birth day (1-31): '))\n",
    "\n",
    "if (month == 3 and day >= 21) or (month == 4 and day <= 19):\n",
    "    print('Aries')\n",
    "elif (month == 4 and day >= 20) or (month == 5 and day <= 20):\n",
    "    print('Taurus')\n",
    "elif (month == 5 and day >= 21) or (month == 6 and day <= 20):\n",
    "    print('Gemini')\n",
    "elif (month == 6 and day >= 21) or (month == 7 and day <= 22):\n",
    "    print('Cancer')\n",
    "elif (month == 7 and day >= 23) or (month == 8 and day <= 22):\n",
    "    print('Leo')\n",
    "elif (month == 8 and day >= 23) or (month == 9 and day <= 22):\n",
    "    print('Virgo')\n",
    "elif (month == 9 and day >= 23) or (month == 10 and day <= 22):\n",
    "    print('Libra')\n",
    "elif (month == 10 and day >= 23) or (month == 11 and day <= 21):\n",
    "    print('Scorpio')\n",
    "elif (month == 11 and day >= 22) or (month == 12 and day <= 21):\n",
    "    print('Sagittarius')\n",
    "elif (month == 12 and day >= 22) or (month == 1 and day <= 19):\n",
    "    print('Capricorn')\n",
    "elif (month == 1 and day >= 20) or (month == 2 and day <= 18):\n",
    "    print('Aquarius')\n",
    "elif (month == 2 and day >= 19) or (month == 3 and day <= 20):\n",
    "    print('Pisces')\n",
    "else:\n",
    "    print('Invalid date entered.')"
   ]
  },
  {
   "cell_type": "markdown",
   "metadata": {},
   "source": [
    "## Temperature converter 2\n",
    "\n",
    "Write a program that converts temperatures between Celsius, Fahrenheit, and Kelvin. The user should enter the source temperature unit (C, F or K), target temperature unit (C, F or K), and the temperature value."
   ]
  },
  {
   "cell_type": "code",
   "execution_count": 5,
   "metadata": {},
   "outputs": [
    {
     "name": "stdout",
     "output_type": "stream",
     "text": [
      "The converted temperature is 305.15 K.\n"
     ]
    }
   ],
   "source": [
    "source_unit = input('Enter the source temperature unit (C/F/K): ').upper()\n",
    "target_unit = input('Enter the target temperature unit (C/F/K): ').upper()\n",
    "temperature = float(input('Enter the temperature value: '))\n",
    "\n",
    "if source_unit == target_unit:\n",
    "    result = temperature\n",
    "elif source_unit == 'C':\n",
    "    if target_unit == 'F':\n",
    "        result = temperature * 9/5 + 32\n",
    "    elif target_unit == 'K':\n",
    "        result = temperature + 273.15\n",
    "    else:\n",
    "        print('Invalid target unit.')\n",
    "        exit()\n",
    "elif source_unit == 'F':\n",
    "    if target_unit == 'C':\n",
    "        result = (temperature - 32) * 5/9\n",
    "    elif target_unit == 'K':\n",
    "        result = (temperature - 32) * 5/9 + 273.15\n",
    "    else:\n",
    "        print('Invalid target unit.')\n",
    "        exit()\n",
    "elif source_unit == 'K':\n",
    "    if target_unit == 'C':\n",
    "        result = temperature - 273.15\n",
    "    elif target_unit == 'F':\n",
    "        result = (temperature - 273.15) * 9/5 + 32\n",
    "    else:\n",
    "        print('Invalid target unit.')\n",
    "        exit()\n",
    "else:\n",
    "    print('Invalid source unit.')\n",
    "    exit()\n",
    "\n",
    "print(f'The converted temperature is {result} {target_unit}.')"
   ]
  },
  {
   "cell_type": "markdown",
   "metadata": {},
   "source": [
    "## Tax\n",
    "\n",
    "Write a program that asks the user for his salary before taxes and calculates the total amount of money he or she has to pay in taxes based on:\n",
    "- The first 10,000 euros do not have any tax.\n",
    "- From 10,001 to 25,000: 15%\n",
    "- From 25,001 to 38,000: 20%\n",
    "- More than 38,000: 40%\n",
    "\n",
    "Take into account that the tax is progressive, that is the tax is calculated by applying the percentages progressively. For example, if a person earns 18,000, he has to pay 0% for the first 10,000 and 15% for the remaining 8,000, so the final tax to be paid is 8,000 * 0.15 = 1,200€.\n",
    "\n",
    "Another example: a person that earns 60,000€ has to pay 10,000 * 0 + 15,000 * 0.15 + 13,000 * 0.20 + 22,000 * 0.40 = 13,650€."
   ]
  },
  {
   "cell_type": "code",
   "execution_count": null,
   "metadata": {},
   "outputs": [
    {
     "name": "stdout",
     "output_type": "stream",
     "text": [
      "The total amount to pay in taxes is 13650.0€.\n"
     ]
    }
   ],
   "source": [
    "# There are more fancy ways of calculating this, but this program is intuitive enough\n",
    "\n",
    "salary = float(input('Salary before taxes: '))\n",
    "tax_to_pay = 0\n",
    "salary -= 10_000\n",
    "\n",
    "if 0 < salary < 15_000:\n",
    "    tax_to_pay += salary * 0.15\n",
    "else:\n",
    "    tax_to_pay += 15_000 * 0.15\n",
    "    salary -= 15_000\n",
    "    if 0 < salary < 13_000:\n",
    "        tax_to_pay += salary * 0.2\n",
    "    else:\n",
    "        tax_to_pay += 13_000 * 0.2\n",
    "        salary -= 13_000\n",
    "        if salary > 0:\n",
    "            tax_to_pay += salary * 0.4\n",
    "\n",
    "print(f'The total amount to pay in taxes is {tax_to_pay}€.')"
   ]
  },
  {
   "cell_type": "markdown",
   "metadata": {},
   "source": [
    "## Quadratic equation solver\n",
    "\n",
    "Write a program that takes the coefficients a, b, and c of a quadratic equation (ax^2 + bx + c = 0) as input and outputs the real roots, if they exist. If the roots are complex, print \"Complex roots.\""
   ]
  },
  {
   "cell_type": "code",
   "execution_count": null,
   "metadata": {},
   "outputs": [],
   "source": [
    "import math\n",
    "\n",
    "a = float(input('Enter the coefficient a: '))\n",
    "b = float(input('Enter the coefficient b: '))\n",
    "c = float(input('Enter the coefficient c: '))\n",
    "\n",
    "discriminant = b**2 - 4*a*c\n",
    "\n",
    "if discriminant > 0:\n",
    "    root1 = (-b + math.sqrt(discriminant)) / (2*a)\n",
    "    root2 = (-b - math.sqrt(discriminant)) / (2*a)\n",
    "    print(f'Root 1: {root1}, Root 2: {root2}')\n",
    "elif discriminant == 0:\n",
    "    root = -b / (2*a)\n",
    "    print(f'Root: {root}')\n",
    "else:\n",
    "    print('Complex roots.')"
   ]
  },
  {
   "cell_type": "markdown",
   "metadata": {},
   "source": [
    "## Day of the week\n",
    "\n",
    "Write a program that takes a date as input (day, month, and year) and calculates the day of the week for that date."
   ]
  },
  {
   "cell_type": "code",
   "execution_count": 4,
   "metadata": {},
   "outputs": [
    {
     "name": "stdout",
     "output_type": "stream",
     "text": [
      "The day of the week is Thursday.\n"
     ]
    }
   ],
   "source": [
    "day = int(input('Enter the day (1-31): '))\n",
    "month = int(input('Enter the month (1-12): '))\n",
    "year = int(input('Enter the year (YYYY): '))\n",
    "\n",
    "days = ['Saturday', 'Sunday', 'Monday', 'Tuesday', 'Wednesday', 'Thursday', 'Friday']\n",
    "\n",
    "if month < 3:\n",
    "    month += 12\n",
    "    year -= 1\n",
    "\n",
    "K = year % 100\n",
    "J = year // 100\n",
    "\n",
    "day_index = (day + 13*(month + 1) // 5 + K + K // 4 + J // 4 - 2*J) % 7\n",
    "weekday = days[day_index]\n",
    "\n",
    "print(f'The day of the week is {weekday}.')"
   ]
  }
 ],
 "metadata": {
  "kernelspec": {
   "display_name": "Python 3 (ipykernel)",
   "language": "python",
   "name": "python3"
  },
  "language_info": {
   "codemirror_mode": {
    "name": "ipython",
    "version": 3
   },
   "file_extension": ".py",
   "mimetype": "text/x-python",
   "name": "python",
   "nbconvert_exporter": "python",
   "pygments_lexer": "ipython3",
   "version": "3.10.12"
  },
  "toc": {
   "base_numbering": 1,
   "nav_menu": {},
   "number_sections": true,
   "sideBar": true,
   "skip_h1_title": false,
   "title_cell": "Table of Contents",
   "title_sidebar": "Contents",
   "toc_cell": false,
   "toc_position": {},
   "toc_section_display": true,
   "toc_window_display": false
  },
  "varInspector": {
   "cols": {
    "lenName": 16,
    "lenType": 16,
    "lenVar": 40
   },
   "kernels_config": {
    "python": {
     "delete_cmd_postfix": "",
     "delete_cmd_prefix": "del ",
     "library": "var_list.py",
     "varRefreshCmd": "print(var_dic_list())"
    },
    "r": {
     "delete_cmd_postfix": ") ",
     "delete_cmd_prefix": "rm(",
     "library": "var_list.r",
     "varRefreshCmd": "cat(var_dic_list()) "
    }
   },
   "types_to_exclude": [
    "module",
    "function",
    "builtin_function_or_method",
    "instance",
    "_Feature"
   ],
   "window_display": false
  }
 },
 "nbformat": 4,
 "nbformat_minor": 2
}
