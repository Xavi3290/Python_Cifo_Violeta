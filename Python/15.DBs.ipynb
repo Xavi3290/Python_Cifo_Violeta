{
 "cells": [
  {
   "attachments": {},
   "cell_type": "markdown",
   "metadata": {},
   "source": [
    "# Databases"
   ]
  },
  {
   "cell_type": "code",
   "execution_count": 3,
   "metadata": {},
   "outputs": [],
   "source": [
    "import sqlite3"
   ]
  },
  {
   "attachments": {},
   "cell_type": "markdown",
   "metadata": {},
   "source": [
    "## Create DB\n",
    "\n",
    "- Create a new sqlite3 database called `library`."
   ]
  },
  {
   "cell_type": "code",
   "execution_count": 2,
   "metadata": {},
   "outputs": [],
   "source": [
    "conn = sqlite3.connect('library.db')\n",
    "cursor = conn.cursor()"
   ]
  },
  {
   "attachments": {},
   "cell_type": "markdown",
   "metadata": {},
   "source": [
    "## Create Table\n",
    "\n",
    "Create a table named `books` with the following characteristics:\n",
    "- id INTEGER PRIMARY KEY\n",
    "- title TEXT\n",
    "- author TEXT\n",
    "- published_date DATE"
   ]
  },
  {
   "cell_type": "code",
   "execution_count": 17,
   "metadata": {},
   "outputs": [
    {
     "ename": "OperationalError",
     "evalue": "table library already exists",
     "output_type": "error",
     "traceback": [
      "\u001b[1;31m---------------------------------------------------------------------------\u001b[0m",
      "\u001b[1;31mOperationalError\u001b[0m                          Traceback (most recent call last)",
      "Cell \u001b[1;32mIn[17], line 1\u001b[0m\n\u001b[1;32m----> 1\u001b[0m cursor\u001b[39m.\u001b[39mexecute(\u001b[39m'''\u001b[39m\n\u001b[0;32m      2\u001b[0m \u001b[39m                   CREATE TABLE library\u001b[39m\n\u001b[0;32m      3\u001b[0m \u001b[39m                   (id INTEGER PRIMARY KEY,\u001b[39m\n\u001b[0;32m      4\u001b[0m \u001b[39m                   title TEXT,\u001b[39m\n\u001b[0;32m      5\u001b[0m \u001b[39m                   author TEXT,\u001b[39m\n\u001b[0;32m      6\u001b[0m \u001b[39m                   published_date DATE)\u001b[39m\n\u001b[0;32m      7\u001b[0m \u001b[39m                \u001b[39m\u001b[39m'''\u001b[39m)\n\u001b[0;32m      9\u001b[0m conn\u001b[39m.\u001b[39mcommit()\n",
      "\u001b[1;31mOperationalError\u001b[0m: table library already exists"
     ]
    }
   ],
   "source": [
    "cursor.execute('''\n",
    "                   CREATE TABLE library\n",
    "                   (id INTEGER PRIMARY KEY,\n",
    "                   title TEXT,\n",
    "                   author TEXT,\n",
    "                   published_date DATE)\n",
    "                ''')\n",
    "\n",
    "conn.commit()"
   ]
  },
  {
   "attachments": {},
   "cell_type": "markdown",
   "metadata": {},
   "source": [
    "## Add Book\n",
    "\n",
    "Write a Python function `add_book()` that will add a new book to the \"books\" table."
   ]
  },
  {
   "cell_type": "code",
   "execution_count": 26,
   "metadata": {},
   "outputs": [],
   "source": [
    "def add_book(conn, cursor, title, author, published_date):\n",
    "    cursor.execute('''INSERT INTO library (title, author, published_date)\n",
    "                  VALUES (?, ?, ?)''', (title, author, published_date,))\n",
    "    conn.commit()"
   ]
  },
  {
   "cell_type": "code",
   "execution_count": 27,
   "metadata": {},
   "outputs": [],
   "source": [
    "add_book(conn, cursor, 'The Lord of the Rings', 'J.R.R. Tolkien', '1954-07-29')\n",
    "add_book(conn, cursor, 'Harry Potter', 'J.K. Rowling', '1997-06-26')"
   ]
  },
  {
   "attachments": {},
   "cell_type": "markdown",
   "metadata": {},
   "source": [
    "## Get Book\n",
    "\n",
    "Write a Python function `get_books_by_author()` that will retrieve all books by a given author."
   ]
  },
  {
   "cell_type": "code",
   "execution_count": 38,
   "metadata": {},
   "outputs": [],
   "source": [
    "def get_books_by_author(conn, cursor, author):\n",
    "    cursor.execute(\"\"\"\n",
    "                    SELECT * FROM library\n",
    "                   where author = ?\n",
    "                    \"\"\", (author,))\n",
    "    print(cursor.fetchall())"
   ]
  },
  {
   "cell_type": "code",
   "execution_count": 29,
   "metadata": {},
   "outputs": [
    {
     "name": "stdout",
     "output_type": "stream",
     "text": [
      "[(1, 'The Lord of the Rings', 'J.R.R. Tolkien', '1954-07-29')]\n"
     ]
    }
   ],
   "source": [
    "get_books_by_author(conn, cursor, 'J.R.R. Tolkien')"
   ]
  },
  {
   "cell_type": "code",
   "execution_count": 25,
   "metadata": {},
   "outputs": [
    {
     "data": {
      "text/plain": [
       "[(1,\n",
       "  'Lord of the Rings: The Fellowship of the Ring',\n",
       "  'J.R.R. Tolkien',\n",
       "  '1954-07-29')]"
      ]
     },
     "execution_count": 25,
     "metadata": {},
     "output_type": "execute_result"
    }
   ],
   "source": [
    "get_books_by_author(conn, cursor, 'J.R.R. Tolkien')"
   ]
  },
  {
   "attachments": {},
   "cell_type": "markdown",
   "metadata": {},
   "source": [
    "## Update Book\n",
    "\n",
    "Write a Python function `update_book_title()` that will update the title of a book given its id."
   ]
  },
  {
   "cell_type": "code",
   "execution_count": 30,
   "metadata": {},
   "outputs": [],
   "source": [
    "def update_book_title(conn, cursor, id, title):\n",
    "    cursor.execute(\"\"\"\n",
    "                    UPDATE library set  title = ?\n",
    "                   where id = ?\"\"\", (title, id))\n",
    "    conn.commit()"
   ]
  },
  {
   "cell_type": "code",
   "execution_count": 31,
   "metadata": {},
   "outputs": [
    {
     "name": "stdout",
     "output_type": "stream",
     "text": [
      "[(1, 'Lord of the Rings: The Fellowship of the Ring', 'J.R.R. Tolkien', '1954-07-29')]\n"
     ]
    }
   ],
   "source": [
    "update_book_title(conn, cursor, 1, 'Lord of the Rings: The Fellowship of the Ring')\n",
    "get_books_by_author(conn, cursor, 'J.R.R. Tolkien')"
   ]
  },
  {
   "cell_type": "code",
   "execution_count": 27,
   "metadata": {},
   "outputs": [],
   "source": [
    "update_book_title(conn, cursor, 1, 'Lord of the Rings: The Fellowship of the Ring')"
   ]
  },
  {
   "cell_type": "code",
   "execution_count": 28,
   "metadata": {},
   "outputs": [
    {
     "data": {
      "text/plain": [
       "[(1,\n",
       "  'Lord of the Rings: The Fellowship of the Ring',\n",
       "  'J.R.R. Tolkien',\n",
       "  '1954-07-29')]"
      ]
     },
     "execution_count": 28,
     "metadata": {},
     "output_type": "execute_result"
    }
   ],
   "source": [
    "get_books_by_author(conn, cursor, 'J.R.R. Tolkien')"
   ]
  },
  {
   "attachments": {},
   "cell_type": "markdown",
   "metadata": {},
   "source": [
    "## Delete Book\n",
    "\n",
    "Write a Python function `delete_book()` that will delete a book from the \"books\" table given its id."
   ]
  },
  {
   "cell_type": "code",
   "execution_count": 32,
   "metadata": {},
   "outputs": [],
   "source": [
    "def delete_book(conn, cursor, id):\n",
    "    cursor.execute(\"\"\"DELETE from library where id = ?\"\"\", (id,))\n",
    "    conn.commit()"
   ]
  },
  {
   "cell_type": "code",
   "execution_count": 33,
   "metadata": {},
   "outputs": [
    {
     "name": "stdout",
     "output_type": "stream",
     "text": [
      "[]\n"
     ]
    }
   ],
   "source": [
    "delete_book(conn, cursor, 2)\n",
    "get_books_by_author(conn, cursor, 'J.K. Rowling')"
   ]
  },
  {
   "cell_type": "code",
   "execution_count": 30,
   "metadata": {},
   "outputs": [],
   "source": [
    "delete_book(conn, cursor, 2)"
   ]
  },
  {
   "cell_type": "code",
   "execution_count": 31,
   "metadata": {},
   "outputs": [
    {
     "data": {
      "text/plain": [
       "[]"
      ]
     },
     "execution_count": 31,
     "metadata": {},
     "output_type": "execute_result"
    }
   ],
   "source": [
    "get_books_by_author(conn, cursor, 'J.K. Rowling')"
   ]
  },
  {
   "attachments": {},
   "cell_type": "markdown",
   "metadata": {},
   "source": [
    "## Published Before\n",
    "\n",
    "Write a Python function `get_books_published_before()` that will retrieve all books published before a given date."
   ]
  },
  {
   "cell_type": "code",
   "execution_count": 40,
   "metadata": {},
   "outputs": [],
   "source": [
    "def get_books_published_before(conn, cursor, date):\n",
    "    cursor.execute(\"\"\"Select * from library where published_date < ?\"\"\", (date,))\n",
    "    print(cursor.fetchall())"
   ]
  },
  {
   "cell_type": "code",
   "execution_count": 41,
   "metadata": {},
   "outputs": [
    {
     "name": "stdout",
     "output_type": "stream",
     "text": [
      "[(1, 'Lord of the Rings: The Fellowship of the Ring', 'J.R.R. Tolkien', '1954-07-29')]\n"
     ]
    }
   ],
   "source": [
    "get_books_published_before(conn, cursor, '2000-01-01')"
   ]
  },
  {
   "cell_type": "code",
   "execution_count": 33,
   "metadata": {},
   "outputs": [
    {
     "data": {
      "text/plain": [
       "[(1,\n",
       "  'Lord of the Rings: The Fellowship of the Ring',\n",
       "  'J.R.R. Tolkien',\n",
       "  '1954-07-29')]"
      ]
     },
     "execution_count": 33,
     "metadata": {},
     "output_type": "execute_result"
    }
   ],
   "source": [
    "get_books_published_before(conn, cursor, '2000-01-01')"
   ]
  },
  {
   "attachments": {},
   "cell_type": "markdown",
   "metadata": {},
   "source": [
    "## Closing\n",
    "\n",
    "Close the cursor and the connection."
   ]
  },
  {
   "cell_type": "code",
   "execution_count": 42,
   "metadata": {},
   "outputs": [],
   "source": [
    "cursor.close()\n",
    "conn.close()"
   ]
  },
  {
   "attachments": {},
   "cell_type": "markdown",
   "metadata": {},
   "source": [
    "## Guess the Movie\n",
    "\n",
    "Create a game where the user is presented with characters from a movie title replaced by underscores and must guess the movie title. Users have limited attempts, and their scores are recorded in a database."
   ]
  },
  {
   "attachments": {},
   "cell_type": "markdown",
   "metadata": {},
   "source": [
    "### Create DB\n",
    "\n",
    "Create a new database called \"guess_movie.db\"."
   ]
  },
  {
   "cell_type": "code",
   "execution_count": 43,
   "metadata": {},
   "outputs": [],
   "source": [
    "conn = sqlite3.connect('guess_movie.db')\n",
    "cursor = conn.cursor()"
   ]
  },
  {
   "attachments": {},
   "cell_type": "markdown",
   "metadata": {},
   "source": [
    "### Tables Setup\n",
    "\n",
    "Create a table called \"movies\" with columns \"id\" and \"title\" and another table \"scores\" with columns \"id,\" \"username,\" and \"score.\""
   ]
  },
  {
   "cell_type": "code",
   "execution_count": 46,
   "metadata": {},
   "outputs": [],
   "source": [
    "cursor.execute('''\n",
    "                   CREATE TABLE movies\n",
    "                   (id INTEGER PRIMARY KEY,\n",
    "                   title TEXT)\n",
    "                ''')\n",
    "cursor.execute('''\n",
    "                CREATE TABLE scores\n",
    "                (id INTEGER PRIMARY KEY,\n",
    "                    username TEXT,\n",
    "                    score INTEGER)\n",
    "                ''')\n",
    "\n",
    "conn.commit()"
   ]
  },
  {
   "attachments": {},
   "cell_type": "markdown",
   "metadata": {},
   "source": [
    "### Populate DB\n",
    "\n",
    "Initialize the DB with the following movies:"
   ]
  },
  {
   "cell_type": "code",
   "execution_count": 10,
   "metadata": {},
   "outputs": [],
   "source": [
    "movie_titles = [\n",
    "    \"The Shawshank Redemption\",\n",
    "    \"The Godfather\",\n",
    "    \"The Dark Knight\",\n",
    "    \"Pulp Fiction\",\n",
    "    \"Forrest Gump\",\n",
    "    \"Inception\",\n",
    "    \"Fight Club\",\n",
    "    \"The Matrix\",\n",
    "    \"The Social Network\",\n",
    "    \"Jurassic Park\",\n",
    "    \"Titanic\",\n",
    "    \"Toy Story\",\n",
    "    \"Finding Nemo\",\n",
    "    \"The Lord of the Rings: The Return of the King\",\n",
    "    \"Star Wars: Episode IV - A New Hope\",\n",
    "    \"The Silence of the Lambs\",\n",
    "    \"Se7en\",\n",
    "    \"The Lion King\",\n",
    "    \"Back to the Future\",\n",
    "    \"The Usual Suspects\"\n",
    "]"
   ]
  },
  {
   "cell_type": "code",
   "execution_count": 11,
   "metadata": {},
   "outputs": [
    {
     "ename": "NameError",
     "evalue": "name 'cursor' is not defined",
     "output_type": "error",
     "traceback": [
      "\u001b[1;31m---------------------------------------------------------------------------\u001b[0m",
      "\u001b[1;31mNameError\u001b[0m                                 Traceback (most recent call last)",
      "Cell \u001b[1;32mIn[11], line 1\u001b[0m\n\u001b[1;32m----> 1\u001b[0m cursor\u001b[39m.\u001b[39mexecutemany(\u001b[39m\"\"\"\u001b[39m\n\u001b[0;32m      2\u001b[0m \u001b[39m                    INSERT INTO movies (title) VALUES (?)\u001b[39m\n\u001b[0;32m      3\u001b[0m \u001b[39m                    \u001b[39m\u001b[39m\"\"\"\u001b[39m, [(title,) \u001b[39mfor\u001b[39;00m title \u001b[39min\u001b[39;00m movie_titles])\n\u001b[0;32m      5\u001b[0m conn\u001b[39m.\u001b[39mcommit\n",
      "\u001b[1;31mNameError\u001b[0m: name 'cursor' is not defined"
     ]
    }
   ],
   "source": [
    "cursor.executemany(\"\"\"\n",
    "                    INSERT INTO movies (title) VALUES (?)\n",
    "                    \"\"\", [(title,) for title in movie_titles])\n",
    "\n",
    "conn.commit"
   ]
  },
  {
   "attachments": {},
   "cell_type": "markdown",
   "metadata": {},
   "source": [
    "### The Game\n",
    "\n",
    "- You should create a Tkinter window with a label to display the masked movie title, an entry widget to input the guessed movie title, a button to submit the guess, and a label to display the remaining attempts.\n",
    "- When the game starts, pick a random movie title from the database, mask it with underscores, and display it to the user. Each time the user submits a guess, check it against the actual movie title. If the guess is correct, the user wins, and their score is updated in the database.\n",
    "\n",
    "A good way to organize the code may be:\n",
    "- Create a `MovieDatabase` class that encapsulates all functionalities related to database management, including inserting movie titles, fetching a random movie, and closing the database connection.\n",
    "- Create a `GuessTheMovieGame` class that handles all the game logic and GUI functionalities, and it utilizes an instance of `MovieDatabase` to interact with the database.\n",
    "- Define a `main()` function that runs the game, and ensures that the database connection is closed appropriately upon application termination.\n",
    "\n",
    "This is just a proposal, feel free to organize your program as you wish."
   ]
  },
  {
   "cell_type": "code",
   "execution_count": 9,
   "metadata": {},
   "outputs": [
    {
     "name": "stdout",
     "output_type": "stream",
     "text": [
      "[]\n",
      "[]\n"
     ]
    },
    {
     "ename": "IndexError",
     "evalue": "Cannot choose from an empty sequence",
     "output_type": "error",
     "traceback": [
      "\u001b[1;31m---------------------------------------------------------------------------\u001b[0m",
      "\u001b[1;31mIndexError\u001b[0m                                Traceback (most recent call last)",
      "Cell \u001b[1;32mIn[9], line 104\u001b[0m\n\u001b[0;32m    101\u001b[0m     gam\u001b[39m.\u001b[39mgame()\n\u001b[0;32m    103\u001b[0m \u001b[39mif\u001b[39;00m \u001b[39m__name__\u001b[39m \u001b[39m==\u001b[39m \u001b[39m\"\u001b[39m\u001b[39m__main__\u001b[39m\u001b[39m\"\u001b[39m:\n\u001b[1;32m--> 104\u001b[0m     main()\n",
      "Cell \u001b[1;32mIn[9], line 100\u001b[0m, in \u001b[0;36mmain\u001b[1;34m()\u001b[0m\n\u001b[0;32m     98\u001b[0m \u001b[39mdef\u001b[39;00m \u001b[39mmain\u001b[39m():\n\u001b[0;32m     99\u001b[0m     mov \u001b[39m=\u001b[39m MovieDatabase()\n\u001b[1;32m--> 100\u001b[0m     gam \u001b[39m=\u001b[39m GuessTheMovieGame(mov)\n\u001b[0;32m    101\u001b[0m     gam\u001b[39m.\u001b[39mgame()\n",
      "Cell \u001b[1;32mIn[9], line 40\u001b[0m, in \u001b[0;36mGuessTheMovieGame.__init__\u001b[1;34m(self, movie)\u001b[0m\n\u001b[0;32m     38\u001b[0m \u001b[39mself\u001b[39m\u001b[39m.\u001b[39mcurrent_movie \u001b[39m=\u001b[39m \u001b[39m\"\u001b[39m\u001b[39m\"\u001b[39m\n\u001b[0;32m     39\u001b[0m \u001b[39mself\u001b[39m\u001b[39m.\u001b[39mintents \u001b[39m=\u001b[39m \u001b[39m0\u001b[39m\n\u001b[1;32m---> 40\u001b[0m \u001b[39mself\u001b[39m\u001b[39m.\u001b[39mgame()\n",
      "Cell \u001b[1;32mIn[9], line 52\u001b[0m, in \u001b[0;36mGuessTheMovieGame.game\u001b[1;34m(self)\u001b[0m\n\u001b[0;32m     51\u001b[0m \u001b[39mdef\u001b[39;00m \u001b[39mgame\u001b[39m(\u001b[39mself\u001b[39m):\n\u001b[1;32m---> 52\u001b[0m     \u001b[39mself\u001b[39m\u001b[39m.\u001b[39mcurrent_movie \u001b[39m=\u001b[39m \u001b[39mself\u001b[39m\u001b[39m.\u001b[39mmovie\u001b[39m.\u001b[39mfetch_random_movie()\n\u001b[0;32m     53\u001b[0m     root \u001b[39m=\u001b[39m tk\u001b[39m.\u001b[39mTk()\n\u001b[0;32m     54\u001b[0m     root\u001b[39m.\u001b[39mtitle(\u001b[39m\"\u001b[39m\u001b[39mThe GAME\u001b[39m\u001b[39m\"\u001b[39m)\n",
      "Cell \u001b[1;32mIn[9], line 22\u001b[0m, in \u001b[0;36mMovieDatabase.fetch_random_movie\u001b[1;34m(self)\u001b[0m\n\u001b[0;32m     20\u001b[0m movies \u001b[39m=\u001b[39m \u001b[39mlist\u001b[39m(\u001b[39mself\u001b[39m\u001b[39m.\u001b[39mcursor\u001b[39m.\u001b[39mfetchall())\n\u001b[0;32m     21\u001b[0m \u001b[39mprint\u001b[39m(movies)\n\u001b[1;32m---> 22\u001b[0m random_movie \u001b[39m=\u001b[39m random\u001b[39m.\u001b[39mchoice(movies)[\u001b[39m0\u001b[39m]\n\u001b[0;32m     23\u001b[0m \u001b[39mself\u001b[39m\u001b[39m.\u001b[39mclose_connection()\n\u001b[0;32m     24\u001b[0m \u001b[39mreturn\u001b[39;00m random_movie\n",
      "File \u001b[1;32mc:\\Users\\Alumne_mati1\\anaconda3\\Lib\\random.py:373\u001b[0m, in \u001b[0;36mRandom.choice\u001b[1;34m(self, seq)\u001b[0m\n\u001b[0;32m    370\u001b[0m \u001b[39m# As an accommodation for NumPy, we don't use \"if not seq\"\u001b[39;00m\n\u001b[0;32m    371\u001b[0m \u001b[39m# because bool(numpy.array()) raises a ValueError.\u001b[39;00m\n\u001b[0;32m    372\u001b[0m \u001b[39mif\u001b[39;00m \u001b[39mnot\u001b[39;00m \u001b[39mlen\u001b[39m(seq):\n\u001b[1;32m--> 373\u001b[0m     \u001b[39mraise\u001b[39;00m \u001b[39mIndexError\u001b[39;00m(\u001b[39m'\u001b[39m\u001b[39mCannot choose from an empty sequence\u001b[39m\u001b[39m'\u001b[39m)\n\u001b[0;32m    374\u001b[0m \u001b[39mreturn\u001b[39;00m seq[\u001b[39mself\u001b[39m\u001b[39m.\u001b[39m_randbelow(\u001b[39mlen\u001b[39m(seq))]\n",
      "\u001b[1;31mIndexError\u001b[0m: Cannot choose from an empty sequence"
     ]
    }
   ],
   "source": [
    "import tkinter as tk\n",
    "import random\n",
    "\n",
    "\n",
    "class MovieDatabase:\n",
    "    def __init__(self):\n",
    "        self.conn = sqlite3.connect('guess_movie.db')\n",
    "        self.cursor = self.conn.cursor()\n",
    "\n",
    "    def insert_movie(self, title):\n",
    "        self.cursor.execute(\"\"\"\n",
    "            INSERT INTO movies (title) VALUES (?)\n",
    "        \"\"\", (title,))\n",
    "        self.connection.commit()\n",
    "        self.close_connection\n",
    "\n",
    "    def fetch_random_movie(self):\n",
    "        self.cursor.execute(\"SELECT title FROM movies\")\n",
    "        print(self.cursor.fetchall())\n",
    "        movies = list(self.cursor.fetchall())\n",
    "        print(movies)\n",
    "        random_movie = random.choice(movies)[0]\n",
    "        self.close_connection()\n",
    "        return random_movie\n",
    "\n",
    "    def close_connection(self):\n",
    "        self.cursor.close()\n",
    "        self.conn.close()\n",
    "\n",
    "    def insert_player(self, name, score):\n",
    "        self.cursor.execute(\"INSERT INTO scores (username, score) VALUES (?, ?)\", (name, score,))\n",
    "        self.connection.commit()\n",
    "        self.close_connection()\n",
    "\n",
    "class GuessTheMovieGame():\n",
    "    def __init__(self, movie):\n",
    "        self.movie = movie\n",
    "        self.current_movie = \"\"\n",
    "        self.intents = 0\n",
    "        self.game()\n",
    "        \n",
    "    def hide_movie_title(self):\n",
    "        hidden_title = \"\"\n",
    "        for i in self.current_movie:\n",
    "            if i != \" \":\n",
    "                hidden_title += \"*\"\n",
    "            else:\n",
    "                hidden_title += \" \"\n",
    "        return hidden_title\n",
    "    \n",
    "    def game(self):\n",
    "        self.current_movie = self.movie.fetch_random_movie()\n",
    "        root = tk.Tk()\n",
    "        root.title(\"The GAME\")\n",
    "\n",
    "        label4 = tk.Label(root, text=\"Username\")\n",
    "        label4.pack(side=tk.LEFT)\n",
    "\n",
    "        entry2 = tk.Entry(root)\n",
    "        entry2.pack(side=tk.LEFT)\n",
    "\n",
    "        label = tk.Label(root, text=\"Title Movie\")\n",
    "        label.pack(side=tk.LEFT)\n",
    "        label2 = tk.Label(root, text=\"Title Movie ***\")\n",
    "        label2.pack(side=tk.LEFT)\n",
    "\n",
    "        entry = tk.Entry(root)\n",
    "        entry.pack(side=tk.LEFT)\n",
    "\n",
    "        label3 = tk.Label(root, text=\"Tries\")\n",
    "        label3.pack(side=tk.LEFT)\n",
    "\n",
    "        button = tk.Button(root, text=\"Try\", command=self.on_button_click_try(entry, label3, entry2))\n",
    "        button.pack(side=tk.LEFT)   \n",
    "        button2 = tk.Button(root, text=\"Insert Mov\", command=self.insert_mov(entry, label3))\n",
    "        button2.pack(side=tk.LEFT)   \n",
    "\n",
    "        root.mainloop()\n",
    "\n",
    "    def on_button_click_try(self,entry, label3, entry2):\n",
    "        title = entry.get()\n",
    "        username = entry2.get()\n",
    "        cont = 0\n",
    "        if self.current_movie == title:\n",
    "            label3.config(text = \"Congratulations you win!\")\n",
    "            self.movie.insert_player(username, cont)\n",
    "        else:\n",
    "            cont += 1\n",
    "            label3.config(text = cont)\n",
    "\n",
    "    def insert_mov(self, entry, label3):\n",
    "        title = entry.get()\n",
    "        self.movie.insert_movie(title)\n",
    "        label3.config(text=\"Title added\")\n",
    "        \n",
    "\n",
    "\n",
    "def main():\n",
    "    mov = MovieDatabase()\n",
    "    gam = GuessTheMovieGame(mov)\n",
    "    gam.game()\n",
    "\n",
    "if __name__ == \"__main__\":\n",
    "    main()\n"
   ]
  },
  {
   "attachments": {},
   "cell_type": "markdown",
   "metadata": {},
   "source": [
    "### Improvements\n",
    "\n",
    "- Create a \"High Scores\" section that lists the top 10 scores from the \"scores\" table.\n",
    "- Include a hint feature, revealing a character of the movie title after a certain number of incorrect guesses.\n",
    "- Add an admin section where you can add/delete movies to/from the database.\n",
    "- Add multiplayer functionality."
   ]
  },
  {
   "cell_type": "code",
   "execution_count": null,
   "metadata": {},
   "outputs": [],
   "source": []
  }
 ],
 "metadata": {
  "kernelspec": {
   "display_name": "Python 3",
   "language": "python",
   "name": "python3"
  },
  "language_info": {
   "codemirror_mode": {
    "name": "ipython",
    "version": 3
   },
   "file_extension": ".py",
   "mimetype": "text/x-python",
   "name": "python",
   "nbconvert_exporter": "python",
   "pygments_lexer": "ipython3",
   "version": "3.11.4"
  },
  "orig_nbformat": 4
 },
 "nbformat": 4,
 "nbformat_minor": 2
}
