{
 "cells": [
  {
   "cell_type": "markdown",
   "metadata": {},
   "source": [
    "# Tkinter"
   ]
  },
  {
   "cell_type": "code",
   "execution_count": 2,
   "metadata": {},
   "outputs": [],
   "source": [
    "import tkinter as tk"
   ]
  },
  {
   "cell_type": "markdown",
   "metadata": {},
   "source": [
    "## Hello World\n",
    "\n",
    "Create a basic tkinter window with a label that says, “Hello, World!”"
   ]
  },
  {
   "cell_type": "code",
   "execution_count": 3,
   "metadata": {},
   "outputs": [],
   "source": [
    "root = tk.Tk()\n",
    "label = tk.Label(root, text='Hello, World!')\n",
    "label.pack()\n",
    "\n",
    "root.mainloop()"
   ]
  },
  {
   "cell_type": "markdown",
   "metadata": {},
   "source": [
    "## Button and Label Interaction\n",
    "\n",
    "Create a Tkinter window with a Button and a Label. Initially, the Label should be empty. When the user presses the Button, the text on the Label should change to “Button Pressed!”"
   ]
  },
  {
   "cell_type": "code",
   "execution_count": 4,
   "metadata": {},
   "outputs": [],
   "source": [
    "def on_button_press():\n",
    "    label.config(text='Button Pressed!')\n",
    "\n",
    "root = tk.Tk()\n",
    "label = tk.Label(root, text='')\n",
    "label.pack()\n",
    "\n",
    "button = tk.Button(root, text='Press Me', command=on_button_press)\n",
    "button.pack()\n",
    "\n",
    "root.mainloop()"
   ]
  },
  {
   "cell_type": "markdown",
   "metadata": {},
   "source": [
    "## User Input\n",
    "\n",
    "Create a Tkinter window with an Entry widget and a Button. When the user presses the Button, print the text entered in the Entry widget to the **notebook**."
   ]
  },
  {
   "cell_type": "code",
   "execution_count": 6,
   "metadata": {},
   "outputs": [
    {
     "name": "stdout",
     "output_type": "stream",
     "text": [
      "abc\n",
      "abc\n"
     ]
    }
   ],
   "source": [
    "def on_button_press():\n",
    "    content = entry.get()\n",
    "    print(content)\n",
    "\n",
    "root = tk.Tk()\n",
    "\n",
    "entry = tk.Entry(root)\n",
    "entry.pack()\n",
    "\n",
    "button = tk.Button(root, text='Print Input', command=on_button_press)\n",
    "button.pack()\n",
    "\n",
    "root.mainloop()"
   ]
  },
  {
   "cell_type": "markdown",
   "metadata": {},
   "source": [
    "## Counter\n",
    "\n",
    "Create a Tkinter window with a Label displaying a number and two Buttons labeled “Increase” and “Decrease”. When the user presses the Increase Button, the number on the Label should increase by 1, and when the user presses the Decrease Button, the number on the Label should decrease by 1."
   ]
  },
  {
   "cell_type": "code",
   "execution_count": 7,
   "metadata": {},
   "outputs": [],
   "source": [
    "def increase():\n",
    "    value = int(label[\"text\"])\n",
    "    label.config(text=value + 1)\n",
    "\n",
    "def decrease():\n",
    "    value = int(label[\"text\"])\n",
    "    label.config(text=value - 1)\n",
    "\n",
    "root = tk.Tk()\n",
    "\n",
    "label = tk.Label(root, text='0')\n",
    "label.pack()\n",
    "\n",
    "button_inc = tk.Button(root, text='Increase', command=increase)\n",
    "button_inc.pack()\n",
    "\n",
    "button_dec = tk.Button(root, text='Decrease', command=decrease)\n",
    "button_dec.pack()\n",
    "\n",
    "root.mainloop()"
   ]
  },
  {
   "cell_type": "markdown",
   "metadata": {},
   "source": [
    "## Calculator\n",
    "\n",
    "Create a basic calculator app that can add, subtract, multiply, and divide two numbers. The app should have two entry widgets (in text format) to take the numbers and buttons for each operation. There is no need everything looks supernice."
   ]
  },
  {
   "cell_type": "code",
   "execution_count": 4,
   "metadata": {},
   "outputs": [],
   "source": [
    "def calculate(operation):\n",
    "    num1 = float(entry1.get())\n",
    "    num2 = float(entry2.get())\n",
    "    \n",
    "    if operation == '+':\n",
    "        result.set(num1 + num2)\n",
    "    elif operation == '-':\n",
    "        result.set(num1 - num2)\n",
    "    elif operation == '*':\n",
    "        result.set(num1 * num2)\n",
    "    elif operation == '/':\n",
    "        if num2 == 0:\n",
    "            result.set('Cannot divide by zero')\n",
    "        else:\n",
    "            result.set(num1 / num2)\n",
    "\n",
    "root = tk.Tk()\n",
    "root.title(\"Basic Calculator\")\n",
    "\n",
    "entry1 = tk.Entry(root)\n",
    "entry2 = tk.Entry(root)\n",
    "result = tk.StringVar()\n",
    "label_result = tk.Label(root, textvariable=result)\n",
    "\n",
    "entry1.pack()\n",
    "entry2.pack()\n",
    "label_result.pack()\n",
    "\n",
    "operations = ['+', '-', '*', '/']\n",
    "for operation in operations:\n",
    "    button = tk.Button(root, text=operation, command=lambda op=operation: calculate(op))\n",
    "    button.pack()\n",
    "\n",
    "root.mainloop()"
   ]
  },
  {
   "cell_type": "markdown",
   "metadata": {},
   "source": [
    "## To-Do list\n",
    "\n",
    "Create a To-Do List app with an entry widget to add tasks, a listbox to display them, and buttons to delete and clear all tasks."
   ]
  },
  {
   "cell_type": "code",
   "execution_count": 11,
   "metadata": {},
   "outputs": [],
   "source": [
    "def add_task():\n",
    "    task = entry.get()\n",
    "    if task:\n",
    "        listbox.insert(tk.END, task)\n",
    "    entry.delete(0, tk.END)\n",
    "\n",
    "def delete_task():\n",
    "    selected_task_index = listbox.curselection()\n",
    "    listbox.delete(selected_task_index)\n",
    "\n",
    "def clear_tasks():\n",
    "    listbox.delete(0, tk.END)\n",
    "\n",
    "root = tk.Tk()\n",
    "root.title(\"To-Do List\")\n",
    "\n",
    "entry = tk.Entry(root)\n",
    "listbox = tk.Listbox(root)\n",
    "button_add = tk.Button(root, text=\"Add\", command=add_task)\n",
    "button_delete = tk.Button(root, text=\"Delete\", command=delete_task)\n",
    "button_clear = tk.Button(root, text=\"Clear\", command=clear_tasks)\n",
    "\n",
    "entry.pack()\n",
    "listbox.pack()\n",
    "button_add.pack()\n",
    "button_delete.pack()\n",
    "button_clear.pack()\n",
    "\n",
    "root.mainloop()"
   ]
  },
  {
   "cell_type": "markdown",
   "metadata": {},
   "source": [
    "## Contacts\n",
    "\n",
    "Create a contact book application where the user can add, edit, delete, and view contacts. Each contact should have a name, phone number, and email. Store the contacts in a file, and load them when the application starts."
   ]
  },
  {
   "cell_type": "code",
   "execution_count": null,
   "metadata": {},
   "outputs": [],
   "source": [
    "from tkinter import messagebox\n",
    "\n",
    "class ContactBook:\n",
    "    def __init__(self, root):\n",
    "        self.root = root\n",
    "        self.root.title(\"Contact Book\")\n",
    "        \n",
    "        self.contacts = {}\n",
    "        \n",
    "        self.name_var = tk.StringVar()\n",
    "        self.number_var = tk.StringVar()\n",
    "\n",
    "        tk.Label(root, text=\"Name\").grid(row=0, column=0)\n",
    "        tk.Label(root, text=\"Number\").grid(row=1, column=0)\n",
    "        \n",
    "        tk.Entry(root, textvariable=self.name_var).grid(row=0, column=1)\n",
    "        tk.Entry(root, textvariable=self.number_var).grid(row=1, column=1)\n",
    "        \n",
    "        tk.Button(root, text=\"Add Contact\", command=self.add_contact).grid(row=2, column=0, columnspan=2)\n",
    "        \n",
    "        self.listbox = tk.Listbox(root, width=50)\n",
    "        self.listbox.grid(row=3, column=0, columnspan=2)\n",
    "        \n",
    "    def add_contact(self):\n",
    "        name = self.name_var.get()\n",
    "        number = self.number_var.get()\n",
    "        \n",
    "        if not name or not number:\n",
    "            messagebox.showerror(\"Error\", \"Name and Number are required!\")\n",
    "            return\n",
    "        \n",
    "        self.contacts[name] = number\n",
    "        self.listbox.insert(tk.END, f\"{name}: {number}\")\n",
    "        \n",
    "        self.name_var.set(\"\")\n",
    "        self.number_var.set(\"\")\n",
    "\n",
    "root = tk.Tk()\n",
    "app = ContactBook(root)\n",
    "root.mainloop()"
   ]
  },
  {
   "cell_type": "markdown",
   "metadata": {},
   "source": [
    "## Text Editor\n",
    "\n",
    "Create a basic text editor with Tkinter that can create, open, and save files. Your program should have a Text widget for the user to edit text and a menu bar with options to open, save, and create new files.\n",
    "\n",
    "Hint: The `filedialog` submodule can be useful."
   ]
  },
  {
   "cell_type": "code",
   "execution_count": 13,
   "metadata": {},
   "outputs": [],
   "source": [
    "from tkinter import filedialog\n",
    "\n",
    "def new_file():\n",
    "    text.delete(\"1.0\", tk.END)\n",
    "\n",
    "def open_file():\n",
    "    file_path = filedialog.askopenfilename()\n",
    "    with open(file_path, 'r') as file:\n",
    "        content = file.read()\n",
    "    text.delete(\"1.0\", tk.END)\n",
    "    text.insert(tk.INSERT, content)\n",
    "\n",
    "def save_file():\n",
    "    file_path = filedialog.asksaveasfilename(defaultextension=\"txt\")\n",
    "    with open(file_path, 'w') as file:\n",
    "        content = text.get(\"1.0\", tk.END)\n",
    "        file.write(content)\n",
    "\n",
    "root = tk.Tk()\n",
    "text = tk.Text(root)\n",
    "text.pack(expand=1, fill='both')\n",
    "\n",
    "menu = tk.Menu(root)\n",
    "root.config(menu=menu)\n",
    "file_menu = tk.Menu(menu)\n",
    "menu.add_cascade(label='File', menu=file_menu)\n",
    "file_menu.add_command(label='New', command=new_file)\n",
    "file_menu.add_command(label='Open...', command=open_file)\n",
    "file_menu.add_command(label='Save', command=save_file)\n",
    "file_menu.add_separator()\n",
    "file_menu.add_command(label='Exit', command=root.destroy)\n",
    "\n",
    "root.mainloop()"
   ]
  },
  {
   "cell_type": "markdown",
   "metadata": {},
   "source": [
    "## Calculator Pro\n",
    "\n",
    "Create a calculator app with a user interface containing buttons for each digit (0-9), only the addition operation, an equals button, and a clear button. You can display the entered numbers and the results in the same label or entry widget.\n",
    "\n",
    "Take into account a user may want to add more than two numbers (e.g. 1 + 2 + 3 + 4, then = 10).\n",
    "\n",
    "Hint: Use the `grid()` function from `tk.Button()` to show buttons in a grid format."
   ]
  },
  {
   "cell_type": "code",
   "execution_count": 35,
   "metadata": {},
   "outputs": [
    {
     "name": "stdout",
     "output_type": "stream",
     "text": [
      " 3\n",
      " 5\n",
      " 1\n",
      " 0\n",
      " 2\n"
     ]
    }
   ],
   "source": [
    "numbers = []\n",
    "\n",
    "def button_click(number):\n",
    "    current = entry.get()\n",
    "    print(current, number)\n",
    "    entry.delete(0, tk.END)\n",
    "    entry.insert(0, str(current) + str(number))\n",
    "\n",
    "def button_clear():\n",
    "    entry.delete(0, tk.END)\n",
    "\n",
    "def button_add():\n",
    "    numbers.append(int(entry.get()))\n",
    "    entry.delete(0, tk.END)\n",
    "\n",
    "def button_equal():\n",
    "    numbers.append(int(entry.get()))\n",
    "    entry.delete(0, tk.END)\n",
    "    entry.insert(0, sum(numbers))\n",
    "    numbers.clear()\n",
    "\n",
    "root = tk.Tk()\n",
    "root.title(\"Simple Calculator\")\n",
    "\n",
    "entry = tk.Entry(root, width=16, borderwidth=5, font=('Arial', 24), justify='right')\n",
    "entry.grid(row=0, column=0, columnspan=3)\n",
    "\n",
    "# Create number buttons\n",
    "num = 9\n",
    "for r in range(1, 4):\n",
    "    for c in reversed(range(0, 3)):\n",
    "        tk.Button(root, text=num, padx=40, pady=20, font=('Arial', 18), command=lambda num=num: button_click(num)).grid(row=r, column=c)\n",
    "        num -= 1\n",
    "tk.Button(root, text=\"0\", padx=40, pady=20, font=('Arial', 18), command=lambda num=num: button_click(0)).grid(row=4, column=0)\n",
    "\n",
    "# Create operator buttons\n",
    "tk.Button(root, text=\"+\", padx=39, pady=20, font=('Arial', 18), command=button_add).grid(row=5, column=0)\n",
    "tk.Button(root, text=\"=\", padx=91, pady=20, font=('Arial', 18), command=button_equal).grid(row=5, column=1, columnspan=2)\n",
    "tk.Button(root, text=\"Clear\", padx=79, pady=20, font=('Arial', 18), command=button_clear).grid(row=4, column=1, columnspan=2)\n",
    "\n",
    "root.mainloop()"
   ]
  },
  {
   "cell_type": "markdown",
   "metadata": {},
   "source": [
    "## Drawing\n",
    "\n",
    "Create a drawing app where the user can draw on a canvas using the mouse. Add buttons to change the color of the brush and to clear the canvas."
   ]
  },
  {
   "cell_type": "code",
   "execution_count": 12,
   "metadata": {},
   "outputs": [],
   "source": [
    "def draw(event):\n",
    "    x, y = event.x, event.y\n",
    "    if draw.x and draw.y:\n",
    "        canvas.create_line((draw.x, draw.y, x, y), width=5, fill=color.get(), capstyle=tk.ROUND, smooth=tk.TRUE)\n",
    "    draw.x, draw.y = x, y\n",
    "\n",
    "def reset_draw_coordinates(event):\n",
    "    draw.x, draw.y = None, None\n",
    "\n",
    "def clear_canvas():\n",
    "    canvas.delete(\"all\")\n",
    "\n",
    "root = tk.Tk()\n",
    "root.title(\"Drawing App\")\n",
    "\n",
    "draw.x, draw.y = None, None\n",
    "\n",
    "color = tk.StringVar(value=\"black\")\n",
    "canvas = tk.Canvas(root, width=400, height=400, bg=\"white\")\n",
    "button_red = tk.Button(root, text=\"Red\", command=lambda: color.set(\"red\"))\n",
    "button_black = tk.Button(root, text=\"Black\", command=lambda: color.set(\"black\"))\n",
    "button_blue = tk.Button(root, text=\"Blue\", command=lambda: color.set(\"blue\"))\n",
    "button_clear = tk.Button(root, text=\"Clear\", command=clear_canvas)\n",
    "\n",
    "canvas.pack()\n",
    "button_red.pack()\n",
    "button_black.pack()\n",
    "button_blue.pack()\n",
    "button_clear.pack()\n",
    "\n",
    "canvas.bind(\"<B1-Motion>\", draw)\n",
    "canvas.bind(\"<ButtonRelease-1>\", reset_draw_coordinates)\n",
    "\n",
    "root.mainloop()"
   ]
  },
  {
   "cell_type": "markdown",
   "metadata": {},
   "source": [
    "## Number Guessing\n",
    "\n",
    "Create a Number Guessing Game using Tkinter. The application should generate a random number and let the user guess the number. If the guessed number is correct, the application should congratulate the user and reset the game. If the guessed number is wrong, the application should inform the user if the correct number is higher or lower.\n",
    "\n",
    "A comfortable way for displaying text when the user guessed the correct number is with the `messagebox` submodule in `tkinter`."
   ]
  },
  {
   "cell_type": "code",
   "execution_count": 45,
   "metadata": {},
   "outputs": [],
   "source": [
    "import random\n",
    "from tkinter import messagebox\n",
    "\n",
    "class GuessingGame:\n",
    "    def __init__(self, root):\n",
    "        self.root = root\n",
    "        self.root.title(\"Number Guessing Game\")\n",
    "\n",
    "        tk.Label(root, text=\"Guess the number between 1 and 10\").pack()\n",
    "\n",
    "        self.guess_var = tk.IntVar()\n",
    "        tk.Entry(root, textvariable=self.guess_var).pack()\n",
    "\n",
    "        tk.Button(root, text=\"Check\", command=self.check_guess).pack()\n",
    "\n",
    "        self.result_var = tk.StringVar()\n",
    "        tk.Label(root, textvariable=self.result_var).pack()\n",
    "\n",
    "        self.reset_game()\n",
    "\n",
    "    def reset_game(self):\n",
    "        self.secret_number = random.randint(1, 10)\n",
    "        self.guess_var.set(5)\n",
    "        self.result_var.set(\"\")\n",
    "\n",
    "    def check_guess(self):\n",
    "        guess = self.guess_var.get()\n",
    "        if guess < self.secret_number:\n",
    "            self.result_var.set(\"Try a higher number.\")\n",
    "        elif guess > self.secret_number:\n",
    "            self.result_var.set(\"Try a lower number.\")\n",
    "        else:\n",
    "            messagebox.showinfo(\"Number Guessing Game\", \"Congratulations! You guessed the right number.\\nPlay again!\")\n",
    "            self.reset_game()\n",
    "\n",
    "root = tk.Tk()\n",
    "app = GuessingGame(root)\n",
    "root.mainloop()"
   ]
  },
  {
   "cell_type": "markdown",
   "metadata": {},
   "source": [
    "## Tic-Tac-Toe\n",
    "\n",
    "Create a Tic-Tac-Toe game with a graphical user interface. Create buttons or a canvas to take user inputs for their moves. Display which player's turn it is and announce the winner when one player wins or announce a draw when the game is tied.\n",
    "\n",
    "A comfortable way for displaying a win or a tie is with the `messagebox` submodule in `tkinter`."
   ]
  },
  {
   "cell_type": "code",
   "execution_count": 24,
   "metadata": {},
   "outputs": [],
   "source": [
    "from tkinter import messagebox\n",
    "\n",
    "class TicTacToe:\n",
    "    def __init__(self, root):\n",
    "        self.root = root\n",
    "        self.root.title(\"Tic-Tac-Toe\")\n",
    "\n",
    "        self.current_player = 'X'\n",
    "        \n",
    "        self.buttons = [[None, None, None] for _ in range(3)]\n",
    "        \n",
    "        for i in range(3):\n",
    "            for j in range(3):\n",
    "                self.buttons[i][j] = tk.Button(root, text='', width=10, height=3, command=lambda row=i, col=j: self.on_click(row, col))\n",
    "                self.buttons[i][j].grid(row=i, column=j)\n",
    "\n",
    "    def on_click(self, row, col):\n",
    "        if self.buttons[row][col]['text'] == '' and self.current_player == 'X':\n",
    "            self.buttons[row][col]['text'] = 'X'\n",
    "            if self.check_winner('X'):\n",
    "                messagebox.showinfo(\"Tic-Tac-Toe\", \"Player X wins!\")\n",
    "                self.reset_game()\n",
    "            else:\n",
    "                self.current_player = 'O'\n",
    "        elif self.buttons[row][col]['text'] == '' and self.current_player == 'O':\n",
    "            self.buttons[row][col]['text'] = 'O'\n",
    "            if self.check_winner('O'):\n",
    "                messagebox.showinfo(\"Tic-Tac-Toe\", \"Player O wins!\")\n",
    "                self.reset_game()\n",
    "            else:\n",
    "                self.current_player = 'X'\n",
    "\n",
    "    def check_winner(self, player):\n",
    "        for row in range(3):\n",
    "            if all([self.buttons[row][col]['text'] == player for col in range(3)]):\n",
    "                return True\n",
    "        for col in range(3):\n",
    "            if all([self.buttons[row][col]['text'] == player for row in range(3)]):\n",
    "                return True\n",
    "        if all([self.buttons[i][i]['text'] == player for i in range(3)]) or all([self.buttons[i][2 - i]['text'] == player for i in range(3)]):\n",
    "            return True\n",
    "        return False\n",
    "    \n",
    "    def reset_game(self):\n",
    "        for i in range(3):\n",
    "            for j in range(3):\n",
    "                self.buttons[i][j]['text'] = ''\n",
    "        self.current_player = 'X'\n",
    "\n",
    "root = tk.Tk()\n",
    "app = TicTacToe(root)\n",
    "root.mainloop()"
   ]
  }
 ],
 "metadata": {
  "kernelspec": {
   "display_name": "Python 3",
   "language": "python",
   "name": "python3"
  },
  "language_info": {
   "codemirror_mode": {
    "name": "ipython",
    "version": 3
   },
   "file_extension": ".py",
   "mimetype": "text/x-python",
   "name": "python",
   "nbconvert_exporter": "python",
   "pygments_lexer": "ipython3",
   "version": "3.10.12"
  },
  "orig_nbformat": 4
 },
 "nbformat": 4,
 "nbformat_minor": 2
}
