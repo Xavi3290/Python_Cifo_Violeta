{
 "cells": [
  {
   "cell_type": "markdown",
   "metadata": {},
   "source": [
    "# Warm-up exercises\n",
    "\n",
    "Choose the names you consider more appropriate for naming your variables. My recommendation is you use Snake Case, as it is the convention for variables in Python, and it is how most code is written, so it will be easier for other developers to understand your code."
   ]
  },
  {
   "cell_type": "markdown",
   "metadata": {},
   "source": [
    "Assign an integer to a variable and print its output."
   ]
  },
  {
   "cell_type": "code",
   "execution_count": 3,
   "metadata": {},
   "outputs": [],
   "source": [
    "a = 1"
   ]
  },
  {
   "cell_type": "markdown",
   "metadata": {},
   "source": [
    "Assign two integers to two different variables and print its addition and subtraction."
   ]
  },
  {
   "cell_type": "code",
   "execution_count": 4,
   "metadata": {},
   "outputs": [],
   "source": [
    "b = 2\n",
    "c = 3"
   ]
  },
  {
   "cell_type": "markdown",
   "metadata": {},
   "source": [
    "Assign a string to a variable and print its value."
   ]
  },
  {
   "cell_type": "code",
   "execution_count": 5,
   "metadata": {},
   "outputs": [
    {
     "name": "stdout",
     "output_type": "stream",
     "text": [
      "Hello World\n"
     ]
    }
   ],
   "source": [
    "text = \"Hello World\"\n",
    "print(text)"
   ]
  },
  {
   "cell_type": "markdown",
   "metadata": {},
   "source": [
    "Concatenate two strings and print the result."
   ]
  },
  {
   "cell_type": "code",
   "execution_count": 6,
   "metadata": {},
   "outputs": [
    {
     "name": "stdout",
     "output_type": "stream",
     "text": [
      "Hello World\n"
     ]
    }
   ],
   "source": [
    "s1 = \"Hello\"\n",
    "s2 = \" World\"\n",
    "print(s1 + s2)"
   ]
  },
  {
   "cell_type": "markdown",
   "metadata": {},
   "source": [
    "Assign two floating-point numbers to variables and add them."
   ]
  },
  {
   "cell_type": "code",
   "execution_count": 7,
   "metadata": {},
   "outputs": [
    {
     "name": "stdout",
     "output_type": "stream",
     "text": [
      "2.0\n"
     ]
    }
   ],
   "source": [
    "d = 1.0\n",
    "e = 2.0\n",
    "print(d*e)"
   ]
  },
  {
   "cell_type": "markdown",
   "metadata": {},
   "source": [
    "Assign a string (number) to a variable and then convert it to an integer."
   ]
  },
  {
   "cell_type": "code",
   "execution_count": 8,
   "metadata": {},
   "outputs": [
    {
     "data": {
      "text/plain": [
       "int"
      ]
     },
     "execution_count": 8,
     "metadata": {},
     "output_type": "execute_result"
    }
   ],
   "source": [
    "a = \"6\"\n",
    "b = int(a)\n",
    "type(b)"
   ]
  },
  {
   "cell_type": "markdown",
   "metadata": {},
   "source": [
    "User enters name, age and favorite color and system shows the message \"[name] is [age] years old and likes color [color]\"."
   ]
  },
  {
   "cell_type": "code",
   "execution_count": 16,
   "metadata": {},
   "outputs": [
    {
     "name": "stdout",
     "output_type": "stream",
     "text": [
      "Nom: Xavi\n",
      "Edat: 33\n",
      "Color favorit: Vermell\n",
      "nom: Xavi edat: 33 color: Vermell\n"
     ]
    }
   ],
   "source": [
    "name = input(\"Nom: \")\n",
    "age = int(input(\"Edat: \"))\n",
    "color = input(\"Color favorit: \")\n",
    "print(\"nom:\", name, \"edat:\", age ,\"color:\", color)"
   ]
  },
  {
   "cell_type": "markdown",
   "metadata": {},
   "source": [
    "User enters a number and the system prints the square of that number."
   ]
  },
  {
   "cell_type": "code",
   "execution_count": 17,
   "metadata": {},
   "outputs": [
    {
     "name": "stdout",
     "output_type": "stream",
     "text": [
      "4\n"
     ]
    }
   ],
   "source": [
    "a = 2\n",
    "print(a ** 2)"
   ]
  },
  {
   "cell_type": "markdown",
   "metadata": {},
   "source": [
    "User enters temperature in Celsius and system prints it in Farenheit. For this transformation, the system multiplies the celsius by 1.8 and then adds 32."
   ]
  },
  {
   "cell_type": "code",
   "execution_count": 18,
   "metadata": {},
   "outputs": [
    {
     "name": "stdout",
     "output_type": "stream",
     "text": [
      "Temperatura Celsis: 25\n",
      "Temperatura en Farenheit:  77.0\n"
     ]
    }
   ],
   "source": [
    "temp = float(input(\"Temperatura Celsis: \"))\n",
    "print(\"Temperatura en Farenheit: \", (temp * 1.8) + 32)"
   ]
  },
  {
   "cell_type": "markdown",
   "metadata": {},
   "source": [
    "User enters width and height of a rectangle and system print total area."
   ]
  },
  {
   "cell_type": "code",
   "execution_count": 19,
   "metadata": {},
   "outputs": [
    {
     "name": "stdout",
     "output_type": "stream",
     "text": [
      "Amplada del quadrat: 4\n",
      "Altura del quadrat: 3\n",
      "12\n"
     ]
    }
   ],
   "source": [
    "width = int(input(\"Amplada del quadrat: \"))\n",
    "height = int(input(\"Altura del quadrat: \"))\n",
    "print(width * height)"
   ]
  },
  {
   "cell_type": "markdown",
   "metadata": {},
   "source": [
    "User enters distance in miles and the system prints it in kilometers (1 mile = 1.60934 km)."
   ]
  },
  {
   "cell_type": "code",
   "execution_count": 20,
   "metadata": {},
   "outputs": [
    {
     "name": "stdout",
     "output_type": "stream",
     "text": [
      "Distancia en milles: 2.5\n",
      "Distancia en kilometres:  4.02335\n"
     ]
    }
   ],
   "source": [
    "distance = float(input(\"Distancia en milles: \"))\n",
    "print(\"Distancia en kilometres: \", distance * 1.60934)"
   ]
  },
  {
   "cell_type": "markdown",
   "metadata": {},
   "source": [
    "User enters his/her age and the system prints his/her two possible birth years."
   ]
  },
  {
   "cell_type": "code",
   "execution_count": 24,
   "metadata": {},
   "outputs": [
    {
     "name": "stdout",
     "output_type": "stream",
     "text": [
      "Edat: 33\n",
      "Deus haber nascut l'any  1990 o 1989\n"
     ]
    }
   ],
   "source": [
    "age = int(input(\"Edat: \"))\n",
    "print(\"Deus haber nascut l'any \", 2023 - age, \"o\", 2022 - age)"
   ]
  },
  {
   "cell_type": "markdown",
   "metadata": {},
   "source": [
    "User enters 3 numbers and system prints the average."
   ]
  },
  {
   "cell_type": "code",
   "execution_count": 26,
   "metadata": {},
   "outputs": [
    {
     "name": "stdout",
     "output_type": "stream",
     "text": [
      "Primer número: 2\n",
      "Segon número: 2\n",
      "Tercer número: 2\n",
      "La mitjana de  2 , 2 i 2 és 2.0\n"
     ]
    }
   ],
   "source": [
    "num1 = int(input(\"Primer número: \"))\n",
    "num2 = int(input(\"Segon número: \"))\n",
    "num3 = int(input(\"Tercer número: \"))\n",
    "print(\"La mitjana de \", num1, \",\", num2, \"i\", num3, \"és\", (num1 + num2 + num3)/3)"
   ]
  },
  {
   "cell_type": "markdown",
   "metadata": {},
   "source": [
    "User enters 2 numbers (stored in 2 different variables) and system swaps their values. E.g. if the user enters a = 2 and b = 5, then the system sets a = 5 and b = 2 and prints it."
   ]
  },
  {
   "cell_type": "code",
   "execution_count": 28,
   "metadata": {},
   "outputs": [
    {
     "name": "stdout",
     "output_type": "stream",
     "text": [
      "Valor de a en enter: 4\n",
      "Valor de b en enter: 2\n",
      "El valor de a és 2 el valor de b és 4\n"
     ]
    }
   ],
   "source": [
    "a = int(input(\"Valor de a en enter: \"))\n",
    "b = int(input(\"Valor de b en enter: \"))\n",
    "c = a\n",
    "a = b\n",
    "b = c\n",
    "print(\"El valor de a és\", a, \"el valor de b és\", b)\n"
   ]
  }
 ],
 "metadata": {
  "kernelspec": {
   "display_name": "Python 3 (ipykernel)",
   "language": "python",
   "name": "python3"
  },
  "language_info": {
   "codemirror_mode": {
    "name": "ipython",
    "version": 3
   },
   "file_extension": ".py",
   "mimetype": "text/x-python",
   "name": "python",
   "nbconvert_exporter": "python",
   "pygments_lexer": "ipython3",
   "version": "3.11.4"
  },
  "toc": {
   "base_numbering": 1,
   "nav_menu": {},
   "number_sections": true,
   "sideBar": true,
   "skip_h1_title": false,
   "title_cell": "Table of Contents",
   "title_sidebar": "Contents",
   "toc_cell": false,
   "toc_position": {
    "height": "calc(100% - 180px)",
    "left": "10px",
    "top": "150px",
    "width": "236.534px"
   },
   "toc_section_display": true,
   "toc_window_display": true
  },
  "varInspector": {
   "cols": {
    "lenName": 16,
    "lenType": 16,
    "lenVar": 40
   },
   "kernels_config": {
    "python": {
     "delete_cmd_postfix": "",
     "delete_cmd_prefix": "del ",
     "library": "var_list.py",
     "varRefreshCmd": "print(var_dic_list())"
    },
    "r": {
     "delete_cmd_postfix": ") ",
     "delete_cmd_prefix": "rm(",
     "library": "var_list.r",
     "varRefreshCmd": "cat(var_dic_list()) "
    }
   },
   "types_to_exclude": [
    "module",
    "function",
    "builtin_function_or_method",
    "instance",
    "_Feature"
   ],
   "window_display": false
  },
  "vscode": {
   "interpreter": {
    "hash": "916dbcbb3f70747c44a77c7bcd40155683ae19c65e1c03b4aa3499c5328201f1"
   }
  }
 },
 "nbformat": 4,
 "nbformat_minor": 2
}
