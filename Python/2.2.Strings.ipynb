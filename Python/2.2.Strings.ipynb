{
 "cells": [
  {
   "cell_type": "markdown",
   "metadata": {},
   "source": [
    "# Strings Exercises\n",
    "\n",
    "Recommendations:\n",
    "\n",
    "- Try to solve all the exercises without specifically searching for them on the internet.\n",
    "- If there is a concept you don't know, read it on wikipedia (or similar) without searching for a specific Python solution."
   ]
  },
  {
   "cell_type": "markdown",
   "metadata": {},
   "source": [
    "# Basics"
   ]
  },
  {
   "cell_type": "markdown",
   "metadata": {},
   "source": [
    "User enters his/her name and the system greets them with \"Hello, [name]!\""
   ]
  },
  {
   "cell_type": "code",
   "execution_count": 1,
   "metadata": {},
   "outputs": [
    {
     "name": "stdout",
     "output_type": "stream",
     "text": [
      "Escriu el teu nom: Xavi\n",
      "Hola Xavi\n"
     ]
    }
   ],
   "source": [
    "name = input(\"Escriu el teu nom: \")\n",
    "print(\"Hola\", name)"
   ]
  },
  {
   "cell_type": "markdown",
   "metadata": {},
   "source": [
    "Convert the string '5' to an integer and vice versa."
   ]
  },
  {
   "cell_type": "code",
   "execution_count": 4,
   "metadata": {},
   "outputs": [
    {
     "name": "stdout",
     "output_type": "stream",
     "text": [
      "<class 'int'>\n",
      "<class 'str'>\n"
     ]
    }
   ],
   "source": [
    "a = int('5')\n",
    "print(type(a))\n",
    "a = str(a)\n",
    "print(type(a))"
   ]
  },
  {
   "cell_type": "markdown",
   "metadata": {},
   "source": [
    "What happens if we convert the following 5 strings to booleans: '1', '-1', '0', '', '-abc'? Think and try it."
   ]
  },
  {
   "cell_type": "code",
   "execution_count": 5,
   "metadata": {},
   "outputs": [
    {
     "name": "stdout",
     "output_type": "stream",
     "text": [
      "True True True True\n"
     ]
    }
   ],
   "source": [
    "a = bool('1')\n",
    "b = bool('-1')\n",
    "c = bool('0')\n",
    "d = bool('-abc')\n",
    "print(a, b, c, d)"
   ]
  },
  {
   "cell_type": "markdown",
   "metadata": {},
   "source": [
    "Print the following statement: `This \"statement\" isn't tricky at all.`"
   ]
  },
  {
   "cell_type": "code",
   "execution_count": 7,
   "metadata": {},
   "outputs": [
    {
     "name": "stdout",
     "output_type": "stream",
     "text": [
      "This \"statememt\" isn't tricky at all.\n"
     ]
    }
   ],
   "source": [
    "print(\"This \\\"statememt\\\" isn't tricky at all.\")"
   ]
  },
  {
   "cell_type": "markdown",
   "metadata": {},
   "source": [
    "What happens if you add the string '5' and the number 2?"
   ]
  },
  {
   "cell_type": "code",
   "execution_count": 8,
   "metadata": {},
   "outputs": [
    {
     "ename": "TypeError",
     "evalue": "unsupported operand type(s) for +: 'int' and 'str'",
     "output_type": "error",
     "traceback": [
      "\u001b[1;31m---------------------------------------------------------------------------\u001b[0m",
      "\u001b[1;31mTypeError\u001b[0m                                 Traceback (most recent call last)",
      "Cell \u001b[1;32mIn[8], line 1\u001b[0m\n\u001b[1;32m----> 1\u001b[0m a \u001b[38;5;241m=\u001b[39m \u001b[38;5;241m2\u001b[39m \u001b[38;5;241m+\u001b[39m \u001b[38;5;124m'\u001b[39m\u001b[38;5;124m5\u001b[39m\u001b[38;5;124m'\u001b[39m\n\u001b[0;32m      2\u001b[0m \u001b[38;5;28mprint\u001b[39m(a)\n",
      "\u001b[1;31mTypeError\u001b[0m: unsupported operand type(s) for +: 'int' and 'str'"
     ]
    }
   ],
   "source": [
    "a = 2 + '5'\n",
    "print(a)"
   ]
  },
  {
   "cell_type": "markdown",
   "metadata": {},
   "source": [
    "# Concatenation"
   ]
  },
  {
   "cell_type": "markdown",
   "metadata": {},
   "source": [
    "Concatenate 'super' and 'cool' in a single string."
   ]
  },
  {
   "cell_type": "code",
   "execution_count": 9,
   "metadata": {},
   "outputs": [
    {
     "name": "stdout",
     "output_type": "stream",
     "text": [
      "supercool\n"
     ]
    }
   ],
   "source": [
    "text = \"super\" + \"cool\"\n",
    "print(text)"
   ]
  },
  {
   "cell_type": "markdown",
   "metadata": {},
   "source": [
    "For a given number `x`, print the following statement: \"The number x is [number].\". Use all of these methods:\n",
    "\n",
    "- `print()` function only (separating numbers and strings with commas).\n",
    "- String concatenation (`+`). (Hint: convert the number `x` to a string).\n",
    "- %-formatting.\n",
    "- String method 'format'.\n",
    "- f-string."
   ]
  },
  {
   "cell_type": "markdown",
   "metadata": {},
   "source": [
    "Which one you feel is the most comfortable and easy to use?"
   ]
  },
  {
   "cell_type": "code",
   "execution_count": 10,
   "metadata": {},
   "outputs": [],
   "source": [
    "x = 3"
   ]
  },
  {
   "cell_type": "code",
   "execution_count": 14,
   "metadata": {},
   "outputs": [
    {
     "name": "stdout",
     "output_type": "stream",
     "text": [
      "The number x is 3\n",
      "The number x is 3\n",
      "The number x is 3\n",
      "The number x is 3\n",
      "The number x is 3\n"
     ]
    }
   ],
   "source": [
    "print(\"The number x is\", x)\n",
    "print(\"The number x is \" + str(x))\n",
    "print(\"The number x is %d\" % x)\n",
    "print(\"The number x is {}\".format(x))\n",
    "print(f\"The number x is {x}\")"
   ]
  },
  {
   "cell_type": "markdown",
   "metadata": {},
   "source": [
    "Which one you feel is the most comfortable and easy to use?"
   ]
  },
  {
   "cell_type": "markdown",
   "metadata": {},
   "source": [
    "Given the numbers `x` and `y`, print the following statement: \"The number x is [x] and the number y is [y].\". Use all of these methods:\n",
    "\n",
    "- `print()` function only (separating numbers and strings with commas).\n",
    "- String concatenation (`+`). (Hint: convert the numbers to strings).\n",
    "- %-formatting.\n",
    "- String method 'format'.\n",
    "- f-string."
   ]
  },
  {
   "cell_type": "code",
   "execution_count": 15,
   "metadata": {},
   "outputs": [],
   "source": [
    "x = 3\n",
    "y = 5"
   ]
  },
  {
   "cell_type": "code",
   "execution_count": 19,
   "metadata": {},
   "outputs": [
    {
     "name": "stdout",
     "output_type": "stream",
     "text": [
      "The number x is 3 and the number y is 5 .\n",
      "The number x is 3 and the number y is 5.\n",
      "The number x is 3 and the number y is 5.\n",
      "The number x is 3 and the number y is 5.\n",
      "The number x is 3 and the number y is 5.\n"
     ]
    }
   ],
   "source": [
    "print(\"The number x is\", x, \"and the number y is\", y, \".\")\n",
    "print(\"The number x is \" + str(x) + \" and the number y is \" + str(y) + \".\")\n",
    "print(\"The number x is %d and the number y is %d.\" % (x, y))\n",
    "print(\"The number x is {} and the number y is {}.\".format(x,y))\n",
    "print(f\"The number x is {x} and the number y is {y}.\")"
   ]
  },
  {
   "cell_type": "markdown",
   "metadata": {},
   "source": [
    "Which one you feel is the most comfortable and easy to use?"
   ]
  },
  {
   "cell_type": "markdown",
   "metadata": {},
   "source": [
    "What happens if we print the f-string f\"Two plus three is equal to {2 + 3}.\"? Think and try it."
   ]
  },
  {
   "cell_type": "code",
   "execution_count": 20,
   "metadata": {},
   "outputs": [
    {
     "name": "stdout",
     "output_type": "stream",
     "text": [
      "Two plus three is equal to 5.\n"
     ]
    }
   ],
   "source": [
    "print(f\"Two plus three is equal to {2 + 3}.\")"
   ]
  },
  {
   "cell_type": "markdown",
   "metadata": {},
   "source": [
    "User enters his/her name and age and the system prints: \"Hello [name]! You're [age] years old, so you were born in [year minus age] or [year minus age minus one].\". Use the following methods:\n",
    "\n",
    "- `print()` function only (separating numbers and strings with commas).\n",
    "- String concatenation (`+`). (Hint: convert the numbers to strings).\n",
    "- %-formatting.\n",
    "- String method 'format'.\n",
    "- f-string."
   ]
  },
  {
   "cell_type": "code",
   "execution_count": 21,
   "metadata": {},
   "outputs": [
    {
     "name": "stdout",
     "output_type": "stream",
     "text": [
      "Your name:Xavi\n",
      "Your age:33\n"
     ]
    }
   ],
   "source": [
    "name = input('Your name:')\n",
    "age = int(input('Your age:'))\n",
    "current_year = 2023"
   ]
  },
  {
   "cell_type": "code",
   "execution_count": 27,
   "metadata": {},
   "outputs": [
    {
     "name": "stdout",
     "output_type": "stream",
     "text": [
      "Hello Xavi ! You're 33 years old, so you were born in 1990 or 1989 .\n",
      "Hello Xavi! You're 33 years old, so you were born in 1990 or 1989.\n",
      "Hello Xavi! You're 33 years old, so you were born in 1990 or 1989.\n",
      "Hello Xavi! You're 33 years old, so you were born in 1990 or 1989.\n",
      "Hello Xavi! You're 33 years old, so you were born in 1990 or 1989.\n"
     ]
    }
   ],
   "source": [
    "print(\"Hello\", name, \"! You're\", age, \"years old, so you were born in\", current_year - age, \"or\", current_year - age - 1, \".\")\n",
    "print(\"Hello \" + name + \"! You're \" + str(age) + \" years old, so you were born in \" + str(current_year - age) + \" or \" +\n",
    "       str(current_year - age - 1) + \".\")\n",
    "print(\"Hello %s! You're %d years old, so you were born in %d or %d.\" % (name, age, current_year - age, current_year - age - 1))\n",
    "print(\"Hello {}! You're {} years old, so you were born in {} or {}.\".format(name, age, current_year - age, current_year - age - 1))\n",
    "print(f\"Hello {name}! You're {age} years old, so you were born in {current_year - age} or {current_year - age - 1}.\")"
   ]
  },
  {
   "cell_type": "markdown",
   "metadata": {},
   "source": [
    "Which one you feel is the most comfortable and easy to use?"
   ]
  },
  {
   "cell_type": "markdown",
   "metadata": {},
   "source": [
    "Given the numbers `x` and `y`, print the following statement: \"Their division is [division of x/y].\" with a maximum of 2 decimals. Use all of these methods:\n",
    "\n",
    "- `print()` function only (separating numbers and strings with commas).\n",
    "- String concatenation (`+`). (Hint: convert the numbers to strings).\n",
    "- %-formatting.\n",
    "- String method 'format'.\n",
    "- f-string."
   ]
  },
  {
   "cell_type": "code",
   "execution_count": 28,
   "metadata": {},
   "outputs": [],
   "source": [
    "x = 4\n",
    "y = 6"
   ]
  },
  {
   "cell_type": "code",
   "execution_count": 51,
   "metadata": {},
   "outputs": [
    {
     "name": "stdout",
     "output_type": "stream",
     "text": [
      "Their division is 0.67 .\n",
      "Their division is 0.67.\n",
      "Their division is 0.670000.\n",
      "Their division is 0.67.\n",
      "Their division is 0.67.\n"
     ]
    }
   ],
   "source": [
    "print(\"Their division is\", round(x / y, 2), \".\")\n",
    "print(\"Their division is \" + str(round(x / y, 2)) + \".\")\n",
    "print(\"Their division is %f.\" % round(x / y, 2))\n",
    "print(\"Their division is {}.\".format(round(x / y, 2)))\n",
    "print(f\"Their division is {round(x / y, 2)}.\")"
   ]
  },
  {
   "cell_type": "markdown",
   "metadata": {},
   "source": [
    "Which one you feel is the most comfortable and easy to use?"
   ]
  },
  {
   "cell_type": "markdown",
   "metadata": {},
   "source": [
    "# Indexing"
   ]
  },
  {
   "cell_type": "markdown",
   "metadata": {},
   "source": [
    "For the given word..."
   ]
  },
  {
   "cell_type": "code",
   "execution_count": 52,
   "metadata": {},
   "outputs": [],
   "source": [
    "word = 'Python'"
   ]
  },
  {
   "cell_type": "markdown",
   "metadata": {},
   "source": [
    "Print the first character."
   ]
  },
  {
   "cell_type": "code",
   "execution_count": 53,
   "metadata": {},
   "outputs": [
    {
     "name": "stdout",
     "output_type": "stream",
     "text": [
      "P\n"
     ]
    }
   ],
   "source": [
    "print(word[0])"
   ]
  },
  {
   "cell_type": "markdown",
   "metadata": {},
   "source": [
    "Print the second character."
   ]
  },
  {
   "cell_type": "code",
   "execution_count": 54,
   "metadata": {},
   "outputs": [
    {
     "name": "stdout",
     "output_type": "stream",
     "text": [
      "y\n"
     ]
    }
   ],
   "source": [
    "print(word[1])"
   ]
  },
  {
   "cell_type": "markdown",
   "metadata": {},
   "source": [
    "Print the last character."
   ]
  },
  {
   "cell_type": "code",
   "execution_count": 55,
   "metadata": {},
   "outputs": [
    {
     "name": "stdout",
     "output_type": "stream",
     "text": [
      "n\n"
     ]
    }
   ],
   "source": [
    "print(word[-1])"
   ]
  },
  {
   "cell_type": "markdown",
   "metadata": {},
   "source": [
    "Print the second to last character."
   ]
  },
  {
   "cell_type": "code",
   "execution_count": 56,
   "metadata": {},
   "outputs": [
    {
     "name": "stdout",
     "output_type": "stream",
     "text": [
      "o\n"
     ]
    }
   ],
   "source": [
    "print(word[-2])"
   ]
  },
  {
   "cell_type": "markdown",
   "metadata": {},
   "source": [
    "# Slicing"
   ]
  },
  {
   "cell_type": "markdown",
   "metadata": {},
   "source": [
    "For the given word..."
   ]
  },
  {
   "cell_type": "code",
   "execution_count": 57,
   "metadata": {},
   "outputs": [],
   "source": [
    "word = 'Python'"
   ]
  },
  {
   "cell_type": "markdown",
   "metadata": {},
   "source": [
    "Print the first 3 characters."
   ]
  },
  {
   "cell_type": "code",
   "execution_count": 60,
   "metadata": {},
   "outputs": [
    {
     "name": "stdout",
     "output_type": "stream",
     "text": [
      "Pyt\n"
     ]
    }
   ],
   "source": [
    "print(word[:3])"
   ]
  },
  {
   "cell_type": "markdown",
   "metadata": {},
   "source": [
    "Print the last 3 characters."
   ]
  },
  {
   "cell_type": "code",
   "execution_count": 70,
   "metadata": {},
   "outputs": [
    {
     "name": "stdout",
     "output_type": "stream",
     "text": [
      "hon\n"
     ]
    }
   ],
   "source": [
    "print(word[3:6])"
   ]
  },
  {
   "cell_type": "markdown",
   "metadata": {},
   "source": [
    "Print all the characters from the 2nd character onward.\n",
    "- Example: 'Python' --> 'ython'."
   ]
  },
  {
   "cell_type": "code",
   "execution_count": 73,
   "metadata": {},
   "outputs": [
    {
     "name": "stdout",
     "output_type": "stream",
     "text": [
      "ython\n"
     ]
    }
   ],
   "source": [
    "print(word[1:])"
   ]
  },
  {
   "cell_type": "markdown",
   "metadata": {},
   "source": [
    "Print all the characters except the last one.\n",
    "- Example: 'Python' --> 'Pytho'."
   ]
  },
  {
   "cell_type": "code",
   "execution_count": 77,
   "metadata": {},
   "outputs": [
    {
     "name": "stdout",
     "output_type": "stream",
     "text": [
      "Pytho\n"
     ]
    }
   ],
   "source": [
    "print(word[0:5])"
   ]
  },
  {
   "cell_type": "markdown",
   "metadata": {},
   "source": [
    "Print the substring between indices 2 and 4.\n",
    "- Example: 'Python' --> 'tho'."
   ]
  },
  {
   "cell_type": "code",
   "execution_count": 80,
   "metadata": {},
   "outputs": [
    {
     "name": "stdout",
     "output_type": "stream",
     "text": [
      "tho\n"
     ]
    }
   ],
   "source": [
    "print(word[2:5])"
   ]
  },
  {
   "cell_type": "markdown",
   "metadata": {},
   "source": [
    "Print all the characters in odd positions.\n",
    "- Example: 'Python' --> 'Pto'."
   ]
  },
  {
   "cell_type": "code",
   "execution_count": 83,
   "metadata": {},
   "outputs": [
    {
     "name": "stdout",
     "output_type": "stream",
     "text": [
      "Pto\n"
     ]
    }
   ],
   "source": [
    "print(word[0::2])"
   ]
  },
  {
   "cell_type": "markdown",
   "metadata": {},
   "source": [
    "Print all the characters in even positions.\n",
    "- Example: 'Python' --> 'yhn'."
   ]
  },
  {
   "cell_type": "code",
   "execution_count": 85,
   "metadata": {},
   "outputs": [
    {
     "name": "stdout",
     "output_type": "stream",
     "text": [
      "yhn\n"
     ]
    }
   ],
   "source": [
    "print(word[1::2])"
   ]
  },
  {
   "cell_type": "markdown",
   "metadata": {},
   "source": [
    "Print the word in reverse order.\n",
    "- Example: 'Python' --> 'nohtyP'."
   ]
  },
  {
   "cell_type": "code",
   "execution_count": 86,
   "metadata": {},
   "outputs": [
    {
     "name": "stdout",
     "output_type": "stream",
     "text": [
      "nohtyP\n"
     ]
    }
   ],
   "source": [
    "print(word[::-1])"
   ]
  },
  {
   "cell_type": "markdown",
   "metadata": {},
   "source": [
    "# Functions\n",
    "\n",
    "For the exercises in this section use Python's main string built-in functions: https://www.w3schools.com/python/python_ref_string.asp.\n",
    "\n",
    "<b>Note</b>: All string methods return new values. They do not change the original string."
   ]
  },
  {
   "cell_type": "markdown",
   "metadata": {},
   "source": [
    "Check the number of characters.\n",
    "- Example: 'Python' --> 6."
   ]
  },
  {
   "cell_type": "code",
   "execution_count": 97,
   "metadata": {},
   "outputs": [
    {
     "name": "stdout",
     "output_type": "stream",
     "text": [
      "6\n"
     ]
    }
   ],
   "source": [
    "print(len(word))"
   ]
  },
  {
   "cell_type": "markdown",
   "metadata": {},
   "source": [
    "Transform the word to uppercase.\n",
    "- Example: 'Python' --> 'PYTHON'."
   ]
  },
  {
   "cell_type": "code",
   "execution_count": 94,
   "metadata": {},
   "outputs": [
    {
     "name": "stdout",
     "output_type": "stream",
     "text": [
      "PYTHON\n"
     ]
    }
   ],
   "source": [
    "print(word.upper())"
   ]
  },
  {
   "cell_type": "markdown",
   "metadata": {},
   "source": [
    "Transform the word to lowercase.\n",
    "- Example: 'Python' --> 'python'."
   ]
  },
  {
   "cell_type": "code",
   "execution_count": 95,
   "metadata": {},
   "outputs": [
    {
     "name": "stdout",
     "output_type": "stream",
     "text": [
      "python\n"
     ]
    }
   ],
   "source": [
    "print(word.lower())"
   ]
  },
  {
   "cell_type": "markdown",
   "metadata": {},
   "source": [
    "Print the middle character of a string with an odd number of characters. Use indexing and the `len()` function.\n",
    "- Example: 'Program' --> 'g'."
   ]
  },
  {
   "cell_type": "code",
   "execution_count": 101,
   "metadata": {},
   "outputs": [
    {
     "name": "stdout",
     "output_type": "stream",
     "text": [
      "g\n"
     ]
    }
   ],
   "source": [
    "word = \"program\"\n",
    "a = len(word)\n",
    "print(word[int(a / 2)])"
   ]
  },
  {
   "cell_type": "markdown",
   "metadata": {},
   "source": [
    "Count the number of a's in a given string.\n",
    "- Example: 'abracadabra' --> 5."
   ]
  },
  {
   "cell_type": "code",
   "execution_count": 102,
   "metadata": {},
   "outputs": [
    {
     "name": "stdout",
     "output_type": "stream",
     "text": [
      "5\n"
     ]
    }
   ],
   "source": [
    "word = \"abracadabra\"\n",
    "print(word.count(\"a\"))"
   ]
  },
  {
   "cell_type": "markdown",
   "metadata": {},
   "source": [
    "What will be the result of the number of a's in 'Abracadabra'? Think and try it."
   ]
  },
  {
   "cell_type": "code",
   "execution_count": 103,
   "metadata": {},
   "outputs": [
    {
     "name": "stdout",
     "output_type": "stream",
     "text": [
      "4\n"
     ]
    }
   ],
   "source": [
    "word = 'Abracadabra'\n",
    "print(word.count(\"a\"))"
   ]
  },
  {
   "cell_type": "markdown",
   "metadata": {},
   "source": [
    "User enters a string and a character to count and the system prints: \"The character \"[char]\" occurs [count] times in \"[string]\"\".\n",
    "\n",
    "- Example:User enters `abracadabra` and the character `a` and the system outputs: The character \"a\" occurs 5 times in \"abracadabra\"."
   ]
  },
  {
   "cell_type": "code",
   "execution_count": 104,
   "metadata": {},
   "outputs": [
    {
     "name": "stdout",
     "output_type": "stream",
     "text": [
      "The character a occures 5 times i abracadabra.\n"
     ]
    }
   ],
   "source": [
    "word = \"abracadabra\"\n",
    "a = \"a\"\n",
    "print(f\"The character {a} occures {word.count(a)} times i {word}.\")"
   ]
  },
  {
   "cell_type": "markdown",
   "metadata": {},
   "source": [
    "Transform a given string to a title. That is, only the first character is uppercase, the rest are lowercase.\n",
    "- Example: 'pyTHoN' --> 'Python'."
   ]
  },
  {
   "cell_type": "code",
   "execution_count": 105,
   "metadata": {},
   "outputs": [
    {
     "name": "stdout",
     "output_type": "stream",
     "text": [
      "Python\n"
     ]
    }
   ],
   "source": [
    "word = \"pyTHoN\"\n",
    "print(word.capitalize())"
   ]
  },
  {
   "cell_type": "markdown",
   "metadata": {},
   "source": [
    "Check if a given string is all in uppercase.\n",
    "\n",
    "Examples:\n",
    "- 'Python' --> False.\n",
    "- 'PYTHON' --> True."
   ]
  },
  {
   "cell_type": "code",
   "execution_count": 107,
   "metadata": {},
   "outputs": [
    {
     "name": "stdout",
     "output_type": "stream",
     "text": [
      "False\n",
      "True\n"
     ]
    }
   ],
   "source": [
    "print(\"Python\".isupper())\n",
    "print(\"PYTHON\".isupper())"
   ]
  },
  {
   "cell_type": "markdown",
   "metadata": {},
   "source": [
    "User enters a string and a prefix and the system checks if the given string starts with that prefix.\n",
    "\n",
    "Examples:\n",
    "\n",
    "- User enters 'Python' and 'Py' --> True.\n",
    "- User enters 'Python' and 'on' --> False."
   ]
  },
  {
   "cell_type": "code",
   "execution_count": 112,
   "metadata": {},
   "outputs": [
    {
     "name": "stdout",
     "output_type": "stream",
     "text": [
      "Palabra: Python\n",
      "empieza por: Py\n",
      "True\n"
     ]
    }
   ],
   "source": [
    "text = input(\"Palabra: \")\n",
    "text2 = input(\"empieza por: \")\n",
    "print(text.startswith(text2))"
   ]
  },
  {
   "cell_type": "markdown",
   "metadata": {},
   "source": [
    "User enters a string and a suffix and the system checks if the given string starts ends with that suffix.\n",
    "\n",
    "Examples:\n",
    "\n",
    "- User enters 'Python' and 'Py' --> False.\n",
    "- User enters 'Python' and 'on' --> True."
   ]
  },
  {
   "cell_type": "code",
   "execution_count": 113,
   "metadata": {},
   "outputs": [
    {
     "name": "stdout",
     "output_type": "stream",
     "text": [
      "Palabra: Python\n",
      "acaba por: Py\n",
      "False\n"
     ]
    }
   ],
   "source": [
    "text = input(\"Palabra: \")\n",
    "text2 = input(\"acaba por: \")\n",
    "print(text.endswith(text2))"
   ]
  },
  {
   "cell_type": "markdown",
   "metadata": {},
   "source": [
    "User enters two strings and the system checks if the second string is contained in the first.\n",
    "\n",
    "Examples:\n",
    "\n",
    "- User enters 'Python' and 'yth' --> True.\n",
    "- User enters 'Python' and 'ho' --> True.\n",
    "- User enters 'Python' and 'pym' --> False."
   ]
  },
  {
   "cell_type": "code",
   "execution_count": 115,
   "metadata": {},
   "outputs": [
    {
     "name": "stdout",
     "output_type": "stream",
     "text": [
      "Palabra: Python\n",
      "Palabra a buscar: pym\n",
      "False\n"
     ]
    }
   ],
   "source": [
    "text = input(\"Palabra: \")\n",
    "text2 = input(\"Palabra a buscar: \")\n",
    "print(text2 in text)"
   ]
  },
  {
   "cell_type": "markdown",
   "metadata": {},
   "source": [
    "User enters two strings and the system checks if the second string is *NOT* contained in the first.\n",
    "\n",
    "Examples:\n",
    "\n",
    "- User enters 'Python' and 'yth' --> False.\n",
    "- User enters 'Python' and 'ho' --> False.\n",
    "- User enters 'Python' and 'pym' --> True."
   ]
  },
  {
   "cell_type": "code",
   "execution_count": 116,
   "metadata": {},
   "outputs": [
    {
     "name": "stdout",
     "output_type": "stream",
     "text": [
      "Palabra: Python\n",
      "Palabra a buscar:pym\n",
      "True\n"
     ]
    }
   ],
   "source": [
    "text = input(\"Palabra: \")\n",
    "text2 = input(\"Palabra a buscar:\")\n",
    "print(text2 not in text)"
   ]
  },
  {
   "cell_type": "markdown",
   "metadata": {},
   "source": [
    "Check if all the characters in a given string are numeric.\n",
    "\n",
    "Examples:\n",
    "- '123Py' --> False.\n",
    "- '2314' --> True."
   ]
  },
  {
   "cell_type": "code",
   "execution_count": 117,
   "metadata": {},
   "outputs": [
    {
     "name": "stdout",
     "output_type": "stream",
     "text": [
      "False\n",
      "True\n"
     ]
    }
   ],
   "source": [
    "print(\"123Py\".isnumeric())\n",
    "print(\"2314\".isnumeric())"
   ]
  },
  {
   "cell_type": "markdown",
   "metadata": {},
   "source": [
    "Print a given string with all the leading and trailing whitespaces removed.\n",
    "\n",
    "- Example: '&nbsp;&nbsp;&nbsp;Ptyhon&nbsp;&nbsp;' --> 'Python'."
   ]
  },
  {
   "cell_type": "code",
   "execution_count": 121,
   "metadata": {},
   "outputs": [
    {
     "name": "stdout",
     "output_type": "stream",
     "text": [
      "Python\n"
     ]
    }
   ],
   "source": [
    "print(\" Python\".lstrip())"
   ]
  },
  {
   "cell_type": "markdown",
   "metadata": {},
   "source": [
    "Replace all the 'a' characters in a given string with 'PY'.\n",
    "- Example: 'abracadabra' --> 'PYbrPYcPYdPYbrPY'."
   ]
  },
  {
   "cell_type": "code",
   "execution_count": 122,
   "metadata": {},
   "outputs": [
    {
     "name": "stdout",
     "output_type": "stream",
     "text": [
      "PYbrPYcPYdPYbrPY\n"
     ]
    }
   ],
   "source": [
    "print(\"abracadabra\".replace(\"a\", \"PY\"))"
   ]
  },
  {
   "cell_type": "markdown",
   "metadata": {},
   "source": [
    "Print a given string with absolutely all whitespaces removed.\n",
    "- Example: 'this is an example' --> 'thisisanexample'."
   ]
  },
  {
   "cell_type": "code",
   "execution_count": 134,
   "metadata": {},
   "outputs": [
    {
     "name": "stdout",
     "output_type": "stream",
     "text": [
      "thisisanexample\n"
     ]
    }
   ],
   "source": [
    "sentence = \"this is an example\"\n",
    "print(sentence.replace(\" \", \"\"))"
   ]
  },
  {
   "cell_type": "markdown",
   "metadata": {},
   "source": [
    "User enters a string and a character and the system prints the string without the given character.\n",
    "\n",
    "Examples:\n",
    "\n",
    "- User enters 'Python' and 'y' --> 'Pthon'.\n",
    "- User enters 'abracadabra' and 'a' --> brcdbr."
   ]
  },
  {
   "cell_type": "code",
   "execution_count": 135,
   "metadata": {},
   "outputs": [
    {
     "name": "stdout",
     "output_type": "stream",
     "text": [
      "Paraula: Python\n",
      "Segona paraula: y\n",
      "Pthon\n"
     ]
    }
   ],
   "source": [
    "text = input(\"Paraula: \")\n",
    "text2 = input(\"Segona paraula: \")\n",
    "print(text.replace(text2, \"\"))"
   ]
  },
  {
   "cell_type": "markdown",
   "metadata": {},
   "source": [
    "# Bonus"
   ]
  },
  {
   "cell_type": "markdown",
   "metadata": {},
   "source": [
    "Check if a string is a palindrome (i.e. reads the same forwards and backwards).\n",
    "\n",
    "Examples:\n",
    "- 'ABBA' --> True.\n",
    "- 'a' --> True.\n",
    "- 'Python' --> False.\n",
    "- 'non' --> True.\n",
    "- 'none' --> False."
   ]
  },
  {
   "cell_type": "code",
   "execution_count": 138,
   "metadata": {},
   "outputs": [
    {
     "name": "stdout",
     "output_type": "stream",
     "text": [
      "True\n",
      "False\n"
     ]
    }
   ],
   "source": [
    "a = \"ABBA\"\n",
    "print(a[::1] == a[::-1])\n",
    "b = \"Python\"\n",
    "print(b[::1] == b[::-1])"
   ]
  },
  {
   "cell_type": "markdown",
   "metadata": {},
   "source": [
    "User enters two strings and the system checks if they are anagrams or not. An anagram is a word or phrase formed by rearranging the letters of a different word or phrase, typically using all the original letters exactly once.\n",
    "\n",
    "Examples:\n",
    "- User enters 'New York Times' and 'monkeys write' --> True.\n",
    "- User enters 'Coronavirus' and 'carnivorous' --> True.\n",
    "- User enters 'Python' and 'Pytho' --> False."
   ]
  },
  {
   "cell_type": "code",
   "execution_count": 146,
   "metadata": {},
   "outputs": [
    {
     "name": "stdout",
     "output_type": "stream",
     "text": [
      "True\n",
      "True\n",
      "False\n"
     ]
    }
   ],
   "source": [
    "text = \"Coronavirus\"\n",
    "text2 = \"carnivorous\"\n",
    "print(sorted(text.lower()) == sorted(text2.lower()))\n",
    "text = 'New York Times'\n",
    "text2 = 'monkeys write'\n",
    "print(sorted(text.lower().replace(\" \", \"\")) == sorted(text2.lower().replace(\" \", \"\")))\n",
    "text = 'Python'\n",
    "text2 = 'Pytho'\n",
    "print(sorted(text.lower()) == sorted(text2.lower()))"
   ]
  },
  {
   "cell_type": "code",
   "execution_count": null,
   "metadata": {},
   "outputs": [],
   "source": []
  }
 ],
 "metadata": {
  "kernelspec": {
   "display_name": "Python 3 (ipykernel)",
   "language": "python",
   "name": "python3"
  },
  "language_info": {
   "codemirror_mode": {
    "name": "ipython",
    "version": 3
   },
   "file_extension": ".py",
   "mimetype": "text/x-python",
   "name": "python",
   "nbconvert_exporter": "python",
   "pygments_lexer": "ipython3",
   "version": "3.11.4"
  },
  "toc": {
   "base_numbering": 1,
   "nav_menu": {},
   "number_sections": true,
   "sideBar": true,
   "skip_h1_title": false,
   "title_cell": "Table of Contents",
   "title_sidebar": "Contents",
   "toc_cell": false,
   "toc_position": {},
   "toc_section_display": true,
   "toc_window_display": false
  },
  "varInspector": {
   "cols": {
    "lenName": 16,
    "lenType": 16,
    "lenVar": 40
   },
   "kernels_config": {
    "python": {
     "delete_cmd_postfix": "",
     "delete_cmd_prefix": "del ",
     "library": "var_list.py",
     "varRefreshCmd": "print(var_dic_list())"
    },
    "r": {
     "delete_cmd_postfix": ") ",
     "delete_cmd_prefix": "rm(",
     "library": "var_list.r",
     "varRefreshCmd": "cat(var_dic_list()) "
    }
   },
   "types_to_exclude": [
    "module",
    "function",
    "builtin_function_or_method",
    "instance",
    "_Feature"
   ],
   "window_display": false
  }
 },
 "nbformat": 4,
 "nbformat_minor": 2
}
