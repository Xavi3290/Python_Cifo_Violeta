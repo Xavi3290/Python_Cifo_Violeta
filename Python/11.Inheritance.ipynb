{
 "cells": [
  {
   "attachments": {},
   "cell_type": "markdown",
   "id": "d08f7567",
   "metadata": {},
   "source": [
    "# Inheritance"
   ]
  },
  {
   "attachments": {},
   "cell_type": "markdown",
   "id": "8ceac520",
   "metadata": {},
   "source": [
    "## University Management\n",
    "\n",
    "Implement a university management system that handles students, courses, and instructors.\n",
    "\n",
    "- A `Person` class with attributes: name, age, and an ID.\n",
    "- A `Student` class, inheriting from Person, with additional attributes: enrolled_courses (a list of courses a student is enrolled in).\n",
    "- An `Instructor` class, inheriting from Person, with additional attributes: courses_taught (a list of courses an instructor teaches).\n",
    "- A `Course` class with attributes: course_name, course_ID, instructor (an instance of Instructor), and students (a list of Student objects).\n",
    "- Include methods to enroll a student in a course, assign an instructor to a course, and list all students of a course.\n",
    "\n",
    "Note: Ensure you handle situations like a student enrolling in the same course twice, or an instructor teaching the same course multiple times."
   ]
  },
  {
   "cell_type": "code",
   "execution_count": 15,
   "id": "179bc4c1",
   "metadata": {},
   "outputs": [],
   "source": [
    "class Person:\n",
    "    person_id = 0\n",
    "    def __init__(self, name, age):\n",
    "        Person.person_id + 1\n",
    "        self.id = Person.person_id\n",
    "        self.name = name\n",
    "        self.age = age\n",
    "\n",
    "class Student(Person):\n",
    "    def __init__(self, name, age, id):\n",
    "        super().__init__(name, age)\n",
    "        self.id = id\n",
    "        self.enrolled_courses = []\n",
    "\n",
    "    def enroll(self, cour):\n",
    "        cour.students.append(self.name)\n",
    "        self.enrolled_courses.append(cour)\n",
    "\n",
    "class Instructor(Person):\n",
    "    def __init__(self, name, age, id):\n",
    "        super().__init__(name, age)\n",
    "        self.id = id\n",
    "        self.courses_taught = []\n",
    "\n",
    "    def assign_course(self, cou):\n",
    "        self.courses_taught.append(cou)\n",
    "        cou.instructors.append(self.name)\n",
    "\n",
    "class Course:\n",
    "    def __init__(self, course_name, id):\n",
    "        self.course_name = course_name\n",
    "        self.id = id\n",
    "        self.students = []\n",
    "        self.instructors = []\n",
    "    \n",
    "    def list_students(self):\n",
    "        return self.students\n"
   ]
  },
  {
   "cell_type": "code",
   "execution_count": 16,
   "id": "f0c95478",
   "metadata": {},
   "outputs": [
    {
     "name": "stdout",
     "output_type": "stream",
     "text": [
      "['Alice', 'Bob']\n"
     ]
    }
   ],
   "source": [
    "student1 = Student(\"Alice\", 20, \"S001\")\n",
    "student2 = Student(\"Bob\", 21, \"S002\")\n",
    "instructor = Instructor(\"Dr. Smith\", 40, \"T001\")\n",
    "course = Course(\"Math 101\", \"M101\")\n",
    "student1.enroll(course)\n",
    "student2.enroll(course)\n",
    "instructor.assign_course(course)\n",
    "print(course.list_students())  # ['Alice', 'Bob']"
   ]
  },
  {
   "cell_type": "code",
   "execution_count": 2,
   "id": "595d8129",
   "metadata": {},
   "outputs": [
    {
     "name": "stdout",
     "output_type": "stream",
     "text": [
      "['Alice', 'Bob']\n"
     ]
    }
   ],
   "source": [
    "student1 = Student(\"Alice\", 20, \"S001\")\n",
    "student2 = Student(\"Bob\", 21, \"S002\")\n",
    "instructor = Instructor(\"Dr. Smith\", 40, \"T001\")\n",
    "course = Course(\"Math 101\", \"M101\")\n",
    "student1.enroll(course)\n",
    "student2.enroll(course)\n",
    "instructor.assign_course(course)\n",
    "print(course.list_students())  # ['Alice', 'Bob']"
   ]
  },
  {
   "attachments": {},
   "cell_type": "markdown",
   "id": "50acd538",
   "metadata": {},
   "source": [
    "## Banking System\n",
    "\n",
    "Design a banking system with the following entities:\n",
    "\n",
    "- A `Bank` class with attributes: name, branches (a list of Branch objects).\n",
    "- A `Branch` class with attributes: location, accounts (a list of Account objects).\n",
    "- An `Account` class with attributes: account_number, account_holder (an instance of a Customer class), and balance.\n",
    "- A `Customer` class with attributes: name, ID, address, and phone_number.\n",
    "- Include methods to create an account, deposit money, withdraw money, and transfer money between accounts. Also, include methods in the Bank class to add a branch and get a specific branch by location.\n",
    "\n",
    "Note: Remember to handle edge cases like withdrawing more money than the current balance."
   ]
  },
  {
   "cell_type": "code",
   "execution_count": 25,
   "id": "2f87ae27",
   "metadata": {},
   "outputs": [],
   "source": [
    "class Bank:\n",
    "    def __init__(self, name):\n",
    "        self.name = name\n",
    "        self.branches = []\n",
    "\n",
    "    def add_branch(self, bra):\n",
    "        self.branches.append(bra)\n",
    "\n",
    "class Branch:\n",
    "    def __init__(self, location):\n",
    "        self.location = location\n",
    "        self.accounts = []\n",
    "\n",
    "    def add_account(self, acco):\n",
    "        self.accounts.append(acco)\n",
    "\n",
    "class Account:\n",
    "    def __init__(self, number, holder):\n",
    "        self.number = number\n",
    "        self.holder = holder\n",
    "        self.balance = 0\n",
    "\n",
    "    def deposit(self, mon):\n",
    "        self.balance += mon\n",
    "        return self.balance\n",
    "\n",
    "    def withdraw(self, mon):\n",
    "        self.balance -= mon\n",
    "        return self.balance\n",
    "\n",
    "class Customer:\n",
    "    def __init__(self, name, id, address, phone_number):\n",
    "        self.name = name\n",
    "        self.address = address\n",
    "        self.phone_number = phone_number\n",
    "        self.id = id\n"
   ]
  },
  {
   "cell_type": "code",
   "execution_count": 26,
   "id": "5946e476",
   "metadata": {},
   "outputs": [
    {
     "name": "stdout",
     "output_type": "stream",
     "text": [
      "1000\n",
      "500\n"
     ]
    }
   ],
   "source": [
    "customer = Customer(\"John\", \"C001\", \"123 Elm Street\", \"123-456-7890\")\n",
    "account = Account(\"A001\", customer)\n",
    "branch = Branch(\"Downtown\")\n",
    "bank = Bank(\"First Bank\")\n",
    "branch.add_account(account)\n",
    "bank.add_branch(branch)\n",
    "print(account.deposit(1000))  # 1000\n",
    "print(account.withdraw(500))  # 500"
   ]
  },
  {
   "cell_type": "code",
   "execution_count": 4,
   "id": "700b606f",
   "metadata": {},
   "outputs": [
    {
     "name": "stdout",
     "output_type": "stream",
     "text": [
      "1000\n",
      "500\n"
     ]
    }
   ],
   "source": [
    "customer = Customer(\"John\", \"C001\", \"123 Elm Street\", \"123-456-7890\")\n",
    "account = Account(\"A001\", customer)\n",
    "branch = Branch(\"Downtown\")\n",
    "bank = Bank(\"First Bank\")\n",
    "branch.add_account(account)\n",
    "bank.add_branch(branch)\n",
    "print(account.deposit(1000))  # 1000\n",
    "print(account.withdraw(500))  # 500"
   ]
  },
  {
   "attachments": {},
   "cell_type": "markdown",
   "id": "c01684e9",
   "metadata": {},
   "source": [
    "## Online Store Inventory\n",
    "\n",
    "Design an online store's inventory system:\n",
    "\n",
    "- A `Product` class with attributes: product_id, name, price, and quantity.\n",
    "- A `Category` class with attributes: category_name and products (a list of Product objects related to that category).\n",
    "- A `Store` class with attributes: store_name and all_products (a list of all Product objects).\n",
    "- Include methods to add a product under a specific category, update product quantity, get all products under a category, and get the total value of the store's inventory.\n",
    "\n",
    "Note: Ensure the system can handle situations like trying to add a product that already exists or retrieving a product that doesn't exist."
   ]
  },
  {
   "cell_type": "code",
   "execution_count": 33,
   "id": "c5ab91f4",
   "metadata": {},
   "outputs": [],
   "source": [
    "class Product:\n",
    "    def __init__(self, id, name, price, quantity):\n",
    "        self.id = id\n",
    "        self.name = name\n",
    "        self.price = price\n",
    "        self.quantity = quantity\n",
    "\n",
    "class Category:\n",
    "    def __init__(self, name):\n",
    "        self.name = name\n",
    "        self.products = []\n",
    "\n",
    "    def add_product(self, pro):\n",
    "        self.products.append(pro.name)\n",
    "\n",
    "    def list_products(self):\n",
    "        return self.products\n",
    "\n",
    "class Store:\n",
    "    def __init__(self, name):\n",
    "        self.name = name\n",
    "        self.all_products = []\n",
    "\n",
    "    def add_to_inventory(self, pro):\n",
    "        self.all_products.append(pro)\n",
    "\n",
    "    def inventory_value(self):\n",
    "        sum = 0\n",
    "        for pro in self.all_products:\n",
    "            sum += pro.price * pro.quantity\n",
    "        return sum\n"
   ]
  },
  {
   "cell_type": "code",
   "execution_count": 34,
   "id": "d3f93ad7",
   "metadata": {},
   "outputs": [
    {
     "name": "stdout",
     "output_type": "stream",
     "text": [
      "['Laptop', 'Mouse']\n",
      "10000\n"
     ]
    }
   ],
   "source": [
    "product1 = Product(\"P001\", \"Laptop\", 1000, 5)\n",
    "product2 = Product(\"P002\", \"Mouse\", 50, 100)\n",
    "category = Category(\"Electronics\")\n",
    "store = Store(\"Tech Store\")\n",
    "category.add_product(product1)\n",
    "category.add_product(product2)\n",
    "store.add_to_inventory(product1)\n",
    "store.add_to_inventory(product2)\n",
    "print(category.list_products())  # ['Laptop', 'Mouse']\n",
    "print(store.inventory_value())  # 1000*5 + 50*100 = 5000 + 5000 = 10000"
   ]
  },
  {
   "cell_type": "code",
   "execution_count": 6,
   "id": "9934fcc8",
   "metadata": {},
   "outputs": [
    {
     "name": "stdout",
     "output_type": "stream",
     "text": [
      "['Laptop', 'Mouse']\n",
      "10000\n"
     ]
    }
   ],
   "source": [
    "product1 = Product(\"P001\", \"Laptop\", 1000, 5)\n",
    "product2 = Product(\"P002\", \"Mouse\", 50, 100)\n",
    "category = Category(\"Electronics\")\n",
    "store = Store(\"Tech Store\")\n",
    "category.add_product(product1)\n",
    "category.add_product(product2)\n",
    "store.add_to_inventory(product1)\n",
    "store.add_to_inventory(product2)\n",
    "print(category.list_products())  # ['Laptop', 'Mouse']\n",
    "print(store.inventory_value())  # 1000*5 + 50*100 = 5000 + 5000 = 10000"
   ]
  },
  {
   "attachments": {},
   "cell_type": "markdown",
   "id": "8f938d71",
   "metadata": {},
   "source": [
    "## E-commerce System\n",
    "\n",
    "Develop a simplified e-commerce system.\n",
    "\n",
    "- Create a base `Product` class with attributes: product_id, name, price, and stock. Include methods to purchase (reduce stock) and restock (increase stock).\n",
    "- Subclasses `Electronics` and `Clothing` that inherit from `Product`. Add attributes specific to each, like warranty for Electronics and size for Clothing.\n",
    "- A `Cart` class that holds a collection of products. Include methods to add_product, remove_product, and checkout (finalize purchase and reduce stock of products)."
   ]
  },
  {
   "cell_type": "code",
   "execution_count": 46,
   "id": "05fb41c4",
   "metadata": {},
   "outputs": [],
   "source": [
    "class Product:\n",
    "    def __init__(self, id, name, price, stock):\n",
    "        self.id = id\n",
    "        self.name = name\n",
    "        self.price = price\n",
    "        self.stock = stock\n",
    "    \n",
    "    def reduces(self, quan):\n",
    "        self.stock -= quan\n",
    "\n",
    "    def restock(self, quan):\n",
    "        self.stock += quan\n",
    "\n",
    "class Electronics(Product):\n",
    "    def __init__(self, id, name, price, stock, warranty):\n",
    "        super().__init__(id, name, price, stock)\n",
    "        self.warranty = warranty\n",
    "\n",
    "class Clothing(Product):\n",
    "    def __init__(self, id, name, price, stock,  size):\n",
    "        super().__init__(id, name, price, stock)\n",
    "        self.size = size\n",
    "\n",
    "class Cart:\n",
    "    def __init__(self):\n",
    "        self.products = []\n",
    "\n",
    "    def add_product(self, pro, quant = 1):\n",
    "        self.products.append([pro, quant])\n",
    "\n",
    "    def remove_product(self, pro):\n",
    "        if pro in self.products:\n",
    "            self.products.remove(pro)\n",
    "    \n",
    "    def checkout(self):\n",
    "        for pro in self.products:\n",
    "            pro[0].reduces(pro[1])"
   ]
  },
  {
   "cell_type": "code",
   "execution_count": 47,
   "id": "b8aef948",
   "metadata": {},
   "outputs": [
    {
     "name": "stdout",
     "output_type": "stream",
     "text": [
      "9\n",
      "13\n"
     ]
    }
   ],
   "source": [
    "iphone = Electronics(1, \"iPhone\", 999.99, 10, \"1 year\")\n",
    "shirt = Clothing(2, \"Shirt\", 29.99, 15, \"L\")\n",
    "\n",
    "cart = Cart()\n",
    "cart.add_product(iphone)\n",
    "cart.add_product(shirt, 2)\n",
    "\n",
    "cart.checkout()\n",
    "print(iphone.stock)  # 9 (one iPhone purchased)\n",
    "print(shirt.stock)   # 13 (two shirts purchased)"
   ]
  },
  {
   "cell_type": "code",
   "execution_count": 8,
   "id": "e69b394f",
   "metadata": {},
   "outputs": [
    {
     "name": "stdout",
     "output_type": "stream",
     "text": [
      "9\n",
      "13\n"
     ]
    }
   ],
   "source": [
    "iphone = Electronics(1, \"iPhone\", 999.99, 10, \"1 year\")\n",
    "shirt = Clothing(2, \"Shirt\", 29.99, 15, \"L\")\n",
    "\n",
    "cart = Cart()\n",
    "cart.add_product(iphone)\n",
    "cart.add_product(shirt, 2)\n",
    "\n",
    "cart.checkout()\n",
    "print(iphone.stock)  # 9 (one iPhone purchased)\n",
    "print(shirt.stock)   # 13 (two shirts purchased)"
   ]
  },
  {
   "attachments": {},
   "cell_type": "markdown",
   "id": "ae520190",
   "metadata": {},
   "source": [
    "## Library Management System\n",
    "\n",
    "**Objective**: Design a library system where books can be borrowed by members. The library should track books, members, and the history of borrowings. There are different types of books (e.g., regular, reference, and digital) and members (e.g., student, faculty).\n",
    "\n",
    "**Details**:\n",
    "\n",
    "- Member:\n",
    "    - Each member has a unique ID, name, and maximum number of books they can borrow.\n",
    "    - Students can borrow up to 3 books.\n",
    "    - Faculty can borrow up to 5 books.\n",
    "\n",
    "- Book:\n",
    "    - Each book has a unique ID, title, and author.\n",
    "    - There are three types of books:\n",
    "    - RegularBook: Can be borrowed by any member.\n",
    "    - ReferenceBook: Cannot be borrowed; only read within the library.\n",
    "\n",
    "- DigitalBook:\n",
    "    - Can be accessed online by any member but not borrowed.\n",
    "\n",
    "- Borrowing:\n",
    "    - Records the member, book, and the date when a book is borrowed.\n",
    "\n",
    "\n",
    "**Expected Input/Output**:\n",
    "\n",
    "- Input:\n",
    "    - A student tries to borrow a reference book.\n",
    "    - A faculty borrows a regular book.\n",
    "    - A student accesses a digital book online.\n",
    "\n",
    "\n",
    "- Output:\n",
    "    - \"Sorry, reference books cannot be borrowed.\"\n",
    "    - \"[Faculty Name] has borrowed [Book Title].\"\n",
    "    - \"[Student Name] has accessed [Book Title] online.\""
   ]
  },
  {
   "cell_type": "code",
   "execution_count": 54,
   "id": "a2070657",
   "metadata": {},
   "outputs": [],
   "source": [
    "class Member:\n",
    "    def __init__(self, id, name):\n",
    "        self.id = id\n",
    "        self.name = name \n",
    "        self.max_books = 0\n",
    "\n",
    "class Student(Member):\n",
    "    def __init__(self, id, name):\n",
    "        super().__init__(id, name)\n",
    "        self.max_books = 3\n",
    "\n",
    "    def borrow_book(self, book):\n",
    "        if type(book) == RegularBook:\n",
    "            return f\"{self.name} has borrowed {book.title}.\"\n",
    "        elif type(book) == ReferenceBook:\n",
    "            return f\"Sorry, reference books cannot be borrowed.\"\n",
    "        elif type(book) == DigitalBook:\n",
    "            return f\"{self.name} has accessed {book.title} online.\"\n",
    "\n",
    "class Faculty(Member):\n",
    "    def __init__(self, id, name):\n",
    "        super().__init__(id, name)\n",
    "        self.max_books = 5\n",
    "\n",
    "    def borrow_book(self, book):\n",
    "        if type(book) == RegularBook:\n",
    "            return f\"{self.name} has borrowed {book.title}.\"\n",
    "        elif type(book) == ReferenceBook:\n",
    "            return f\"Sorry, reference books cannot be borrowed.\"\n",
    "        elif type(book) == DigitalBook:\n",
    "            return f\"{self.name} has accessed {book.title} online.\"\n",
    "\n",
    "class Book:\n",
    "    def __init__(self, id, title, author):\n",
    "        self.id = id\n",
    "        self.title = title\n",
    "        self.author = author\n",
    "\n",
    "class RegularBook(Book):\n",
    "    def __init__(self, id, title, author):\n",
    "        super().__init__(id, title, author)\n",
    "\n",
    "class ReferenceBook(Book):\n",
    "    def __init__(self, id, title, author):\n",
    "        super().__init__(id, title, author)\n",
    "\n",
    "class DigitalBook(Book):\n",
    "    def __init__(self, id, title, author):\n",
    "        super().__init__(id, title, author)"
   ]
  },
  {
   "cell_type": "code",
   "execution_count": 55,
   "id": "671558e1",
   "metadata": {},
   "outputs": [],
   "source": [
    "# Tests\n",
    "student = Student(1, \"Alice\")\n",
    "faculty = Faculty(2, \"Dr. Smith\")\n",
    "reg_book = RegularBook(101, \"The Catcher in the Rye\", \"J.D. Salinger\")\n",
    "ref_book = ReferenceBook(102, \"Encyclopedia of Science\", \"John Doe\")\n",
    "dig_book = DigitalBook(103, \"Digital Transformation\", \"Jane White\")\n",
    "\n",
    "assert student.borrow_book(ref_book) == \"Sorry, reference books cannot be borrowed.\"\n",
    "assert faculty.borrow_book(reg_book) == \"Dr. Smith has borrowed The Catcher in the Rye.\"\n",
    "assert student.borrow_book(dig_book) == \"Alice has accessed Digital Transformation online.\""
   ]
  },
  {
   "attachments": {},
   "cell_type": "markdown",
   "id": "37adfee5",
   "metadata": {},
   "source": [
    "## Treasure Island Game\n",
    "\n",
    "**Objective**: Build a game where a player navigates a board to find treasure while avoiding traps. This board is populated by tiles of varying types, each represented by a different class.\n",
    "\n",
    "**Details**:\n",
    "\n",
    "- Board:\n",
    "    - A 2D grid of size n x m.\n",
    "    - Contains tiles which can be normal, a trap, or the treasure.\n",
    "\n",
    "- Tile:\n",
    "    - Base class representing a single spot on the board.\n",
    "    - Each tile has a type (normal, trap, or treasure).\n",
    "\n",
    "- Trap tile:\n",
    "    - A trap tile will send the player back to the start if they land on it.\n",
    "\n",
    "- Treasure tile\n",
    "    - Landing on this tile wins the game.\n",
    "\n",
    "- Game:\n",
    "    - Contains the game loop, where a player moves in one of four directions at a time: up, down, left, or right.\n",
    "    - If the player reaches the treasure, they win.\n",
    "    - If the player lands on a trap, they go back to the start.\n",
    "\n",
    "Algorithmic Challenge: The player starts at the top-left corner and has a device that beeps faster the closer they are to the treasure. The frequency (or count) of beeps is calculated based on the Manhattan distance to the treasure.\n",
    "\n",
    "**Expected Input/Output**:\n",
    "\n",
    "- Input:\n",
    "    - The player chooses a direction: \"up\", \"down\", \"left\", or \"right\".\n",
    "\n",
    "\n",
    "- Output:\n",
    "    - Board state after each move.\n",
    "    - Beep frequency after each move.\n",
    "    - End game message: win or trap triggered.\n",
    "    \n",
    "**Example**:\n",
    "\n",
    "For a board of size 3x3, where S is the start, T is a trap, and X is the treasure:\n",
    "\n",
    "```\n",
    "S  -  -\n",
    "-  T  -\n",
    "-  -  X\n",
    "```\n",
    "\n",
    "If the player moves right, then down, they will land on the trap, resetting their position to the start. If they then move right twice and down twice, they will find the treasure."
   ]
  },
  {
   "cell_type": "code",
   "execution_count": 48,
   "id": "e24e4f65",
   "metadata": {},
   "outputs": [],
   "source": [
    "class Board:\n",
    "    def __init__(self, x, y , trap, treasure):\n",
    "        self.x = x\n",
    "        self.y = y\n",
    "        self.trap = trap\n",
    "        self.treasure = treasure\n",
    "        self.boa = []\n",
    "\n",
    "        for i in range(0, self.x):\n",
    "            row = []\n",
    "            for j in range(0, self.y):\n",
    "                row.append(\"-\")\n",
    "            self.boa.append(row)\n",
    "\n",
    "        for tra in self.trap:\n",
    "            self.boa[tra[0]][tra[1]] = \"T\"\n",
    "        \n",
    "        self.boa[self.treasure[0]][self.treasure[1]] = \"X\"\n",
    "        self.boa[0][0] = \"S\"\n",
    "\n",
    "        for i in range(0, len(self.boa)):\n",
    "            for j in range(0, len(self.boa[i])):\n",
    "                print(self.boa[i][j], end = \"\")\n",
    "            print(\"\")\n",
    "\n",
    "\n",
    "class Game:\n",
    "    def __init__(self, board):\n",
    "        self.board = board\n",
    "        self.x = 0\n",
    "        self.y = 0\n",
    "        self.position = (self.x,self.y)\n",
    "\n",
    "    def move(self, mov):\n",
    "        if mov == \"right\":\n",
    "            self.x += 1\n",
    "            #print(self.x)        \n",
    "        elif mov == \"down\":\n",
    "            self.y += 1\n",
    "            #print(self.y)\n",
    "        elif mov == \"left\":\n",
    "            self.x -= 1\n",
    "            #print(self.x)\n",
    "        elif mov == \"up\":\n",
    "            self.y -= 1\n",
    "            #print(self.y)\n",
    "\n",
    "        self.position = (self.x, self.y)\n",
    "        #print(self.position)\n",
    "\n",
    "        if self.position in self.board.trap:\n",
    "            #print(self.position)\n",
    "            self.x = 0\n",
    "            self.y = 0\n",
    "            self.position = (self.x, self.y)\n",
    "            print(\"Trap triggered! Back to the start.\")\n",
    "        if self.position == self.board.treasure:\n",
    "            #print(self.position)\n",
    "            print(\"You found the treasure! You win!\")\n",
    "\n"
   ]
  },
  {
   "cell_type": "code",
   "execution_count": 49,
   "id": "302047a1",
   "metadata": {},
   "outputs": [
    {
     "name": "stdout",
     "output_type": "stream",
     "text": [
      "S--\n",
      "-T-\n",
      "--X\n",
      "Trap triggered! Back to the start.\n",
      "You found the treasure! You win!\n"
     ]
    }
   ],
   "source": [
    "game_board = Board(3, 3, [(1,1)], (2, 2))\n",
    "game = Game(game_board)\n",
    "game.move(\"right\")\n",
    "game.move(\"down\")  # This will trigger the trap.\n",
    "game.move(\"right\")\n",
    "game.move(\"right\")\n",
    "game.move(\"down\")\n",
    "game.move(\"down\")  # This will find the treasure."
   ]
  },
  {
   "cell_type": "code",
   "execution_count": 19,
   "id": "323db393",
   "metadata": {},
   "outputs": [
    {
     "name": "stdout",
     "output_type": "stream",
     "text": [
      "Beep Frequency: 7\n",
      "Trap triggered! Back to the start.\n",
      "Beep Frequency: 6\n",
      "Beep Frequency: 7\n",
      "Beep Frequency: 8\n",
      "Beep Frequency: 9\n",
      "You found the treasure! You win!\n"
     ]
    }
   ],
   "source": [
    "game_board = Board(3, 3, [(1,1)], (2, 2))\n",
    "game = Game(game_board)\n",
    "game.move(\"right\")\n",
    "game.move(\"down\")  # This will trigger the trap.\n",
    "game.move(\"right\")\n",
    "game.move(\"right\")\n",
    "game.move(\"down\")\n",
    "game.move(\"down\")  # This will find the treasure."
   ]
  },
  {
   "attachments": {},
   "cell_type": "markdown",
   "id": "a944581b",
   "metadata": {},
   "source": [
    "## Predator and Prey Game\n",
    "\n",
    "**Objective**: Build a game where the player controls a predator trying to eat prey on a board. As the game progresses, different types of prey with unique behaviors appear.\n",
    "\n",
    "**Details**:\n",
    "\n",
    "- Board:\n",
    "    - A 2D grid of size n x m.\n",
    "    - Contains tiles which can be normal, a predator, or various types of prey.\n",
    "\n",
    "- Tile:\n",
    "    - Base class representing a single spot on the board.\n",
    "\n",
    "- Creature:\n",
    "    - Base class for living entities on the board. This will be the class for the predator and the different prey.\n",
    "    - Has a method move() that defines how the creature moves on the board.\n",
    "\n",
    "- Predator:\n",
    "    - Controlled by the player.\n",
    "    - Can move in all four directions.\n",
    "    - Eating a prey increases the score.\n",
    "\n",
    "- SimplePrey:\n",
    "    - Moves in a random direction each turn.\n",
    "    - Worth 1 point when eaten.\n",
    "\n",
    "- SmartPrey:\n",
    "    - Moves away from the predator if it's nearby.\n",
    "    - Worth 3 points when eaten.\n",
    "\n",
    "- Game:\n",
    "    - Contains the game loop, where the board state updates as the player moves the predator and the prey make their own moves.\n",
    "    - Spawns a new prey every few moves.\n",
    "    - The game ends if the predator moves a specified number of times without eating any prey.\n",
    "\n",
    "**Expected Input/Output**:\n",
    "\n",
    "- Input:\n",
    "    - The player chooses a direction: \"up\", \"down\", \"left\", or \"right\".\n",
    "\n",
    "\n",
    "- Output:\n",
    "    - Updated board state after each move.\n",
    "    - Current score.\n",
    "    - End game message when the game concludes. "
   ]
  },
  {
   "cell_type": "code",
   "execution_count": null,
   "id": "6e973d02",
   "metadata": {},
   "outputs": [],
   "source": []
  },
  {
   "attachments": {},
   "cell_type": "markdown",
   "id": "66fb0ba9",
   "metadata": {},
   "source": [
    "## The EcoSim\n",
    "\n",
    "Let's automate the above exercise so the user doesn't need to give any input during the game.\n",
    "\n",
    "**Objective**: Simulate an ecosystem where predators and prey evolve over time based on a few simple rules.\n",
    "\n",
    "**Details**:\n",
    "\n",
    "- Board:\n",
    "    - A 2D grid of size n x m.\n",
    "    - Tiles can be empty, have a prey, or a predator.\n",
    "\n",
    "- Tile:\n",
    "    - Base class representing a spot on the board.\n",
    "\n",
    "- Creature:\n",
    "    - Base class for living entities on the board.\n",
    "    - Has a life duration, after which the creature dies if it doesn't reproduce.\n",
    "\n",
    "- Predator:\n",
    "    - Eats prey if it moves to a tile occupied by one.\n",
    "    - Reproduces if it eats a certain number of prey in its lifetime.\n",
    "    - Moves in a direction where there's prey if one is adjacent, otherwise moves randomly.\n",
    "\n",
    "- Prey:\n",
    "    - Reproduces if it survives for a certain number of turns without being eaten.\n",
    "    - Moves randomly.\n",
    "    \n",
    "\n",
    "**Simulation Rules**:\n",
    "- Each turn, every creature makes one move.\n",
    "- If a predator moves into a tile with prey, the prey is eaten.\n",
    "- A predator cannot move to a tile with another predator. The same for preys.\n",
    "- If a prey survives for a certain number of turns, it reproduces. A new prey is placed in an adjacent tile if available.\n",
    "- If a predator eats a certain number of prey, it reproduces. A new predator is placed in an adjacent tile if available.\n",
    "- When a creature reaches its life duration, it dies."
   ]
  },
  {
   "cell_type": "code",
   "execution_count": null,
   "id": "f56cde99",
   "metadata": {},
   "outputs": [],
   "source": []
  },
  {
   "attachments": {},
   "cell_type": "markdown",
   "id": "b9aa3a9c",
   "metadata": {},
   "source": [
    "## EcoSim extension\n",
    "\n",
    "Let's enhance The EcoSim by introducing different tile terrains which can affect the behavior and attributes of the creatures that occupy them.\n",
    "\n",
    "**Extension Details**:\n",
    "\n",
    "- Tile:\n",
    "    - Grassland: Normal terrain.\n",
    "    - Forest: Prey in forests are harder to find. Predators have a decreased chance of eating prey here.\n",
    "    - Water: Only certain prey (like amphibians) can reproduce here. Predators can't enter unless they're amphibious.\n",
    "    - Mountain: Neither predator nor prey can enter mountains, serving as barriers.\n",
    "\n",
    "\n",
    "- Creature Behavior Adjustments:\n",
    "\n",
    "    - Predator:\n",
    "        - When in **Forest**:\n",
    "            - Reduced probability to find and eat prey.\n",
    "        - When in **Water**:\n",
    "            - Standard predators can't move into water tiles.\n",
    "            - Amphibious predators can move into water and have a higher chance of eating amphibian prey.\n",
    "            \n",
    "    - Prey:\n",
    "        - When in **Forest**:\n",
    "            - Has a reduced probability of being eaten.\n",
    "        - When in **Water**:\n",
    "            - Only amphibian prey can reproduce.\n",
    "            - Non-amphibious prey cannot enter water tiles."
   ]
  },
  {
   "cell_type": "code",
   "execution_count": null,
   "id": "42908410",
   "metadata": {},
   "outputs": [],
   "source": []
  }
 ],
 "metadata": {
  "kernelspec": {
   "display_name": "Python 3 (ipykernel)",
   "language": "python",
   "name": "python3"
  },
  "language_info": {
   "codemirror_mode": {
    "name": "ipython",
    "version": 3
   },
   "file_extension": ".py",
   "mimetype": "text/x-python",
   "name": "python",
   "nbconvert_exporter": "python",
   "pygments_lexer": "ipython3",
   "version": "3.11.4"
  },
  "toc": {
   "base_numbering": 1,
   "nav_menu": {},
   "number_sections": true,
   "sideBar": true,
   "skip_h1_title": false,
   "title_cell": "Table of Contents",
   "title_sidebar": "Contents",
   "toc_cell": false,
   "toc_position": {
    "height": "calc(100% - 180px)",
    "left": "10px",
    "top": "150px",
    "width": "276px"
   },
   "toc_section_display": true,
   "toc_window_display": true
  },
  "varInspector": {
   "cols": {
    "lenName": 16,
    "lenType": 16,
    "lenVar": 40
   },
   "kernels_config": {
    "python": {
     "delete_cmd_postfix": "",
     "delete_cmd_prefix": "del ",
     "library": "var_list.py",
     "varRefreshCmd": "print(var_dic_list())"
    },
    "r": {
     "delete_cmd_postfix": ") ",
     "delete_cmd_prefix": "rm(",
     "library": "var_list.r",
     "varRefreshCmd": "cat(var_dic_list()) "
    }
   },
   "types_to_exclude": [
    "module",
    "function",
    "builtin_function_or_method",
    "instance",
    "_Feature"
   ],
   "window_display": false
  }
 },
 "nbformat": 4,
 "nbformat_minor": 5
}
