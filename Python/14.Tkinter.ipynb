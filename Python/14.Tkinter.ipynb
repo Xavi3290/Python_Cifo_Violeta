{
 "cells": [
  {
   "attachments": {},
   "cell_type": "markdown",
   "metadata": {},
   "source": [
    "# Tkinter\n",
    "\n",
    "- Common options for GUI (Graphical User Interface) in Python:\n",
    "    - **Tkinter**: built-in, easy to learn, may seem a bit outdated (it's improving).\n",
    "    - **PyQt**: more advanced, more flexible, modern look & feel."
   ]
  },
  {
   "attachments": {},
   "cell_type": "markdown",
   "metadata": {},
   "source": [
    "## Tkinter\n",
    "\n",
    "- Python's de-facto standard GUI package.\n",
    "- Easy to learn and widely used.\n",
    "- Widgets:\n",
    "    - Label.\n",
    "    - Button.\n",
    "    - Entry.\n",
    "    - Text.\n",
    "    - etc.\n",
    "- Containers (contain widgets):\n",
    "    - Window.\n",
    "    - Frame.\n",
    "- See: https://docs.python.org/3/library/tk.html"
   ]
  },
  {
   "cell_type": "code",
   "execution_count": 2,
   "metadata": {},
   "outputs": [],
   "source": [
    "import tkinter as tk"
   ]
  },
  {
   "attachments": {},
   "cell_type": "markdown",
   "metadata": {},
   "source": [
    "### Window\n",
    "\n",
    "- A window is a container that holds all other GUI elements such as buttons, labels, etc.\n",
    "    1. Create tk.Tk() object.\n",
    "    2. Set window title.\n",
    "    3. Run the mainloop: continually waits for window events (button clicks, key presses, etc.)"
   ]
  },
  {
   "cell_type": "code",
   "execution_count": 3,
   "metadata": {},
   "outputs": [],
   "source": [
    "root = tk.Tk()  # Creates a window object\n",
    "root.title(\"My First Window\")  # Sets the title of the window\n",
    "root.mainloop()  # Runs the event loop"
   ]
  },
  {
   "attachments": {},
   "cell_type": "markdown",
   "metadata": {},
   "source": [
    "### Label\n",
    "\n",
    "- Used to display text or images.\n",
    "- We can place a label inside a window."
   ]
  },
  {
   "cell_type": "code",
   "execution_count": 6,
   "metadata": {},
   "outputs": [],
   "source": [
    "root = tk.Tk()\n",
    "root.title(\"My First Window\")  # Sets the title of the window\n",
    "label = tk.Label(root, text=\"Hello, Tkinter!\")  # Creates a label object\n",
    "label.pack()  # Adds the label to the window (it is mandatory for displaying it)\n",
    "root.mainloop()"
   ]
  },
  {
   "attachments": {},
   "cell_type": "markdown",
   "metadata": {},
   "source": [
    "### Button\n",
    "\n",
    "- A button can trigger a function when it is pressed.\n",
    "- It can contain text or an image."
   ]
  },
  {
   "cell_type": "code",
   "execution_count": 7,
   "metadata": {},
   "outputs": [
    {
     "name": "stdout",
     "output_type": "stream",
     "text": [
      "Button Clicked!\n"
     ]
    }
   ],
   "source": [
    "def on_button_click():\n",
    "    print(\"Button Clicked!\")\n",
    "\n",
    "root = tk.Tk()\n",
    "button = tk.Button(root, text=\"Click Me!\", command=on_button_click)  # Creates a button object\n",
    "button.pack()  # Adds the button to the window\n",
    "root.mainloop()"
   ]
  },
  {
   "attachments": {},
   "cell_type": "markdown",
   "metadata": {},
   "source": [
    "### Pack\n",
    "\n",
    "- One of the geometry manager methods in Tkinter.\n",
    "- Used for organizing the positioning of the widgets within a container.\n",
    "- Organizes widgets as efficiently as possible"
   ]
  },
  {
   "cell_type": "code",
   "execution_count": 8,
   "metadata": {},
   "outputs": [
    {
     "name": "stdout",
     "output_type": "stream",
     "text": [
      "Button Clicked!\n"
     ]
    }
   ],
   "source": [
    "# Sets the label on top of the button\n",
    "\n",
    "root = tk.Tk()\n",
    "root.title(\"My First Window\")\n",
    "\n",
    "label = tk.Label(root, text=\"Hello, Tkinter!\")\n",
    "label.pack()\n",
    "\n",
    "button = tk.Button(root, text=\"Click Me!\", command=on_button_click)\n",
    "button.pack()\n",
    "\n",
    "root.mainloop()"
   ]
  },
  {
   "attachments": {},
   "cell_type": "markdown",
   "metadata": {},
   "source": [
    "We could directly pack the widgets without creating variables:"
   ]
  },
  {
   "cell_type": "code",
   "execution_count": 9,
   "metadata": {},
   "outputs": [],
   "source": [
    "root = tk.Tk()\n",
    "root.title(\"My First Window\")  # Sets the title of the window\n",
    "\n",
    "tk.Label(root, text=\"Hello, Tkinter!\").pack()\n",
    "tk.Button(root, text=\"Click Me!\", command=on_button_click).pack()\n",
    "\n",
    "root.mainloop()"
   ]
  },
  {
   "attachments": {},
   "cell_type": "markdown",
   "metadata": {},
   "source": [
    "`pack()` allows us to organize the widgets:"
   ]
  },
  {
   "cell_type": "code",
   "execution_count": 11,
   "metadata": {},
   "outputs": [
    {
     "name": "stdout",
     "output_type": "stream",
     "text": [
      "Button Clicked!\n"
     ]
    }
   ],
   "source": [
    "root = tk.Tk()\n",
    "root.title(\"My First Window\")  # Sets the title of the window\n",
    "\n",
    "tk.Label(root, text=\"Hello, Tkinter!\").pack(side=tk.LEFT)\n",
    "tk.Button(root, text=\"Click Me!\", command=on_button_click).pack(side=tk.RIGHT)\n",
    "\n",
    "root.mainloop()"
   ]
  },
  {
   "attachments": {},
   "cell_type": "markdown",
   "metadata": {},
   "source": [
    "### Entry\n",
    "\n",
    "- Accepts single-line text strings from a user.\n",
    "- It can be configured to be a password field as well."
   ]
  },
  {
   "cell_type": "code",
   "execution_count": 6,
   "metadata": {},
   "outputs": [
    {
     "name": "stdout",
     "output_type": "stream",
     "text": [
      "abc\n"
     ]
    }
   ],
   "source": [
    "def on_change(e):\n",
    "    print(e.widget.get())\n",
    "\n",
    "root = tk.Tk()\n",
    "\n",
    "entry = tk.Entry(root)  # Creates an entry object\n",
    "entry.pack()  # Adds the entry to the window\n",
    "entry.bind(\"<Return>\", on_change)  # Binds the on_change function to the entry\n",
    "\n",
    "root.mainloop()"
   ]
  },
  {
   "attachments": {},
   "cell_type": "markdown",
   "metadata": {},
   "source": [
    "### Entry + Button"
   ]
  },
  {
   "cell_type": "code",
   "execution_count": 7,
   "metadata": {},
   "outputs": [
    {
     "name": "stdout",
     "output_type": "stream",
     "text": [
      "123\n"
     ]
    }
   ],
   "source": [
    "def on_button_click():\n",
    "    content = entry.get()\n",
    "    print(content)\n",
    "\n",
    "root = tk.Tk()\n",
    "\n",
    "entry = tk.Entry(root)\n",
    "entry.pack()\n",
    "\n",
    "button = tk.Button(root, text='Print Input', command=on_button_click)\n",
    "button.pack()\n",
    "\n",
    "root.mainloop()"
   ]
  },
  {
   "attachments": {},
   "cell_type": "markdown",
   "metadata": {},
   "source": [
    "### Text\n",
    "\n",
    "- Displays multiline text fields, allowing the user to enter multiple lines of text.\n",
    "- Useful when you need to get long strings, paragraphs, or other extensive text from the user."
   ]
  },
  {
   "cell_type": "code",
   "execution_count": 3,
   "metadata": {},
   "outputs": [],
   "source": [
    "root = tk.Tk()\n",
    "\n",
    "text = tk.Text(root, height=5, width=40)  # Creates a Text object\n",
    "text.pack()  # Adds the Text widget to the window\n",
    "\n",
    "root.mainloop()"
   ]
  },
  {
   "attachments": {},
   "cell_type": "markdown",
   "metadata": {},
   "source": [
    "### Listbox\n",
    "\n",
    "- Provides a list of options to a user.\n",
    "- A user can select one or more options from the list, depending on the configuration."
   ]
  },
  {
   "cell_type": "code",
   "execution_count": 16,
   "metadata": {},
   "outputs": [],
   "source": [
    "root = tk.Tk()\n",
    "\n",
    "listbox = tk.Listbox(root)  # Creates a Listbox object\n",
    "listbox.pack()  # Adds the Listbox to the window\n",
    "listbox.insert(1, \"Option 1\")\n",
    "listbox.insert(2, \"Option 2\")\n",
    "listbox.insert(3, \"Option 3\")\n",
    "\n",
    "root.mainloop()"
   ]
  },
  {
   "attachments": {},
   "cell_type": "markdown",
   "metadata": {},
   "source": [
    "## Menu\n",
    "\n",
    "- Creates various types of menus.\n",
    "- You can create a top-level menu and add cascading menus to it."
   ]
  },
  {
   "cell_type": "code",
   "execution_count": 18,
   "metadata": {},
   "outputs": [],
   "source": [
    "root = tk.Tk()\n",
    "\n",
    "menu = tk.Menu(root)  # Creates a Menu object\n",
    "root.config(menu=menu)  # Configures the window to use the menu\n",
    "\n",
    "filemenu = tk.Menu(menu)  # Creates a submenu\n",
    "menu.add_cascade(label=\"File\", menu=filemenu)  # Adds the submenu to the main menu\n",
    "filemenu.add_command(label=\"New\", command=lambda: print(\"New File!\"))\n",
    "\n",
    "root.mainloop()"
   ]
  },
  {
   "attachments": {},
   "cell_type": "markdown",
   "metadata": {},
   "source": [
    "## Canvas\n",
    "\n",
    "- Allows to draw shapes, such as lines, rectangles, ovals, polygons, and text.\n",
    "- It can be used to create graphics editors, custom drawings, and plots."
   ]
  },
  {
   "cell_type": "code",
   "execution_count": 19,
   "metadata": {},
   "outputs": [],
   "source": [
    "root = tk.Tk()\n",
    "\n",
    "canvas = tk.Canvas(root, width=200, height=100)  # Creates a Canvas object\n",
    "canvas.pack()  # Adds the Canvas to the window\n",
    "canvas.create_rectangle(25, 25, 150, 75, fill=\"blue\")\n",
    "\n",
    "root.mainloop()"
   ]
  },
  {
   "attachments": {},
   "cell_type": "markdown",
   "metadata": {},
   "source": [
    "## Key Press\n",
    "\n",
    "- Custom behavior when pressing keyboard keys."
   ]
  },
  {
   "cell_type": "code",
   "execution_count": 21,
   "metadata": {},
   "outputs": [
    {
     "name": "stdout",
     "output_type": "stream",
     "text": [
      "You pressed 'a'\n"
     ]
    }
   ],
   "source": [
    "root = tk.Tk()\n",
    "\n",
    "def on_key_press(event):\n",
    "    print(f\"You pressed 'a'\")\n",
    "\n",
    "root.bind(\"a\", on_key_press)  # Binds the function to key press event\n",
    "root.mainloop()"
   ]
  },
  {
   "cell_type": "code",
   "execution_count": 22,
   "metadata": {},
   "outputs": [
    {
     "name": "stdout",
     "output_type": "stream",
     "text": [
      "You pressed Ctrl + a\n"
     ]
    }
   ],
   "source": [
    "# With a combination of keys\n",
    "\n",
    "root = tk.Tk()\n",
    "\n",
    "def on_key_press(event):\n",
    "    print(f\"You pressed Ctrl + a\")\n",
    "\n",
    "root.bind(\"<Control-a>\", on_key_press)  # Binds the function to key press event\n",
    "root.mainloop()"
   ]
  }
 ],
 "metadata": {
  "kernelspec": {
   "display_name": "Python 3 (ipykernel)",
   "language": "python",
   "name": "python3"
  },
  "language_info": {
   "codemirror_mode": {
    "name": "ipython",
    "version": 3
   },
   "file_extension": ".py",
   "mimetype": "text/x-python",
   "name": "python",
   "nbconvert_exporter": "python",
   "pygments_lexer": "ipython3",
   "version": "3.11.4"
  },
  "toc": {
   "base_numbering": 1,
   "nav_menu": {},
   "number_sections": true,
   "sideBar": true,
   "skip_h1_title": false,
   "title_cell": "Table of Contents",
   "title_sidebar": "Contents",
   "toc_cell": false,
   "toc_position": {},
   "toc_section_display": true,
   "toc_window_display": false
  },
  "varInspector": {
   "cols": {
    "lenName": 16,
    "lenType": 16,
    "lenVar": 40
   },
   "kernels_config": {
    "python": {
     "delete_cmd_postfix": "",
     "delete_cmd_prefix": "del ",
     "library": "var_list.py",
     "varRefreshCmd": "print(var_dic_list())"
    },
    "r": {
     "delete_cmd_postfix": ") ",
     "delete_cmd_prefix": "rm(",
     "library": "var_list.r",
     "varRefreshCmd": "cat(var_dic_list()) "
    }
   },
   "types_to_exclude": [
    "module",
    "function",
    "builtin_function_or_method",
    "instance",
    "_Feature"
   ],
   "window_display": false
  }
 },
 "nbformat": 4,
 "nbformat_minor": 2
}
