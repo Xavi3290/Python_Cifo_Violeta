{
 "cells": [
  {
   "cell_type": "markdown",
   "id": "7ddc101f",
   "metadata": {},
   "source": [
    "# Variable Scope "
   ]
  },
  {
   "cell_type": "markdown",
   "id": "e1bbcb13",
   "metadata": {},
   "source": [
    "## Basic Scope\n",
    "\n",
    "What will be printed? Think and run it."
   ]
  },
  {
   "cell_type": "code",
   "execution_count": 7,
   "id": "407058cb",
   "metadata": {},
   "outputs": [
    {
     "name": "stdout",
     "output_type": "stream",
     "text": [
      "10\n"
     ]
    }
   ],
   "source": [
    "x = 10\n",
    "\n",
    "def print_x():\n",
    "    print(x)\n",
    "\n",
    "print_x()"
   ]
  },
  {
   "cell_type": "markdown",
   "id": "0604e301",
   "metadata": {},
   "source": [
    "## Local Scope:\n",
    "\n",
    "What will be printed? Think and run it."
   ]
  },
  {
   "cell_type": "code",
   "execution_count": 8,
   "id": "8a5cde05",
   "metadata": {},
   "outputs": [
    {
     "name": "stdout",
     "output_type": "stream",
     "text": [
      "5\n",
      "10\n"
     ]
    }
   ],
   "source": [
    "x = 10\n",
    "\n",
    "def change_x():\n",
    "    x = 5\n",
    "    print(x)\n",
    "\n",
    "change_x()\n",
    "print(x)"
   ]
  },
  {
   "cell_type": "markdown",
   "id": "a7e14e9f",
   "metadata": {},
   "source": [
    "## Nested Functions\n",
    "\n",
    "What will be printed? Think and run it."
   ]
  },
  {
   "cell_type": "code",
   "execution_count": 9,
   "id": "abe5977b",
   "metadata": {},
   "outputs": [
    {
     "name": "stdout",
     "output_type": "stream",
     "text": [
      "inner\n",
      "outer\n"
     ]
    }
   ],
   "source": [
    "def outer():\n",
    "    x = 'outer'\n",
    "    def inner():\n",
    "        x = 'inner'\n",
    "        print(x)\n",
    "    inner()\n",
    "    print(x)\n",
    "    \n",
    "outer()"
   ]
  },
  {
   "cell_type": "markdown",
   "id": "3a3c3a5d",
   "metadata": {},
   "source": [
    "## Changing arguments\n",
    "\n",
    "What will be printed? Think and run it."
   ]
  },
  {
   "cell_type": "code",
   "execution_count": 10,
   "id": "a578ba6b",
   "metadata": {},
   "outputs": [
    {
     "name": "stdout",
     "output_type": "stream",
     "text": [
      "1\n",
      "[3, 4]\n"
     ]
    }
   ],
   "source": [
    "def modify_arguments(x, lst):\n",
    "    x = 8\n",
    "    lst.append(3)\n",
    "    lst.append(4)\n",
    "\n",
    "n = 1\n",
    "lst = []\n",
    "modify_arguments(n, lst)\n",
    "\n",
    "print(n)\n",
    "print(lst)"
   ]
  },
  {
   "cell_type": "markdown",
   "id": "94a78f69",
   "metadata": {},
   "source": [
    "## Default Argument\n",
    "\n",
    "What will be printed? Think and run it."
   ]
  },
  {
   "cell_type": "code",
   "execution_count": 11,
   "id": "c32d8832",
   "metadata": {},
   "outputs": [
    {
     "name": "stdout",
     "output_type": "stream",
     "text": [
      "[1]\n",
      "[1, 2]\n"
     ]
    }
   ],
   "source": [
    "def append_to_list(value, lst=[]):\n",
    "    lst.append(value)\n",
    "    return lst\n",
    "\n",
    "print(append_to_list(1))\n",
    "print(append_to_list(2))"
   ]
  },
  {
   "cell_type": "markdown",
   "id": "f1b1bcd0",
   "metadata": {},
   "source": [
    "The default value for function arguments is evaluated only once when the function is defined, not each time the function is called. Therefore, if you use a mutable default value, like a list or dictionary, it retains any changes made to it between function calls.\n",
    "\n",
    "Internal steps:\n",
    "1. When you first call `append_to_list(1)`, the default empty list `lst=[]` is created and `1` is appended to it. The function then returns this list `[1]`.\n",
    "2. On the subsequent call `append_to_list(2)`, you are not providing a second argument, so the function uses the same default list it created in the previous call, which now has `[1`] in it. `2` is appended to this list, making it `[1, 2]`, which the function returns.\n",
    "\n",
    "So, every time you call the function without providing a value for `lst`, it continues to use (and modify) the same default list.\n",
    "\n",
    "To avoid this behavior, a common practice is to use `None` as the default value for arguments that might be mutable, and then check for this inside the function:"
   ]
  },
  {
   "cell_type": "code",
   "execution_count": 12,
   "id": "2e828a75",
   "metadata": {},
   "outputs": [
    {
     "name": "stdout",
     "output_type": "stream",
     "text": [
      "[1]\n",
      "[2]\n"
     ]
    }
   ],
   "source": [
    "def append_to_list(value, lst=None):\n",
    "    if lst is None:\n",
    "        lst = []\n",
    "    lst.append(value)\n",
    "    return lst\n",
    "\n",
    "print(append_to_list(1))\n",
    "print(append_to_list(2))"
   ]
  },
  {
   "cell_type": "markdown",
   "id": "b6f670a7",
   "metadata": {},
   "source": [
    "## Changing List Inside Function\n",
    "\n",
    "What will be printed? Think and run it."
   ]
  },
  {
   "cell_type": "code",
   "execution_count": 13,
   "id": "8b11645c",
   "metadata": {},
   "outputs": [
    {
     "name": "stdout",
     "output_type": "stream",
     "text": [
      "Inside function: [10, 11, 12]\n",
      "Outside function: [1, 2, 3, 4]\n"
     ]
    }
   ],
   "source": [
    "def modify_list(lst):\n",
    "    lst.append(4)\n",
    "    lst = [10, 11, 12]\n",
    "    print(\"Inside function:\", lst)\n",
    "\n",
    "numbers = [1, 2, 3]\n",
    "modify_list(numbers)\n",
    "print(\"Outside function:\", numbers)"
   ]
  },
  {
   "cell_type": "markdown",
   "id": "b6daeacb",
   "metadata": {},
   "source": [
    "This code snippet deals with the concept of reference and variable binding in Python, especially when using mutable types like lists.\n",
    "\n",
    "1. In the function, the `append` method modified the list that lst referenced (which is also what `numbers` referenced).\n",
    "2. The reassignment of `lst` only changed what `lst` itself pointed to; it did not change the contents of the original `numbers` list."
   ]
  },
  {
   "cell_type": "markdown",
   "id": "a9e06cd9",
   "metadata": {},
   "source": [
    "# `None` and `is`"
   ]
  },
  {
   "cell_type": "markdown",
   "id": "d74753aa",
   "metadata": {},
   "source": [
    "## Basic None\n",
    "\n",
    "Write a function named `is_empty` that takes in a string and returns `True` if the string is `None` or empty, otherwise `False`."
   ]
  },
  {
   "cell_type": "code",
   "execution_count": 14,
   "id": "68023965",
   "metadata": {},
   "outputs": [],
   "source": [
    "def is_empty(s):\n",
    "    return s is None or s == \"\""
   ]
  },
  {
   "cell_type": "markdown",
   "id": "e279fb4a",
   "metadata": {},
   "source": [
    "## is vs ==\n",
    "\n",
    "For each of the following pairs, predict whether they would be `True` or `False`. Think and run it."
   ]
  },
  {
   "cell_type": "code",
   "execution_count": 1,
   "id": "c18f2bae",
   "metadata": {},
   "outputs": [
    {
     "data": {
      "text/plain": [
       "False"
      ]
     },
     "execution_count": 1,
     "metadata": {},
     "output_type": "execute_result"
    }
   ],
   "source": [
    "a = []\n",
    "b = []\n",
    "\n",
    "print(a is b)"
   ]
  },
  {
   "cell_type": "code",
   "execution_count": 2,
   "id": "1ff7246d",
   "metadata": {},
   "outputs": [
    {
     "data": {
      "text/plain": [
       "True"
      ]
     },
     "execution_count": 2,
     "metadata": {},
     "output_type": "execute_result"
    }
   ],
   "source": [
    "a == b"
   ]
  },
  {
   "cell_type": "code",
   "execution_count": 17,
   "id": "af0aad8a",
   "metadata": {},
   "outputs": [
    {
     "data": {
      "text/plain": [
       "True"
      ]
     },
     "execution_count": 17,
     "metadata": {},
     "output_type": "execute_result"
    }
   ],
   "source": [
    "None is None"
   ]
  },
  {
   "cell_type": "code",
   "execution_count": 5,
   "id": "e498e8ba",
   "metadata": {},
   "outputs": [
    {
     "name": "stdout",
     "output_type": "stream",
     "text": [
      "True\n"
     ]
    }
   ],
   "source": [
    "a = 5\n",
    "b = 5\n",
    "\n",
    "print(a is b)"
   ]
  },
  {
   "cell_type": "code",
   "execution_count": 3,
   "id": "e7d1682e",
   "metadata": {},
   "outputs": [
    {
     "name": "stdout",
     "output_type": "stream",
     "text": [
      "False\n"
     ]
    }
   ],
   "source": [
    "a = 5.0\n",
    "b = 5.0\n",
    "\n",
    "print(a is b)"
   ]
  },
  {
   "cell_type": "code",
   "execution_count": 4,
   "id": "d8cb4396",
   "metadata": {},
   "outputs": [
    {
     "data": {
      "text/plain": [
       "True"
      ]
     },
     "execution_count": 4,
     "metadata": {},
     "output_type": "execute_result"
    }
   ],
   "source": [
    "print(a == b)"
   ]
  },
  {
   "cell_type": "markdown",
   "id": "893b4e38",
   "metadata": {},
   "source": [
    "## `None` placeholder\n",
    "\n",
    "Define a function `retrieve_from_dict` that takes a dictionary and a key as arguments. It should return the value associated with the key if it exists. If the key does not exist, it should return `None`."
   ]
  },
  {
   "cell_type": "code",
   "execution_count": 21,
   "id": "327503f2",
   "metadata": {},
   "outputs": [],
   "source": [
    "def retrieve_from_dict(d, key):\n",
    "    return d.get(key, None)"
   ]
  },
  {
   "cell_type": "markdown",
   "id": "a44acdef",
   "metadata": {},
   "source": [
    "## Checking for None\n",
    "\n",
    "Write a function `has_none_value` that accepts a list and checks if any element in the list is `None`. It should return `True` if there's at least one `None`, otherwise `False`."
   ]
  },
  {
   "cell_type": "code",
   "execution_count": 22,
   "id": "aec52ec8",
   "metadata": {},
   "outputs": [],
   "source": [
    "def has_none_value(lst):\n",
    "    return None in lst"
   ]
  },
  {
   "cell_type": "markdown",
   "id": "e2c9033e",
   "metadata": {},
   "source": [
    "## Multiple None\n",
    "\n",
    "What will be printed? Think and run it."
   ]
  },
  {
   "cell_type": "code",
   "execution_count": 2,
   "id": "c3c5dac1",
   "metadata": {},
   "outputs": [],
   "source": [
    "a = None\n",
    "b = None\n",
    "c = 5"
   ]
  },
  {
   "cell_type": "code",
   "execution_count": 3,
   "id": "b071b32c",
   "metadata": {},
   "outputs": [
    {
     "data": {
      "text/plain": [
       "True"
      ]
     },
     "execution_count": 3,
     "metadata": {},
     "output_type": "execute_result"
    }
   ],
   "source": [
    "a is b"
   ]
  },
  {
   "cell_type": "code",
   "execution_count": 4,
   "id": "4563df22",
   "metadata": {},
   "outputs": [
    {
     "data": {
      "text/plain": [
       "True"
      ]
     },
     "execution_count": 4,
     "metadata": {},
     "output_type": "execute_result"
    }
   ],
   "source": [
    "a is None"
   ]
  },
  {
   "cell_type": "code",
   "execution_count": 5,
   "id": "a80e8bfb",
   "metadata": {},
   "outputs": [
    {
     "data": {
      "text/plain": [
       "True"
      ]
     },
     "execution_count": 5,
     "metadata": {},
     "output_type": "execute_result"
    }
   ],
   "source": [
    "b is None"
   ]
  },
  {
   "cell_type": "code",
   "execution_count": 6,
   "id": "db1ad336",
   "metadata": {},
   "outputs": [
    {
     "data": {
      "text/plain": [
       "False"
      ]
     },
     "execution_count": 6,
     "metadata": {},
     "output_type": "execute_result"
    }
   ],
   "source": [
    "c is None"
   ]
  },
  {
   "cell_type": "markdown",
   "id": "1599410a",
   "metadata": {},
   "source": [
    "## Modify None\n",
    "\n",
    "What will be printed? Think and run it."
   ]
  },
  {
   "cell_type": "code",
   "execution_count": 1,
   "id": "23a84ba6",
   "metadata": {},
   "outputs": [
    {
     "name": "stdout",
     "output_type": "stream",
     "text": [
      "[1] [1]\n"
     ]
    }
   ],
   "source": [
    "def set_value(value=None):\n",
    "    if value is None:\n",
    "        value = []\n",
    "    value.append(1)\n",
    "    return value\n",
    "\n",
    "x = set_value()\n",
    "y = set_value()\n",
    "\n",
    "print(x, y)"
   ]
  },
  {
   "cell_type": "markdown",
   "id": "89b05a04",
   "metadata": {},
   "source": [
    "# More...\n",
    "\n",
    "Continue with the previous day's exercises."
   ]
  }
 ],
 "metadata": {
  "kernelspec": {
   "display_name": "Python 3 (ipykernel)",
   "language": "python",
   "name": "python3"
  },
  "language_info": {
   "codemirror_mode": {
    "name": "ipython",
    "version": 3
   },
   "file_extension": ".py",
   "mimetype": "text/x-python",
   "name": "python",
   "nbconvert_exporter": "python",
   "pygments_lexer": "ipython3",
   "version": "3.10.12"
  },
  "toc": {
   "base_numbering": 1,
   "nav_menu": {},
   "number_sections": true,
   "sideBar": true,
   "skip_h1_title": false,
   "title_cell": "Table of Contents",
   "title_sidebar": "Contents",
   "toc_cell": false,
   "toc_position": {},
   "toc_section_display": true,
   "toc_window_display": true
  },
  "varInspector": {
   "cols": {
    "lenName": 16,
    "lenType": 16,
    "lenVar": 40
   },
   "kernels_config": {
    "python": {
     "delete_cmd_postfix": "",
     "delete_cmd_prefix": "del ",
     "library": "var_list.py",
     "varRefreshCmd": "print(var_dic_list())"
    },
    "r": {
     "delete_cmd_postfix": ") ",
     "delete_cmd_prefix": "rm(",
     "library": "var_list.r",
     "varRefreshCmd": "cat(var_dic_list()) "
    }
   },
   "types_to_exclude": [
    "module",
    "function",
    "builtin_function_or_method",
    "instance",
    "_Feature"
   ],
   "window_display": false
  }
 },
 "nbformat": 4,
 "nbformat_minor": 5
}
