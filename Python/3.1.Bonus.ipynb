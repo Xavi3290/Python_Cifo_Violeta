{
 "cells": [
  {
   "cell_type": "markdown",
   "metadata": {},
   "source": [
    "# Bonus 2"
   ]
  },
  {
   "cell_type": "markdown",
   "metadata": {},
   "source": [
    "## Investment Advice\n",
    "\n",
    "Given the client's age, current savings, and risk tolerance (either \"low\", \"medium\", or \"high\"), provide investment advice by selecting one of the following portfolios:\n",
    "\n",
    "- Conservative: Bonds 70%, Stocks 30%\n",
    "- Balanced: Bonds 50%, Stocks 50%\n",
    "- Aggressive: Bonds 30%, Stocks 70%\n",
    "\n",
    "Rules:\n",
    "- If age <= 35 and risk tolerance is \"high\", suggest \"Aggressive.\"\n",
    "- If age >= 60 or risk tolerance is \"low\", suggest \"Conservative.\"\n",
    "- Otherwise, suggest \"Balanced.\""
   ]
  },
  {
   "cell_type": "code",
   "execution_count": null,
   "metadata": {},
   "outputs": [],
   "source": []
  },
  {
   "cell_type": "markdown",
   "metadata": {},
   "source": [
    "## Validate Credit Card Number\n",
    "\n",
    "Write a Python program to validate a credit card number. A valid credit card must:\n",
    "- Have exactly 4 digits (for simplicity).\n",
    "- Start with 4, 5, or 6.\n",
    "- Not contain any characters other than digits."
   ]
  },
  {
   "cell_type": "code",
   "execution_count": null,
   "metadata": {},
   "outputs": [],
   "source": []
  },
  {
   "cell_type": "markdown",
   "metadata": {},
   "source": [
    "## Cellphone Plan\n",
    "\n",
    "Suppose a cellphone company has three types of plans:\n",
    "- Basic Plan: $20/month\n",
    "- Plus Plan: $40/month\n",
    "- Premium Plan: $60/month\n",
    "\n",
    "Additionally, if the customer is a student, they get a $5 discount on any plan.\n",
    "\n",
    "Write a Python program to calculate the monthly bill based on the chosen plan and whether the customer is a student."
   ]
  },
  {
   "cell_type": "code",
   "execution_count": null,
   "metadata": {},
   "outputs": [],
   "source": []
  },
  {
   "cell_type": "markdown",
   "metadata": {},
   "source": [
    "## FizzBuzz\n",
    "\n",
    "Write a Python program that takes an integer as input. If the number is a multiple of 3, output \"Fizz\". If it's a multiple of 5, output \"Buzz\". If it's a multiple of both 3 and 5, output \"FizzBuzz\". Otherwise, output the number itself."
   ]
  },
  {
   "cell_type": "code",
   "execution_count": null,
   "metadata": {},
   "outputs": [],
   "source": []
  },
  {
   "cell_type": "markdown",
   "metadata": {},
   "source": [
    "## Travel Time Calculator\n",
    "\n",
    "A person wants to travel between two cities A and B. The distance is 482.8 km. The person can travel by car at 96.6 km/h, by train at 48.3 km/h, or by plane at 804.7 km/h. However, the car and train take 1 hour to start, and the plane takes 2 hours to start. Given the mode of transport, calculate the total travel time."
   ]
  },
  {
   "cell_type": "code",
   "execution_count": null,
   "metadata": {},
   "outputs": [],
   "source": []
  },
  {
   "cell_type": "markdown",
   "metadata": {},
   "source": [
    "## Parcel Delivery Charges\n",
    "\n",
    "A parcel delivery service has different rates based on the destination and weight of the parcel. The rates are as follows:\n",
    "\n",
    "- Local (same city): 5€ for first kg, 2€ for each additional kg\n",
    "- Domestic (same country, different city): 10€ for first kg, 4€ for each additional kg\n",
    "- International: 20€ for first kg, 10€ for each additional kg\n",
    "\n",
    "Calculate the delivery charges based on user input for the destination and weight. The weight can be a non-integer value."
   ]
  },
  {
   "cell_type": "code",
   "execution_count": null,
   "metadata": {},
   "outputs": [],
   "source": []
  },
  {
   "cell_type": "markdown",
   "metadata": {},
   "source": [
    "## Rock-Paper-Scissors-Lizard-Spock Game\n",
    "\n",
    "The game Rock-Paper-Scissors-Lizard-Spock expands on the classic method of play by adding two additional weapons: Lizard and Spock. The rules are:\n",
    "\n",
    "- Scissors cuts Paper\n",
    "- Paper covers Rock\n",
    "- Rock crushes Lizard\n",
    "- Lizard poisons Spock\n",
    "- Spock smashes Scissors\n",
    "- Scissors decapitates Lizard\n",
    "- Lizard eats Paper\n",
    "- Paper disproves Spock\n",
    "- Spock vaporizes Rock\n",
    "- Rock crushes Scissors"
   ]
  },
  {
   "cell_type": "code",
   "execution_count": null,
   "metadata": {},
   "outputs": [],
   "source": []
  },
  {
   "cell_type": "markdown",
   "metadata": {},
   "source": [
    "## The Coffee Lover\n",
    "\n",
    "A person loves coffee but can only consume a certain amount of caffeine per day without exceeding their tolerance. Given the type of coffee (Espresso, Americano, Latte) and the number of shots, calculate whether they will exceed their caffeine tolerance.\n",
    "\n",
    "- Espresso: 64 mg of caffeine per shot.\n",
    "- Americano: 12 mg of caffeine per shot.\n",
    "- Latte: 32 mg of caffeine per shot.\n",
    "\n",
    "Let's assume the caffeine tolerance is 400 mg per day."
   ]
  },
  {
   "cell_type": "code",
   "execution_count": null,
   "metadata": {},
   "outputs": [],
   "source": []
  },
  {
   "cell_type": "markdown",
   "metadata": {},
   "source": [
    "## Credit Score Eligibility\n",
    "\n",
    "Assume that credit scores range from 300 to 850. The categories are:\n",
    "\n",
    "- Poor: 300-579\n",
    "- Fair: 580-669\n",
    "- Good: 670-739\n",
    "- Very Good: 740-799\n",
    "- Excellent: 800-850\n",
    "\n",
    "Write a Python program to check if a person is eligible for a loan based on their credit score and income. Assume:\n",
    "\n",
    "- \"Poor\" or \"Fair\" credit scores are not eligible.\n",
    "- \"Good\" requires an income of at least $40,000.\n",
    "- \"Very Good\" requires an income of at least $30,000.\n",
    "- \"Excellent\" requires an income of at least $20,000."
   ]
  },
  {
   "cell_type": "code",
   "execution_count": null,
   "metadata": {},
   "outputs": [],
   "source": []
  }
 ],
 "metadata": {
  "kernelspec": {
   "display_name": "Python 3",
   "language": "python",
   "name": "python3"
  },
  "language_info": {
   "codemirror_mode": {
    "name": "ipython",
    "version": 3
   },
   "file_extension": ".py",
   "mimetype": "text/x-python",
   "name": "python",
   "nbconvert_exporter": "python",
   "pygments_lexer": "ipython3",
   "version": "3.10.12"
  },
  "orig_nbformat": 4
 },
 "nbformat": 4,
 "nbformat_minor": 2
}
