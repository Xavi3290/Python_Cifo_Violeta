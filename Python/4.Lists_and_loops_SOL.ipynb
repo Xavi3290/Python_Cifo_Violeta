{
 "cells": [
  {
   "attachments": {},
   "cell_type": "markdown",
   "metadata": {},
   "source": [
    "# Indexing\n",
    "\n",
    "Use the following list for completing this section's exercises."
   ]
  },
  {
   "cell_type": "code",
   "execution_count": null,
   "metadata": {},
   "outputs": [],
   "source": [
    "my_list = [1, 2, 3, 4]"
   ]
  },
  {
   "cell_type": "markdown",
   "metadata": {},
   "source": [
    "## First element\n",
    "Display the first element from a given list."
   ]
  },
  {
   "cell_type": "code",
   "execution_count": null,
   "metadata": {},
   "outputs": [
    {
     "name": "stdout",
     "output_type": "stream",
     "text": [
      "1\n"
     ]
    }
   ],
   "source": [
    "print(my_list[0])"
   ]
  },
  {
   "cell_type": "markdown",
   "metadata": {},
   "source": [
    "## Third element\n",
    "Display the third element from a given list."
   ]
  },
  {
   "cell_type": "code",
   "execution_count": 10,
   "metadata": {},
   "outputs": [
    {
     "name": "stdout",
     "output_type": "stream",
     "text": [
      "3\n"
     ]
    }
   ],
   "source": [
    "print(my_list[2])"
   ]
  },
  {
   "cell_type": "markdown",
   "metadata": {},
   "source": [
    "# Last element\n",
    "Display the last element from a given list."
   ]
  },
  {
   "cell_type": "code",
   "execution_count": 11,
   "metadata": {},
   "outputs": [
    {
     "name": "stdout",
     "output_type": "stream",
     "text": [
      "4\n"
     ]
    }
   ],
   "source": [
    "print(my_list[-1])"
   ]
  },
  {
   "cell_type": "markdown",
   "metadata": {},
   "source": [
    "## Second to last\n",
    "Display the second to last element from a given list."
   ]
  },
  {
   "cell_type": "code",
   "execution_count": 12,
   "metadata": {},
   "outputs": [
    {
     "name": "stdout",
     "output_type": "stream",
     "text": [
      "3\n"
     ]
    }
   ],
   "source": [
    "print(my_list[-2])"
   ]
  },
  {
   "attachments": {},
   "cell_type": "markdown",
   "metadata": {},
   "source": [
    "# Slicing\n",
    "Make use of list slicing for solving the exercises in this section."
   ]
  },
  {
   "cell_type": "code",
   "execution_count": null,
   "metadata": {},
   "outputs": [],
   "source": [
    "my_list = [1, 2, 3, 4]"
   ]
  },
  {
   "attachments": {},
   "cell_type": "markdown",
   "metadata": {},
   "source": [
    "## First 3\n",
    "Display the first 3 elements from a given list."
   ]
  },
  {
   "cell_type": "code",
   "execution_count": 13,
   "metadata": {},
   "outputs": [
    {
     "name": "stdout",
     "output_type": "stream",
     "text": [
      "[1, 2, 3]\n"
     ]
    }
   ],
   "source": [
    "print(my_list[:3])"
   ]
  },
  {
   "attachments": {},
   "cell_type": "markdown",
   "metadata": {},
   "source": [
    "## Second and third\n",
    "Display the second and third elements from a given list."
   ]
  },
  {
   "cell_type": "code",
   "execution_count": 14,
   "metadata": {},
   "outputs": [
    {
     "name": "stdout",
     "output_type": "stream",
     "text": [
      "[2, 3]\n"
     ]
    }
   ],
   "source": [
    "print(my_list[1:3])"
   ]
  },
  {
   "attachments": {},
   "cell_type": "markdown",
   "metadata": {},
   "source": [
    "## Last two\n",
    "Display the last two elements from a given list."
   ]
  },
  {
   "cell_type": "code",
   "execution_count": 15,
   "metadata": {},
   "outputs": [
    {
     "name": "stdout",
     "output_type": "stream",
     "text": [
      "[3, 4]\n"
     ]
    }
   ],
   "source": [
    "print(my_list[-2:])"
   ]
  },
  {
   "cell_type": "markdown",
   "metadata": {},
   "source": [
    "## First half\n",
    "\n",
    "Display the first half of elements from a given list. Round down if there is an odd number of elements.\n",
    "\n",
    "Examples:\n",
    "- [1, 2, 3, 4] --> [1, 2]\n",
    "- [1, 2, 3] --> [1]\n",
    "- [1, 2, 3, 4, 5] --> [1, 2]"
   ]
  },
  {
   "cell_type": "code",
   "execution_count": null,
   "metadata": {},
   "outputs": [
    {
     "name": "stdout",
     "output_type": "stream",
     "text": [
      "[1, 2]\n"
     ]
    }
   ],
   "source": [
    "my_list = [1, 2, 3, 4, 5]\n",
    "\n",
    "half_length = len(my_list) // 2\n",
    "print(my_list[:half_length])"
   ]
  },
  {
   "cell_type": "markdown",
   "metadata": {},
   "source": [
    "## Odd-indexes\n",
    "Display all odd-indexed elements from a given list.\n",
    "\n",
    "Example: [1, 2, 3, 4, 5, 5, 6, 7, 8, 9] --> [2, 4, 5, 7, 9]"
   ]
  },
  {
   "cell_type": "code",
   "execution_count": null,
   "metadata": {},
   "outputs": [
    {
     "name": "stdout",
     "output_type": "stream",
     "text": [
      "[2, 4, 5, 7, 9]\n"
     ]
    }
   ],
   "source": [
    "my_list = [1, 2, 3, 4, 5, 5, 6, 7, 8, 9]\n",
    "\n",
    "odd_indexed_elements = my_list[1::2]\n",
    "print(odd_indexed_elements)"
   ]
  },
  {
   "attachments": {},
   "cell_type": "markdown",
   "metadata": {},
   "source": [
    "## Third elements\n",
    "Create a list with every third element of a given list.\n",
    "\n",
    "Example: [1, 2, 3, 4, 5, 5, 6, 7, 8, 9] --> [3, 5, 8]"
   ]
  },
  {
   "cell_type": "code",
   "execution_count": null,
   "metadata": {},
   "outputs": [
    {
     "name": "stdout",
     "output_type": "stream",
     "text": [
      "[3, 5, 8]\n"
     ]
    }
   ],
   "source": [
    "my_list = [1, 2, 3, 4, 5, 5, 6, 7, 8, 9]\n",
    "\n",
    "every_third_element = my_list[2::3]\n",
    "print(every_third_element)"
   ]
  },
  {
   "cell_type": "markdown",
   "metadata": {},
   "source": [
    "## Swap halves\n",
    "Swap the first and second halves of a list.\n",
    "\n",
    "Example: ['Python', 'is', 'so', 'good'] --> ['so', 'good', 'Python', 'is']"
   ]
  },
  {
   "cell_type": "code",
   "execution_count": null,
   "metadata": {},
   "outputs": [
    {
     "name": "stdout",
     "output_type": "stream",
     "text": [
      "['so', 'good', 'Python', 'is']\n"
     ]
    }
   ],
   "source": [
    "my_list = ['Python', 'is', 'so', 'good']\n",
    "half_length = len(my_list) // 2\n",
    "\n",
    "swapped_list = my_list[half_length:] + my_list[:half_length]\n",
    "print(swapped_list)"
   ]
  },
  {
   "attachments": {},
   "cell_type": "markdown",
   "metadata": {},
   "source": [
    "## Reverse\n",
    "Reverse the order of the elements of a given list.\n",
    "\n",
    "Example: [1, 2, 3, 4] --> [4, 3, 2, 1]"
   ]
  },
  {
   "cell_type": "code",
   "execution_count": 16,
   "metadata": {},
   "outputs": [
    {
     "name": "stdout",
     "output_type": "stream",
     "text": [
      "[4, 3, 2, 1]\n"
     ]
    }
   ],
   "source": [
    "my_list = [1, 2, 3, 4]\n",
    "print(my_list[::-1])"
   ]
  },
  {
   "attachments": {},
   "cell_type": "markdown",
   "metadata": {},
   "source": [
    "## Every other\n",
    "Create a new list that contains every other element, starting with the second element, of a given list.\n",
    "\n",
    "Example: ['apple', 'banana', 'cherry', 'date', 'fig', 'grape'] --> ['banana', 'date', 'grape']"
   ]
  },
  {
   "cell_type": "code",
   "execution_count": 17,
   "metadata": {},
   "outputs": [
    {
     "name": "stdout",
     "output_type": "stream",
     "text": [
      "['banana', 'date', 'grape']\n"
     ]
    }
   ],
   "source": [
    "my_list = ['apple', 'banana', 'cherry', 'date', 'fig', 'grape']\n",
    "\n",
    "every_other_element = my_list[1::2]\n",
    "print(every_other_element)"
   ]
  },
  {
   "attachments": {},
   "cell_type": "markdown",
   "metadata": {},
   "source": [
    "## Rotation\n",
    "Rotate a list by a specified number of positions (user input) to the left.\n",
    "\n",
    "Example: [1, 2, 3, 4, 5] with 3 positions rotation --> [4, 5, 1, 2, 3]"
   ]
  },
  {
   "cell_type": "code",
   "execution_count": 24,
   "metadata": {},
   "outputs": [
    {
     "name": "stdout",
     "output_type": "stream",
     "text": [
      "[4, 5, 1, 2, 3]\n"
     ]
    }
   ],
   "source": [
    "my_list = [1, 2, 3, 4, 5]\n",
    "rotate_by = int(input('Positions to rotate: '))\n",
    "\n",
    "rotated_list = my_list[rotate_by:] + my_list[:rotate_by]\n",
    "print(rotated_list)"
   ]
  },
  {
   "attachments": {},
   "cell_type": "markdown",
   "metadata": {},
   "source": [
    "# Loops basics\n",
    "\n",
    "Solve the following exercises using lists and `for` or `while` statements. Feel free to use list comprehension whenever you consider it appropriate."
   ]
  },
  {
   "cell_type": "markdown",
   "metadata": {},
   "source": [
    "## First numbers\n",
    "Print the numbers from 1 to 10."
   ]
  },
  {
   "cell_type": "code",
   "execution_count": null,
   "metadata": {},
   "outputs": [
    {
     "name": "stdout",
     "output_type": "stream",
     "text": [
      "1\n",
      "2\n",
      "3\n",
      "4\n",
      "5\n",
      "6\n",
      "7\n",
      "8\n",
      "9\n",
      "10\n"
     ]
    }
   ],
   "source": [
    "for i in range(1, 11):\n",
    "    print(i)"
   ]
  },
  {
   "attachments": {},
   "cell_type": "markdown",
   "metadata": {},
   "source": [
    "## Even numbers\n",
    "Create a list of the first 100 even numbers."
   ]
  },
  {
   "cell_type": "code",
   "execution_count": 75,
   "metadata": {},
   "outputs": [
    {
     "name": "stdout",
     "output_type": "stream",
     "text": [
      "[2, 4, 6, 8, 10, 12, 14, 16, 18, 20]\n"
     ]
    }
   ],
   "source": [
    "even_numbers = [x * 2 for x in range(1, 11)]\n",
    "print(even_numbers)"
   ]
  },
  {
   "attachments": {},
   "cell_type": "markdown",
   "metadata": {},
   "source": [
    "## Count element\n",
    "Given a list of numbers, ask the user to select a specific number to count from the list. Count all instances of the selected element from the list.\n",
    "\n",
    "Example: [1, 2, 3, 4, 3, 5, 3, 3] and user input is 3 --> 4"
   ]
  },
  {
   "cell_type": "code",
   "execution_count": 8,
   "metadata": {},
   "outputs": [
    {
     "name": "stdout",
     "output_type": "stream",
     "text": [
      "4\n"
     ]
    }
   ],
   "source": [
    "original_list = [1, 2, 3, 4, 3, 5, 3, 3]\n",
    "element_to_count = int(input('Which element would you like to count?'))\n",
    "count = 0\n",
    "\n",
    "for x in original_list:\n",
    "    if x == element_to_count:\n",
    "        count += 1\n",
    "\n",
    "print(count)"
   ]
  },
  {
   "attachments": {},
   "cell_type": "markdown",
   "metadata": {},
   "source": [
    "## Remove element\n",
    "Given a list of numbers, ask the user to select a specific number to remove from the list. Remove all instances of the selected element from the list.\n",
    "\n",
    "Example: [1, 2, 3, 4, 3, 5, 3, 3] and user input is 3 --> [1, 2, 4, 5]"
   ]
  },
  {
   "cell_type": "code",
   "execution_count": 5,
   "metadata": {},
   "outputs": [
    {
     "name": "stdout",
     "output_type": "stream",
     "text": [
      "[1, 2, 4, 5]\n"
     ]
    }
   ],
   "source": [
    "original_list = [1, 2, 3, 4, 3, 5, 3, 3]\n",
    "element_to_remove = int(input('Which element would you like to remove?'))\n",
    "\n",
    "filtered_list = [x for x in original_list if x != element_to_remove]\n",
    "print(filtered_list)"
   ]
  },
  {
   "cell_type": "code",
   "execution_count": 28,
   "metadata": {},
   "outputs": [
    {
     "name": "stdout",
     "output_type": "stream",
     "text": [
      "[1, 2, 4, 5, 3]\n"
     ]
    }
   ],
   "source": [
    "# This would not work!!!\n",
    "# Same if we used any deletion method\n",
    "\n",
    "original_list = [1, 2, 3, 4, 3, 5, 3, 3]\n",
    "element_to_remove = int(input('Which element would you like to remove?'))\n",
    "\n",
    "for idx, n in enumerate(original_list):\n",
    "    if n == element_to_remove:\n",
    "        del original_list[idx]\n",
    "\n",
    "print(original_list)"
   ]
  },
  {
   "cell_type": "code",
   "execution_count": 27,
   "metadata": {},
   "outputs": [
    {
     "name": "stdout",
     "output_type": "stream",
     "text": [
      "[1, 2, 4, 5]\n"
     ]
    }
   ],
   "source": [
    "# A solution for using the deletion operation could look like this:\n",
    "\n",
    "original_list = [1, 2, 3, 4, 3, 5, 3, 3]\n",
    "element_to_remove = int(input('Which element would you like to remove?'))\n",
    "i = 0\n",
    "\n",
    "while i < len(original_list):\n",
    "    if original_list[i] == element_to_remove:\n",
    "        del original_list[i]\n",
    "    else:\n",
    "        # Only increment by 1 if we don't remove any element\n",
    "        i += 1\n",
    "\n",
    "print(original_list)"
   ]
  },
  {
   "attachments": {},
   "cell_type": "markdown",
   "metadata": {},
   "source": [
    "## Reverse\n",
    "Write a program that reverses the elements of a list.\n",
    "\n",
    "Example: [1, 4, 3, 4, 5] --> [5, 4, 3, 4, 1]"
   ]
  },
  {
   "cell_type": "code",
   "execution_count": 2,
   "metadata": {},
   "outputs": [
    {
     "name": "stdout",
     "output_type": "stream",
     "text": [
      "[5, 4, 3, 4, 1]\n"
     ]
    }
   ],
   "source": [
    "original_list = [1, 4, 3, 4, 5]\n",
    "reversed_list = [original_list[-(i + 1)] for i in range(len(original_list))]\n",
    "\n",
    "print(reversed_list)"
   ]
  },
  {
   "attachments": {},
   "cell_type": "markdown",
   "metadata": {},
   "source": [
    "# Functions\n",
    "Solve the exercises in this section by using Python's built-in functions. For the exercises involving numbers, you can use the following variable."
   ]
  },
  {
   "cell_type": "code",
   "execution_count": 77,
   "metadata": {},
   "outputs": [],
   "source": [
    "my_list = [1, 5, 3, 4, 2, 5]"
   ]
  },
  {
   "attachments": {},
   "cell_type": "markdown",
   "metadata": {},
   "source": [
    "## Min, Max\n",
    "Find the minimum and the maximum numbers in the list."
   ]
  },
  {
   "cell_type": "code",
   "execution_count": 29,
   "metadata": {},
   "outputs": [
    {
     "name": "stdout",
     "output_type": "stream",
     "text": [
      "1 5\n"
     ]
    }
   ],
   "source": [
    "minimum = min(my_list)\n",
    "maximum = max(my_list)\n",
    "print(minimum, maximum)"
   ]
  },
  {
   "attachments": {},
   "cell_type": "markdown",
   "metadata": {},
   "source": [
    "## Sum\n",
    "Find the sum of all elements in the list."
   ]
  },
  {
   "cell_type": "code",
   "execution_count": 27,
   "metadata": {},
   "outputs": [
    {
     "name": "stdout",
     "output_type": "stream",
     "text": [
      "20\n"
     ]
    }
   ],
   "source": [
    "total = sum(my_list)\n",
    "print(total)"
   ]
  },
  {
   "attachments": {},
   "cell_type": "markdown",
   "metadata": {},
   "source": [
    "## Mean\n",
    "Find the mean of the elements in the list."
   ]
  },
  {
   "cell_type": "code",
   "execution_count": 78,
   "metadata": {},
   "outputs": [
    {
     "name": "stdout",
     "output_type": "stream",
     "text": [
      "3.3333333333333335\n"
     ]
    }
   ],
   "source": [
    "mean = sum(my_list) / len(my_list)\n",
    "print(mean)"
   ]
  },
  {
   "attachments": {},
   "cell_type": "markdown",
   "metadata": {},
   "source": [
    "## Sort\n",
    "Sort the elements in the list without modifying it."
   ]
  },
  {
   "cell_type": "code",
   "execution_count": 35,
   "metadata": {},
   "outputs": [
    {
     "data": {
      "text/plain": [
       "[1, 2, 3, 4, 5, 5]"
      ]
     },
     "execution_count": 35,
     "metadata": {},
     "output_type": "execute_result"
    }
   ],
   "source": [
    "sorted(my_list)"
   ]
  },
  {
   "attachments": {},
   "cell_type": "markdown",
   "metadata": {},
   "source": [
    "## String concatenation\n",
    "Given a list of strings, concatenate (join) all the elements in the list."
   ]
  },
  {
   "cell_type": "code",
   "execution_count": 30,
   "metadata": {},
   "outputs": [],
   "source": [
    "strings = ['I', ' ', 'like', ' Python', '!']"
   ]
  },
  {
   "cell_type": "code",
   "execution_count": null,
   "metadata": {},
   "outputs": [
    {
     "name": "stdout",
     "output_type": "stream",
     "text": [
      "I like Python!\n"
     ]
    }
   ],
   "source": [
    "concatenated_string = ''.join(strings)\n",
    "print(concatenated_string)"
   ]
  },
  {
   "attachments": {},
   "cell_type": "markdown",
   "metadata": {},
   "source": [
    "# A bit more complex"
   ]
  },
  {
   "attachments": {},
   "cell_type": "markdown",
   "metadata": {},
   "source": [
    "## FizzBuzz\n",
    "\n",
    "Write a program that prints numbers from 1 to 10. For multiples of 3, print \"Fizz\" instead of the number, and for multiples of 5, print \"Buzz\". For numbers that are multiples of both 3 and 5, print \"FizzBuzz\".\n",
    "\n",
    "Example: 1, 2, Fizz, 4, Buzz, ..."
   ]
  },
  {
   "cell_type": "code",
   "execution_count": 3,
   "metadata": {},
   "outputs": [
    {
     "name": "stdout",
     "output_type": "stream",
     "text": [
      "1, 2, Fizz, 4, Buzz, Fizz, 7, 8, Fizz, Buzz, "
     ]
    }
   ],
   "source": [
    "for i in range(1, 11):\n",
    "    if i % 3 == 0 and i % 5 == 0:\n",
    "        print('FizzBuzz', end=', ')\n",
    "    elif i % 3 == 0:\n",
    "        print('Fizz', end=', ')\n",
    "    elif i % 5 == 0:\n",
    "        print('Buzz', end=', ')\n",
    "    else:\n",
    "        print(i, end=', ')"
   ]
  },
  {
   "cell_type": "code",
   "execution_count": 5,
   "metadata": {},
   "outputs": [
    {
     "name": "stdout",
     "output_type": "stream",
     "text": [
      "1, 2, Fizz, 4, Buzz, Fizz, 7, 8, Fizz, Buzz"
     ]
    }
   ],
   "source": [
    "# a bit better but a bit more complex code for avoiding the trailing comma\n",
    "\n",
    "for i in range(1, 11):\n",
    "    end = ', '\n",
    "    if i == 10:\n",
    "        end = ''\n",
    "    if i % 3 == 0 and i % 5 == 0:\n",
    "        print('FizzBuzz', end=end)\n",
    "    elif i % 3 == 0:\n",
    "        print('Fizz', end=end)\n",
    "    elif i % 5 == 0:\n",
    "        print('Buzz', end=end)\n",
    "    else:\n",
    "        print(i, end=end)"
   ]
  },
  {
   "attachments": {},
   "cell_type": "markdown",
   "metadata": {},
   "source": [
    "## Flatten\n",
    "Write a program that flattens a nested list using loops.\n",
    "\n",
    "Example: [[1, 2, 3], [4, 5], [6, 7, 8, 9]] --> [1, 2, 3, 4, 5, 6, 7, 8, 9]"
   ]
  },
  {
   "cell_type": "code",
   "execution_count": 6,
   "metadata": {},
   "outputs": [
    {
     "name": "stdout",
     "output_type": "stream",
     "text": [
      "[1, 2, 3, 4, 5, 6, 7, 8, 9]\n"
     ]
    }
   ],
   "source": [
    "nested_list = [[1, 2], [3], [4, 5], [6, 7, 8, 9]]\n",
    "flattened_list = []\n",
    "\n",
    "for sublist in nested_list:\n",
    "    for item in sublist:\n",
    "        flattened_list.append(item)\n",
    "\n",
    "print(flattened_list)"
   ]
  },
  {
   "cell_type": "code",
   "execution_count": 7,
   "metadata": {},
   "outputs": [
    {
     "name": "stdout",
     "output_type": "stream",
     "text": [
      "[1, 2, 3, 4, 5, 6, 7, 8, 9]\n"
     ]
    }
   ],
   "source": [
    "# it is also possible to do it with list comprehension\n",
    "\n",
    "flattened_list = [item for sublist in nested_list for item in sublist]\n",
    "\n",
    "print(flattened_list)"
   ]
  },
  {
   "attachments": {},
   "cell_type": "markdown",
   "metadata": {},
   "source": [
    "## Common elements\n",
    "\n",
    "Write a program that finds the common elements between two lists with the same length.\n",
    "\n",
    "Input:\n",
    "- list1 = [1, 2, 3, 4, 5]\n",
    "- list2 = [4, 5, 6, 7, 8]\n",
    "\n",
    "Output:\n",
    "- common_elements = [4, 5]"
   ]
  },
  {
   "cell_type": "code",
   "execution_count": 15,
   "metadata": {},
   "outputs": [
    {
     "name": "stdout",
     "output_type": "stream",
     "text": [
      "[4, 5]\n"
     ]
    }
   ],
   "source": [
    "list1 = [1, 2, 3, 4, 5]\n",
    "list2 = [4, 5, 6, 7, 8]\n",
    "common_elements = []\n",
    "\n",
    "for element in list1:\n",
    "    if element in list2:\n",
    "        common_elements.append(element)\n",
    "\n",
    "print(common_elements)"
   ]
  },
  {
   "cell_type": "code",
   "execution_count": 17,
   "metadata": {},
   "outputs": [
    {
     "name": "stdout",
     "output_type": "stream",
     "text": [
      "[4, 5]\n"
     ]
    }
   ],
   "source": [
    "# with list comprehension\n",
    "\n",
    "common_elements = [element for element in list1 if element in list2]\n",
    "\n",
    "print(common_elements)"
   ]
  },
  {
   "cell_type": "markdown",
   "metadata": {},
   "source": [
    "## Guess the number\n",
    "\n",
    "Write a program that generates a random number between 1 and 100, and then asks the user to guess the number. The program should provide hints like \"Too high\" or \"Too low\" until the user correctly guesses the number."
   ]
  },
  {
   "cell_type": "code",
   "execution_count": null,
   "metadata": {},
   "outputs": [],
   "source": [
    "import random\n",
    "\n",
    "random_number = random.randint(1, 100)\n",
    "guess = int(input('Guess a number between 1 and 100: '))\n",
    "\n",
    "while guess != random_number:\n",
    "    if guess < random_number:\n",
    "        print('Too low!')\n",
    "    else:\n",
    "        print('Too high!')\n",
    "    guess = int(input('Guess again: '))\n",
    "\n",
    "print('Congratulations! You guessed the correct number.')"
   ]
  },
  {
   "attachments": {},
   "cell_type": "markdown",
   "metadata": {},
   "source": [
    "# Palindrome\n",
    "\n",
    "Write a program that checks if a given word is a palindrome (a word that reads the same backward as forward).\n",
    "\n",
    "Examples:\n",
    "- 'ABBA' --> True.\n",
    "- 'a' --> True.\n",
    "- 'Python' --> False.\n",
    "- 'non' --> True.\n",
    "- 'none' --> False."
   ]
  },
  {
   "cell_type": "code",
   "execution_count": 18,
   "metadata": {},
   "outputs": [
    {
     "name": "stdout",
     "output_type": "stream",
     "text": [
      "True\n"
     ]
    }
   ],
   "source": [
    "word = 'ABBA'\n",
    "is_palindrome = True\n",
    "\n",
    "for i in range(len(word) // 2):\n",
    "    if word[i] != word[-(i + 1)]:\n",
    "        is_palindrome = False\n",
    "        break\n",
    "\n",
    "print(is_palindrome)"
   ]
  },
  {
   "cell_type": "markdown",
   "metadata": {},
   "source": [
    "## Triangle\n",
    "Print a right-aligned triangle pattern with a specified height.\n",
    "\n",
    "Example:\n",
    "- Height = 5"
   ]
  },
  {
   "cell_type": "code",
   "execution_count": null,
   "metadata": {},
   "outputs": [
    {
     "name": "stdout",
     "output_type": "stream",
     "text": [
      "    n\n",
      "   nn\n",
      "  nnn\n",
      " nnnn\n",
      "nnnnn\n"
     ]
    }
   ],
   "source": []
  },
  {
   "cell_type": "code",
   "execution_count": 21,
   "metadata": {},
   "outputs": [
    {
     "name": "stdout",
     "output_type": "stream",
     "text": [
      "         n\n",
      "        nn\n",
      "       nnn\n",
      "      nnnn\n",
      "     nnnnn\n",
      "    nnnnnn\n",
      "   nnnnnnn\n",
      "  nnnnnnnn\n",
      " nnnnnnnnn\n",
      "nnnnnnnnnn\n"
     ]
    }
   ],
   "source": [
    "height = 10\n",
    "\n",
    "for i in range(1, height+1):\n",
    "    print((height - i) * ' ' + i * 'n')"
   ]
  },
  {
   "attachments": {},
   "cell_type": "markdown",
   "metadata": {},
   "source": [
    "# Fibonacci\n",
    "\n",
    "Write a program that, given an integer n, generates the first n numbers of the Fibonacci sequence.\n",
    "\n",
    "Example: 10 --> [0, 1, 1, 2, 3, 5, 8, 13, 21, 34]"
   ]
  },
  {
   "cell_type": "code",
   "execution_count": 20,
   "metadata": {},
   "outputs": [
    {
     "name": "stdout",
     "output_type": "stream",
     "text": [
      "[0, 1, 1, 2, 3, 5, 8, 13, 21, 34]\n"
     ]
    }
   ],
   "source": [
    "n = 10\n",
    "fibonacci = []\n",
    "\n",
    "for i in range(n):\n",
    "    if i == 0 or i == 1:\n",
    "        fibonacci.append(i)\n",
    "    else:\n",
    "        fibonacci.append(fibonacci[-1] + fibonacci[-2])\n",
    "\n",
    "print(fibonacci)"
   ]
  },
  {
   "attachments": {},
   "cell_type": "markdown",
   "metadata": {},
   "source": [
    "## No duplicates\n",
    "Given a list, create a new list that contains the same elements but without any duplicates, while keeping the original order.\n",
    "\n",
    "Example:\n",
    "- [1, 2, 3, 2, 4, 5, 4, 6, 7, 5, 8, 9, 8] --> [1, 2, 3, 4, 5, 6, 7, 8, 9]"
   ]
  },
  {
   "cell_type": "code",
   "execution_count": 36,
   "metadata": {},
   "outputs": [
    {
     "name": "stdout",
     "output_type": "stream",
     "text": [
      "[1, 2, 3, 4, 5, 6, 7, 8, 9]\n"
     ]
    }
   ],
   "source": [
    "original_list = [1, 2, 3, 2, 4, 5, 4, 6, 7, 5, 8, 9, 8]\n",
    "unique_list = []\n",
    "\n",
    "for element in original_list:\n",
    "    if element not in unique_list:\n",
    "        unique_list.append(element)\n",
    "\n",
    "print(unique_list)"
   ]
  },
  {
   "attachments": {},
   "cell_type": "markdown",
   "metadata": {},
   "source": [
    "## Square\n",
    "For a given size, print a square pattern (size x size) with alternating Xs and Os characters.\n",
    "\n",
    "Example:\n",
    "- Size = 5\n",
    "\n",
    "XOXOX\n",
    "\n",
    "OXOXO\n",
    "\n",
    "XOXOX\n",
    "\n",
    "OXOXO\n",
    "\n",
    "XOXOX"
   ]
  },
  {
   "cell_type": "code",
   "execution_count": 63,
   "metadata": {},
   "outputs": [
    {
     "name": "stdout",
     "output_type": "stream",
     "text": [
      "XOXOX\n",
      "OXOXO\n",
      "XOXOX\n",
      "OXOXO\n",
      "XOXOX\n"
     ]
    }
   ],
   "source": [
    "size = 5\n",
    "\n",
    "for i in range(size):\n",
    "    row = ''\n",
    "    for j in range(size):\n",
    "        if (i + j) % 2 == 0:\n",
    "            row += 'X'\n",
    "        else:\n",
    "            row += 'O'\n",
    "    print(row)"
   ]
  },
  {
   "cell_type": "markdown",
   "metadata": {},
   "source": [
    "## Primes\n",
    "Create a list of every prime number between 1 and 50."
   ]
  },
  {
   "cell_type": "code",
   "execution_count": null,
   "metadata": {},
   "outputs": [
    {
     "name": "stdout",
     "output_type": "stream",
     "text": [
      "[2, 3, 5, 7, 11, 13, 17, 19, 23, 29, 31, 37, 41, 43, 47]\n"
     ]
    }
   ],
   "source": [
    "# There are more clever and efficient ways of solving this problem, here we solve it in a simple and intuitive maner just for the sake of the example.\n",
    "\n",
    "numbers = list(range(2, 51))\n",
    "primes = []\n",
    "\n",
    "for n in numbers:\n",
    "    divisors_of_n = [z for z in range(2, n) if n % z == 0]\n",
    "    if len(divisors_of_n) == 0:\n",
    "        primes.append(n)\n",
    "\n",
    "print(primes)"
   ]
  },
  {
   "cell_type": "markdown",
   "metadata": {},
   "source": [
    "## Password\n",
    "\n",
    "Write a Python program that takes a password as input and checks its strength based on the following conditions:\n",
    "\n",
    "Length must be at least 8 characters.\n",
    "- Must contain at least one uppercase letter.\n",
    "- Must contain at least one number.\n",
    "- Must contain at least one special character (e.g., !, @, #, $, etc.).\n",
    "\n",
    "Print out whether the password is \"Weak\", \"Moderate\", or \"Strong\" based on how many of these conditions it meets."
   ]
  },
  {
   "cell_type": "code",
   "execution_count": 17,
   "metadata": {},
   "outputs": [
    {
     "name": "stdout",
     "output_type": "stream",
     "text": [
      "Your password is Weak.\n"
     ]
    }
   ],
   "source": [
    "password = input(\"Enter your password: \")\n",
    "\n",
    "length = False\n",
    "uppercase = False\n",
    "number = False\n",
    "special_char = False\n",
    "\n",
    "if len(password) >= 8:\n",
    "    length = True\n",
    "\n",
    "if any([char.isupper() for char in password]):\n",
    "    uppercase = True\n",
    "\n",
    "if any([char.isdigit() for char in password]):\n",
    "    number = True\n",
    "\n",
    "if any([char in \"!@#$%^&*()-+_=<>?/;:\" for char in password]):\n",
    "    special_char = True\n",
    "\n",
    "strength_counter = length + uppercase + number + special_char\n",
    "\n",
    "if strength_counter == 4:\n",
    "    print(\"Your password is Strong.\")\n",
    "elif strength_counter == 3:\n",
    "    print(\"Your password is Moderate.\")\n",
    "else:\n",
    "    print(\"Your password is Weak.\")"
   ]
  },
  {
   "attachments": {},
   "cell_type": "markdown",
   "metadata": {},
   "source": [
    "# Bonus"
   ]
  },
  {
   "cell_type": "markdown",
   "metadata": {},
   "source": [
    "## Price Alert\n",
    "\n",
    "\n",
    "Write a program that simulates stock price monitoring. You are given a list of stock prices (floats). The program should alert (and break) when the stock price has increased by 10% compared to the first price. It should also alert (and break) if the stock has decreased by 10% compared to the first price."
   ]
  },
  {
   "cell_type": "code",
   "execution_count": 12,
   "metadata": {},
   "outputs": [],
   "source": [
    "stock_prices = [100.0, 105.0, 98.0, 110.0, 95.0, 90.5, 89.0, 115.0]"
   ]
  },
  {
   "cell_type": "code",
   "execution_count": 11,
   "metadata": {},
   "outputs": [
    {
     "name": "stdout",
     "output_type": "stream",
     "text": [
      "Alert: Stock has decreased to 89.0, which is 10% or more less than the first price!\n"
     ]
    }
   ],
   "source": [
    "first_price = stock_prices[0]\n",
    "for current_price in stock_prices[1:]:\n",
    "    if current_price >= 1.1 * first_price:\n",
    "        print(f\"Alert: Stock has increased to {current_price}, which is 10% or more than the first price!\")\n",
    "        break\n",
    "    elif current_price <= 0.9 * first_price:\n",
    "        print(f\"Alert: Stock has decreased to {current_price}, which is 10% or more less than the first price!\")\n",
    "        break"
   ]
  },
  {
   "cell_type": "markdown",
   "metadata": {},
   "source": [
    "## Date Validator\n",
    "\n",
    "Create a program that validates a list of dates. Each date is in the format YYYY-MM-DD. For each date, it should print if it is \"Valid\" or \"Invalid\" if the date does not adhere to these rules:\n",
    "\n",
    "- Year must be between 1900 and 2100.\n",
    "- Month must be between 1 and 12.\n",
    "- Day must be valid according to the month (don't forget about leap years for February)."
   ]
  },
  {
   "cell_type": "code",
   "execution_count": 13,
   "metadata": {},
   "outputs": [],
   "source": [
    "date_list = [\n",
    "    '2022-02-30', '1800-05-21', '2020-04-31', '2024-02-29',\n",
    "    '2000-12-31', '2100-11-31', '1900-01-01', '2024-06-31',\n",
    "    '2025-02-28', '1987-11-31', '1996-02-29', '2001-04-31'\n",
    "]"
   ]
  },
  {
   "cell_type": "code",
   "execution_count": 14,
   "metadata": {},
   "outputs": [
    {
     "name": "stdout",
     "output_type": "stream",
     "text": [
      "2022-02-30: Invalid\n",
      "1800-05-21: Invalid\n",
      "2020-04-31: Invalid\n",
      "2024-02-29: Valid\n",
      "2000-12-31: Valid\n",
      "2100-11-31: Invalid\n",
      "1900-01-01: Valid\n",
      "2024-06-31: Invalid\n",
      "2025-02-28: Valid\n",
      "1987-11-31: Invalid\n",
      "1996-02-29: Valid\n",
      "2001-04-31: Invalid\n"
     ]
    }
   ],
   "source": [
    "for date_input in date_list:\n",
    "    year, month, day = map(int, date_input.split('-'))\n",
    "    \n",
    "    if year < 1900 or year > 2100:\n",
    "        print(f\"{date_input}: Invalid\")\n",
    "        continue\n",
    "    \n",
    "    if month < 1 or month > 12:\n",
    "        print(f\"{date_input}: Invalid\")\n",
    "        continue\n",
    "    \n",
    "    if month in [1, 3, 5, 7, 8, 10, 12]:\n",
    "        max_day = 31\n",
    "    elif month in [4, 6, 9, 11]:\n",
    "        max_day = 30\n",
    "    else:\n",
    "        # take into account leap years\n",
    "        max_day = 29 if (year % 4 == 0 and year % 100 != 0) or (year % 400 == 0) else 28\n",
    "    \n",
    "    if day < 1 or day > max_day:\n",
    "        print(f\"{date_input}: Invalid\")\n",
    "        continue\n",
    "    \n",
    "    print(f\"{date_input}: Valid\")"
   ]
  },
  {
   "cell_type": "markdown",
   "metadata": {},
   "source": [
    "## Strings format\n",
    "\n",
    "Write a program that accepts a list of strings and transforms each one as follows:\n",
    "- Replace every 'a' with '@'.\n",
    "- Delete every vowel.\n",
    "- Replace every ' ' (space) with '_'.\n",
    "\n",
    "Use a loop for iterating over all the characters in a string. Do not use specific string functions such as `replace`."
   ]
  },
  {
   "cell_type": "code",
   "execution_count": 15,
   "metadata": {},
   "outputs": [],
   "source": [
    "text_list = ['apple', 'banana', 'cherry']"
   ]
  },
  {
   "cell_type": "code",
   "execution_count": 16,
   "metadata": {},
   "outputs": [
    {
     "name": "stdout",
     "output_type": "stream",
     "text": [
      "Original text: apple, Transformed text: @ppl\n",
      "Original text: banana, Transformed text: b@n@n@\n",
      "Original text: cherry, Transformed text: chrry\n"
     ]
    }
   ],
   "source": [
    "for text in text_list:\n",
    "    transformed_text = ''\n",
    "    for char in text:\n",
    "        if char.lower() == 'a':\n",
    "            transformed_text += '@'\n",
    "        elif char.lower() in 'aeiou':\n",
    "            continue\n",
    "        else:\n",
    "            transformed_text += char\n",
    "    \n",
    "    print(f\"Original text: {text}, Transformed text: {transformed_text}\")"
   ]
  },
  {
   "cell_type": "markdown",
   "metadata": {},
   "source": [
    "# Sieve of Eratosthenes\n",
    "Print the first 100 prime numbers by implementing the [sieve of Erathostenes](https://en.wikipedia.org/wiki/Sieve_of_Eratosthenes) algorithm."
   ]
  },
  {
   "cell_type": "code",
   "execution_count": null,
   "metadata": {},
   "outputs": [
    {
     "name": "stdout",
     "output_type": "stream",
     "text": [
      "[2, 3, 5, 7, 11, 13, 17, 19, 23, 29, 31, 37, 41, 43, 47, 53, 59, 61, 67, 71, 73, 79, 83, 89, 97]\n"
     ]
    }
   ],
   "source": [
    "numbers = list(range(2, 101))\n",
    "primes = []\n",
    "\n",
    "while numbers:\n",
    "    prime = numbers[0]\n",
    "    primes.append(prime)\n",
    "    numbers = [number for number in numbers if number % prime != 0]\n",
    "\n",
    "print(primes)"
   ]
  },
  {
   "cell_type": "markdown",
   "metadata": {},
   "source": [
    "Explanation: This implementation first creates a list of numbers from 2 to 100. Then, it iteratively selects the smallest number (which is prime) from the list and removes all its multiples from the list. This process is repeated until no more numbers are left in the list."
   ]
  },
  {
   "cell_type": "markdown",
   "metadata": {},
   "source": [
    "## Diamond\n",
    "Print a diamond pattern with a specified character and height.\n",
    "\n",
    "Example:\n",
    "- Height = 5"
   ]
  },
  {
   "cell_type": "code",
   "execution_count": null,
   "metadata": {},
   "outputs": [
    {
     "name": "stdout",
     "output_type": "stream",
     "text": [
      "    n\n",
      "   nnn\n",
      "  nnnnn\n",
      " nnnnnnn\n",
      "nnnnnnnnn\n",
      " nnnnnnn\n",
      "  nnnnn\n",
      "   nnn\n",
      "    n\n"
     ]
    }
   ],
   "source": []
  },
  {
   "cell_type": "code",
   "execution_count": null,
   "metadata": {},
   "outputs": [
    {
     "name": "stdout",
     "output_type": "stream",
     "text": [
      "         n\n",
      "        nnn\n",
      "       nnnnn\n",
      "      nnnnnnn\n",
      "     nnnnnnnnn\n",
      "    nnnnnnnnnnn\n",
      "   nnnnnnnnnnnnn\n",
      "  nnnnnnnnnnnnnnn\n",
      " nnnnnnnnnnnnnnnnn\n",
      "nnnnnnnnnnnnnnnnnnn\n",
      " nnnnnnnnnnnnnnnnn\n",
      "  nnnnnnnnnnnnnnn\n",
      "   nnnnnnnnnnnnn\n",
      "    nnnnnnnnnnn\n",
      "     nnnnnnnnn\n",
      "      nnnnnnn\n",
      "       nnnnn\n",
      "        nnn\n",
      "         n\n"
     ]
    }
   ],
   "source": [
    "height = 10\n",
    "char = 'n'\n",
    "\n",
    "for i in range(height):\n",
    "    spaces = height - i - 1\n",
    "    stars = 2 * i + 1\n",
    "    print(' ' * spaces + char * stars)\n",
    "\n",
    "for i in range(height - 2, -1, -1):\n",
    "    spaces = height - i - 1\n",
    "    stars = 2 * i + 1\n",
    "    print(' ' * spaces + char * stars)"
   ]
  },
  {
   "attachments": {},
   "cell_type": "markdown",
   "metadata": {},
   "source": [
    "## Insertion sort\n",
    "\n",
    "Write a program for sorting a list with the [insertion sort](https://en.wikipedia.org/wiki/Insertion_sort#:~:text=Insertion%20sort%20is%20a%20simple,%2C%20heapsort%2C%20or%20merge%20sort.) algorithm."
   ]
  },
  {
   "cell_type": "code",
   "execution_count": 70,
   "metadata": {},
   "outputs": [
    {
     "name": "stdout",
     "output_type": "stream",
     "text": [
      "[1, 1, 2, 3, 5, 7, 9]\n"
     ]
    }
   ],
   "source": [
    "arr = [3, 1, 7, 9, 2, 5, 1]\n",
    "\n",
    "for i in range(1, len(arr)):\n",
    "    key = arr[i]\n",
    "    j = i - 1\n",
    "\n",
    "    while j >= 0 and arr[j] > key:\n",
    "        arr[j + 1] = arr[j]\n",
    "        j -= 1\n",
    "\n",
    "    arr[j + 1] = key\n",
    "\n",
    "print(arr)"
   ]
  },
  {
   "attachments": {},
   "cell_type": "markdown",
   "metadata": {},
   "source": [
    "## Caesar cipher\n",
    "\n",
    "Write a program that encrypts a given text using the Caesar cipher with a given shift value. That is, each character in a string is replaced by the character that is \"shift\" steps from it. For example, the character a\" with a shift of 1 becomes \"b\". With a shift of 2 it would become \"c\". In case you are calculating the shift and you reach \"z\", you have to keep counting starting again from \"a\". It could be useful to use \"ord\" and \"chr\" built-in functions. For simplicity, you can assume the text is written in lowercase. Example:\n",
    "\n",
    "Input 1:\n",
    "\n",
    "- text = \"hello\"\n",
    "- shift = 3\n",
    "\n",
    "Output 1:\n",
    "\n",
    "- \"khoor\"\n",
    "\n",
    "Input 2:\n",
    "\n",
    "- text = \"zoo\"\n",
    "- shift = 5\n",
    "\n",
    "Output 2:\n",
    "\n",
    "- \"ett\""
   ]
  },
  {
   "cell_type": "code",
   "execution_count": 33,
   "metadata": {},
   "outputs": [
    {
     "name": "stdout",
     "output_type": "stream",
     "text": [
      "ett\n"
     ]
    }
   ],
   "source": [
    "text = 'zoo'\n",
    "shift = 5\n",
    "encrypted_text = ''\n",
    "\n",
    "for char in text:\n",
    "    new_char = chr(((ord(char) - ord('a') + shift) % 26) + ord('a'))\n",
    "    encrypted_text += new_char\n",
    "\n",
    "print(encrypted_text)"
   ]
  },
  {
   "attachments": {},
   "cell_type": "markdown",
   "metadata": {},
   "source": [
    "## Longest increasing subsequence\n",
    "Find the longest subsequence of increasing numbers in a list.\n",
    "\n",
    "Example:\n",
    "- [1, 2, 1, 2, 3, 1, 2, 3, 4, 2] --> [1, 2, 3, 4]"
   ]
  },
  {
   "cell_type": "code",
   "execution_count": 74,
   "metadata": {},
   "outputs": [
    {
     "name": "stdout",
     "output_type": "stream",
     "text": [
      "[1, 2, 3, 4]\n"
     ]
    }
   ],
   "source": [
    "numbers = [1, 2, 1, 2, 3, 1, 2, 3, 4, 2]\n",
    "subsequences = []\n",
    "subsequence = [numbers[0]]\n",
    "\n",
    "for i in range(1, len(numbers)):\n",
    "    if numbers[i] > numbers[i - 1]:\n",
    "        subsequence.append(numbers[i])\n",
    "    else:\n",
    "        subsequences.append(subsequence)\n",
    "        subsequence = [numbers[i]]\n",
    "\n",
    "subsequences.append(subsequence)\n",
    "longest_subsequence = max(subsequences, key=len)\n",
    "print(longest_subsequence)"
   ]
  }
 ],
 "metadata": {
  "kernelspec": {
   "display_name": "Python 3 (ipykernel)",
   "language": "python",
   "name": "python3"
  },
  "language_info": {
   "codemirror_mode": {
    "name": "ipython",
    "version": 3
   },
   "file_extension": ".py",
   "mimetype": "text/x-python",
   "name": "python",
   "nbconvert_exporter": "python",
   "pygments_lexer": "ipython3",
   "version": "3.10.12"
  },
  "orig_nbformat": 4
 },
 "nbformat": 4,
 "nbformat_minor": 2
}
